{
  "cells": [
    {
      "attachments": {},
      "cell_type": "markdown",
      "metadata": {},
      "source": [
        "# Preprocesamiento de los datos: Noticias falsas y Noticias reales"
      ]
    },
    {
      "cell_type": "code",
      "execution_count": 11,
      "metadata": {
        "id": "UXwAcOcIHcVO"
      },
      "outputs": [],
      "source": [
        "# Importar las librerías con el código desarrollado\n",
        "import sys\n",
        "import pathlib"
      ]
    },
    {
      "cell_type": "code",
      "execution_count": 12,
      "metadata": {},
      "outputs": [],
      "source": [
        "# Obtener la ruta de las librerías personalizadas requeridas para cargar los datos\n",
        "def get_directory():\n",
        "    pathtest= pathlib.Path() \n",
        "    current_path = str(pathtest.parent.absolute())\n",
        "    name_directory = \"ProyectoUNAL\"\n",
        "    index_path = current_path.find(name_directory)\n",
        "    path_data = current_path[:index_path+len(name_directory)]\n",
        "    path_data += '\\\\scripts\\\\data_acquisition'\n",
        "    return path_data"
      ]
    },
    {
      "cell_type": "code",
      "execution_count": 13,
      "metadata": {},
      "outputs": [],
      "source": [
        "# Adcionar la ruta de las librerías  personalizadas requeridas para cargar los datos\n",
        "path_source = get_directory()\n",
        "sys.path.append(path_source)"
      ]
    },
    {
      "cell_type": "code",
      "execution_count": 14,
      "metadata": {
        "colab": {
          "base_uri": "https://localhost:8080/"
        },
        "id": "ls8uC-mDF41Q",
        "outputId": "75adea78-238e-4a28-add4-25913f992885"
      },
      "outputs": [],
      "source": [
        "# Librerías a usar en el proyecto\n",
        "from download_data import get_data\n",
        "import pandas as pd\n",
        "import plotly.express as px\n",
        "from statistics import mean"
      ]
    },
    {
      "cell_type": "code",
      "execution_count": 15,
      "metadata": {
        "id": "3cWxM6pm_eRz"
      },
      "outputs": [],
      "source": [
        "# Obtención de los archivos\n",
        "news_true, news_false = get_data()"
      ]
    },
    {
      "attachments": {},
      "cell_type": "markdown",
      "metadata": {
        "id": "hnKtCob6CLwS"
      },
      "source": [
        "# **1. Preprocesamiento del archivo noticias reales**\n",
        "De acuerdo con el análisis exploratorio de los datos las actividades a realizar de preprocesamiento de los datos son:\n",
        "1. Eliminar el registro que no contiene información en el campo 'text', contenido de la noticia."
      ]
    },
    {
      "cell_type": "code",
      "execution_count": 6,
      "metadata": {
        "colab": {
          "base_uri": "https://localhost:8080/"
        },
        "id": "J5i1CWTaEEa-",
        "outputId": "7d4d62c6-c9f6-4bef-db2c-7b9a56edcdee"
      },
      "outputs": [
        {
          "data": {
            "text/plain": [
              "title      21417\n",
              "text       21417\n",
              "subject    21417\n",
              "date       21417\n",
              "dtype: int64"
            ]
          },
          "execution_count": 6,
          "metadata": {},
          "output_type": "execute_result"
        }
      ],
      "source": [
        "# Conteo del número de registros\n",
        "news_true.count()"
      ]
    },
    {
      "cell_type": "code",
      "execution_count": 7,
      "metadata": {
        "colab": {
          "base_uri": "https://localhost:8080/"
        },
        "id": "pK_oGEnpB0fL",
        "outputId": "0560b96b-22c7-4e27-8501-966e3c95e454"
      },
      "outputs": [
        {
          "name": "stdout",
          "output_type": "stream",
          "text": [
            "<class 'pandas.core.frame.DataFrame'>\n",
            "RangeIndex: 21417 entries, 0 to 21416\n",
            "Data columns (total 4 columns):\n",
            " #   Column   Non-Null Count  Dtype \n",
            "---  ------   --------------  ----- \n",
            " 0   title    21417 non-null  object\n",
            " 1   text     21417 non-null  object\n",
            " 2   subject  21417 non-null  object\n",
            " 3   date     21417 non-null  object\n",
            "dtypes: object(4)\n",
            "memory usage: 669.4+ KB\n"
          ]
        }
      ],
      "source": [
        "# Información del dataframe\n",
        "news_true.info()"
      ]
    },
    {
      "cell_type": "code",
      "execution_count": 16,
      "metadata": {
        "id": "yUuAd7451AW0"
      },
      "outputs": [],
      "source": [
        "# Cálculo de la extensión del título (title) y contenido (text) de las noticias reales\n",
        "news_true['len_title'] = (news_true['title'].str.strip()).str.len()\n",
        "news_true['len_text'] = (news_true['text'].str.strip()).str.len()"
      ]
    },
    {
      "cell_type": "code",
      "execution_count": 10,
      "metadata": {
        "id": "Rd_cdnMut_V0"
      },
      "outputs": [],
      "source": [
        "# Se muestran los registros con longitud 0 en el campo text\n",
        "news_true_short = news_true[news_true['len_text'] == 0]"
      ]
    },
    {
      "cell_type": "code",
      "execution_count": 11,
      "metadata": {
        "colab": {
          "base_uri": "https://localhost:8080/",
          "height": 81
        },
        "id": "UWSLHJ_0uVh_",
        "outputId": "5880e1e2-e824-4869-bc65-c63bbf7dadc0"
      },
      "outputs": [
        {
          "data": {
            "text/html": [
              "<div>\n",
              "<style scoped>\n",
              "    .dataframe tbody tr th:only-of-type {\n",
              "        vertical-align: middle;\n",
              "    }\n",
              "\n",
              "    .dataframe tbody tr th {\n",
              "        vertical-align: top;\n",
              "    }\n",
              "\n",
              "    .dataframe thead th {\n",
              "        text-align: right;\n",
              "    }\n",
              "</style>\n",
              "<table border=\"1\" class=\"dataframe\">\n",
              "  <thead>\n",
              "    <tr style=\"text-align: right;\">\n",
              "      <th></th>\n",
              "      <th>title</th>\n",
              "      <th>text</th>\n",
              "      <th>subject</th>\n",
              "      <th>date</th>\n",
              "      <th>len_title</th>\n",
              "      <th>len_text</th>\n",
              "    </tr>\n",
              "  </thead>\n",
              "  <tbody>\n",
              "    <tr>\n",
              "      <th>8970</th>\n",
              "      <td>Graphic: Supreme Court roundup</td>\n",
              "      <td></td>\n",
              "      <td>politicsNews</td>\n",
              "      <td>June 16, 2016</td>\n",
              "      <td>30</td>\n",
              "      <td>0</td>\n",
              "    </tr>\n",
              "  </tbody>\n",
              "</table>\n",
              "</div>"
            ],
            "text/plain": [
              "                               title text       subject            date  \\\n",
              "8970  Graphic: Supreme Court roundup       politicsNews  June 16, 2016    \n",
              "\n",
              "      len_title  len_text  \n",
              "8970         30         0  "
            ]
          },
          "execution_count": 11,
          "metadata": {},
          "output_type": "execute_result"
        }
      ],
      "source": [
        "# solo un registro con longitud 0\n",
        "news_true_short "
      ]
    },
    {
      "cell_type": "code",
      "execution_count": 12,
      "metadata": {
        "id": "msoIQw7Bzscy"
      },
      "outputs": [],
      "source": [
        "# Se crea un nuevo dataframe eliminando el registro sin información en el campo text\n",
        "news_true_mod = news_true[news_true['len_text'] > 0]"
      ]
    },
    {
      "cell_type": "code",
      "execution_count": 36,
      "metadata": {},
      "outputs": [],
      "source": [
        "# Función de preprocesamiento de las noticias reales\n",
        "def preprocessing_true(df):\n",
        "    # Cálculo de la extensión del contenido (text) de las noticias reales\n",
        "    df['len_text'] = (df['text'].str.strip()).str.len()\n",
        "    # Se crea un nuevo dataframe eliminando el registro sin información en el campo text\n",
        "    new_mod = df[df['len_text'] > 0]\n",
        "    new_df = new_mod[['title', 'text','subject']]\n",
        "    new_df['type'] = 1\n",
        "    return new_df\n"
      ]
    },
    {
      "attachments": {},
      "cell_type": "markdown",
      "metadata": {
        "id": "yYYY-nTAZ6Ai"
      },
      "source": [
        "# **2. Preprocesamiento del archivo noticias falsas**\n",
        "De acuerdo con el análisis exploratorio de los datos las actividades a realizar de preprocesamiento de los datos son:\n",
        "1. Eliminar los 630 registros sin contenido en el texto de la noticia.\n",
        "2. Eliminar los 211 registros cuyo tamaño del contenido es muy corto inferior o igual a 50 caracteres."
      ]
    },
    {
      "cell_type": "code",
      "execution_count": 13,
      "metadata": {
        "colab": {
          "base_uri": "https://localhost:8080/"
        },
        "id": "9pze6WwOaCxP",
        "outputId": "dc0e10ad-1e42-4bc2-a0d1-5398bb159197"
      },
      "outputs": [
        {
          "data": {
            "text/plain": [
              "title      23481\n",
              "text       23481\n",
              "subject    23481\n",
              "date       23481\n",
              "dtype: int64"
            ]
          },
          "execution_count": 13,
          "metadata": {},
          "output_type": "execute_result"
        }
      ],
      "source": [
        "# Conteo del número de registros\n",
        "news_false.count()"
      ]
    },
    {
      "cell_type": "code",
      "execution_count": 14,
      "metadata": {
        "colab": {
          "base_uri": "https://localhost:8080/"
        },
        "id": "KpT0UlbYaWjf",
        "outputId": "bb4be5db-a117-4928-95f8-249beed22e5d"
      },
      "outputs": [
        {
          "name": "stdout",
          "output_type": "stream",
          "text": [
            "<class 'pandas.core.frame.DataFrame'>\n",
            "RangeIndex: 23481 entries, 0 to 23480\n",
            "Data columns (total 4 columns):\n",
            " #   Column   Non-Null Count  Dtype \n",
            "---  ------   --------------  ----- \n",
            " 0   title    23481 non-null  object\n",
            " 1   text     23481 non-null  object\n",
            " 2   subject  23481 non-null  object\n",
            " 3   date     23481 non-null  object\n",
            "dtypes: object(4)\n",
            "memory usage: 733.9+ KB\n"
          ]
        }
      ],
      "source": [
        "# Información del dataframe\n",
        "news_false.info()"
      ]
    },
    {
      "cell_type": "code",
      "execution_count": 15,
      "metadata": {
        "id": "d_YGI0me2ZVR"
      },
      "outputs": [],
      "source": [
        "# Cálculo de la extensión del título (title) y contenido (text) de las noticias falsas\n",
        "news_false['len_title'] = (news_false['title'].str.strip()).str.len()\n",
        "news_false['len_text'] = (news_false['text'].str.strip()).str.len()"
      ]
    },
    {
      "cell_type": "code",
      "execution_count": 16,
      "metadata": {
        "colab": {
          "base_uri": "https://localhost:8080/"
        },
        "id": "YxL8Y1Kj4Hpe",
        "outputId": "d1ac7ab1-b1cd-444d-8b4d-29f2016e4e72"
      },
      "outputs": [
        {
          "data": {
            "text/plain": [
              "title        630\n",
              "text         630\n",
              "subject      630\n",
              "date         630\n",
              "len_title    630\n",
              "len_text     630\n",
              "dtype: int64"
            ]
          },
          "execution_count": 16,
          "metadata": {},
          "output_type": "execute_result"
        }
      ],
      "source": [
        "# Registros sin información en el campo texto\n",
        "reg_sininfo = news_false[news_false['len_text'] == 0 ]\n",
        "reg_sininfo.count()"
      ]
    },
    {
      "cell_type": "code",
      "execution_count": 17,
      "metadata": {
        "id": "rMETDRmN3N50"
      },
      "outputs": [],
      "source": [
        "# Se crea un nuevo dataframe eliminando los registros sin información en el campo text\n",
        "news_false_mod = news_false[news_false['len_text'] > 0]"
      ]
    },
    {
      "cell_type": "code",
      "execution_count": 18,
      "metadata": {
        "colab": {
          "base_uri": "https://localhost:8080/"
        },
        "id": "6_Cr6o1Z4rWe",
        "outputId": "f48e7a11-fada-43dc-98cb-7962fb93b5ef"
      },
      "outputs": [
        {
          "data": {
            "text/plain": [
              "title        22851\n",
              "text         22851\n",
              "subject      22851\n",
              "date         22851\n",
              "len_title    22851\n",
              "len_text     22851\n",
              "dtype: int64"
            ]
          },
          "execution_count": 18,
          "metadata": {},
          "output_type": "execute_result"
        }
      ],
      "source": [
        "# Número de reistros en el dataframe de noticias falsa modificado\n",
        "news_false_mod.count()"
      ]
    },
    {
      "cell_type": "code",
      "execution_count": 19,
      "metadata": {},
      "outputs": [
        {
          "data": {
            "text/plain": [
              "title        211\n",
              "text         211\n",
              "subject      211\n",
              "date         211\n",
              "len_title    211\n",
              "len_text     211\n",
              "dtype: int64"
            ]
          },
          "execution_count": 19,
          "metadata": {},
          "output_type": "execute_result"
        }
      ],
      "source": [
        "# Registros con muy pocos caracteres en el campo texto, analizando el nuevo dataframe modificado\n",
        "size_limit = 50\n",
        "reg_lowinfo = news_false_mod[news_false_mod['len_text'] <= size_limit ]\n",
        "reg_lowinfo.count()"
      ]
    },
    {
      "cell_type": "code",
      "execution_count": 20,
      "metadata": {},
      "outputs": [
        {
          "data": {
            "text/plain": [
              "11117                                               Enjoy:\n",
              "11251          https://www.youtube.com/watch?v=cJZFepSvxzM\n",
              "11286          https://www.youtube.com/watch?v=-7Tn4gi_Os8\n",
              "11315          https://www.youtube.com/watch?v=SH0pRtK9sAE\n",
              "11316          https://www.youtube.com/watch?v=DRLVvYzG46w\n",
              "                               ...                        \n",
              "21209                     When karma bites ya  in the a*s \n",
              "21503                    My brothers DIED for that flag!  \n",
              "21659    Here s a mom who knows how to raise her children \n",
              "21882                         You won t want to miss this \n",
              "21909    PRETTY FUNNY STUFF-MAKE SURE TO WATCH TO THE END.\n",
              "Name: text, Length: 211, dtype: object"
            ]
          },
          "execution_count": 20,
          "metadata": {},
          "output_type": "execute_result"
        }
      ],
      "source": [
        "# Inspección de los registros cuyo tamaño del contenido es menor o igual a 50 caracteres\n",
        "reg_lowinfo['text']"
      ]
    },
    {
      "cell_type": "code",
      "execution_count": 21,
      "metadata": {},
      "outputs": [],
      "source": [
        "# Se crea un nuevo dataframe eliminando los registros cuto tamaño del campo text es inferior o igual al límite establecido\n",
        "news_false_mod2 = news_false_mod[news_false_mod['len_text'] > size_limit]"
      ]
    },
    {
      "cell_type": "code",
      "execution_count": 22,
      "metadata": {},
      "outputs": [
        {
          "data": {
            "text/plain": [
              "title        22640\n",
              "text         22640\n",
              "subject      22640\n",
              "date         22640\n",
              "len_title    22640\n",
              "len_text     22640\n",
              "dtype: int64"
            ]
          },
          "execution_count": 22,
          "metadata": {},
          "output_type": "execute_result"
        }
      ],
      "source": [
        "# Número de reistros en el dataframe de noticias falsas modificado\n",
        "news_false_mod2.count()"
      ]
    },
    {
      "cell_type": "code",
      "execution_count": 37,
      "metadata": {},
      "outputs": [],
      "source": [
        "# Función de preprocesamiento de las noticias falsas\n",
        "def preprocessing_false(df, size):\n",
        "    # Cálculo de la extensión del contenido (text) de las noticias falsas\n",
        "    df['len_text'] = (df['text'].str.strip()).str.len()\n",
        "    # Se crea un nuevo dataframe eliminando los registros sin información en el campo text\n",
        "    news_false_mod = df[df['len_text'] > 0]\n",
        "    # Se crea un nuevo dataframe eliminando los registros cuyo tamaño del campo text es inferior o igual al límite establecido\n",
        "    new_false_mod2 = news_false_mod[news_false_mod['len_text'] > size]\n",
        "    new_df = new_false_mod2[['title', 'text','subject']]\n",
        "    new_df['type'] = 0\n",
        "    return new_df\n"
      ]
    },
    {
      "cell_type": "code",
      "execution_count": 38,
      "metadata": {},
      "outputs": [
        {
          "name": "stderr",
          "output_type": "stream",
          "text": [
            "C:\\Users\\mk_ca\\AppData\\Local\\Temp\\ipykernel_34204\\1039342604.py:8: SettingWithCopyWarning: \n",
            "A value is trying to be set on a copy of a slice from a DataFrame.\n",
            "Try using .loc[row_indexer,col_indexer] = value instead\n",
            "\n",
            "See the caveats in the documentation: https://pandas.pydata.org/pandas-docs/stable/user_guide/indexing.html#returning-a-view-versus-a-copy\n",
            "  new_df['type'] = 1\n",
            "C:\\Users\\mk_ca\\AppData\\Local\\Temp\\ipykernel_34204\\792604732.py:10: SettingWithCopyWarning: \n",
            "A value is trying to be set on a copy of a slice from a DataFrame.\n",
            "Try using .loc[row_indexer,col_indexer] = value instead\n",
            "\n",
            "See the caveats in the documentation: https://pandas.pydata.org/pandas-docs/stable/user_guide/indexing.html#returning-a-view-versus-a-copy\n",
            "  new_df['type'] = 0\n"
          ]
        }
      ],
      "source": [
        "# Generación del dataframe definitivo\n",
        "df_new_true = preprocessing_true(news_true)\n",
        "df_new_false = preprocessing_false(news_false, 50)\n"
      ]
    },
    {
      "cell_type": "code",
      "execution_count": 48,
      "metadata": {},
      "outputs": [],
      "source": [
        "# Función para crear un solo dataframe con todos los datos requeridos\n",
        "def get_data_processed(news_true, news_false, size_content_false):\n",
        "    df_true = preprocessing_true(news_true)\n",
        "    df_false = preprocessing_false(news_false, size_content_false)\n",
        "    dfs = [df_true, df_false]\n",
        "    df_new = pd.concat(dfs)\n",
        "    return df_new"
      ]
    },
    {
      "cell_type": "code",
      "execution_count": 50,
      "metadata": {},
      "outputs": [
        {
          "name": "stderr",
          "output_type": "stream",
          "text": [
            "C:\\Users\\mk_ca\\AppData\\Local\\Temp\\ipykernel_34204\\1039342604.py:8: SettingWithCopyWarning: \n",
            "A value is trying to be set on a copy of a slice from a DataFrame.\n",
            "Try using .loc[row_indexer,col_indexer] = value instead\n",
            "\n",
            "See the caveats in the documentation: https://pandas.pydata.org/pandas-docs/stable/user_guide/indexing.html#returning-a-view-versus-a-copy\n",
            "  new_df['type'] = 1\n",
            "C:\\Users\\mk_ca\\AppData\\Local\\Temp\\ipykernel_34204\\792604732.py:10: SettingWithCopyWarning: \n",
            "A value is trying to be set on a copy of a slice from a DataFrame.\n",
            "Try using .loc[row_indexer,col_indexer] = value instead\n",
            "\n",
            "See the caveats in the documentation: https://pandas.pydata.org/pandas-docs/stable/user_guide/indexing.html#returning-a-view-versus-a-copy\n",
            "  new_df['type'] = 0\n"
          ]
        },
        {
          "data": {
            "text/plain": [
              "title      44056\n",
              "text       44056\n",
              "subject    44056\n",
              "type       44056\n",
              "dtype: int64"
            ]
          },
          "execution_count": 50,
          "metadata": {},
          "output_type": "execute_result"
        }
      ],
      "source": [
        "# Prueba\n",
        "df_total = get_data_processed(news_true, news_false, 50)\n",
        "df_total.count()"
      ]
    },
    {
      "cell_type": "code",
      "execution_count": 51,
      "metadata": {},
      "outputs": [
        {
          "data": {
            "text/html": [
              "<div>\n",
              "<style scoped>\n",
              "    .dataframe tbody tr th:only-of-type {\n",
              "        vertical-align: middle;\n",
              "    }\n",
              "\n",
              "    .dataframe tbody tr th {\n",
              "        vertical-align: top;\n",
              "    }\n",
              "\n",
              "    .dataframe thead th {\n",
              "        text-align: right;\n",
              "    }\n",
              "</style>\n",
              "<table border=\"1\" class=\"dataframe\">\n",
              "  <thead>\n",
              "    <tr style=\"text-align: right;\">\n",
              "      <th></th>\n",
              "      <th>title</th>\n",
              "      <th>text</th>\n",
              "      <th>subject</th>\n",
              "      <th>type</th>\n",
              "    </tr>\n",
              "  </thead>\n",
              "  <tbody>\n",
              "    <tr>\n",
              "      <th>0</th>\n",
              "      <td>As U.S. budget fight looms, Republicans flip t...</td>\n",
              "      <td>WASHINGTON (Reuters) - The head of a conservat...</td>\n",
              "      <td>politicsNews</td>\n",
              "      <td>1</td>\n",
              "    </tr>\n",
              "    <tr>\n",
              "      <th>1</th>\n",
              "      <td>U.S. military to accept transgender recruits o...</td>\n",
              "      <td>WASHINGTON (Reuters) - Transgender people will...</td>\n",
              "      <td>politicsNews</td>\n",
              "      <td>1</td>\n",
              "    </tr>\n",
              "    <tr>\n",
              "      <th>2</th>\n",
              "      <td>Senior U.S. Republican senator: 'Let Mr. Muell...</td>\n",
              "      <td>WASHINGTON (Reuters) - The special counsel inv...</td>\n",
              "      <td>politicsNews</td>\n",
              "      <td>1</td>\n",
              "    </tr>\n",
              "    <tr>\n",
              "      <th>3</th>\n",
              "      <td>FBI Russia probe helped by Australian diplomat...</td>\n",
              "      <td>WASHINGTON (Reuters) - Trump campaign adviser ...</td>\n",
              "      <td>politicsNews</td>\n",
              "      <td>1</td>\n",
              "    </tr>\n",
              "    <tr>\n",
              "      <th>4</th>\n",
              "      <td>Trump wants Postal Service to charge 'much mor...</td>\n",
              "      <td>SEATTLE/WASHINGTON (Reuters) - President Donal...</td>\n",
              "      <td>politicsNews</td>\n",
              "      <td>1</td>\n",
              "    </tr>\n",
              "  </tbody>\n",
              "</table>\n",
              "</div>"
            ],
            "text/plain": [
              "                                               title  \\\n",
              "0  As U.S. budget fight looms, Republicans flip t...   \n",
              "1  U.S. military to accept transgender recruits o...   \n",
              "2  Senior U.S. Republican senator: 'Let Mr. Muell...   \n",
              "3  FBI Russia probe helped by Australian diplomat...   \n",
              "4  Trump wants Postal Service to charge 'much mor...   \n",
              "\n",
              "                                                text       subject  type  \n",
              "0  WASHINGTON (Reuters) - The head of a conservat...  politicsNews     1  \n",
              "1  WASHINGTON (Reuters) - Transgender people will...  politicsNews     1  \n",
              "2  WASHINGTON (Reuters) - The special counsel inv...  politicsNews     1  \n",
              "3  WASHINGTON (Reuters) - Trump campaign adviser ...  politicsNews     1  \n",
              "4  SEATTLE/WASHINGTON (Reuters) - President Donal...  politicsNews     1  "
            ]
          },
          "execution_count": 51,
          "metadata": {},
          "output_type": "execute_result"
        }
      ],
      "source": [
        "df_total.head()"
      ]
    },
    {
      "cell_type": "code",
      "execution_count": null,
      "metadata": {},
      "outputs": [],
      "source": []
    }
  ],
  "metadata": {
    "colab": {
      "provenance": []
    },
    "kernelspec": {
      "display_name": "Python 3",
      "name": "python3"
    },
    "language_info": {
      "codemirror_mode": {
        "name": "ipython",
        "version": 3
      },
      "file_extension": ".py",
      "mimetype": "text/x-python",
      "name": "python",
      "nbconvert_exporter": "python",
      "pygments_lexer": "ipython3",
      "version": "3.9.12"
    }
  },
  "nbformat": 4,
  "nbformat_minor": 0
}

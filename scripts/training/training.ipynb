{
  "cells": [
    {
      "attachments": {},
      "cell_type": "markdown",
      "metadata": {},
      "source": [
        "# Entrenamiento del modelo para identificación de Noticias falsas y Noticias reales"
      ]
    },
    {
      "cell_type": "code",
      "execution_count": 1,
      "metadata": {
        "id": "UXwAcOcIHcVO"
      },
      "outputs": [],
      "source": [
        "# Importar las librerías con el código desarrollado\n",
        "import sys\n",
        "import pathlib"
      ]
    },
    {
      "cell_type": "code",
      "execution_count": 8,
      "metadata": {},
      "outputs": [],
      "source": [
        "# Obtener la ruta de las librerías personalizadas requeridas para cargar los datos\n",
        "def get_directory(subfolder):\n",
        "    pathtest= pathlib.Path() \n",
        "    current_path = str(pathtest.parent.absolute())\n",
        "    name_directory = \"ProyectoUNAL\"\n",
        "    index_path = current_path.find(name_directory)\n",
        "    path_data = current_path[:index_path+len(name_directory)]\n",
        "    path_data += '\\\\scripts\\\\'+ subfolder\n",
        "    return path_data"
      ]
    },
    {
      "cell_type": "code",
      "execution_count": 22,
      "metadata": {},
      "outputs": [],
      "source": [
        "# Adcionar la ruta de las librerías  personalizadas requeridas para cargar los datos\n",
        "path_source = get_directory('data_acquisition')\n",
        "sys.path.append(path_source)"
      ]
    },
    {
      "cell_type": "code",
      "execution_count": 23,
      "metadata": {},
      "outputs": [],
      "source": [
        "# Librerías a usar en el proyecto\n",
        "from download_data import get_data"
      ]
    },
    {
      "cell_type": "code",
      "execution_count": 24,
      "metadata": {
        "id": "3cWxM6pm_eRz"
      },
      "outputs": [],
      "source": [
        "# Obtención de los archivos\n",
        "news_true, news_false = get_data()"
      ]
    },
    {
      "attachments": {},
      "cell_type": "markdown",
      "metadata": {},
      "source": [
        "# **1. Preprocesamiento de los archivos con las noticias reales y falsas**"
      ]
    },
    {
      "cell_type": "code",
      "execution_count": 25,
      "metadata": {},
      "outputs": [],
      "source": [
        "# Preprocesamiento de los datos\n",
        "# Adcionar la ruta de las librerías  personalizadas requeridas para preprocesar los datos\n",
        "path_preprocessing = get_directory('preprocessing')\n",
        "sys.path.append(path_preprocessing)\n",
        "# Librerías a usar en el proyecto\n",
        "from preprocessing import preprocessing_false, preprocessing_true"
      ]
    },
    {
      "cell_type": "code",
      "execution_count": 30,
      "metadata": {},
      "outputs": [],
      "source": [
        "# Preprocesamiento de los archivos y obtención de los nuevos dataframes\n",
        "df_false = preprocessing_false(news_false, 50)\n",
        "df_true = preprocessing_true(news_true)"
      ]
    },
    {
      "cell_type": "code",
      "execution_count": 31,
      "metadata": {},
      "outputs": [
        {
          "data": {
            "text/plain": [
              "title       22640\n",
              "text        22640\n",
              "subject     22640\n",
              "date        22640\n",
              "len_text    22640\n",
              "dtype: int64"
            ]
          },
          "execution_count": 31,
          "metadata": {},
          "output_type": "execute_result"
        }
      ],
      "source": [
        "# Validación del número de registros resultantes\n",
        "df_false.count()"
      ]
    },
    {
      "cell_type": "code",
      "execution_count": 32,
      "metadata": {},
      "outputs": [
        {
          "data": {
            "text/plain": [
              "title       21416\n",
              "text        21416\n",
              "subject     21416\n",
              "date        21416\n",
              "len_text    21416\n",
              "dtype: int64"
            ]
          },
          "execution_count": 32,
          "metadata": {},
          "output_type": "execute_result"
        }
      ],
      "source": [
        "# Validación del número de registros resultantes\n",
        "df_true.count()"
      ]
    },
    {
      "attachments": {},
      "cell_type": "markdown",
      "metadata": {},
      "source": [
        "# **2. Entrenamiento del modelo**"
      ]
    },
    {
      "cell_type": "code",
      "execution_count": null,
      "metadata": {},
      "outputs": [],
      "source": [
        "# Definición del modelo\n"
      ]
    }
  ],
  "metadata": {
    "colab": {
      "provenance": []
    },
    "kernelspec": {
      "display_name": "Python 3",
      "name": "python3"
    },
    "language_info": {
      "codemirror_mode": {
        "name": "ipython",
        "version": 3
      },
      "file_extension": ".py",
      "mimetype": "text/x-python",
      "name": "python",
      "nbconvert_exporter": "python",
      "pygments_lexer": "ipython3",
      "version": "3.9.12"
    }
  },
  "nbformat": 4,
  "nbformat_minor": 0
}

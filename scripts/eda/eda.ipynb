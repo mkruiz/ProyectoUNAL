{
  "cells": [
    {
      "cell_type": "code",
      "execution_count": 2,
      "metadata": {
        "colab": {
          "base_uri": "https://localhost:8080/"
        },
        "id": "P94NGKfFHXAP",
        "outputId": "e060ea0a-de61-4f88-becc-abfd6211996e"
      },
      "outputs": [
        {
          "ename": "ModuleNotFoundError",
          "evalue": "No module named 'google.colab'",
          "output_type": "error",
          "traceback": [
            "\u001b[1;31m---------------------------------------------------------------------------\u001b[0m",
            "\u001b[1;31mModuleNotFoundError\u001b[0m                       Traceback (most recent call last)",
            "\u001b[1;32mc:\\ML_UNAL\\RepoGitHub\\ProyectoUNAL\\scripts\\eda\\eda.ipynb Cell 1\u001b[0m in \u001b[0;36m<cell line: 1>\u001b[1;34m()\u001b[0m\n\u001b[1;32m----> <a href='vscode-notebook-cell:/c%3A/ML_UNAL/RepoGitHub/ProyectoUNAL/scripts/eda/eda.ipynb#W0sZmlsZQ%3D%3D?line=0'>1</a>\u001b[0m \u001b[39mfrom\u001b[39;00m \u001b[39mgoogle\u001b[39;00m\u001b[39m.\u001b[39;00m\u001b[39mcolab\u001b[39;00m \u001b[39mimport\u001b[39;00m drive\n\u001b[0;32m      <a href='vscode-notebook-cell:/c%3A/ML_UNAL/RepoGitHub/ProyectoUNAL/scripts/eda/eda.ipynb#W0sZmlsZQ%3D%3D?line=1'>2</a>\u001b[0m drive\u001b[39m.\u001b[39mmount(\u001b[39m'\u001b[39m\u001b[39m/content/drive\u001b[39m\u001b[39m'\u001b[39m)\n",
            "\u001b[1;31mModuleNotFoundError\u001b[0m: No module named 'google.colab'"
          ]
        }
      ],
      "source": [
        "from google.colab import drive\n",
        "drive.mount('/content/drive')"
      ]
    },
    {
      "cell_type": "code",
      "execution_count": 1,
      "metadata": {
        "id": "UXwAcOcIHcVO"
      },
      "outputs": [],
      "source": [
        "# Importar las librerías con el código desarrollado\n",
        "import sys\n",
        "sys.path.insert(0,'/content/drive/MyDrive/Colab Notebooks/MLOPS')"
      ]
    },
    {
      "cell_type": "code",
      "execution_count": null,
      "metadata": {
        "colab": {
          "base_uri": "https://localhost:8080/"
        },
        "id": "ls8uC-mDF41Q",
        "outputId": "dde52018-14fc-4313-bc3d-4cc79f438042"
      },
      "outputs": [
        {
          "name": "stdout",
          "output_type": "stream",
          "text": [
            "Mounted at /content/drive\n",
            "<class 'pandas.core.frame.DataFrame'>\n",
            "RangeIndex: 21417 entries, 0 to 21416\n",
            "Data columns (total 4 columns):\n",
            " #   Column   Non-Null Count  Dtype \n",
            "---  ------   --------------  ----- \n",
            " 0   title    21417 non-null  object\n",
            " 1   text     21417 non-null  object\n",
            " 2   subject  21417 non-null  object\n",
            " 3   date     21417 non-null  object\n",
            "dtypes: object(4)\n",
            "memory usage: 669.4+ KB\n",
            "<class 'pandas.core.frame.DataFrame'>\n",
            "RangeIndex: 23481 entries, 0 to 23480\n",
            "Data columns (total 4 columns):\n",
            " #   Column   Non-Null Count  Dtype \n",
            "---  ------   --------------  ----- \n",
            " 0   title    23481 non-null  object\n",
            " 1   text     23481 non-null  object\n",
            " 2   subject  23481 non-null  object\n",
            " 3   date     23481 non-null  object\n",
            "dtypes: object(4)\n",
            "memory usage: 733.9+ KB\n"
          ]
        }
      ],
      "source": [
        "# Librerías a usar en el proyecto\n",
        "from download_data import get_data\n",
        "import pandas as pd\n",
        "import plotly.express as px"
      ]
    },
    {
      "cell_type": "code",
      "execution_count": null,
      "metadata": {
        "id": "3cWxM6pm_eRz"
      },
      "outputs": [],
      "source": [
        "# Obtención de los archivos\n",
        "news_true, news_false = get_data()"
      ]
    },
    {
      "attachments": {},
      "cell_type": "markdown",
      "metadata": {
        "id": "hnKtCob6CLwS"
      },
      "source": [
        "# **1. Análisis del archivo noticias reales**\n",
        "De acuerdo con el análisis exploratorio de los datos se encuentra:\n",
        "1. Total de noticias: 21417\n",
        "2. Noticias en el año 2016: 4716\n",
        "3. Noticias en el año 2017: 16701\n",
        "4. Las noticias se encuentran asociadas a dos temas: 'politicsNews' y 'worldnews'. \n",
        "5. Noticias que tratan de politicsNews : 11272\n",
        "6. Noticias que tratan de worldnews: 10145"
      ]
    },
    {
      "cell_type": "code",
      "execution_count": null,
      "metadata": {
        "colab": {
          "base_uri": "https://localhost:8080/"
        },
        "id": "J5i1CWTaEEa-",
        "outputId": "8712530f-6f3d-46dd-f5e3-b09cab16109e"
      },
      "outputs": [
        {
          "data": {
            "text/plain": [
              "title      21417\n",
              "text       21417\n",
              "subject    21417\n",
              "date       21417\n",
              "dtype: int64"
            ]
          },
          "execution_count": 52,
          "metadata": {},
          "output_type": "execute_result"
        }
      ],
      "source": [
        "# Conteo del número de registros\n",
        "news_true.count()"
      ]
    },
    {
      "cell_type": "code",
      "execution_count": null,
      "metadata": {
        "colab": {
          "base_uri": "https://localhost:8080/"
        },
        "id": "pK_oGEnpB0fL",
        "outputId": "5dd92b40-56e8-4072-f657-82197a1affce"
      },
      "outputs": [
        {
          "name": "stdout",
          "output_type": "stream",
          "text": [
            "<class 'pandas.core.frame.DataFrame'>\n",
            "RangeIndex: 21417 entries, 0 to 21416\n",
            "Data columns (total 4 columns):\n",
            " #   Column   Non-Null Count  Dtype \n",
            "---  ------   --------------  ----- \n",
            " 0   title    21417 non-null  object\n",
            " 1   text     21417 non-null  object\n",
            " 2   subject  21417 non-null  object\n",
            " 3   date     21417 non-null  object\n",
            "dtypes: object(4)\n",
            "memory usage: 669.4+ KB\n"
          ]
        }
      ],
      "source": [
        "# Información del dataframe\n",
        "news_true.info()"
      ]
    },
    {
      "cell_type": "code",
      "execution_count": null,
      "metadata": {
        "id": "sKqA4NXQCZMA"
      },
      "outputs": [],
      "source": [
        "# Convertir el formato de la columna date a datetime\n",
        "news_true['date'] = pd.to_datetime(news_true['date'], infer_datetime_format=True)"
      ]
    },
    {
      "cell_type": "code",
      "execution_count": null,
      "metadata": {
        "id": "LC0LBYcuLyuY"
      },
      "outputs": [],
      "source": [
        "# Extraer el año de la fecha\n",
        "news_true['anno'] = news_true['date'].dt.year"
      ]
    },
    {
      "cell_type": "code",
      "execution_count": null,
      "metadata": {
        "colab": {
          "base_uri": "https://localhost:8080/"
        },
        "id": "ldC7dsZcJOAJ",
        "outputId": "dce7ce92-e99a-4704-bc84-ba4b62085720"
      },
      "outputs": [
        {
          "name": "stdout",
          "output_type": "stream",
          "text": [
            "<class 'pandas.core.frame.DataFrame'>\n",
            "RangeIndex: 21417 entries, 0 to 21416\n",
            "Data columns (total 5 columns):\n",
            " #   Column   Non-Null Count  Dtype         \n",
            "---  ------   --------------  -----         \n",
            " 0   title    21417 non-null  object        \n",
            " 1   text     21417 non-null  object        \n",
            " 2   subject  21417 non-null  object        \n",
            " 3   date     21417 non-null  datetime64[ns]\n",
            " 4   anno     21417 non-null  int64         \n",
            "dtypes: datetime64[ns](1), int64(1), object(3)\n",
            "memory usage: 836.7+ KB\n"
          ]
        }
      ],
      "source": [
        "# Validación de la conversión del formato y creación de los nuevos elementos \n",
        "news_true.info()"
      ]
    },
    {
      "cell_type": "code",
      "execution_count": null,
      "metadata": {
        "colab": {
          "base_uri": "https://localhost:8080/",
          "height": 542
        },
        "id": "Ql6HVk3_KxWm",
        "outputId": "f4a07602-814a-4c6b-c185-eedda7ec8340"
      },
      "outputs": [
        {
          "data": {
            "text/html": [
              "<html>\n",
              "<head><meta charset=\"utf-8\" /></head>\n",
              "<body>\n",
              "    <div>            <script src=\"https://cdnjs.cloudflare.com/ajax/libs/mathjax/2.7.5/MathJax.js?config=TeX-AMS-MML_SVG\"></script><script type=\"text/javascript\">if (window.MathJax && window.MathJax.Hub && window.MathJax.Hub.Config) {window.MathJax.Hub.Config({SVG: {font: \"STIX-Web\"}});}</script>                <script type=\"text/javascript\">window.PlotlyConfig = {MathJaxConfig: 'local'};</script>\n",
              "        <script src=\"https://cdn.plot.ly/plotly-2.18.2.min.js\"></script>                <div id=\"ae07fbe1-09f5-43b9-804e-196589e1585f\" class=\"plotly-graph-div\" style=\"height:525px; width:100%;\"></div>            <script type=\"text/javascript\">                                    window.PLOTLYENV=window.PLOTLYENV || {};                                    if (document.getElementById(\"ae07fbe1-09f5-43b9-804e-196589e1585f\")) {                    Plotly.newPlot(                        \"ae07fbe1-09f5-43b9-804e-196589e1585f\",                        [{\"alignmentgroup\":\"True\",\"hovertemplate\":\"A\\u00f1o de la noticia=%{x}<br>N\\u00famero de noticias=%{marker.color}<extra></extra>\",\"legendgroup\":\"\",\"marker\":{\"color\":[4716,16701],\"coloraxis\":\"coloraxis\",\"pattern\":{\"shape\":\"\"}},\"name\":\"\",\"offsetgroup\":\"\",\"orientation\":\"v\",\"showlegend\":false,\"textposition\":\"auto\",\"texttemplate\":\"%{y:.2s}\",\"x\":[2016,2017],\"xaxis\":\"x\",\"y\":[4716,16701],\"yaxis\":\"y\",\"type\":\"bar\"}],                        {\"template\":{\"data\":{\"histogram2dcontour\":[{\"type\":\"histogram2dcontour\",\"colorbar\":{\"outlinewidth\":0,\"ticks\":\"\"},\"colorscale\":[[0.0,\"#0d0887\"],[0.1111111111111111,\"#46039f\"],[0.2222222222222222,\"#7201a8\"],[0.3333333333333333,\"#9c179e\"],[0.4444444444444444,\"#bd3786\"],[0.5555555555555556,\"#d8576b\"],[0.6666666666666666,\"#ed7953\"],[0.7777777777777778,\"#fb9f3a\"],[0.8888888888888888,\"#fdca26\"],[1.0,\"#f0f921\"]]}],\"choropleth\":[{\"type\":\"choropleth\",\"colorbar\":{\"outlinewidth\":0,\"ticks\":\"\"}}],\"histogram2d\":[{\"type\":\"histogram2d\",\"colorbar\":{\"outlinewidth\":0,\"ticks\":\"\"},\"colorscale\":[[0.0,\"#0d0887\"],[0.1111111111111111,\"#46039f\"],[0.2222222222222222,\"#7201a8\"],[0.3333333333333333,\"#9c179e\"],[0.4444444444444444,\"#bd3786\"],[0.5555555555555556,\"#d8576b\"],[0.6666666666666666,\"#ed7953\"],[0.7777777777777778,\"#fb9f3a\"],[0.8888888888888888,\"#fdca26\"],[1.0,\"#f0f921\"]]}],\"heatmap\":[{\"type\":\"heatmap\",\"colorbar\":{\"outlinewidth\":0,\"ticks\":\"\"},\"colorscale\":[[0.0,\"#0d0887\"],[0.1111111111111111,\"#46039f\"],[0.2222222222222222,\"#7201a8\"],[0.3333333333333333,\"#9c179e\"],[0.4444444444444444,\"#bd3786\"],[0.5555555555555556,\"#d8576b\"],[0.6666666666666666,\"#ed7953\"],[0.7777777777777778,\"#fb9f3a\"],[0.8888888888888888,\"#fdca26\"],[1.0,\"#f0f921\"]]}],\"heatmapgl\":[{\"type\":\"heatmapgl\",\"colorbar\":{\"outlinewidth\":0,\"ticks\":\"\"},\"colorscale\":[[0.0,\"#0d0887\"],[0.1111111111111111,\"#46039f\"],[0.2222222222222222,\"#7201a8\"],[0.3333333333333333,\"#9c179e\"],[0.4444444444444444,\"#bd3786\"],[0.5555555555555556,\"#d8576b\"],[0.6666666666666666,\"#ed7953\"],[0.7777777777777778,\"#fb9f3a\"],[0.8888888888888888,\"#fdca26\"],[1.0,\"#f0f921\"]]}],\"contourcarpet\":[{\"type\":\"contourcarpet\",\"colorbar\":{\"outlinewidth\":0,\"ticks\":\"\"}}],\"contour\":[{\"type\":\"contour\",\"colorbar\":{\"outlinewidth\":0,\"ticks\":\"\"},\"colorscale\":[[0.0,\"#0d0887\"],[0.1111111111111111,\"#46039f\"],[0.2222222222222222,\"#7201a8\"],[0.3333333333333333,\"#9c179e\"],[0.4444444444444444,\"#bd3786\"],[0.5555555555555556,\"#d8576b\"],[0.6666666666666666,\"#ed7953\"],[0.7777777777777778,\"#fb9f3a\"],[0.8888888888888888,\"#fdca26\"],[1.0,\"#f0f921\"]]}],\"surface\":[{\"type\":\"surface\",\"colorbar\":{\"outlinewidth\":0,\"ticks\":\"\"},\"colorscale\":[[0.0,\"#0d0887\"],[0.1111111111111111,\"#46039f\"],[0.2222222222222222,\"#7201a8\"],[0.3333333333333333,\"#9c179e\"],[0.4444444444444444,\"#bd3786\"],[0.5555555555555556,\"#d8576b\"],[0.6666666666666666,\"#ed7953\"],[0.7777777777777778,\"#fb9f3a\"],[0.8888888888888888,\"#fdca26\"],[1.0,\"#f0f921\"]]}],\"mesh3d\":[{\"type\":\"mesh3d\",\"colorbar\":{\"outlinewidth\":0,\"ticks\":\"\"}}],\"scatter\":[{\"fillpattern\":{\"fillmode\":\"overlay\",\"size\":10,\"solidity\":0.2},\"type\":\"scatter\"}],\"parcoords\":[{\"type\":\"parcoords\",\"line\":{\"colorbar\":{\"outlinewidth\":0,\"ticks\":\"\"}}}],\"scatterpolargl\":[{\"type\":\"scatterpolargl\",\"marker\":{\"colorbar\":{\"outlinewidth\":0,\"ticks\":\"\"}}}],\"bar\":[{\"error_x\":{\"color\":\"#2a3f5f\"},\"error_y\":{\"color\":\"#2a3f5f\"},\"marker\":{\"line\":{\"color\":\"#E5ECF6\",\"width\":0.5},\"pattern\":{\"fillmode\":\"overlay\",\"size\":10,\"solidity\":0.2}},\"type\":\"bar\"}],\"scattergeo\":[{\"type\":\"scattergeo\",\"marker\":{\"colorbar\":{\"outlinewidth\":0,\"ticks\":\"\"}}}],\"scatterpolar\":[{\"type\":\"scatterpolar\",\"marker\":{\"colorbar\":{\"outlinewidth\":0,\"ticks\":\"\"}}}],\"histogram\":[{\"marker\":{\"pattern\":{\"fillmode\":\"overlay\",\"size\":10,\"solidity\":0.2}},\"type\":\"histogram\"}],\"scattergl\":[{\"type\":\"scattergl\",\"marker\":{\"colorbar\":{\"outlinewidth\":0,\"ticks\":\"\"}}}],\"scatter3d\":[{\"type\":\"scatter3d\",\"line\":{\"colorbar\":{\"outlinewidth\":0,\"ticks\":\"\"}},\"marker\":{\"colorbar\":{\"outlinewidth\":0,\"ticks\":\"\"}}}],\"scattermapbox\":[{\"type\":\"scattermapbox\",\"marker\":{\"colorbar\":{\"outlinewidth\":0,\"ticks\":\"\"}}}],\"scatterternary\":[{\"type\":\"scatterternary\",\"marker\":{\"colorbar\":{\"outlinewidth\":0,\"ticks\":\"\"}}}],\"scattercarpet\":[{\"type\":\"scattercarpet\",\"marker\":{\"colorbar\":{\"outlinewidth\":0,\"ticks\":\"\"}}}],\"carpet\":[{\"aaxis\":{\"endlinecolor\":\"#2a3f5f\",\"gridcolor\":\"white\",\"linecolor\":\"white\",\"minorgridcolor\":\"white\",\"startlinecolor\":\"#2a3f5f\"},\"baxis\":{\"endlinecolor\":\"#2a3f5f\",\"gridcolor\":\"white\",\"linecolor\":\"white\",\"minorgridcolor\":\"white\",\"startlinecolor\":\"#2a3f5f\"},\"type\":\"carpet\"}],\"table\":[{\"cells\":{\"fill\":{\"color\":\"#EBF0F8\"},\"line\":{\"color\":\"white\"}},\"header\":{\"fill\":{\"color\":\"#C8D4E3\"},\"line\":{\"color\":\"white\"}},\"type\":\"table\"}],\"barpolar\":[{\"marker\":{\"line\":{\"color\":\"#E5ECF6\",\"width\":0.5},\"pattern\":{\"fillmode\":\"overlay\",\"size\":10,\"solidity\":0.2}},\"type\":\"barpolar\"}],\"pie\":[{\"automargin\":true,\"type\":\"pie\"}]},\"layout\":{\"autotypenumbers\":\"strict\",\"colorway\":[\"#636efa\",\"#EF553B\",\"#00cc96\",\"#ab63fa\",\"#FFA15A\",\"#19d3f3\",\"#FF6692\",\"#B6E880\",\"#FF97FF\",\"#FECB52\"],\"font\":{\"color\":\"#2a3f5f\"},\"hovermode\":\"closest\",\"hoverlabel\":{\"align\":\"left\"},\"paper_bgcolor\":\"white\",\"plot_bgcolor\":\"#E5ECF6\",\"polar\":{\"bgcolor\":\"#E5ECF6\",\"angularaxis\":{\"gridcolor\":\"white\",\"linecolor\":\"white\",\"ticks\":\"\"},\"radialaxis\":{\"gridcolor\":\"white\",\"linecolor\":\"white\",\"ticks\":\"\"}},\"ternary\":{\"bgcolor\":\"#E5ECF6\",\"aaxis\":{\"gridcolor\":\"white\",\"linecolor\":\"white\",\"ticks\":\"\"},\"baxis\":{\"gridcolor\":\"white\",\"linecolor\":\"white\",\"ticks\":\"\"},\"caxis\":{\"gridcolor\":\"white\",\"linecolor\":\"white\",\"ticks\":\"\"}},\"coloraxis\":{\"colorbar\":{\"outlinewidth\":0,\"ticks\":\"\"}},\"colorscale\":{\"sequential\":[[0.0,\"#0d0887\"],[0.1111111111111111,\"#46039f\"],[0.2222222222222222,\"#7201a8\"],[0.3333333333333333,\"#9c179e\"],[0.4444444444444444,\"#bd3786\"],[0.5555555555555556,\"#d8576b\"],[0.6666666666666666,\"#ed7953\"],[0.7777777777777778,\"#fb9f3a\"],[0.8888888888888888,\"#fdca26\"],[1.0,\"#f0f921\"]],\"sequentialminus\":[[0.0,\"#0d0887\"],[0.1111111111111111,\"#46039f\"],[0.2222222222222222,\"#7201a8\"],[0.3333333333333333,\"#9c179e\"],[0.4444444444444444,\"#bd3786\"],[0.5555555555555556,\"#d8576b\"],[0.6666666666666666,\"#ed7953\"],[0.7777777777777778,\"#fb9f3a\"],[0.8888888888888888,\"#fdca26\"],[1.0,\"#f0f921\"]],\"diverging\":[[0,\"#8e0152\"],[0.1,\"#c51b7d\"],[0.2,\"#de77ae\"],[0.3,\"#f1b6da\"],[0.4,\"#fde0ef\"],[0.5,\"#f7f7f7\"],[0.6,\"#e6f5d0\"],[0.7,\"#b8e186\"],[0.8,\"#7fbc41\"],[0.9,\"#4d9221\"],[1,\"#276419\"]]},\"xaxis\":{\"gridcolor\":\"white\",\"linecolor\":\"white\",\"ticks\":\"\",\"title\":{\"standoff\":15},\"zerolinecolor\":\"white\",\"automargin\":true,\"zerolinewidth\":2},\"yaxis\":{\"gridcolor\":\"white\",\"linecolor\":\"white\",\"ticks\":\"\",\"title\":{\"standoff\":15},\"zerolinecolor\":\"white\",\"automargin\":true,\"zerolinewidth\":2},\"scene\":{\"xaxis\":{\"backgroundcolor\":\"#E5ECF6\",\"gridcolor\":\"white\",\"linecolor\":\"white\",\"showbackground\":true,\"ticks\":\"\",\"zerolinecolor\":\"white\",\"gridwidth\":2},\"yaxis\":{\"backgroundcolor\":\"#E5ECF6\",\"gridcolor\":\"white\",\"linecolor\":\"white\",\"showbackground\":true,\"ticks\":\"\",\"zerolinecolor\":\"white\",\"gridwidth\":2},\"zaxis\":{\"backgroundcolor\":\"#E5ECF6\",\"gridcolor\":\"white\",\"linecolor\":\"white\",\"showbackground\":true,\"ticks\":\"\",\"zerolinecolor\":\"white\",\"gridwidth\":2}},\"shapedefaults\":{\"line\":{\"color\":\"#2a3f5f\"}},\"annotationdefaults\":{\"arrowcolor\":\"#2a3f5f\",\"arrowhead\":0,\"arrowwidth\":1},\"geo\":{\"bgcolor\":\"white\",\"landcolor\":\"#E5ECF6\",\"subunitcolor\":\"white\",\"showland\":true,\"showlakes\":true,\"lakecolor\":\"white\"},\"title\":{\"x\":0.05},\"mapbox\":{\"style\":\"light\"}}},\"xaxis\":{\"anchor\":\"y\",\"domain\":[0.0,1.0],\"title\":{\"text\":\"A\\u00f1o de la noticia\"}},\"yaxis\":{\"anchor\":\"x\",\"domain\":[0.0,1.0],\"title\":{\"text\":\"N\\u00famero de noticias\"}},\"coloraxis\":{\"colorbar\":{\"title\":{\"text\":\"N\\u00famero de noticias\"}},\"colorscale\":[[0.0,\"#0d0887\"],[0.1111111111111111,\"#46039f\"],[0.2222222222222222,\"#7201a8\"],[0.3333333333333333,\"#9c179e\"],[0.4444444444444444,\"#bd3786\"],[0.5555555555555556,\"#d8576b\"],[0.6666666666666666,\"#ed7953\"],[0.7777777777777778,\"#fb9f3a\"],[0.8888888888888888,\"#fdca26\"],[1.0,\"#f0f921\"]]},\"legend\":{\"tracegroupgap\":0},\"title\":{\"text\":\"N\\u00famero de noticias reales por a\\u00f1o\"},\"barmode\":\"stack\"},                        {\"responsive\": true}                    ).then(function(){\n",
              "                            \n",
              "var gd = document.getElementById('ae07fbe1-09f5-43b9-804e-196589e1585f');\n",
              "var x = new MutationObserver(function (mutations, observer) {{\n",
              "        var display = window.getComputedStyle(gd).display;\n",
              "        if (!display || display === 'none') {{\n",
              "            console.log([gd, 'removed!']);\n",
              "            Plotly.purge(gd);\n",
              "            observer.disconnect();\n",
              "        }}\n",
              "}});\n",
              "\n",
              "// Listen for the removal of the full notebook cells\n",
              "var notebookContainer = gd.closest('#notebook-container');\n",
              "if (notebookContainer) {{\n",
              "    x.observe(notebookContainer, {childList: true});\n",
              "}}\n",
              "\n",
              "// Listen for the clearing of the current output cell\n",
              "var outputEl = gd.closest('.output');\n",
              "if (outputEl) {{\n",
              "    x.observe(outputEl, {childList: true});\n",
              "}}\n",
              "\n",
              "                        })                };                            </script>        </div>\n",
              "</body>\n",
              "</html>"
            ]
          },
          "metadata": {},
          "output_type": "display_data"
        }
      ],
      "source": [
        "# Número de noticias por año\n",
        "dfg=news_true.groupby('anno').count().reset_index()\n",
        "fig = px.bar(dfg, x='anno', y = 'title', title = 'Número de noticias reales por año', color = 'title', barmode = 'stack', text_auto='.2s',\n",
        "              labels={'anno':'Año de la noticia','title':'Número de noticias'})\n",
        "fig.show()"
      ]
    },
    {
      "cell_type": "code",
      "execution_count": null,
      "metadata": {
        "colab": {
          "base_uri": "https://localhost:8080/"
        },
        "id": "S3YPa570RpyF",
        "outputId": "40d44c70-55ae-4f9f-c3ee-57c85ef94d9d"
      },
      "outputs": [
        {
          "name": "stdout",
          "output_type": "stream",
          "text": [
            "['politicsNews' 'worldnews']\n"
          ]
        }
      ],
      "source": [
        "# Análisis del subject de las noticias\n",
        "print(news_true['subject'].unique())"
      ]
    },
    {
      "cell_type": "code",
      "execution_count": null,
      "metadata": {
        "colab": {
          "base_uri": "https://localhost:8080/",
          "height": 542
        },
        "id": "88aLslpjSU67",
        "outputId": "ff5fbdbb-6c6d-4749-f8f6-91a7cc123bb7"
      },
      "outputs": [
        {
          "data": {
            "text/html": [
              "<html>\n",
              "<head><meta charset=\"utf-8\" /></head>\n",
              "<body>\n",
              "    <div>            <script src=\"https://cdnjs.cloudflare.com/ajax/libs/mathjax/2.7.5/MathJax.js?config=TeX-AMS-MML_SVG\"></script><script type=\"text/javascript\">if (window.MathJax && window.MathJax.Hub && window.MathJax.Hub.Config) {window.MathJax.Hub.Config({SVG: {font: \"STIX-Web\"}});}</script>                <script type=\"text/javascript\">window.PlotlyConfig = {MathJaxConfig: 'local'};</script>\n",
              "        <script src=\"https://cdn.plot.ly/plotly-2.18.2.min.js\"></script>                <div id=\"a6ced75b-7f59-468b-ae33-e42e08b15caa\" class=\"plotly-graph-div\" style=\"height:525px; width:100%;\"></div>            <script type=\"text/javascript\">                                    window.PLOTLYENV=window.PLOTLYENV || {};                                    if (document.getElementById(\"a6ced75b-7f59-468b-ae33-e42e08b15caa\")) {                    Plotly.newPlot(                        \"a6ced75b-7f59-468b-ae33-e42e08b15caa\",                        [{\"alignmentgroup\":\"True\",\"hovertemplate\":\"T\\u00f3pico de la noticia=%{x}<br>N\\u00famero de noticias=%{marker.color}<extra></extra>\",\"legendgroup\":\"\",\"marker\":{\"color\":[11272,10145],\"coloraxis\":\"coloraxis\",\"pattern\":{\"shape\":\"\"}},\"name\":\"\",\"offsetgroup\":\"\",\"orientation\":\"v\",\"showlegend\":false,\"textposition\":\"auto\",\"x\":[\"politicsNews\",\"worldnews\"],\"xaxis\":\"x\",\"y\":[11272,10145],\"yaxis\":\"y\",\"type\":\"bar\"}],                        {\"template\":{\"data\":{\"histogram2dcontour\":[{\"type\":\"histogram2dcontour\",\"colorbar\":{\"outlinewidth\":0,\"ticks\":\"\"},\"colorscale\":[[0.0,\"#0d0887\"],[0.1111111111111111,\"#46039f\"],[0.2222222222222222,\"#7201a8\"],[0.3333333333333333,\"#9c179e\"],[0.4444444444444444,\"#bd3786\"],[0.5555555555555556,\"#d8576b\"],[0.6666666666666666,\"#ed7953\"],[0.7777777777777778,\"#fb9f3a\"],[0.8888888888888888,\"#fdca26\"],[1.0,\"#f0f921\"]]}],\"choropleth\":[{\"type\":\"choropleth\",\"colorbar\":{\"outlinewidth\":0,\"ticks\":\"\"}}],\"histogram2d\":[{\"type\":\"histogram2d\",\"colorbar\":{\"outlinewidth\":0,\"ticks\":\"\"},\"colorscale\":[[0.0,\"#0d0887\"],[0.1111111111111111,\"#46039f\"],[0.2222222222222222,\"#7201a8\"],[0.3333333333333333,\"#9c179e\"],[0.4444444444444444,\"#bd3786\"],[0.5555555555555556,\"#d8576b\"],[0.6666666666666666,\"#ed7953\"],[0.7777777777777778,\"#fb9f3a\"],[0.8888888888888888,\"#fdca26\"],[1.0,\"#f0f921\"]]}],\"heatmap\":[{\"type\":\"heatmap\",\"colorbar\":{\"outlinewidth\":0,\"ticks\":\"\"},\"colorscale\":[[0.0,\"#0d0887\"],[0.1111111111111111,\"#46039f\"],[0.2222222222222222,\"#7201a8\"],[0.3333333333333333,\"#9c179e\"],[0.4444444444444444,\"#bd3786\"],[0.5555555555555556,\"#d8576b\"],[0.6666666666666666,\"#ed7953\"],[0.7777777777777778,\"#fb9f3a\"],[0.8888888888888888,\"#fdca26\"],[1.0,\"#f0f921\"]]}],\"heatmapgl\":[{\"type\":\"heatmapgl\",\"colorbar\":{\"outlinewidth\":0,\"ticks\":\"\"},\"colorscale\":[[0.0,\"#0d0887\"],[0.1111111111111111,\"#46039f\"],[0.2222222222222222,\"#7201a8\"],[0.3333333333333333,\"#9c179e\"],[0.4444444444444444,\"#bd3786\"],[0.5555555555555556,\"#d8576b\"],[0.6666666666666666,\"#ed7953\"],[0.7777777777777778,\"#fb9f3a\"],[0.8888888888888888,\"#fdca26\"],[1.0,\"#f0f921\"]]}],\"contourcarpet\":[{\"type\":\"contourcarpet\",\"colorbar\":{\"outlinewidth\":0,\"ticks\":\"\"}}],\"contour\":[{\"type\":\"contour\",\"colorbar\":{\"outlinewidth\":0,\"ticks\":\"\"},\"colorscale\":[[0.0,\"#0d0887\"],[0.1111111111111111,\"#46039f\"],[0.2222222222222222,\"#7201a8\"],[0.3333333333333333,\"#9c179e\"],[0.4444444444444444,\"#bd3786\"],[0.5555555555555556,\"#d8576b\"],[0.6666666666666666,\"#ed7953\"],[0.7777777777777778,\"#fb9f3a\"],[0.8888888888888888,\"#fdca26\"],[1.0,\"#f0f921\"]]}],\"surface\":[{\"type\":\"surface\",\"colorbar\":{\"outlinewidth\":0,\"ticks\":\"\"},\"colorscale\":[[0.0,\"#0d0887\"],[0.1111111111111111,\"#46039f\"],[0.2222222222222222,\"#7201a8\"],[0.3333333333333333,\"#9c179e\"],[0.4444444444444444,\"#bd3786\"],[0.5555555555555556,\"#d8576b\"],[0.6666666666666666,\"#ed7953\"],[0.7777777777777778,\"#fb9f3a\"],[0.8888888888888888,\"#fdca26\"],[1.0,\"#f0f921\"]]}],\"mesh3d\":[{\"type\":\"mesh3d\",\"colorbar\":{\"outlinewidth\":0,\"ticks\":\"\"}}],\"scatter\":[{\"fillpattern\":{\"fillmode\":\"overlay\",\"size\":10,\"solidity\":0.2},\"type\":\"scatter\"}],\"parcoords\":[{\"type\":\"parcoords\",\"line\":{\"colorbar\":{\"outlinewidth\":0,\"ticks\":\"\"}}}],\"scatterpolargl\":[{\"type\":\"scatterpolargl\",\"marker\":{\"colorbar\":{\"outlinewidth\":0,\"ticks\":\"\"}}}],\"bar\":[{\"error_x\":{\"color\":\"#2a3f5f\"},\"error_y\":{\"color\":\"#2a3f5f\"},\"marker\":{\"line\":{\"color\":\"#E5ECF6\",\"width\":0.5},\"pattern\":{\"fillmode\":\"overlay\",\"size\":10,\"solidity\":0.2}},\"type\":\"bar\"}],\"scattergeo\":[{\"type\":\"scattergeo\",\"marker\":{\"colorbar\":{\"outlinewidth\":0,\"ticks\":\"\"}}}],\"scatterpolar\":[{\"type\":\"scatterpolar\",\"marker\":{\"colorbar\":{\"outlinewidth\":0,\"ticks\":\"\"}}}],\"histogram\":[{\"marker\":{\"pattern\":{\"fillmode\":\"overlay\",\"size\":10,\"solidity\":0.2}},\"type\":\"histogram\"}],\"scattergl\":[{\"type\":\"scattergl\",\"marker\":{\"colorbar\":{\"outlinewidth\":0,\"ticks\":\"\"}}}],\"scatter3d\":[{\"type\":\"scatter3d\",\"line\":{\"colorbar\":{\"outlinewidth\":0,\"ticks\":\"\"}},\"marker\":{\"colorbar\":{\"outlinewidth\":0,\"ticks\":\"\"}}}],\"scattermapbox\":[{\"type\":\"scattermapbox\",\"marker\":{\"colorbar\":{\"outlinewidth\":0,\"ticks\":\"\"}}}],\"scatterternary\":[{\"type\":\"scatterternary\",\"marker\":{\"colorbar\":{\"outlinewidth\":0,\"ticks\":\"\"}}}],\"scattercarpet\":[{\"type\":\"scattercarpet\",\"marker\":{\"colorbar\":{\"outlinewidth\":0,\"ticks\":\"\"}}}],\"carpet\":[{\"aaxis\":{\"endlinecolor\":\"#2a3f5f\",\"gridcolor\":\"white\",\"linecolor\":\"white\",\"minorgridcolor\":\"white\",\"startlinecolor\":\"#2a3f5f\"},\"baxis\":{\"endlinecolor\":\"#2a3f5f\",\"gridcolor\":\"white\",\"linecolor\":\"white\",\"minorgridcolor\":\"white\",\"startlinecolor\":\"#2a3f5f\"},\"type\":\"carpet\"}],\"table\":[{\"cells\":{\"fill\":{\"color\":\"#EBF0F8\"},\"line\":{\"color\":\"white\"}},\"header\":{\"fill\":{\"color\":\"#C8D4E3\"},\"line\":{\"color\":\"white\"}},\"type\":\"table\"}],\"barpolar\":[{\"marker\":{\"line\":{\"color\":\"#E5ECF6\",\"width\":0.5},\"pattern\":{\"fillmode\":\"overlay\",\"size\":10,\"solidity\":0.2}},\"type\":\"barpolar\"}],\"pie\":[{\"automargin\":true,\"type\":\"pie\"}]},\"layout\":{\"autotypenumbers\":\"strict\",\"colorway\":[\"#636efa\",\"#EF553B\",\"#00cc96\",\"#ab63fa\",\"#FFA15A\",\"#19d3f3\",\"#FF6692\",\"#B6E880\",\"#FF97FF\",\"#FECB52\"],\"font\":{\"color\":\"#2a3f5f\"},\"hovermode\":\"closest\",\"hoverlabel\":{\"align\":\"left\"},\"paper_bgcolor\":\"white\",\"plot_bgcolor\":\"#E5ECF6\",\"polar\":{\"bgcolor\":\"#E5ECF6\",\"angularaxis\":{\"gridcolor\":\"white\",\"linecolor\":\"white\",\"ticks\":\"\"},\"radialaxis\":{\"gridcolor\":\"white\",\"linecolor\":\"white\",\"ticks\":\"\"}},\"ternary\":{\"bgcolor\":\"#E5ECF6\",\"aaxis\":{\"gridcolor\":\"white\",\"linecolor\":\"white\",\"ticks\":\"\"},\"baxis\":{\"gridcolor\":\"white\",\"linecolor\":\"white\",\"ticks\":\"\"},\"caxis\":{\"gridcolor\":\"white\",\"linecolor\":\"white\",\"ticks\":\"\"}},\"coloraxis\":{\"colorbar\":{\"outlinewidth\":0,\"ticks\":\"\"}},\"colorscale\":{\"sequential\":[[0.0,\"#0d0887\"],[0.1111111111111111,\"#46039f\"],[0.2222222222222222,\"#7201a8\"],[0.3333333333333333,\"#9c179e\"],[0.4444444444444444,\"#bd3786\"],[0.5555555555555556,\"#d8576b\"],[0.6666666666666666,\"#ed7953\"],[0.7777777777777778,\"#fb9f3a\"],[0.8888888888888888,\"#fdca26\"],[1.0,\"#f0f921\"]],\"sequentialminus\":[[0.0,\"#0d0887\"],[0.1111111111111111,\"#46039f\"],[0.2222222222222222,\"#7201a8\"],[0.3333333333333333,\"#9c179e\"],[0.4444444444444444,\"#bd3786\"],[0.5555555555555556,\"#d8576b\"],[0.6666666666666666,\"#ed7953\"],[0.7777777777777778,\"#fb9f3a\"],[0.8888888888888888,\"#fdca26\"],[1.0,\"#f0f921\"]],\"diverging\":[[0,\"#8e0152\"],[0.1,\"#c51b7d\"],[0.2,\"#de77ae\"],[0.3,\"#f1b6da\"],[0.4,\"#fde0ef\"],[0.5,\"#f7f7f7\"],[0.6,\"#e6f5d0\"],[0.7,\"#b8e186\"],[0.8,\"#7fbc41\"],[0.9,\"#4d9221\"],[1,\"#276419\"]]},\"xaxis\":{\"gridcolor\":\"white\",\"linecolor\":\"white\",\"ticks\":\"\",\"title\":{\"standoff\":15},\"zerolinecolor\":\"white\",\"automargin\":true,\"zerolinewidth\":2},\"yaxis\":{\"gridcolor\":\"white\",\"linecolor\":\"white\",\"ticks\":\"\",\"title\":{\"standoff\":15},\"zerolinecolor\":\"white\",\"automargin\":true,\"zerolinewidth\":2},\"scene\":{\"xaxis\":{\"backgroundcolor\":\"#E5ECF6\",\"gridcolor\":\"white\",\"linecolor\":\"white\",\"showbackground\":true,\"ticks\":\"\",\"zerolinecolor\":\"white\",\"gridwidth\":2},\"yaxis\":{\"backgroundcolor\":\"#E5ECF6\",\"gridcolor\":\"white\",\"linecolor\":\"white\",\"showbackground\":true,\"ticks\":\"\",\"zerolinecolor\":\"white\",\"gridwidth\":2},\"zaxis\":{\"backgroundcolor\":\"#E5ECF6\",\"gridcolor\":\"white\",\"linecolor\":\"white\",\"showbackground\":true,\"ticks\":\"\",\"zerolinecolor\":\"white\",\"gridwidth\":2}},\"shapedefaults\":{\"line\":{\"color\":\"#2a3f5f\"}},\"annotationdefaults\":{\"arrowcolor\":\"#2a3f5f\",\"arrowhead\":0,\"arrowwidth\":1},\"geo\":{\"bgcolor\":\"white\",\"landcolor\":\"#E5ECF6\",\"subunitcolor\":\"white\",\"showland\":true,\"showlakes\":true,\"lakecolor\":\"white\"},\"title\":{\"x\":0.05},\"mapbox\":{\"style\":\"light\"}}},\"xaxis\":{\"anchor\":\"y\",\"domain\":[0.0,1.0],\"title\":{\"text\":\"T\\u00f3pico de la noticia\"}},\"yaxis\":{\"anchor\":\"x\",\"domain\":[0.0,1.0],\"title\":{\"text\":\"N\\u00famero de noticias\"}},\"coloraxis\":{\"colorbar\":{\"title\":{\"text\":\"N\\u00famero de noticias\"}},\"colorscale\":[[0.0,\"#0d0887\"],[0.1111111111111111,\"#46039f\"],[0.2222222222222222,\"#7201a8\"],[0.3333333333333333,\"#9c179e\"],[0.4444444444444444,\"#bd3786\"],[0.5555555555555556,\"#d8576b\"],[0.6666666666666666,\"#ed7953\"],[0.7777777777777778,\"#fb9f3a\"],[0.8888888888888888,\"#fdca26\"],[1.0,\"#f0f921\"]]},\"legend\":{\"tracegroupgap\":0},\"title\":{\"text\":\"N\\u00famero de noticias reales por t\\u00f3pico\"},\"barmode\":\"stack\"},                        {\"responsive\": true}                    ).then(function(){\n",
              "                            \n",
              "var gd = document.getElementById('a6ced75b-7f59-468b-ae33-e42e08b15caa');\n",
              "var x = new MutationObserver(function (mutations, observer) {{\n",
              "        var display = window.getComputedStyle(gd).display;\n",
              "        if (!display || display === 'none') {{\n",
              "            console.log([gd, 'removed!']);\n",
              "            Plotly.purge(gd);\n",
              "            observer.disconnect();\n",
              "        }}\n",
              "}});\n",
              "\n",
              "// Listen for the removal of the full notebook cells\n",
              "var notebookContainer = gd.closest('#notebook-container');\n",
              "if (notebookContainer) {{\n",
              "    x.observe(notebookContainer, {childList: true});\n",
              "}}\n",
              "\n",
              "// Listen for the clearing of the current output cell\n",
              "var outputEl = gd.closest('.output');\n",
              "if (outputEl) {{\n",
              "    x.observe(outputEl, {childList: true});\n",
              "}}\n",
              "\n",
              "                        })                };                            </script>        </div>\n",
              "</body>\n",
              "</html>"
            ]
          },
          "metadata": {},
          "output_type": "display_data"
        }
      ],
      "source": [
        "# Número de noticias por tópico\n",
        "dfg=news_true.groupby('subject').count().reset_index()\n",
        "fig = px.bar(dfg, x='subject', y = 'title', title = 'Número de noticias reales por tópico', color = 'title', barmode = 'stack',\n",
        "              labels={'subject':'Tópico de la noticia','title':'Número de noticias'})\n",
        "fig.show()"
      ]
    },
    {
      "cell_type": "code",
      "execution_count": null,
      "metadata": {
        "colab": {
          "base_uri": "https://localhost:8080/",
          "height": 122
        },
        "id": "6uKrJc1FTK_h",
        "outputId": "3c150aa9-a315-4ebd-a382-1f7bf8db05ae"
      },
      "outputs": [
        {
          "data": {
            "application/vnd.google.colaboratory.intrinsic+json": {
              "type": "string"
            },
            "text/plain": [
              "'PANAMA CITY (Reuters) - Panama s President Juan Carlos Varela will travel to China to meet with his counterpart Xi Jinping on Friday, the first official visit by a Panamanian leader to the Asian country  coming five months after the nations established diplomatic relations. The bilateral meeting will serve to  establish a new economic, trade, tourist and diplomatic outlook for the country, leading to more than a dozen agreements that will be signed  between nations, Panama s Foreign Ministry said in a statement. In June, Panama upgraded its commercial ties with China and established full diplomatic links with the second most important customer of its key shipping canal, giving Beijing a major victory as it broke formal relations with Taiwan. The Foreign Ministry said the agreements will provide the basis for attracting investments and Chinese innovation to Panama, and help boost Panamanian exports, tourism and the use of the Panama canal. Varela will inaugurate Panama s first embassy in China. '"
            ]
          },
          "execution_count": 53,
          "metadata": {},
          "output_type": "execute_result"
        }
      ],
      "source": [
        "# Análisis del contenido de las noticias tanto en el título como en el texto\n",
        "news_true.iloc[15001, 1]"
      ]
    },
    {
      "attachments": {},
      "cell_type": "markdown",
      "metadata": {
        "id": "yYYY-nTAZ6Ai"
      },
      "source": [
        "# **2. Análisis del archivo noticias falsas**\n",
        "De acuerdo con el análisis exploratorio de los datos se encuentra:\n",
        "1. Total de noticias: 23481.\n",
        "2. El campo 'date' presenta diferentes formatos e incluso datos que no corresponden a la fecha, sin embargo dado el problema que se plantea y como resultado de análisis exploratorio no se considera información relevante para el desarrollo del objetivo del proyecto.\n",
        "4. Las noticias se encuentran asociadas a dos temas: 'News', 'politics', 'Government News', 'left-news', 'US_News' y 'Middle-east.\n",
        "5. Noticias que tratan de politics : 6841.\n",
        "6. Noticias que tratan de News: 9050.\n",
        "7. Noticias que tratan de Government News: 1570.\n",
        "8. Noticias que tratan de left-News: 4459.\n",
        "9. Noticias que tratan de US_News: 783.\n",
        "10. Noticias que tratan de Middle-east: 778."
      ]
    },
    {
      "cell_type": "code",
      "execution_count": null,
      "metadata": {
        "colab": {
          "base_uri": "https://localhost:8080/"
        },
        "id": "9pze6WwOaCxP",
        "outputId": "addced2f-7e0b-4711-a80c-16459d6d8db8"
      },
      "outputs": [
        {
          "data": {
            "text/plain": [
              "title      23481\n",
              "text       23481\n",
              "subject    23481\n",
              "date       23481\n",
              "dtype: int64"
            ]
          },
          "execution_count": 58,
          "metadata": {},
          "output_type": "execute_result"
        }
      ],
      "source": [
        "# Conteo del número de registros\n",
        "news_false.count()"
      ]
    },
    {
      "cell_type": "code",
      "execution_count": null,
      "metadata": {
        "colab": {
          "base_uri": "https://localhost:8080/"
        },
        "id": "KpT0UlbYaWjf",
        "outputId": "bb4be5db-a117-4928-95f8-249beed22e5d"
      },
      "outputs": [
        {
          "name": "stdout",
          "output_type": "stream",
          "text": [
            "<class 'pandas.core.frame.DataFrame'>\n",
            "RangeIndex: 23481 entries, 0 to 23480\n",
            "Data columns (total 4 columns):\n",
            " #   Column   Non-Null Count  Dtype \n",
            "---  ------   --------------  ----- \n",
            " 0   title    23481 non-null  object\n",
            " 1   text     23481 non-null  object\n",
            " 2   subject  23481 non-null  object\n",
            " 3   date     23481 non-null  object\n",
            "dtypes: object(4)\n",
            "memory usage: 733.9+ KB\n"
          ]
        }
      ],
      "source": [
        "# Información del dataframe\n",
        "news_false.info()"
      ]
    },
    {
      "cell_type": "code",
      "execution_count": null,
      "metadata": {
        "colab": {
          "base_uri": "https://localhost:8080/"
        },
        "id": "5LCZz4xrazsa",
        "outputId": "6918b717-2b12-47a4-c94b-618b7650a5f5"
      },
      "outputs": [
        {
          "name": "stdout",
          "output_type": "stream",
          "text": [
            "['News' 'politics' 'Government News' 'left-news' 'US_News' 'Middle-east']\n"
          ]
        }
      ],
      "source": [
        "# Análisis del subject de las noticias\n",
        "print(news_false['subject'].unique())"
      ]
    },
    {
      "cell_type": "code",
      "execution_count": null,
      "metadata": {
        "colab": {
          "base_uri": "https://localhost:8080/",
          "height": 542
        },
        "id": "GC3UuR_nCGVJ",
        "outputId": "56a20d6e-c974-4672-d347-a61b282edc7a"
      },
      "outputs": [
        {
          "data": {
            "text/html": [
              "<html>\n",
              "<head><meta charset=\"utf-8\" /></head>\n",
              "<body>\n",
              "    <div>            <script src=\"https://cdnjs.cloudflare.com/ajax/libs/mathjax/2.7.5/MathJax.js?config=TeX-AMS-MML_SVG\"></script><script type=\"text/javascript\">if (window.MathJax && window.MathJax.Hub && window.MathJax.Hub.Config) {window.MathJax.Hub.Config({SVG: {font: \"STIX-Web\"}});}</script>                <script type=\"text/javascript\">window.PlotlyConfig = {MathJaxConfig: 'local'};</script>\n",
              "        <script src=\"https://cdn.plot.ly/plotly-2.18.2.min.js\"></script>                <div id=\"9a2a17f3-7a45-477d-aee7-5513c67f04b7\" class=\"plotly-graph-div\" style=\"height:525px; width:100%;\"></div>            <script type=\"text/javascript\">                                    window.PLOTLYENV=window.PLOTLYENV || {};                                    if (document.getElementById(\"9a2a17f3-7a45-477d-aee7-5513c67f04b7\")) {                    Plotly.newPlot(                        \"9a2a17f3-7a45-477d-aee7-5513c67f04b7\",                        [{\"alignmentgroup\":\"True\",\"hovertemplate\":\"T\\u00f3pico de la noticia=%{x}<br>N\\u00famero de noticias=%{marker.color}<extra></extra>\",\"legendgroup\":\"\",\"marker\":{\"color\":[1570,778,9050,783,4459,6841],\"coloraxis\":\"coloraxis\",\"pattern\":{\"shape\":\"\"}},\"name\":\"\",\"offsetgroup\":\"\",\"orientation\":\"v\",\"showlegend\":false,\"textposition\":\"auto\",\"x\":[\"Government News\",\"Middle-east\",\"News\",\"US_News\",\"left-news\",\"politics\"],\"xaxis\":\"x\",\"y\":[1570,778,9050,783,4459,6841],\"yaxis\":\"y\",\"type\":\"bar\"}],                        {\"template\":{\"data\":{\"histogram2dcontour\":[{\"type\":\"histogram2dcontour\",\"colorbar\":{\"outlinewidth\":0,\"ticks\":\"\"},\"colorscale\":[[0.0,\"#0d0887\"],[0.1111111111111111,\"#46039f\"],[0.2222222222222222,\"#7201a8\"],[0.3333333333333333,\"#9c179e\"],[0.4444444444444444,\"#bd3786\"],[0.5555555555555556,\"#d8576b\"],[0.6666666666666666,\"#ed7953\"],[0.7777777777777778,\"#fb9f3a\"],[0.8888888888888888,\"#fdca26\"],[1.0,\"#f0f921\"]]}],\"choropleth\":[{\"type\":\"choropleth\",\"colorbar\":{\"outlinewidth\":0,\"ticks\":\"\"}}],\"histogram2d\":[{\"type\":\"histogram2d\",\"colorbar\":{\"outlinewidth\":0,\"ticks\":\"\"},\"colorscale\":[[0.0,\"#0d0887\"],[0.1111111111111111,\"#46039f\"],[0.2222222222222222,\"#7201a8\"],[0.3333333333333333,\"#9c179e\"],[0.4444444444444444,\"#bd3786\"],[0.5555555555555556,\"#d8576b\"],[0.6666666666666666,\"#ed7953\"],[0.7777777777777778,\"#fb9f3a\"],[0.8888888888888888,\"#fdca26\"],[1.0,\"#f0f921\"]]}],\"heatmap\":[{\"type\":\"heatmap\",\"colorbar\":{\"outlinewidth\":0,\"ticks\":\"\"},\"colorscale\":[[0.0,\"#0d0887\"],[0.1111111111111111,\"#46039f\"],[0.2222222222222222,\"#7201a8\"],[0.3333333333333333,\"#9c179e\"],[0.4444444444444444,\"#bd3786\"],[0.5555555555555556,\"#d8576b\"],[0.6666666666666666,\"#ed7953\"],[0.7777777777777778,\"#fb9f3a\"],[0.8888888888888888,\"#fdca26\"],[1.0,\"#f0f921\"]]}],\"heatmapgl\":[{\"type\":\"heatmapgl\",\"colorbar\":{\"outlinewidth\":0,\"ticks\":\"\"},\"colorscale\":[[0.0,\"#0d0887\"],[0.1111111111111111,\"#46039f\"],[0.2222222222222222,\"#7201a8\"],[0.3333333333333333,\"#9c179e\"],[0.4444444444444444,\"#bd3786\"],[0.5555555555555556,\"#d8576b\"],[0.6666666666666666,\"#ed7953\"],[0.7777777777777778,\"#fb9f3a\"],[0.8888888888888888,\"#fdca26\"],[1.0,\"#f0f921\"]]}],\"contourcarpet\":[{\"type\":\"contourcarpet\",\"colorbar\":{\"outlinewidth\":0,\"ticks\":\"\"}}],\"contour\":[{\"type\":\"contour\",\"colorbar\":{\"outlinewidth\":0,\"ticks\":\"\"},\"colorscale\":[[0.0,\"#0d0887\"],[0.1111111111111111,\"#46039f\"],[0.2222222222222222,\"#7201a8\"],[0.3333333333333333,\"#9c179e\"],[0.4444444444444444,\"#bd3786\"],[0.5555555555555556,\"#d8576b\"],[0.6666666666666666,\"#ed7953\"],[0.7777777777777778,\"#fb9f3a\"],[0.8888888888888888,\"#fdca26\"],[1.0,\"#f0f921\"]]}],\"surface\":[{\"type\":\"surface\",\"colorbar\":{\"outlinewidth\":0,\"ticks\":\"\"},\"colorscale\":[[0.0,\"#0d0887\"],[0.1111111111111111,\"#46039f\"],[0.2222222222222222,\"#7201a8\"],[0.3333333333333333,\"#9c179e\"],[0.4444444444444444,\"#bd3786\"],[0.5555555555555556,\"#d8576b\"],[0.6666666666666666,\"#ed7953\"],[0.7777777777777778,\"#fb9f3a\"],[0.8888888888888888,\"#fdca26\"],[1.0,\"#f0f921\"]]}],\"mesh3d\":[{\"type\":\"mesh3d\",\"colorbar\":{\"outlinewidth\":0,\"ticks\":\"\"}}],\"scatter\":[{\"fillpattern\":{\"fillmode\":\"overlay\",\"size\":10,\"solidity\":0.2},\"type\":\"scatter\"}],\"parcoords\":[{\"type\":\"parcoords\",\"line\":{\"colorbar\":{\"outlinewidth\":0,\"ticks\":\"\"}}}],\"scatterpolargl\":[{\"type\":\"scatterpolargl\",\"marker\":{\"colorbar\":{\"outlinewidth\":0,\"ticks\":\"\"}}}],\"bar\":[{\"error_x\":{\"color\":\"#2a3f5f\"},\"error_y\":{\"color\":\"#2a3f5f\"},\"marker\":{\"line\":{\"color\":\"#E5ECF6\",\"width\":0.5},\"pattern\":{\"fillmode\":\"overlay\",\"size\":10,\"solidity\":0.2}},\"type\":\"bar\"}],\"scattergeo\":[{\"type\":\"scattergeo\",\"marker\":{\"colorbar\":{\"outlinewidth\":0,\"ticks\":\"\"}}}],\"scatterpolar\":[{\"type\":\"scatterpolar\",\"marker\":{\"colorbar\":{\"outlinewidth\":0,\"ticks\":\"\"}}}],\"histogram\":[{\"marker\":{\"pattern\":{\"fillmode\":\"overlay\",\"size\":10,\"solidity\":0.2}},\"type\":\"histogram\"}],\"scattergl\":[{\"type\":\"scattergl\",\"marker\":{\"colorbar\":{\"outlinewidth\":0,\"ticks\":\"\"}}}],\"scatter3d\":[{\"type\":\"scatter3d\",\"line\":{\"colorbar\":{\"outlinewidth\":0,\"ticks\":\"\"}},\"marker\":{\"colorbar\":{\"outlinewidth\":0,\"ticks\":\"\"}}}],\"scattermapbox\":[{\"type\":\"scattermapbox\",\"marker\":{\"colorbar\":{\"outlinewidth\":0,\"ticks\":\"\"}}}],\"scatterternary\":[{\"type\":\"scatterternary\",\"marker\":{\"colorbar\":{\"outlinewidth\":0,\"ticks\":\"\"}}}],\"scattercarpet\":[{\"type\":\"scattercarpet\",\"marker\":{\"colorbar\":{\"outlinewidth\":0,\"ticks\":\"\"}}}],\"carpet\":[{\"aaxis\":{\"endlinecolor\":\"#2a3f5f\",\"gridcolor\":\"white\",\"linecolor\":\"white\",\"minorgridcolor\":\"white\",\"startlinecolor\":\"#2a3f5f\"},\"baxis\":{\"endlinecolor\":\"#2a3f5f\",\"gridcolor\":\"white\",\"linecolor\":\"white\",\"minorgridcolor\":\"white\",\"startlinecolor\":\"#2a3f5f\"},\"type\":\"carpet\"}],\"table\":[{\"cells\":{\"fill\":{\"color\":\"#EBF0F8\"},\"line\":{\"color\":\"white\"}},\"header\":{\"fill\":{\"color\":\"#C8D4E3\"},\"line\":{\"color\":\"white\"}},\"type\":\"table\"}],\"barpolar\":[{\"marker\":{\"line\":{\"color\":\"#E5ECF6\",\"width\":0.5},\"pattern\":{\"fillmode\":\"overlay\",\"size\":10,\"solidity\":0.2}},\"type\":\"barpolar\"}],\"pie\":[{\"automargin\":true,\"type\":\"pie\"}]},\"layout\":{\"autotypenumbers\":\"strict\",\"colorway\":[\"#636efa\",\"#EF553B\",\"#00cc96\",\"#ab63fa\",\"#FFA15A\",\"#19d3f3\",\"#FF6692\",\"#B6E880\",\"#FF97FF\",\"#FECB52\"],\"font\":{\"color\":\"#2a3f5f\"},\"hovermode\":\"closest\",\"hoverlabel\":{\"align\":\"left\"},\"paper_bgcolor\":\"white\",\"plot_bgcolor\":\"#E5ECF6\",\"polar\":{\"bgcolor\":\"#E5ECF6\",\"angularaxis\":{\"gridcolor\":\"white\",\"linecolor\":\"white\",\"ticks\":\"\"},\"radialaxis\":{\"gridcolor\":\"white\",\"linecolor\":\"white\",\"ticks\":\"\"}},\"ternary\":{\"bgcolor\":\"#E5ECF6\",\"aaxis\":{\"gridcolor\":\"white\",\"linecolor\":\"white\",\"ticks\":\"\"},\"baxis\":{\"gridcolor\":\"white\",\"linecolor\":\"white\",\"ticks\":\"\"},\"caxis\":{\"gridcolor\":\"white\",\"linecolor\":\"white\",\"ticks\":\"\"}},\"coloraxis\":{\"colorbar\":{\"outlinewidth\":0,\"ticks\":\"\"}},\"colorscale\":{\"sequential\":[[0.0,\"#0d0887\"],[0.1111111111111111,\"#46039f\"],[0.2222222222222222,\"#7201a8\"],[0.3333333333333333,\"#9c179e\"],[0.4444444444444444,\"#bd3786\"],[0.5555555555555556,\"#d8576b\"],[0.6666666666666666,\"#ed7953\"],[0.7777777777777778,\"#fb9f3a\"],[0.8888888888888888,\"#fdca26\"],[1.0,\"#f0f921\"]],\"sequentialminus\":[[0.0,\"#0d0887\"],[0.1111111111111111,\"#46039f\"],[0.2222222222222222,\"#7201a8\"],[0.3333333333333333,\"#9c179e\"],[0.4444444444444444,\"#bd3786\"],[0.5555555555555556,\"#d8576b\"],[0.6666666666666666,\"#ed7953\"],[0.7777777777777778,\"#fb9f3a\"],[0.8888888888888888,\"#fdca26\"],[1.0,\"#f0f921\"]],\"diverging\":[[0,\"#8e0152\"],[0.1,\"#c51b7d\"],[0.2,\"#de77ae\"],[0.3,\"#f1b6da\"],[0.4,\"#fde0ef\"],[0.5,\"#f7f7f7\"],[0.6,\"#e6f5d0\"],[0.7,\"#b8e186\"],[0.8,\"#7fbc41\"],[0.9,\"#4d9221\"],[1,\"#276419\"]]},\"xaxis\":{\"gridcolor\":\"white\",\"linecolor\":\"white\",\"ticks\":\"\",\"title\":{\"standoff\":15},\"zerolinecolor\":\"white\",\"automargin\":true,\"zerolinewidth\":2},\"yaxis\":{\"gridcolor\":\"white\",\"linecolor\":\"white\",\"ticks\":\"\",\"title\":{\"standoff\":15},\"zerolinecolor\":\"white\",\"automargin\":true,\"zerolinewidth\":2},\"scene\":{\"xaxis\":{\"backgroundcolor\":\"#E5ECF6\",\"gridcolor\":\"white\",\"linecolor\":\"white\",\"showbackground\":true,\"ticks\":\"\",\"zerolinecolor\":\"white\",\"gridwidth\":2},\"yaxis\":{\"backgroundcolor\":\"#E5ECF6\",\"gridcolor\":\"white\",\"linecolor\":\"white\",\"showbackground\":true,\"ticks\":\"\",\"zerolinecolor\":\"white\",\"gridwidth\":2},\"zaxis\":{\"backgroundcolor\":\"#E5ECF6\",\"gridcolor\":\"white\",\"linecolor\":\"white\",\"showbackground\":true,\"ticks\":\"\",\"zerolinecolor\":\"white\",\"gridwidth\":2}},\"shapedefaults\":{\"line\":{\"color\":\"#2a3f5f\"}},\"annotationdefaults\":{\"arrowcolor\":\"#2a3f5f\",\"arrowhead\":0,\"arrowwidth\":1},\"geo\":{\"bgcolor\":\"white\",\"landcolor\":\"#E5ECF6\",\"subunitcolor\":\"white\",\"showland\":true,\"showlakes\":true,\"lakecolor\":\"white\"},\"title\":{\"x\":0.05},\"mapbox\":{\"style\":\"light\"}}},\"xaxis\":{\"anchor\":\"y\",\"domain\":[0.0,1.0],\"title\":{\"text\":\"T\\u00f3pico de la noticia\"}},\"yaxis\":{\"anchor\":\"x\",\"domain\":[0.0,1.0],\"title\":{\"text\":\"N\\u00famero de noticias\"}},\"coloraxis\":{\"colorbar\":{\"title\":{\"text\":\"N\\u00famero de noticias\"}},\"colorscale\":[[0.0,\"#0d0887\"],[0.1111111111111111,\"#46039f\"],[0.2222222222222222,\"#7201a8\"],[0.3333333333333333,\"#9c179e\"],[0.4444444444444444,\"#bd3786\"],[0.5555555555555556,\"#d8576b\"],[0.6666666666666666,\"#ed7953\"],[0.7777777777777778,\"#fb9f3a\"],[0.8888888888888888,\"#fdca26\"],[1.0,\"#f0f921\"]]},\"legend\":{\"tracegroupgap\":0},\"title\":{\"text\":\"N\\u00famero de noticias reales por t\\u00f3pico\"},\"barmode\":\"stack\"},                        {\"responsive\": true}                    ).then(function(){\n",
              "                            \n",
              "var gd = document.getElementById('9a2a17f3-7a45-477d-aee7-5513c67f04b7');\n",
              "var x = new MutationObserver(function (mutations, observer) {{\n",
              "        var display = window.getComputedStyle(gd).display;\n",
              "        if (!display || display === 'none') {{\n",
              "            console.log([gd, 'removed!']);\n",
              "            Plotly.purge(gd);\n",
              "            observer.disconnect();\n",
              "        }}\n",
              "}});\n",
              "\n",
              "// Listen for the removal of the full notebook cells\n",
              "var notebookContainer = gd.closest('#notebook-container');\n",
              "if (notebookContainer) {{\n",
              "    x.observe(notebookContainer, {childList: true});\n",
              "}}\n",
              "\n",
              "// Listen for the clearing of the current output cell\n",
              "var outputEl = gd.closest('.output');\n",
              "if (outputEl) {{\n",
              "    x.observe(outputEl, {childList: true});\n",
              "}}\n",
              "\n",
              "                        })                };                            </script>        </div>\n",
              "</body>\n",
              "</html>"
            ]
          },
          "metadata": {},
          "output_type": "display_data"
        }
      ],
      "source": [
        "# Número de noticias por tópico\n",
        "dfg=news_false.groupby('subject').count().reset_index()\n",
        "fig = px.bar(dfg, x='subject', y = 'title', title = 'Número de noticias reales por tópico', color = 'title', barmode = 'stack',\n",
        "              labels={'subject':'Tópico de la noticia','title':'Número de noticias'})\n",
        "fig.show()"
      ]
    },
    {
      "cell_type": "code",
      "execution_count": null,
      "metadata": {
        "colab": {
          "base_uri": "https://localhost:8080/"
        },
        "id": "BKCrc6sGiGD1",
        "outputId": "7dc413b6-7716-4e8e-959d-74cf69ca62cd"
      },
      "outputs": [
        {
          "name": "stdout",
          "output_type": "stream",
          "text": [
            "9350                                         Nov 26, 2017\n",
            "9351                                         Nov 26, 2017\n",
            "9352                                         Nov 26, 2017\n",
            "9353                                         Nov 25, 2017\n",
            "9354                                         Nov 25, 2017\n",
            "9355                                         Nov 25, 2017\n",
            "9356                                         Nov 25, 2017\n",
            "9357                                         Nov 25, 2017\n",
            "9358    https://100percentfedup.com/served-roy-moore-v...\n",
            "9359                                         Nov 25, 2017\n",
            "9360                                         Nov 24, 2017\n",
            "9361                                         Nov 24, 2017\n",
            "9362                                         Nov 24, 2017\n",
            "9363                                         Nov 23, 2017\n",
            "9364                                         Nov 23, 2017\n",
            "9365                                         Nov 22, 2017\n",
            "9366                                         Nov 22, 2017\n",
            "9367                                         Nov 22, 2017\n",
            "9368                                         Nov 22, 2017\n",
            "9369                                         Nov 21, 2017\n",
            "9370                                         Nov 21, 2017\n",
            "9371                                         Nov 21, 2017\n",
            "9372                                         Nov 21, 2017\n",
            "9373                                         Nov 21, 2017\n",
            "9374                                         Nov 21, 2017\n",
            "9375                                         Nov 21, 2017\n",
            "9376                                         Nov 21, 2017\n",
            "9377                                         Nov 21, 2017\n",
            "9378                                         Nov 21, 2017\n",
            "9379                                         Nov 21, 2017\n",
            "9380                                         Nov 20, 2017\n",
            "9381                                         Nov 20, 2017\n",
            "9382                                         Nov 20, 2017\n",
            "9383                                         Nov 20, 2017\n",
            "9384                                         Nov 20, 2017\n",
            "9385                                         Nov 20, 2017\n",
            "9386                                         Nov 20, 2017\n",
            "9387                                         Nov 20, 2017\n",
            "9388                                         Nov 19, 2017\n",
            "9389                                         Nov 19, 2017\n",
            "9390                                         Nov 19, 2017\n",
            "9391                                         Nov 19, 2017\n",
            "9392                                         Nov 19, 2017\n",
            "9393                                         Nov 19, 2017\n",
            "9394                                         Nov 19, 2017\n",
            "9395                                         Nov 19, 2017\n",
            "9396                                         Nov 19, 2017\n",
            "9397                                         Nov 18, 2017\n",
            "9398                                         Nov 18, 2017\n",
            "9399                                         Nov 18, 2017\n",
            "Name: date, dtype: object\n"
          ]
        }
      ],
      "source": [
        "# Análisis exploratorio del campo date, al encontrarse que no todas las filas tienen una fecha en esa columna\n",
        "serie = news_false.iloc[9350:9400,3]\n",
        "print(serie)"
      ]
    },
    {
      "cell_type": "code",
      "execution_count": null,
      "metadata": {
        "colab": {
          "base_uri": "https://localhost:8080/"
        },
        "id": "XLOVlfh1i5OO",
        "outputId": "ada7ba86-727d-4509-8da5-b03c667b60fb"
      },
      "outputs": [
        {
          "name": "stdout",
          "output_type": "stream",
          "text": [
            "https://100percentfedup.com/served-roy-moore-vietnamletter-veteran-sets-record-straight-honorable-decent-respectable-patriotic-commander-soldier/\n"
          ]
        }
      ],
      "source": [
        "# Ejemplo de uno de los registros y lo que aparece registrado en ese campo\n",
        "serie9358 = news_false.iloc[9358,:]\n",
        "print(serie9358[3])"
      ]
    },
    {
      "cell_type": "code",
      "execution_count": null,
      "metadata": {
        "id": "gT_4OheRKBZd"
      },
      "outputs": [],
      "source": [
        "# Convertir el formato de la columna date a datetime\n",
        "news_false['date_new'] = pd.to_datetime(news_false['date'], infer_datetime_format=True, errors='coerce')"
      ]
    },
    {
      "cell_type": "code",
      "execution_count": null,
      "metadata": {
        "colab": {
          "base_uri": "https://localhost:8080/"
        },
        "id": "Sh9sF6CVKVUa",
        "outputId": "5f58bdbc-dd25-44ba-a209-0ee74b9826b2"
      },
      "outputs": [
        {
          "name": "stdout",
          "output_type": "stream",
          "text": [
            "<class 'pandas.core.frame.DataFrame'>\n",
            "RangeIndex: 23481 entries, 0 to 23480\n",
            "Data columns (total 5 columns):\n",
            " #   Column    Non-Null Count  Dtype         \n",
            "---  ------    --------------  -----         \n",
            " 0   title     23481 non-null  object        \n",
            " 1   text      23481 non-null  object        \n",
            " 2   subject   23481 non-null  object        \n",
            " 3   date      23481 non-null  object        \n",
            " 4   date_new  11868 non-null  datetime64[ns]\n",
            "dtypes: datetime64[ns](1), object(4)\n",
            "memory usage: 917.4+ KB\n"
          ]
        }
      ],
      "source": [
        "news_false.info()"
      ]
    },
    {
      "cell_type": "code",
      "execution_count": null,
      "metadata": {
        "colab": {
          "base_uri": "https://localhost:8080/"
        },
        "id": "D1goDZLPLOBD",
        "outputId": "6a6164a6-5ddd-4bea-df7f-e8b1e48e8008"
      },
      "outputs": [
        {
          "data": {
            "text/plain": [
              "array(['2017-12-31T00:00:00.000000000', '2017-12-30T00:00:00.000000000',\n",
              "       '2017-12-29T00:00:00.000000000', '2017-12-25T00:00:00.000000000',\n",
              "       '2017-12-23T00:00:00.000000000', '2017-12-22T00:00:00.000000000',\n",
              "       '2017-12-21T00:00:00.000000000', '2017-12-20T00:00:00.000000000',\n",
              "       '2017-12-19T00:00:00.000000000', '2017-12-17T00:00:00.000000000',\n",
              "       '2017-12-16T00:00:00.000000000', '2017-12-13T00:00:00.000000000',\n",
              "       '2017-12-12T00:00:00.000000000', '2017-12-11T00:00:00.000000000',\n",
              "       '2017-12-10T00:00:00.000000000', '2017-12-09T00:00:00.000000000',\n",
              "       '2017-12-07T00:00:00.000000000', '2017-12-06T00:00:00.000000000',\n",
              "       '2017-12-05T00:00:00.000000000', '2017-12-04T00:00:00.000000000',\n",
              "       '2017-12-03T00:00:00.000000000', '2017-12-02T00:00:00.000000000',\n",
              "       '2017-12-01T00:00:00.000000000', '2017-11-30T00:00:00.000000000',\n",
              "       '2017-11-29T00:00:00.000000000', '2017-11-28T00:00:00.000000000',\n",
              "       '2017-11-27T00:00:00.000000000', '2017-11-26T00:00:00.000000000',\n",
              "       '2017-11-25T00:00:00.000000000', '2017-11-24T00:00:00.000000000',\n",
              "       '2017-11-23T00:00:00.000000000', '2017-11-22T00:00:00.000000000',\n",
              "       '2017-11-21T00:00:00.000000000', '2017-11-20T00:00:00.000000000',\n",
              "       '2017-11-19T00:00:00.000000000', '2017-11-18T00:00:00.000000000',\n",
              "       '2017-11-17T00:00:00.000000000', '2017-11-16T00:00:00.000000000',\n",
              "       '2017-11-15T00:00:00.000000000', '2017-11-14T00:00:00.000000000',\n",
              "       '2017-11-13T00:00:00.000000000', '2017-11-12T00:00:00.000000000',\n",
              "       '2017-11-11T00:00:00.000000000', '2017-11-10T00:00:00.000000000',\n",
              "       '2017-11-09T00:00:00.000000000', '2017-11-08T00:00:00.000000000',\n",
              "       '2017-11-07T00:00:00.000000000', '2017-11-06T00:00:00.000000000',\n",
              "       '2017-11-05T00:00:00.000000000', '2017-11-04T00:00:00.000000000',\n",
              "       '2017-11-03T00:00:00.000000000', '2017-11-02T00:00:00.000000000',\n",
              "       '2017-11-01T00:00:00.000000000', '2017-10-31T00:00:00.000000000',\n",
              "       '2017-10-30T00:00:00.000000000', '2017-10-29T00:00:00.000000000',\n",
              "       '2017-10-28T00:00:00.000000000', '2017-10-27T00:00:00.000000000',\n",
              "       '2017-10-26T00:00:00.000000000', '2017-10-25T00:00:00.000000000',\n",
              "       '2017-10-24T00:00:00.000000000', '2017-10-23T00:00:00.000000000',\n",
              "       '2017-10-22T00:00:00.000000000', '2017-10-21T00:00:00.000000000',\n",
              "       '2017-10-20T00:00:00.000000000', '2017-10-19T00:00:00.000000000',\n",
              "       '2017-10-18T00:00:00.000000000', '2017-10-17T00:00:00.000000000',\n",
              "       '2017-10-16T00:00:00.000000000', '2017-10-15T00:00:00.000000000',\n",
              "       '2017-10-14T00:00:00.000000000', '2017-10-13T00:00:00.000000000',\n",
              "       '2017-10-12T00:00:00.000000000', '2017-10-11T00:00:00.000000000',\n",
              "       '2017-10-10T00:00:00.000000000', '2017-10-09T00:00:00.000000000',\n",
              "       '2017-10-08T00:00:00.000000000', '2017-10-07T00:00:00.000000000',\n",
              "       '2017-10-06T00:00:00.000000000', '2017-10-05T00:00:00.000000000',\n",
              "       '2017-10-04T00:00:00.000000000', '2017-10-03T00:00:00.000000000',\n",
              "       '2017-10-02T00:00:00.000000000', '2017-10-01T00:00:00.000000000',\n",
              "       '2017-09-30T00:00:00.000000000', '2017-09-29T00:00:00.000000000',\n",
              "       '2017-09-28T00:00:00.000000000', '2017-09-27T00:00:00.000000000',\n",
              "       '2017-09-26T00:00:00.000000000', '2017-09-25T00:00:00.000000000',\n",
              "       '2017-09-24T00:00:00.000000000', '2017-09-23T00:00:00.000000000',\n",
              "       '2017-09-22T00:00:00.000000000', '2017-09-21T00:00:00.000000000',\n",
              "       '2017-09-20T00:00:00.000000000', '2017-09-19T00:00:00.000000000',\n",
              "       '2017-09-18T00:00:00.000000000', '2017-09-17T00:00:00.000000000',\n",
              "       '2017-09-16T00:00:00.000000000', '2017-09-15T00:00:00.000000000',\n",
              "       '2017-09-14T00:00:00.000000000', '2017-09-13T00:00:00.000000000',\n",
              "       '2017-09-12T00:00:00.000000000', '2017-09-11T00:00:00.000000000',\n",
              "       '2017-09-10T00:00:00.000000000', '2017-09-09T00:00:00.000000000',\n",
              "       '2017-09-08T00:00:00.000000000', '2017-09-07T00:00:00.000000000',\n",
              "       '2017-09-06T00:00:00.000000000', '2017-09-05T00:00:00.000000000',\n",
              "       '2017-09-04T00:00:00.000000000', '2017-09-03T00:00:00.000000000',\n",
              "       '2017-09-02T00:00:00.000000000', '2017-09-01T00:00:00.000000000',\n",
              "       '2017-08-31T00:00:00.000000000', '2017-08-30T00:00:00.000000000',\n",
              "       '2017-08-29T00:00:00.000000000', '2017-08-28T00:00:00.000000000',\n",
              "       '2017-08-27T00:00:00.000000000', '2017-08-26T00:00:00.000000000',\n",
              "       '2017-08-25T00:00:00.000000000', '2017-08-24T00:00:00.000000000',\n",
              "       '2017-08-23T00:00:00.000000000', '2017-08-22T00:00:00.000000000',\n",
              "       '2017-08-21T00:00:00.000000000', '2017-08-20T00:00:00.000000000',\n",
              "       '2017-08-19T00:00:00.000000000', '2017-08-18T00:00:00.000000000',\n",
              "       '2017-08-17T00:00:00.000000000', '2017-08-16T00:00:00.000000000',\n",
              "       '2017-08-15T00:00:00.000000000', '2017-08-14T00:00:00.000000000',\n",
              "       '2017-08-13T00:00:00.000000000', '2017-08-12T00:00:00.000000000',\n",
              "       '2017-08-11T00:00:00.000000000', '2017-08-10T00:00:00.000000000',\n",
              "       '2017-08-09T00:00:00.000000000', '2017-08-08T00:00:00.000000000',\n",
              "       '2017-08-07T00:00:00.000000000', '2017-08-06T00:00:00.000000000',\n",
              "       '2017-08-05T00:00:00.000000000', '2017-08-04T00:00:00.000000000',\n",
              "       '2017-08-03T00:00:00.000000000', '2017-08-02T00:00:00.000000000',\n",
              "       '2017-08-01T00:00:00.000000000', '2017-07-31T00:00:00.000000000',\n",
              "       '2017-07-30T00:00:00.000000000', '2017-07-29T00:00:00.000000000',\n",
              "       '2017-07-28T00:00:00.000000000', '2017-07-27T00:00:00.000000000',\n",
              "       '2017-07-26T00:00:00.000000000', '2017-07-25T00:00:00.000000000',\n",
              "       '2017-07-24T00:00:00.000000000', '2017-07-23T00:00:00.000000000',\n",
              "       '2017-07-22T00:00:00.000000000', '2017-07-21T00:00:00.000000000',\n",
              "       '2017-07-20T00:00:00.000000000', '2017-07-19T00:00:00.000000000',\n",
              "       '2017-07-18T00:00:00.000000000', '2017-07-17T00:00:00.000000000',\n",
              "       '2017-07-16T00:00:00.000000000', '2017-07-15T00:00:00.000000000',\n",
              "       '2017-07-14T00:00:00.000000000', '2017-07-13T00:00:00.000000000',\n",
              "       '2017-07-12T00:00:00.000000000', '2017-07-11T00:00:00.000000000',\n",
              "       '2017-07-10T00:00:00.000000000', '2017-07-09T00:00:00.000000000',\n",
              "       '2017-07-08T00:00:00.000000000', '2017-07-07T00:00:00.000000000',\n",
              "       '2017-07-06T00:00:00.000000000', '2017-07-05T00:00:00.000000000',\n",
              "       '2017-07-04T00:00:00.000000000', '2017-07-03T00:00:00.000000000',\n",
              "       '2017-07-02T00:00:00.000000000', '2017-07-01T00:00:00.000000000',\n",
              "       '2017-06-30T00:00:00.000000000', '2017-06-29T00:00:00.000000000',\n",
              "       '2017-06-28T00:00:00.000000000', '2017-06-27T00:00:00.000000000',\n",
              "       '2017-06-26T00:00:00.000000000', '2017-06-25T00:00:00.000000000',\n",
              "       '2017-06-24T00:00:00.000000000', '2017-06-23T00:00:00.000000000',\n",
              "       '2017-06-22T00:00:00.000000000', '2017-06-21T00:00:00.000000000',\n",
              "       '2017-06-20T00:00:00.000000000', '2017-06-19T00:00:00.000000000',\n",
              "       '2017-06-18T00:00:00.000000000', '2017-06-17T00:00:00.000000000',\n",
              "       '2017-06-16T00:00:00.000000000', '2017-06-15T00:00:00.000000000',\n",
              "       '2017-06-14T00:00:00.000000000', '2017-06-13T00:00:00.000000000',\n",
              "       '2017-06-12T00:00:00.000000000', '2017-06-11T00:00:00.000000000',\n",
              "       '2017-06-10T00:00:00.000000000', '2017-06-09T00:00:00.000000000',\n",
              "       '2017-06-08T00:00:00.000000000', '2017-06-07T00:00:00.000000000',\n",
              "       '2017-06-06T00:00:00.000000000', '2017-06-05T00:00:00.000000000',\n",
              "       '2017-06-04T00:00:00.000000000', '2017-06-03T00:00:00.000000000',\n",
              "       '2017-06-02T00:00:00.000000000', '2017-06-01T00:00:00.000000000',\n",
              "       '2017-05-31T00:00:00.000000000', '2017-05-30T00:00:00.000000000',\n",
              "       '2017-05-29T00:00:00.000000000', '2017-05-28T00:00:00.000000000',\n",
              "       '2017-05-27T00:00:00.000000000', '2017-05-26T00:00:00.000000000',\n",
              "       '2017-05-25T00:00:00.000000000', '2017-05-24T00:00:00.000000000',\n",
              "       '2017-05-23T00:00:00.000000000', '2017-05-22T00:00:00.000000000',\n",
              "       '2017-05-21T00:00:00.000000000', '2017-05-20T00:00:00.000000000',\n",
              "       '2017-05-19T00:00:00.000000000', '2017-05-18T00:00:00.000000000',\n",
              "       '2017-05-17T00:00:00.000000000', '2017-05-16T00:00:00.000000000',\n",
              "       '2017-05-15T00:00:00.000000000', '2017-05-14T00:00:00.000000000',\n",
              "       '2017-05-13T00:00:00.000000000', '2017-05-12T00:00:00.000000000',\n",
              "       '2017-05-11T00:00:00.000000000', '2017-05-10T00:00:00.000000000',\n",
              "       '2017-05-09T00:00:00.000000000', '2017-05-08T00:00:00.000000000',\n",
              "       '2017-05-07T00:00:00.000000000', '2017-05-06T00:00:00.000000000',\n",
              "       '2017-05-05T00:00:00.000000000', '2017-05-04T00:00:00.000000000',\n",
              "       '2017-05-03T00:00:00.000000000', '2017-05-02T00:00:00.000000000',\n",
              "       '2017-05-01T00:00:00.000000000', '2017-04-30T00:00:00.000000000',\n",
              "       '2017-04-29T00:00:00.000000000', '2017-04-28T00:00:00.000000000',\n",
              "       '2017-04-27T00:00:00.000000000', '2017-04-26T00:00:00.000000000',\n",
              "       '2017-04-25T00:00:00.000000000', '2017-04-24T00:00:00.000000000',\n",
              "       '2017-04-23T00:00:00.000000000', '2017-04-22T00:00:00.000000000',\n",
              "       '2017-04-21T00:00:00.000000000', '2017-04-20T00:00:00.000000000',\n",
              "       '2017-04-19T00:00:00.000000000', '2017-04-18T00:00:00.000000000',\n",
              "       '2017-04-17T00:00:00.000000000', '2017-04-16T00:00:00.000000000',\n",
              "       '2017-04-15T00:00:00.000000000', '2017-04-14T00:00:00.000000000',\n",
              "       '2017-04-13T00:00:00.000000000', '2017-04-12T00:00:00.000000000',\n",
              "       '2017-04-11T00:00:00.000000000', '2017-04-10T00:00:00.000000000',\n",
              "       '2017-04-09T00:00:00.000000000', '2017-04-08T00:00:00.000000000',\n",
              "       '2017-04-07T00:00:00.000000000', '2017-04-06T00:00:00.000000000',\n",
              "       '2017-04-05T00:00:00.000000000', '2017-04-04T00:00:00.000000000',\n",
              "       '2017-04-03T00:00:00.000000000', '2017-04-02T00:00:00.000000000',\n",
              "       '2017-04-01T00:00:00.000000000', '2017-03-31T00:00:00.000000000',\n",
              "       '2017-03-30T00:00:00.000000000', '2017-03-29T00:00:00.000000000',\n",
              "       '2017-03-28T00:00:00.000000000', '2017-03-27T00:00:00.000000000',\n",
              "       '2017-03-26T00:00:00.000000000', '2017-03-25T00:00:00.000000000',\n",
              "       '2017-03-24T00:00:00.000000000', '2017-03-23T00:00:00.000000000',\n",
              "       '2017-03-22T00:00:00.000000000', '2017-03-21T00:00:00.000000000',\n",
              "       '2017-03-20T00:00:00.000000000', '2017-03-19T00:00:00.000000000',\n",
              "       '2017-03-18T00:00:00.000000000', '2017-03-17T00:00:00.000000000',\n",
              "       '2017-03-16T00:00:00.000000000', '2017-03-15T00:00:00.000000000',\n",
              "       '2017-03-14T00:00:00.000000000', '2017-03-13T00:00:00.000000000',\n",
              "       '2017-03-12T00:00:00.000000000', '2017-03-11T00:00:00.000000000',\n",
              "       '2017-03-10T00:00:00.000000000', '2017-03-09T00:00:00.000000000',\n",
              "       '2017-03-08T00:00:00.000000000', '2017-03-07T00:00:00.000000000',\n",
              "       '2017-03-06T00:00:00.000000000', '2017-03-05T00:00:00.000000000',\n",
              "       '2017-03-04T00:00:00.000000000', '2017-03-03T00:00:00.000000000',\n",
              "       '2017-03-02T00:00:00.000000000', '2017-03-01T00:00:00.000000000',\n",
              "       '2017-02-28T00:00:00.000000000', '2017-02-27T00:00:00.000000000',\n",
              "       '2017-02-26T00:00:00.000000000', '2017-02-25T00:00:00.000000000',\n",
              "       '2017-02-24T00:00:00.000000000', '2017-02-23T00:00:00.000000000',\n",
              "       '2017-02-22T00:00:00.000000000', '2017-02-21T00:00:00.000000000',\n",
              "       '2017-02-20T00:00:00.000000000', '2017-02-19T00:00:00.000000000',\n",
              "       '2017-02-18T00:00:00.000000000', '2017-02-17T00:00:00.000000000',\n",
              "       '2017-02-16T00:00:00.000000000', '2017-02-15T00:00:00.000000000',\n",
              "       '2017-02-14T00:00:00.000000000', '2017-02-13T00:00:00.000000000',\n",
              "       '2017-02-12T00:00:00.000000000', '2017-02-11T00:00:00.000000000',\n",
              "       '2017-02-10T00:00:00.000000000', '2017-02-09T00:00:00.000000000',\n",
              "       '2017-02-08T00:00:00.000000000', '2017-02-07T00:00:00.000000000',\n",
              "       '2017-02-06T00:00:00.000000000', '2017-02-05T00:00:00.000000000',\n",
              "       '2017-02-04T00:00:00.000000000', '2017-02-03T00:00:00.000000000',\n",
              "       '2017-02-02T00:00:00.000000000', '2017-02-01T00:00:00.000000000',\n",
              "       '2017-01-31T00:00:00.000000000', '2017-01-30T00:00:00.000000000',\n",
              "       '2017-01-29T00:00:00.000000000', '2017-01-28T00:00:00.000000000',\n",
              "       '2017-01-27T00:00:00.000000000', '2017-01-26T00:00:00.000000000',\n",
              "       '2017-01-25T00:00:00.000000000', '2017-01-24T00:00:00.000000000',\n",
              "       '2017-01-23T00:00:00.000000000', '2017-01-22T00:00:00.000000000',\n",
              "       '2017-01-21T00:00:00.000000000', '2017-01-20T00:00:00.000000000',\n",
              "       '2017-01-19T00:00:00.000000000', '2017-01-18T00:00:00.000000000',\n",
              "       '2017-01-17T00:00:00.000000000', '2017-01-16T00:00:00.000000000',\n",
              "       '2017-01-15T00:00:00.000000000', '2017-01-14T00:00:00.000000000',\n",
              "       '2017-01-13T00:00:00.000000000', '2017-01-12T00:00:00.000000000',\n",
              "       '2017-01-11T00:00:00.000000000', '2017-01-10T00:00:00.000000000',\n",
              "       '2017-01-09T00:00:00.000000000', '2017-01-08T00:00:00.000000000',\n",
              "       '2017-01-07T00:00:00.000000000', '2017-01-06T00:00:00.000000000',\n",
              "       '2017-01-05T00:00:00.000000000', '2017-01-04T00:00:00.000000000',\n",
              "       '2017-01-03T00:00:00.000000000', '2017-01-02T00:00:00.000000000',\n",
              "       '2017-01-01T00:00:00.000000000', '2016-12-31T00:00:00.000000000',\n",
              "       '2016-12-30T00:00:00.000000000', '2016-12-29T00:00:00.000000000',\n",
              "       '2016-12-28T00:00:00.000000000', '2016-12-27T00:00:00.000000000',\n",
              "       '2016-12-26T00:00:00.000000000', '2016-12-25T00:00:00.000000000',\n",
              "       '2016-12-24T00:00:00.000000000', '2016-12-23T00:00:00.000000000',\n",
              "       '2016-12-22T00:00:00.000000000', '2016-12-21T00:00:00.000000000',\n",
              "       '2016-12-20T00:00:00.000000000', '2016-12-19T00:00:00.000000000',\n",
              "       '2016-12-18T00:00:00.000000000', '2016-12-17T00:00:00.000000000',\n",
              "       '2016-12-16T00:00:00.000000000', '2016-12-15T00:00:00.000000000',\n",
              "       '2016-12-14T00:00:00.000000000', '2016-12-13T00:00:00.000000000',\n",
              "       '2016-12-12T00:00:00.000000000', '2016-12-11T00:00:00.000000000',\n",
              "       '2016-12-10T00:00:00.000000000', '2016-12-09T00:00:00.000000000',\n",
              "       '2016-12-08T00:00:00.000000000', '2016-12-07T00:00:00.000000000',\n",
              "       '2016-12-06T00:00:00.000000000', '2016-12-05T00:00:00.000000000',\n",
              "       '2016-12-04T00:00:00.000000000', '2016-12-03T00:00:00.000000000',\n",
              "       '2016-12-02T00:00:00.000000000', '2016-12-01T00:00:00.000000000',\n",
              "       '2016-11-30T00:00:00.000000000', '2016-11-29T00:00:00.000000000',\n",
              "       '2016-11-28T00:00:00.000000000', '2016-11-27T00:00:00.000000000',\n",
              "       '2016-11-26T00:00:00.000000000', '2016-11-25T00:00:00.000000000',\n",
              "       '2016-11-24T00:00:00.000000000', '2016-11-23T00:00:00.000000000',\n",
              "       '2016-11-22T00:00:00.000000000', '2016-11-21T00:00:00.000000000',\n",
              "       '2016-11-20T00:00:00.000000000', '2016-11-19T00:00:00.000000000',\n",
              "       '2016-11-18T00:00:00.000000000', '2016-11-17T00:00:00.000000000',\n",
              "       '2016-11-16T00:00:00.000000000', '2016-11-15T00:00:00.000000000',\n",
              "       '2016-11-14T00:00:00.000000000', '2016-11-13T00:00:00.000000000',\n",
              "       '2016-11-12T00:00:00.000000000', '2016-11-11T00:00:00.000000000',\n",
              "       '2016-11-10T00:00:00.000000000', '2016-11-09T00:00:00.000000000',\n",
              "       '2016-11-08T00:00:00.000000000', '2016-11-07T00:00:00.000000000',\n",
              "       '2016-11-06T00:00:00.000000000', '2016-11-05T00:00:00.000000000',\n",
              "       '2016-11-04T00:00:00.000000000', '2016-11-03T00:00:00.000000000',\n",
              "       '2016-11-02T00:00:00.000000000', '2016-11-01T00:00:00.000000000',\n",
              "       '2016-10-31T00:00:00.000000000', '2016-10-30T00:00:00.000000000',\n",
              "       '2016-10-29T00:00:00.000000000', '2016-10-28T00:00:00.000000000',\n",
              "       '2016-10-27T00:00:00.000000000', '2016-10-26T00:00:00.000000000',\n",
              "       '2016-10-25T00:00:00.000000000', '2016-10-24T00:00:00.000000000',\n",
              "       '2016-10-23T00:00:00.000000000', '2016-10-22T00:00:00.000000000',\n",
              "       '2016-10-21T00:00:00.000000000', '2016-10-20T00:00:00.000000000',\n",
              "       '2016-10-19T00:00:00.000000000', '2016-10-18T00:00:00.000000000',\n",
              "       '2016-10-17T00:00:00.000000000', '2016-10-16T00:00:00.000000000',\n",
              "       '2016-10-15T00:00:00.000000000', '2016-10-14T00:00:00.000000000',\n",
              "       '2016-10-13T00:00:00.000000000', '2016-10-12T00:00:00.000000000',\n",
              "       '2016-10-11T00:00:00.000000000', '2016-10-10T00:00:00.000000000',\n",
              "       '2016-10-09T00:00:00.000000000', '2016-10-08T00:00:00.000000000',\n",
              "       '2016-10-07T00:00:00.000000000', '2016-10-06T00:00:00.000000000',\n",
              "       '2016-10-05T00:00:00.000000000', '2016-10-04T00:00:00.000000000',\n",
              "       '2016-10-03T00:00:00.000000000', '2016-10-02T00:00:00.000000000',\n",
              "       '2016-10-01T00:00:00.000000000', '2016-09-30T00:00:00.000000000',\n",
              "       '2016-09-29T00:00:00.000000000', '2016-09-28T00:00:00.000000000',\n",
              "       '2016-09-27T00:00:00.000000000', '2016-09-26T00:00:00.000000000',\n",
              "       '2016-09-25T00:00:00.000000000', '2016-09-24T00:00:00.000000000',\n",
              "       '2016-09-23T00:00:00.000000000', '2016-09-22T00:00:00.000000000',\n",
              "       '2016-09-21T00:00:00.000000000', '2016-09-20T00:00:00.000000000',\n",
              "       '2016-09-19T00:00:00.000000000', '2016-09-18T00:00:00.000000000',\n",
              "       '2016-09-17T00:00:00.000000000', '2016-09-16T00:00:00.000000000',\n",
              "       '2016-09-15T00:00:00.000000000', '2016-09-14T00:00:00.000000000',\n",
              "       '2016-09-13T00:00:00.000000000', '2016-09-12T00:00:00.000000000',\n",
              "       '2016-09-11T00:00:00.000000000', '2016-09-10T00:00:00.000000000',\n",
              "       '2016-09-09T00:00:00.000000000', '2016-09-08T00:00:00.000000000',\n",
              "       '2016-09-07T00:00:00.000000000', '2016-09-06T00:00:00.000000000',\n",
              "       '2016-09-05T00:00:00.000000000', '2016-09-04T00:00:00.000000000',\n",
              "       '2016-09-03T00:00:00.000000000', '2016-09-02T00:00:00.000000000',\n",
              "       '2016-09-01T00:00:00.000000000', '2016-08-31T00:00:00.000000000',\n",
              "       '2016-08-30T00:00:00.000000000', '2016-08-29T00:00:00.000000000',\n",
              "       '2016-08-28T00:00:00.000000000', '2016-08-27T00:00:00.000000000',\n",
              "       '2016-08-26T00:00:00.000000000', '2016-08-25T00:00:00.000000000',\n",
              "       '2016-08-24T00:00:00.000000000', '2016-08-23T00:00:00.000000000',\n",
              "       '2016-08-22T00:00:00.000000000', '2016-08-21T00:00:00.000000000',\n",
              "       '2016-08-20T00:00:00.000000000', '2016-08-19T00:00:00.000000000',\n",
              "       '2016-08-18T00:00:00.000000000', '2016-08-17T00:00:00.000000000',\n",
              "       '2016-08-16T00:00:00.000000000', '2016-08-15T00:00:00.000000000',\n",
              "       '2016-08-14T00:00:00.000000000', '2016-08-13T00:00:00.000000000',\n",
              "       '2016-08-12T00:00:00.000000000', '2016-08-11T00:00:00.000000000',\n",
              "       '2016-08-10T00:00:00.000000000', '2016-08-09T00:00:00.000000000',\n",
              "       '2016-08-08T00:00:00.000000000', '2016-08-07T00:00:00.000000000',\n",
              "       '2016-08-06T00:00:00.000000000', '2016-08-05T00:00:00.000000000',\n",
              "       '2016-08-04T00:00:00.000000000', '2016-08-03T00:00:00.000000000',\n",
              "       '2016-08-02T00:00:00.000000000', '2016-08-01T00:00:00.000000000',\n",
              "       '2016-07-31T00:00:00.000000000', '2016-07-30T00:00:00.000000000',\n",
              "       '2016-07-29T00:00:00.000000000', '2016-07-28T00:00:00.000000000',\n",
              "       '2016-07-27T00:00:00.000000000', '2016-07-26T00:00:00.000000000',\n",
              "       '2016-07-25T00:00:00.000000000', '2016-07-24T00:00:00.000000000',\n",
              "       '2016-07-23T00:00:00.000000000', '2016-07-22T00:00:00.000000000',\n",
              "       '2016-07-21T00:00:00.000000000', '2016-07-20T00:00:00.000000000',\n",
              "       '2016-07-19T00:00:00.000000000', '2016-07-18T00:00:00.000000000',\n",
              "       '2016-07-17T00:00:00.000000000', '2016-07-16T00:00:00.000000000',\n",
              "       '2016-07-15T00:00:00.000000000', '2016-07-14T00:00:00.000000000',\n",
              "       '2016-07-13T00:00:00.000000000', '2016-07-12T00:00:00.000000000',\n",
              "       '2016-07-11T00:00:00.000000000', '2016-07-10T00:00:00.000000000',\n",
              "       '2016-07-09T00:00:00.000000000', '2016-07-08T00:00:00.000000000',\n",
              "       '2016-07-07T00:00:00.000000000', '2016-07-06T00:00:00.000000000',\n",
              "       '2016-07-05T00:00:00.000000000', '2016-07-04T00:00:00.000000000',\n",
              "       '2016-07-03T00:00:00.000000000', '2016-07-02T00:00:00.000000000',\n",
              "       '2016-07-01T00:00:00.000000000', '2016-06-30T00:00:00.000000000',\n",
              "       '2016-06-29T00:00:00.000000000', '2016-06-28T00:00:00.000000000',\n",
              "       '2016-06-27T00:00:00.000000000', '2016-06-26T00:00:00.000000000',\n",
              "       '2016-06-25T00:00:00.000000000', '2016-06-24T00:00:00.000000000',\n",
              "       '2016-06-23T00:00:00.000000000', '2016-06-22T00:00:00.000000000',\n",
              "       '2016-06-21T00:00:00.000000000', '2016-06-20T00:00:00.000000000',\n",
              "       '2016-06-19T00:00:00.000000000', '2016-06-18T00:00:00.000000000',\n",
              "       '2016-06-17T00:00:00.000000000', '2016-06-16T00:00:00.000000000',\n",
              "       '2016-06-15T00:00:00.000000000', '2016-06-14T00:00:00.000000000',\n",
              "       '2016-06-13T00:00:00.000000000', '2016-06-12T00:00:00.000000000',\n",
              "       '2016-06-11T00:00:00.000000000', '2016-06-10T00:00:00.000000000',\n",
              "       '2016-06-09T00:00:00.000000000', '2016-06-08T00:00:00.000000000',\n",
              "       '2016-06-07T00:00:00.000000000', '2016-06-06T00:00:00.000000000',\n",
              "       '2016-06-05T00:00:00.000000000', '2016-06-04T00:00:00.000000000',\n",
              "       '2016-06-03T00:00:00.000000000', '2016-06-02T00:00:00.000000000',\n",
              "       '2016-06-01T00:00:00.000000000', '2016-05-31T00:00:00.000000000',\n",
              "       '2016-05-30T00:00:00.000000000', '2016-05-29T00:00:00.000000000',\n",
              "       '2016-05-28T00:00:00.000000000', '2016-05-27T00:00:00.000000000',\n",
              "       '2016-05-26T00:00:00.000000000', '2016-05-25T00:00:00.000000000',\n",
              "       '2016-05-24T00:00:00.000000000', '2016-05-23T00:00:00.000000000',\n",
              "       '2016-05-22T00:00:00.000000000', '2016-05-21T00:00:00.000000000',\n",
              "       '2016-05-20T00:00:00.000000000', '2016-05-19T00:00:00.000000000',\n",
              "       '2016-05-18T00:00:00.000000000', '2016-05-17T00:00:00.000000000',\n",
              "       '2016-05-16T00:00:00.000000000', '2016-05-15T00:00:00.000000000',\n",
              "       '2016-05-14T00:00:00.000000000', '2016-05-13T00:00:00.000000000',\n",
              "       '2016-05-12T00:00:00.000000000', '2016-05-11T00:00:00.000000000',\n",
              "       '2016-05-10T00:00:00.000000000', '2016-05-09T00:00:00.000000000',\n",
              "       '2016-05-08T00:00:00.000000000', '2016-05-07T00:00:00.000000000',\n",
              "       '2016-05-06T00:00:00.000000000', '2016-05-05T00:00:00.000000000',\n",
              "       '2016-05-04T00:00:00.000000000', '2016-05-03T00:00:00.000000000',\n",
              "       '2016-05-02T00:00:00.000000000', '2016-05-01T00:00:00.000000000',\n",
              "       '2016-04-30T00:00:00.000000000', '2016-04-29T00:00:00.000000000',\n",
              "       '2016-04-28T00:00:00.000000000', '2016-04-27T00:00:00.000000000',\n",
              "       '2016-04-26T00:00:00.000000000', '2016-04-25T00:00:00.000000000',\n",
              "       '2016-04-24T00:00:00.000000000', '2016-04-23T00:00:00.000000000',\n",
              "       '2016-04-22T00:00:00.000000000', '2016-04-21T00:00:00.000000000',\n",
              "       '2016-04-20T00:00:00.000000000', '2016-04-19T00:00:00.000000000',\n",
              "       '2016-04-18T00:00:00.000000000', '2016-04-17T00:00:00.000000000',\n",
              "       '2016-04-16T00:00:00.000000000', '2016-04-15T00:00:00.000000000',\n",
              "       '2016-04-14T00:00:00.000000000', '2016-04-13T00:00:00.000000000',\n",
              "       '2016-04-12T00:00:00.000000000', '2016-04-11T00:00:00.000000000',\n",
              "       '2016-04-10T00:00:00.000000000', '2016-04-09T00:00:00.000000000',\n",
              "       '2016-04-08T00:00:00.000000000', '2016-04-07T00:00:00.000000000',\n",
              "       '2016-04-06T00:00:00.000000000', '2016-04-05T00:00:00.000000000',\n",
              "       '2016-04-04T00:00:00.000000000', '2016-04-03T00:00:00.000000000',\n",
              "       '2016-04-02T00:00:00.000000000', '2016-04-01T00:00:00.000000000',\n",
              "       '2016-03-31T00:00:00.000000000', '2016-03-30T00:00:00.000000000',\n",
              "       '2016-03-29T00:00:00.000000000', '2016-03-28T00:00:00.000000000',\n",
              "       '2016-03-27T00:00:00.000000000', '2016-03-26T00:00:00.000000000',\n",
              "       '2016-03-25T00:00:00.000000000', '2016-03-24T00:00:00.000000000',\n",
              "       '2016-03-23T00:00:00.000000000', '2016-03-22T00:00:00.000000000',\n",
              "       '2016-03-21T00:00:00.000000000', '2016-03-20T00:00:00.000000000',\n",
              "       '2016-03-19T00:00:00.000000000', '2016-03-18T00:00:00.000000000',\n",
              "       '2016-03-17T00:00:00.000000000', '2016-03-16T00:00:00.000000000',\n",
              "       '2016-03-15T00:00:00.000000000', '2016-03-14T00:00:00.000000000',\n",
              "       '2016-03-13T00:00:00.000000000', '2016-03-12T00:00:00.000000000',\n",
              "       '2016-03-11T00:00:00.000000000', '2016-03-10T00:00:00.000000000',\n",
              "       '2016-03-09T00:00:00.000000000', '2016-03-08T00:00:00.000000000',\n",
              "       '2016-03-07T00:00:00.000000000', '2016-03-06T00:00:00.000000000',\n",
              "       '2016-03-05T00:00:00.000000000', '2016-03-04T00:00:00.000000000',\n",
              "       '2016-03-03T00:00:00.000000000', '2016-03-02T00:00:00.000000000',\n",
              "       '2016-03-01T00:00:00.000000000', '2016-02-29T00:00:00.000000000',\n",
              "       '2016-02-28T00:00:00.000000000', '2016-02-27T00:00:00.000000000',\n",
              "       '2016-02-26T00:00:00.000000000', '2016-02-25T00:00:00.000000000',\n",
              "       '2016-02-24T00:00:00.000000000', '2016-02-23T00:00:00.000000000',\n",
              "       '2016-02-22T00:00:00.000000000', '2016-02-21T00:00:00.000000000',\n",
              "       '2016-02-20T00:00:00.000000000', '2016-02-19T00:00:00.000000000',\n",
              "       '2016-02-18T00:00:00.000000000', '2016-02-17T00:00:00.000000000',\n",
              "       '2016-02-16T00:00:00.000000000', '2016-02-15T00:00:00.000000000',\n",
              "       '2016-02-14T00:00:00.000000000', '2016-02-13T00:00:00.000000000',\n",
              "       '2016-02-12T00:00:00.000000000', '2016-02-11T00:00:00.000000000',\n",
              "       '2016-02-10T00:00:00.000000000', '2016-02-09T00:00:00.000000000',\n",
              "       '2016-02-08T00:00:00.000000000', '2016-02-07T00:00:00.000000000',\n",
              "       '2016-02-06T00:00:00.000000000', '2016-02-05T00:00:00.000000000',\n",
              "       '2016-02-04T00:00:00.000000000', '2016-02-03T00:00:00.000000000',\n",
              "       '2016-02-02T00:00:00.000000000', '2016-02-01T00:00:00.000000000',\n",
              "       '2016-01-31T00:00:00.000000000', '2016-01-30T00:00:00.000000000',\n",
              "       '2016-01-29T00:00:00.000000000', '2016-01-28T00:00:00.000000000',\n",
              "       '2016-01-27T00:00:00.000000000', '2016-01-26T00:00:00.000000000',\n",
              "       '2016-01-25T00:00:00.000000000', '2016-01-24T00:00:00.000000000',\n",
              "       '2016-01-23T00:00:00.000000000', '2016-01-22T00:00:00.000000000',\n",
              "       '2016-01-21T00:00:00.000000000', '2016-01-20T00:00:00.000000000',\n",
              "       '2016-01-19T00:00:00.000000000', '2016-01-18T00:00:00.000000000',\n",
              "       '2016-01-17T00:00:00.000000000', '2016-01-16T00:00:00.000000000',\n",
              "       '2016-01-15T00:00:00.000000000', '2016-01-14T00:00:00.000000000',\n",
              "       '2016-01-13T00:00:00.000000000', '2016-01-12T00:00:00.000000000',\n",
              "       '2016-01-11T00:00:00.000000000', '2016-01-10T00:00:00.000000000',\n",
              "       '2016-01-09T00:00:00.000000000', '2016-01-08T00:00:00.000000000',\n",
              "       '2016-01-07T00:00:00.000000000', '2016-01-06T00:00:00.000000000',\n",
              "       '2016-01-05T00:00:00.000000000', '2016-01-04T00:00:00.000000000',\n",
              "       '2016-01-03T00:00:00.000000000', '2016-01-02T00:00:00.000000000',\n",
              "       '2016-01-01T00:00:00.000000000',                           'NaT',\n",
              "       '2015-05-31T00:00:00.000000000', '2015-05-30T00:00:00.000000000',\n",
              "       '2015-05-29T00:00:00.000000000', '2015-05-28T00:00:00.000000000',\n",
              "       '2015-05-27T00:00:00.000000000', '2015-05-26T00:00:00.000000000',\n",
              "       '2015-05-25T00:00:00.000000000', '2015-05-24T00:00:00.000000000',\n",
              "       '2015-05-23T00:00:00.000000000', '2015-05-22T00:00:00.000000000',\n",
              "       '2015-05-21T00:00:00.000000000', '2015-05-20T00:00:00.000000000',\n",
              "       '2015-05-19T00:00:00.000000000', '2015-05-18T00:00:00.000000000',\n",
              "       '2015-05-17T00:00:00.000000000', '2015-05-16T00:00:00.000000000',\n",
              "       '2015-05-15T00:00:00.000000000', '2015-05-14T00:00:00.000000000',\n",
              "       '2015-05-13T00:00:00.000000000', '2015-05-12T00:00:00.000000000',\n",
              "       '2015-05-11T00:00:00.000000000', '2015-05-10T00:00:00.000000000',\n",
              "       '2015-05-09T00:00:00.000000000', '2015-05-08T00:00:00.000000000',\n",
              "       '2015-05-07T00:00:00.000000000', '2015-05-06T00:00:00.000000000',\n",
              "       '2015-05-05T00:00:00.000000000', '2015-05-04T00:00:00.000000000',\n",
              "       '2015-05-01T00:00:00.000000000', '2015-05-02T00:00:00.000000000',\n",
              "       '2017-12-28T00:00:00.000000000', '2017-12-18T00:00:00.000000000',\n",
              "       '2017-12-14T00:00:00.000000000', '2017-12-08T00:00:00.000000000'],\n",
              "      dtype='datetime64[ns]')"
            ]
          },
          "execution_count": 42,
          "metadata": {},
          "output_type": "execute_result"
        }
      ],
      "source": [
        "news_false['date_new'].unique()"
      ]
    },
    {
      "cell_type": "code",
      "execution_count": null,
      "metadata": {
        "colab": {
          "base_uri": "https://localhost:8080/",
          "height": 424
        },
        "id": "IyfeHnEGKkCb",
        "outputId": "6f73f52e-214d-4c78-8bf3-030ec831d3e9"
      },
      "outputs": [
        {
          "data": {
            "text/html": [
              "\n",
              "  <div id=\"df-5bde599d-2b80-4e9e-b7aa-035f156ed0fa\">\n",
              "    <div class=\"colab-df-container\">\n",
              "      <div>\n",
              "<style scoped>\n",
              "    .dataframe tbody tr th:only-of-type {\n",
              "        vertical-align: middle;\n",
              "    }\n",
              "\n",
              "    .dataframe tbody tr th {\n",
              "        vertical-align: top;\n",
              "    }\n",
              "\n",
              "    .dataframe thead th {\n",
              "        text-align: right;\n",
              "    }\n",
              "</style>\n",
              "<table border=\"1\" class=\"dataframe\">\n",
              "  <thead>\n",
              "    <tr style=\"text-align: right;\">\n",
              "      <th></th>\n",
              "      <th>title</th>\n",
              "      <th>text</th>\n",
              "      <th>subject</th>\n",
              "      <th>date</th>\n",
              "      <th>date_new</th>\n",
              "    </tr>\n",
              "  </thead>\n",
              "  <tbody>\n",
              "    <tr>\n",
              "      <th>9050</th>\n",
              "      <td>Democrat Senator Warns Mueller Not To Release ...</td>\n",
              "      <td>According to The Hill, Democrat Senator Bob Ca...</td>\n",
              "      <td>politics</td>\n",
              "      <td>19-Feb-18</td>\n",
              "      <td>NaT</td>\n",
              "    </tr>\n",
              "    <tr>\n",
              "      <th>9051</th>\n",
              "      <td>MSNBC ANCHOR Flabbergasted at What Texas Teach...</td>\n",
              "      <td>If we protect every other government building ...</td>\n",
              "      <td>politics</td>\n",
              "      <td>19-Feb-18</td>\n",
              "      <td>NaT</td>\n",
              "    </tr>\n",
              "    <tr>\n",
              "      <th>9052</th>\n",
              "      <td>WATCH: SNOWFLAKES ASKED Communist Party Platfo...</td>\n",
              "      <td>Ami Horowitz is fantastic! Check out this man ...</td>\n",
              "      <td>politics</td>\n",
              "      <td>19-Feb-18</td>\n",
              "      <td>NaT</td>\n",
              "    </tr>\n",
              "    <tr>\n",
              "      <th>9053</th>\n",
              "      <td>JUST IN: BADASS GENERAL JOHN KELLY Shoved Chin...</td>\n",
              "      <td>Just one more reminder of why President Trump ...</td>\n",
              "      <td>politics</td>\n",
              "      <td>18-Feb-18</td>\n",
              "      <td>NaT</td>\n",
              "    </tr>\n",
              "    <tr>\n",
              "      <th>9054</th>\n",
              "      <td>DOJ’s JEFF SESSIONS Opens Investigation Into W...</td>\n",
              "      <td>Thank goodnesss Jeff Sessions is moving on fin...</td>\n",
              "      <td>politics</td>\n",
              "      <td>18-Feb-18</td>\n",
              "      <td>NaT</td>\n",
              "    </tr>\n",
              "    <tr>\n",
              "      <th>...</th>\n",
              "      <td>...</td>\n",
              "      <td>...</td>\n",
              "      <td>...</td>\n",
              "      <td>...</td>\n",
              "      <td>...</td>\n",
              "    </tr>\n",
              "    <tr>\n",
              "      <th>9345</th>\n",
              "      <td>NORWAY’S TOUGH Immigration Minister BLASTS Swe...</td>\n",
              "      <td>Norway has a new immigration sheriff in town, ...</td>\n",
              "      <td>politics</td>\n",
              "      <td>Nov 27, 2017</td>\n",
              "      <td>NaT</td>\n",
              "    </tr>\n",
              "    <tr>\n",
              "      <th>9346</th>\n",
              "      <td>BRITISH MUSICIAN Says If He Was Given The Chan...</td>\n",
              "      <td>If this so-called celebrity said that he would...</td>\n",
              "      <td>politics</td>\n",
              "      <td>Nov 26, 2017</td>\n",
              "      <td>NaT</td>\n",
              "    </tr>\n",
              "    <tr>\n",
              "      <th>9347</th>\n",
              "      <td>LOL! DEMOCRAT CHEERLEADER Cokie Roberts Delive...</td>\n",
              "      <td>Earlier today, President Trump tweeted about t...</td>\n",
              "      <td>politics</td>\n",
              "      <td>Nov 26, 2017</td>\n",
              "      <td>NaT</td>\n",
              "    </tr>\n",
              "    <tr>\n",
              "      <th>9348</th>\n",
              "      <td>SOUTH KOREA Uses Hilarious Technique To TAUNT ...</td>\n",
              "      <td>There is no word yet, about how Rocket Man pla...</td>\n",
              "      <td>politics</td>\n",
              "      <td>Nov 26, 2017</td>\n",
              "      <td>NaT</td>\n",
              "    </tr>\n",
              "    <tr>\n",
              "      <th>9349</th>\n",
              "      <td>88-Yr Old DEMOCRAT Congressman and Accused SEX...</td>\n",
              "      <td>John Conyers, the 88-year old Democrat Congres...</td>\n",
              "      <td>politics</td>\n",
              "      <td>Nov 26, 2017</td>\n",
              "      <td>NaT</td>\n",
              "    </tr>\n",
              "  </tbody>\n",
              "</table>\n",
              "<p>300 rows × 5 columns</p>\n",
              "</div>\n",
              "      <button class=\"colab-df-convert\" onclick=\"convertToInteractive('df-5bde599d-2b80-4e9e-b7aa-035f156ed0fa')\"\n",
              "              title=\"Convert this dataframe to an interactive table.\"\n",
              "              style=\"display:none;\">\n",
              "        \n",
              "  <svg xmlns=\"http://www.w3.org/2000/svg\" height=\"24px\"viewBox=\"0 0 24 24\"\n",
              "       width=\"24px\">\n",
              "    <path d=\"M0 0h24v24H0V0z\" fill=\"none\"/>\n",
              "    <path d=\"M18.56 5.44l.94 2.06.94-2.06 2.06-.94-2.06-.94-.94-2.06-.94 2.06-2.06.94zm-11 1L8.5 8.5l.94-2.06 2.06-.94-2.06-.94L8.5 2.5l-.94 2.06-2.06.94zm10 10l.94 2.06.94-2.06 2.06-.94-2.06-.94-.94-2.06-.94 2.06-2.06.94z\"/><path d=\"M17.41 7.96l-1.37-1.37c-.4-.4-.92-.59-1.43-.59-.52 0-1.04.2-1.43.59L10.3 9.45l-7.72 7.72c-.78.78-.78 2.05 0 2.83L4 21.41c.39.39.9.59 1.41.59.51 0 1.02-.2 1.41-.59l7.78-7.78 2.81-2.81c.8-.78.8-2.07 0-2.86zM5.41 20L4 18.59l7.72-7.72 1.47 1.35L5.41 20z\"/>\n",
              "  </svg>\n",
              "      </button>\n",
              "      \n",
              "  <style>\n",
              "    .colab-df-container {\n",
              "      display:flex;\n",
              "      flex-wrap:wrap;\n",
              "      gap: 12px;\n",
              "    }\n",
              "\n",
              "    .colab-df-convert {\n",
              "      background-color: #E8F0FE;\n",
              "      border: none;\n",
              "      border-radius: 50%;\n",
              "      cursor: pointer;\n",
              "      display: none;\n",
              "      fill: #1967D2;\n",
              "      height: 32px;\n",
              "      padding: 0 0 0 0;\n",
              "      width: 32px;\n",
              "    }\n",
              "\n",
              "    .colab-df-convert:hover {\n",
              "      background-color: #E2EBFA;\n",
              "      box-shadow: 0px 1px 2px rgba(60, 64, 67, 0.3), 0px 1px 3px 1px rgba(60, 64, 67, 0.15);\n",
              "      fill: #174EA6;\n",
              "    }\n",
              "\n",
              "    [theme=dark] .colab-df-convert {\n",
              "      background-color: #3B4455;\n",
              "      fill: #D2E3FC;\n",
              "    }\n",
              "\n",
              "    [theme=dark] .colab-df-convert:hover {\n",
              "      background-color: #434B5C;\n",
              "      box-shadow: 0px 1px 3px 1px rgba(0, 0, 0, 0.15);\n",
              "      filter: drop-shadow(0px 1px 2px rgba(0, 0, 0, 0.3));\n",
              "      fill: #FFFFFF;\n",
              "    }\n",
              "  </style>\n",
              "\n",
              "      <script>\n",
              "        const buttonEl =\n",
              "          document.querySelector('#df-5bde599d-2b80-4e9e-b7aa-035f156ed0fa button.colab-df-convert');\n",
              "        buttonEl.style.display =\n",
              "          google.colab.kernel.accessAllowed ? 'block' : 'none';\n",
              "\n",
              "        async function convertToInteractive(key) {\n",
              "          const element = document.querySelector('#df-5bde599d-2b80-4e9e-b7aa-035f156ed0fa');\n",
              "          const dataTable =\n",
              "            await google.colab.kernel.invokeFunction('convertToInteractive',\n",
              "                                                     [key], {});\n",
              "          if (!dataTable) return;\n",
              "\n",
              "          const docLinkHtml = 'Like what you see? Visit the ' +\n",
              "            '<a target=\"_blank\" href=https://colab.research.google.com/notebooks/data_table.ipynb>data table notebook</a>'\n",
              "            + ' to learn more about interactive tables.';\n",
              "          element.innerHTML = '';\n",
              "          dataTable['output_type'] = 'display_data';\n",
              "          await google.colab.output.renderOutput(dataTable, element);\n",
              "          const docLink = document.createElement('div');\n",
              "          docLink.innerHTML = docLinkHtml;\n",
              "          element.appendChild(docLink);\n",
              "        }\n",
              "      </script>\n",
              "    </div>\n",
              "  </div>\n",
              "  "
            ],
            "text/plain": [
              "                                                  title  \\\n",
              "9050  Democrat Senator Warns Mueller Not To Release ...   \n",
              "9051  MSNBC ANCHOR Flabbergasted at What Texas Teach...   \n",
              "9052  WATCH: SNOWFLAKES ASKED Communist Party Platfo...   \n",
              "9053  JUST IN: BADASS GENERAL JOHN KELLY Shoved Chin...   \n",
              "9054  DOJ’s JEFF SESSIONS Opens Investigation Into W...   \n",
              "...                                                 ...   \n",
              "9345  NORWAY’S TOUGH Immigration Minister BLASTS Swe...   \n",
              "9346  BRITISH MUSICIAN Says If He Was Given The Chan...   \n",
              "9347  LOL! DEMOCRAT CHEERLEADER Cokie Roberts Delive...   \n",
              "9348  SOUTH KOREA Uses Hilarious Technique To TAUNT ...   \n",
              "9349  88-Yr Old DEMOCRAT Congressman and Accused SEX...   \n",
              "\n",
              "                                                   text   subject  \\\n",
              "9050  According to The Hill, Democrat Senator Bob Ca...  politics   \n",
              "9051  If we protect every other government building ...  politics   \n",
              "9052  Ami Horowitz is fantastic! Check out this man ...  politics   \n",
              "9053  Just one more reminder of why President Trump ...  politics   \n",
              "9054  Thank goodnesss Jeff Sessions is moving on fin...  politics   \n",
              "...                                                 ...       ...   \n",
              "9345  Norway has a new immigration sheriff in town, ...  politics   \n",
              "9346  If this so-called celebrity said that he would...  politics   \n",
              "9347  Earlier today, President Trump tweeted about t...  politics   \n",
              "9348  There is no word yet, about how Rocket Man pla...  politics   \n",
              "9349  John Conyers, the 88-year old Democrat Congres...  politics   \n",
              "\n",
              "              date date_new  \n",
              "9050     19-Feb-18      NaT  \n",
              "9051     19-Feb-18      NaT  \n",
              "9052     19-Feb-18      NaT  \n",
              "9053     18-Feb-18      NaT  \n",
              "9054     18-Feb-18      NaT  \n",
              "...            ...      ...  \n",
              "9345  Nov 27, 2017      NaT  \n",
              "9346  Nov 26, 2017      NaT  \n",
              "9347  Nov 26, 2017      NaT  \n",
              "9348  Nov 26, 2017      NaT  \n",
              "9349  Nov 26, 2017      NaT  \n",
              "\n",
              "[300 rows x 5 columns]"
            ]
          },
          "execution_count": 49,
          "metadata": {},
          "output_type": "execute_result"
        }
      ],
      "source": [
        "result = news_false[news_false.date_new.isnull()]\n",
        "result.head(0)"
      ]
    },
    {
      "cell_type": "code",
      "execution_count": null,
      "metadata": {
        "colab": {
          "base_uri": "https://localhost:8080/"
        },
        "id": "x2qe1yq-LMZ8",
        "outputId": "4cf2bec3-577c-429b-d14f-147371506499"
      },
      "outputs": [
        {
          "name": "stdout",
          "output_type": "stream",
          "text": [
            "title        Ben Carson Campaign In Shambles After Top Aid...\n",
            "text        It s not looking like much of a Happy New for ...\n",
            "subject                                                  News\n",
            "date                                          January 1, 2016\n",
            "date_new                                  2016-01-01 00:00:00\n",
            "Name: 9049, dtype: object\n"
          ]
        }
      ],
      "source": [
        "serietest = news_false.iloc[9049,:]\n",
        "print(serietest)"
      ]
    }
  ],
  "metadata": {
    "colab": {
      "provenance": [],
      "toc_visible": true
    },
    "kernelspec": {
      "display_name": "Python 3",
      "name": "python3"
    },
    "language_info": {
      "codemirror_mode": {
        "name": "ipython",
        "version": 3
      },
      "file_extension": ".py",
      "mimetype": "text/x-python",
      "name": "python",
      "nbconvert_exporter": "python",
      "pygments_lexer": "ipython3",
      "version": "3.9.12"
    }
  },
  "nbformat": 4,
  "nbformat_minor": 0
}

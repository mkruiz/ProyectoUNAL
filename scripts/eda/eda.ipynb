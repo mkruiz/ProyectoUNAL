{
  "cells": [
    {
      "attachments": {},
      "cell_type": "markdown",
      "metadata": {},
      "source": [
        "# Análisis exploratorio de los datos: Noticias falsas y Noticias reales"
      ]
    },
    {
      "cell_type": "code",
      "execution_count": 2,
      "metadata": {
        "id": "UXwAcOcIHcVO"
      },
      "outputs": [],
      "source": [
        "# Importar las librerías con el código desarrollado\n",
        "import sys\n",
        "import pathlib"
      ]
    },
    {
      "cell_type": "code",
      "execution_count": 3,
      "metadata": {},
      "outputs": [],
      "source": [
        "# Obtener la ruta de las librerías personalizadas requeridas para cargar los datos\n",
        "def get_directory():\n",
        "    pathtest= pathlib.Path() \n",
        "    current_path = str(pathtest.parent.absolute())\n",
        "    name_directory = \"ProyectoUNAL\"\n",
        "    index_path = current_path.find(name_directory)\n",
        "    path_data = current_path[:index_path+len(name_directory)]\n",
        "    path_data += '\\\\scripts\\\\data_acquisition'\n",
        "    return path_data"
      ]
    },
    {
      "cell_type": "code",
      "execution_count": 5,
      "metadata": {},
      "outputs": [],
      "source": [
        "# Adcionar la ruta de las librerías  personalizadas requeridas para cargar los datos\n",
        "path_source = get_directory()\n",
        "sys.path.append(path_source)"
      ]
    },
    {
      "cell_type": "code",
      "execution_count": 6,
      "metadata": {
        "colab": {
          "base_uri": "https://localhost:8080/"
        },
        "id": "ls8uC-mDF41Q",
        "outputId": "75adea78-238e-4a28-add4-25913f992885"
      },
      "outputs": [],
      "source": [
        "# Librerías a usar en el proyecto\n",
        "from download_data import get_data\n",
        "import pandas as pd\n",
        "import plotly.express as px\n",
        "from statistics import mean"
      ]
    },
    {
      "attachments": {},
      "cell_type": "markdown",
      "metadata": {},
      "source": [
        "Cargue de la información: archivo de noticias falsa y archivo e noticias reales."
      ]
    },
    {
      "cell_type": "code",
      "execution_count": 7,
      "metadata": {
        "id": "3cWxM6pm_eRz"
      },
      "outputs": [],
      "source": [
        "# Obtención de los archivos\n",
        "news_true, news_false = get_data()"
      ]
    },
    {
      "attachments": {},
      "cell_type": "markdown",
      "metadata": {
        "id": "hnKtCob6CLwS"
      },
      "source": [
        "# **1. Análisis del archivo noticias reales**\n",
        "De acuerdo con el análisis exploratorio de los datos se encuentra:\n",
        "1. Total de noticias: 21417\n",
        "2. Noticias en el año 2016: 4716\n",
        "3. Noticias en el año 2017: 16701\n",
        "4. Las noticias se encuentran asociadas a dos temas: 'politicsNews' y 'worldnews'. \n",
        "5. Noticias que tratan de politicsNews : 11272\n",
        "6. Noticias que tratan de worldnews: 10145\n",
        "7. Se encuentra un registro sin contenido en el texto de la noticia el cual será eliminado en el preprocesamiento del archivo."
      ]
    },
    {
      "cell_type": "code",
      "execution_count": 8,
      "metadata": {
        "colab": {
          "base_uri": "https://localhost:8080/"
        },
        "id": "J5i1CWTaEEa-",
        "outputId": "7d4d62c6-c9f6-4bef-db2c-7b9a56edcdee"
      },
      "outputs": [
        {
          "data": {
            "text/plain": [
              "title      21417\n",
              "text       21417\n",
              "subject    21417\n",
              "date       21417\n",
              "dtype: int64"
            ]
          },
          "execution_count": 8,
          "metadata": {},
          "output_type": "execute_result"
        }
      ],
      "source": [
        "# Conteo del número de registros\n",
        "news_true.count()"
      ]
    },
    {
      "cell_type": "code",
      "execution_count": 9,
      "metadata": {
        "colab": {
          "base_uri": "https://localhost:8080/"
        },
        "id": "pK_oGEnpB0fL",
        "outputId": "0560b96b-22c7-4e27-8501-966e3c95e454"
      },
      "outputs": [
        {
          "name": "stdout",
          "output_type": "stream",
          "text": [
            "<class 'pandas.core.frame.DataFrame'>\n",
            "RangeIndex: 21417 entries, 0 to 21416\n",
            "Data columns (total 4 columns):\n",
            " #   Column   Non-Null Count  Dtype \n",
            "---  ------   --------------  ----- \n",
            " 0   title    21417 non-null  object\n",
            " 1   text     21417 non-null  object\n",
            " 2   subject  21417 non-null  object\n",
            " 3   date     21417 non-null  object\n",
            "dtypes: object(4)\n",
            "memory usage: 669.4+ KB\n"
          ]
        }
      ],
      "source": [
        "# Información del dataframe\n",
        "news_true.info()"
      ]
    },
    {
      "cell_type": "code",
      "execution_count": 10,
      "metadata": {
        "id": "sKqA4NXQCZMA"
      },
      "outputs": [],
      "source": [
        "# Convertir el formato de la columna date a datetime\n",
        "news_true['date'] = pd.to_datetime(news_true['date'], infer_datetime_format=True)"
      ]
    },
    {
      "cell_type": "code",
      "execution_count": 11,
      "metadata": {
        "id": "LC0LBYcuLyuY"
      },
      "outputs": [],
      "source": [
        "# Extraer el año de la fecha\n",
        "news_true['anno'] = news_true['date'].dt.year"
      ]
    },
    {
      "cell_type": "code",
      "execution_count": 12,
      "metadata": {
        "colab": {
          "base_uri": "https://localhost:8080/"
        },
        "id": "ldC7dsZcJOAJ",
        "outputId": "4b29f30d-45a1-4ef0-eb47-f10499280eb3"
      },
      "outputs": [
        {
          "name": "stdout",
          "output_type": "stream",
          "text": [
            "<class 'pandas.core.frame.DataFrame'>\n",
            "RangeIndex: 21417 entries, 0 to 21416\n",
            "Data columns (total 5 columns):\n",
            " #   Column   Non-Null Count  Dtype         \n",
            "---  ------   --------------  -----         \n",
            " 0   title    21417 non-null  object        \n",
            " 1   text     21417 non-null  object        \n",
            " 2   subject  21417 non-null  object        \n",
            " 3   date     21417 non-null  datetime64[ns]\n",
            " 4   anno     21417 non-null  int64         \n",
            "dtypes: datetime64[ns](1), int64(1), object(3)\n",
            "memory usage: 836.7+ KB\n"
          ]
        }
      ],
      "source": [
        "# Validación de la conversión del formato y creación de los nuevos elementos \n",
        "news_true.info()"
      ]
    },
    {
      "cell_type": "code",
      "execution_count": 13,
      "metadata": {
        "colab": {
          "base_uri": "https://localhost:8080/",
          "height": 542
        },
        "id": "Ql6HVk3_KxWm",
        "outputId": "4880d77f-895c-4f38-8713-28e6d871ca30"
      },
      "outputs": [
        {
          "data": {
            "application/vnd.plotly.v1+json": {
              "config": {
                "plotlyServerURL": "https://plot.ly"
              },
              "data": [
                {
                  "alignmentgroup": "True",
                  "hovertemplate": "Año de la noticia=%{x}<br>Número de noticias=%{marker.color}<extra></extra>",
                  "legendgroup": "",
                  "marker": {
                    "color": [
                      4716,
                      16701
                    ],
                    "coloraxis": "coloraxis",
                    "pattern": {
                      "shape": ""
                    }
                  },
                  "name": "",
                  "offsetgroup": "",
                  "orientation": "v",
                  "showlegend": false,
                  "textposition": "auto",
                  "texttemplate": "%{y:.2s}",
                  "type": "bar",
                  "x": [
                    2016,
                    2017
                  ],
                  "xaxis": "x",
                  "y": [
                    4716,
                    16701
                  ],
                  "yaxis": "y"
                }
              ],
              "layout": {
                "barmode": "stack",
                "coloraxis": {
                  "colorbar": {
                    "title": {
                      "text": "Número de noticias"
                    }
                  },
                  "colorscale": [
                    [
                      0,
                      "#0d0887"
                    ],
                    [
                      0.1111111111111111,
                      "#46039f"
                    ],
                    [
                      0.2222222222222222,
                      "#7201a8"
                    ],
                    [
                      0.3333333333333333,
                      "#9c179e"
                    ],
                    [
                      0.4444444444444444,
                      "#bd3786"
                    ],
                    [
                      0.5555555555555556,
                      "#d8576b"
                    ],
                    [
                      0.6666666666666666,
                      "#ed7953"
                    ],
                    [
                      0.7777777777777778,
                      "#fb9f3a"
                    ],
                    [
                      0.8888888888888888,
                      "#fdca26"
                    ],
                    [
                      1,
                      "#f0f921"
                    ]
                  ]
                },
                "legend": {
                  "tracegroupgap": 0
                },
                "template": {
                  "data": {
                    "bar": [
                      {
                        "error_x": {
                          "color": "#2a3f5f"
                        },
                        "error_y": {
                          "color": "#2a3f5f"
                        },
                        "marker": {
                          "line": {
                            "color": "#E5ECF6",
                            "width": 0.5
                          },
                          "pattern": {
                            "fillmode": "overlay",
                            "size": 10,
                            "solidity": 0.2
                          }
                        },
                        "type": "bar"
                      }
                    ],
                    "barpolar": [
                      {
                        "marker": {
                          "line": {
                            "color": "#E5ECF6",
                            "width": 0.5
                          },
                          "pattern": {
                            "fillmode": "overlay",
                            "size": 10,
                            "solidity": 0.2
                          }
                        },
                        "type": "barpolar"
                      }
                    ],
                    "carpet": [
                      {
                        "aaxis": {
                          "endlinecolor": "#2a3f5f",
                          "gridcolor": "white",
                          "linecolor": "white",
                          "minorgridcolor": "white",
                          "startlinecolor": "#2a3f5f"
                        },
                        "baxis": {
                          "endlinecolor": "#2a3f5f",
                          "gridcolor": "white",
                          "linecolor": "white",
                          "minorgridcolor": "white",
                          "startlinecolor": "#2a3f5f"
                        },
                        "type": "carpet"
                      }
                    ],
                    "choropleth": [
                      {
                        "colorbar": {
                          "outlinewidth": 0,
                          "ticks": ""
                        },
                        "type": "choropleth"
                      }
                    ],
                    "contour": [
                      {
                        "colorbar": {
                          "outlinewidth": 0,
                          "ticks": ""
                        },
                        "colorscale": [
                          [
                            0,
                            "#0d0887"
                          ],
                          [
                            0.1111111111111111,
                            "#46039f"
                          ],
                          [
                            0.2222222222222222,
                            "#7201a8"
                          ],
                          [
                            0.3333333333333333,
                            "#9c179e"
                          ],
                          [
                            0.4444444444444444,
                            "#bd3786"
                          ],
                          [
                            0.5555555555555556,
                            "#d8576b"
                          ],
                          [
                            0.6666666666666666,
                            "#ed7953"
                          ],
                          [
                            0.7777777777777778,
                            "#fb9f3a"
                          ],
                          [
                            0.8888888888888888,
                            "#fdca26"
                          ],
                          [
                            1,
                            "#f0f921"
                          ]
                        ],
                        "type": "contour"
                      }
                    ],
                    "contourcarpet": [
                      {
                        "colorbar": {
                          "outlinewidth": 0,
                          "ticks": ""
                        },
                        "type": "contourcarpet"
                      }
                    ],
                    "heatmap": [
                      {
                        "colorbar": {
                          "outlinewidth": 0,
                          "ticks": ""
                        },
                        "colorscale": [
                          [
                            0,
                            "#0d0887"
                          ],
                          [
                            0.1111111111111111,
                            "#46039f"
                          ],
                          [
                            0.2222222222222222,
                            "#7201a8"
                          ],
                          [
                            0.3333333333333333,
                            "#9c179e"
                          ],
                          [
                            0.4444444444444444,
                            "#bd3786"
                          ],
                          [
                            0.5555555555555556,
                            "#d8576b"
                          ],
                          [
                            0.6666666666666666,
                            "#ed7953"
                          ],
                          [
                            0.7777777777777778,
                            "#fb9f3a"
                          ],
                          [
                            0.8888888888888888,
                            "#fdca26"
                          ],
                          [
                            1,
                            "#f0f921"
                          ]
                        ],
                        "type": "heatmap"
                      }
                    ],
                    "heatmapgl": [
                      {
                        "colorbar": {
                          "outlinewidth": 0,
                          "ticks": ""
                        },
                        "colorscale": [
                          [
                            0,
                            "#0d0887"
                          ],
                          [
                            0.1111111111111111,
                            "#46039f"
                          ],
                          [
                            0.2222222222222222,
                            "#7201a8"
                          ],
                          [
                            0.3333333333333333,
                            "#9c179e"
                          ],
                          [
                            0.4444444444444444,
                            "#bd3786"
                          ],
                          [
                            0.5555555555555556,
                            "#d8576b"
                          ],
                          [
                            0.6666666666666666,
                            "#ed7953"
                          ],
                          [
                            0.7777777777777778,
                            "#fb9f3a"
                          ],
                          [
                            0.8888888888888888,
                            "#fdca26"
                          ],
                          [
                            1,
                            "#f0f921"
                          ]
                        ],
                        "type": "heatmapgl"
                      }
                    ],
                    "histogram": [
                      {
                        "marker": {
                          "pattern": {
                            "fillmode": "overlay",
                            "size": 10,
                            "solidity": 0.2
                          }
                        },
                        "type": "histogram"
                      }
                    ],
                    "histogram2d": [
                      {
                        "colorbar": {
                          "outlinewidth": 0,
                          "ticks": ""
                        },
                        "colorscale": [
                          [
                            0,
                            "#0d0887"
                          ],
                          [
                            0.1111111111111111,
                            "#46039f"
                          ],
                          [
                            0.2222222222222222,
                            "#7201a8"
                          ],
                          [
                            0.3333333333333333,
                            "#9c179e"
                          ],
                          [
                            0.4444444444444444,
                            "#bd3786"
                          ],
                          [
                            0.5555555555555556,
                            "#d8576b"
                          ],
                          [
                            0.6666666666666666,
                            "#ed7953"
                          ],
                          [
                            0.7777777777777778,
                            "#fb9f3a"
                          ],
                          [
                            0.8888888888888888,
                            "#fdca26"
                          ],
                          [
                            1,
                            "#f0f921"
                          ]
                        ],
                        "type": "histogram2d"
                      }
                    ],
                    "histogram2dcontour": [
                      {
                        "colorbar": {
                          "outlinewidth": 0,
                          "ticks": ""
                        },
                        "colorscale": [
                          [
                            0,
                            "#0d0887"
                          ],
                          [
                            0.1111111111111111,
                            "#46039f"
                          ],
                          [
                            0.2222222222222222,
                            "#7201a8"
                          ],
                          [
                            0.3333333333333333,
                            "#9c179e"
                          ],
                          [
                            0.4444444444444444,
                            "#bd3786"
                          ],
                          [
                            0.5555555555555556,
                            "#d8576b"
                          ],
                          [
                            0.6666666666666666,
                            "#ed7953"
                          ],
                          [
                            0.7777777777777778,
                            "#fb9f3a"
                          ],
                          [
                            0.8888888888888888,
                            "#fdca26"
                          ],
                          [
                            1,
                            "#f0f921"
                          ]
                        ],
                        "type": "histogram2dcontour"
                      }
                    ],
                    "mesh3d": [
                      {
                        "colorbar": {
                          "outlinewidth": 0,
                          "ticks": ""
                        },
                        "type": "mesh3d"
                      }
                    ],
                    "parcoords": [
                      {
                        "line": {
                          "colorbar": {
                            "outlinewidth": 0,
                            "ticks": ""
                          }
                        },
                        "type": "parcoords"
                      }
                    ],
                    "pie": [
                      {
                        "automargin": true,
                        "type": "pie"
                      }
                    ],
                    "scatter": [
                      {
                        "marker": {
                          "colorbar": {
                            "outlinewidth": 0,
                            "ticks": ""
                          }
                        },
                        "type": "scatter"
                      }
                    ],
                    "scatter3d": [
                      {
                        "line": {
                          "colorbar": {
                            "outlinewidth": 0,
                            "ticks": ""
                          }
                        },
                        "marker": {
                          "colorbar": {
                            "outlinewidth": 0,
                            "ticks": ""
                          }
                        },
                        "type": "scatter3d"
                      }
                    ],
                    "scattercarpet": [
                      {
                        "marker": {
                          "colorbar": {
                            "outlinewidth": 0,
                            "ticks": ""
                          }
                        },
                        "type": "scattercarpet"
                      }
                    ],
                    "scattergeo": [
                      {
                        "marker": {
                          "colorbar": {
                            "outlinewidth": 0,
                            "ticks": ""
                          }
                        },
                        "type": "scattergeo"
                      }
                    ],
                    "scattergl": [
                      {
                        "marker": {
                          "colorbar": {
                            "outlinewidth": 0,
                            "ticks": ""
                          }
                        },
                        "type": "scattergl"
                      }
                    ],
                    "scattermapbox": [
                      {
                        "marker": {
                          "colorbar": {
                            "outlinewidth": 0,
                            "ticks": ""
                          }
                        },
                        "type": "scattermapbox"
                      }
                    ],
                    "scatterpolar": [
                      {
                        "marker": {
                          "colorbar": {
                            "outlinewidth": 0,
                            "ticks": ""
                          }
                        },
                        "type": "scatterpolar"
                      }
                    ],
                    "scatterpolargl": [
                      {
                        "marker": {
                          "colorbar": {
                            "outlinewidth": 0,
                            "ticks": ""
                          }
                        },
                        "type": "scatterpolargl"
                      }
                    ],
                    "scatterternary": [
                      {
                        "marker": {
                          "colorbar": {
                            "outlinewidth": 0,
                            "ticks": ""
                          }
                        },
                        "type": "scatterternary"
                      }
                    ],
                    "surface": [
                      {
                        "colorbar": {
                          "outlinewidth": 0,
                          "ticks": ""
                        },
                        "colorscale": [
                          [
                            0,
                            "#0d0887"
                          ],
                          [
                            0.1111111111111111,
                            "#46039f"
                          ],
                          [
                            0.2222222222222222,
                            "#7201a8"
                          ],
                          [
                            0.3333333333333333,
                            "#9c179e"
                          ],
                          [
                            0.4444444444444444,
                            "#bd3786"
                          ],
                          [
                            0.5555555555555556,
                            "#d8576b"
                          ],
                          [
                            0.6666666666666666,
                            "#ed7953"
                          ],
                          [
                            0.7777777777777778,
                            "#fb9f3a"
                          ],
                          [
                            0.8888888888888888,
                            "#fdca26"
                          ],
                          [
                            1,
                            "#f0f921"
                          ]
                        ],
                        "type": "surface"
                      }
                    ],
                    "table": [
                      {
                        "cells": {
                          "fill": {
                            "color": "#EBF0F8"
                          },
                          "line": {
                            "color": "white"
                          }
                        },
                        "header": {
                          "fill": {
                            "color": "#C8D4E3"
                          },
                          "line": {
                            "color": "white"
                          }
                        },
                        "type": "table"
                      }
                    ]
                  },
                  "layout": {
                    "annotationdefaults": {
                      "arrowcolor": "#2a3f5f",
                      "arrowhead": 0,
                      "arrowwidth": 1
                    },
                    "autotypenumbers": "strict",
                    "coloraxis": {
                      "colorbar": {
                        "outlinewidth": 0,
                        "ticks": ""
                      }
                    },
                    "colorscale": {
                      "diverging": [
                        [
                          0,
                          "#8e0152"
                        ],
                        [
                          0.1,
                          "#c51b7d"
                        ],
                        [
                          0.2,
                          "#de77ae"
                        ],
                        [
                          0.3,
                          "#f1b6da"
                        ],
                        [
                          0.4,
                          "#fde0ef"
                        ],
                        [
                          0.5,
                          "#f7f7f7"
                        ],
                        [
                          0.6,
                          "#e6f5d0"
                        ],
                        [
                          0.7,
                          "#b8e186"
                        ],
                        [
                          0.8,
                          "#7fbc41"
                        ],
                        [
                          0.9,
                          "#4d9221"
                        ],
                        [
                          1,
                          "#276419"
                        ]
                      ],
                      "sequential": [
                        [
                          0,
                          "#0d0887"
                        ],
                        [
                          0.1111111111111111,
                          "#46039f"
                        ],
                        [
                          0.2222222222222222,
                          "#7201a8"
                        ],
                        [
                          0.3333333333333333,
                          "#9c179e"
                        ],
                        [
                          0.4444444444444444,
                          "#bd3786"
                        ],
                        [
                          0.5555555555555556,
                          "#d8576b"
                        ],
                        [
                          0.6666666666666666,
                          "#ed7953"
                        ],
                        [
                          0.7777777777777778,
                          "#fb9f3a"
                        ],
                        [
                          0.8888888888888888,
                          "#fdca26"
                        ],
                        [
                          1,
                          "#f0f921"
                        ]
                      ],
                      "sequentialminus": [
                        [
                          0,
                          "#0d0887"
                        ],
                        [
                          0.1111111111111111,
                          "#46039f"
                        ],
                        [
                          0.2222222222222222,
                          "#7201a8"
                        ],
                        [
                          0.3333333333333333,
                          "#9c179e"
                        ],
                        [
                          0.4444444444444444,
                          "#bd3786"
                        ],
                        [
                          0.5555555555555556,
                          "#d8576b"
                        ],
                        [
                          0.6666666666666666,
                          "#ed7953"
                        ],
                        [
                          0.7777777777777778,
                          "#fb9f3a"
                        ],
                        [
                          0.8888888888888888,
                          "#fdca26"
                        ],
                        [
                          1,
                          "#f0f921"
                        ]
                      ]
                    },
                    "colorway": [
                      "#636efa",
                      "#EF553B",
                      "#00cc96",
                      "#ab63fa",
                      "#FFA15A",
                      "#19d3f3",
                      "#FF6692",
                      "#B6E880",
                      "#FF97FF",
                      "#FECB52"
                    ],
                    "font": {
                      "color": "#2a3f5f"
                    },
                    "geo": {
                      "bgcolor": "white",
                      "lakecolor": "white",
                      "landcolor": "#E5ECF6",
                      "showlakes": true,
                      "showland": true,
                      "subunitcolor": "white"
                    },
                    "hoverlabel": {
                      "align": "left"
                    },
                    "hovermode": "closest",
                    "mapbox": {
                      "style": "light"
                    },
                    "paper_bgcolor": "white",
                    "plot_bgcolor": "#E5ECF6",
                    "polar": {
                      "angularaxis": {
                        "gridcolor": "white",
                        "linecolor": "white",
                        "ticks": ""
                      },
                      "bgcolor": "#E5ECF6",
                      "radialaxis": {
                        "gridcolor": "white",
                        "linecolor": "white",
                        "ticks": ""
                      }
                    },
                    "scene": {
                      "xaxis": {
                        "backgroundcolor": "#E5ECF6",
                        "gridcolor": "white",
                        "gridwidth": 2,
                        "linecolor": "white",
                        "showbackground": true,
                        "ticks": "",
                        "zerolinecolor": "white"
                      },
                      "yaxis": {
                        "backgroundcolor": "#E5ECF6",
                        "gridcolor": "white",
                        "gridwidth": 2,
                        "linecolor": "white",
                        "showbackground": true,
                        "ticks": "",
                        "zerolinecolor": "white"
                      },
                      "zaxis": {
                        "backgroundcolor": "#E5ECF6",
                        "gridcolor": "white",
                        "gridwidth": 2,
                        "linecolor": "white",
                        "showbackground": true,
                        "ticks": "",
                        "zerolinecolor": "white"
                      }
                    },
                    "shapedefaults": {
                      "line": {
                        "color": "#2a3f5f"
                      }
                    },
                    "ternary": {
                      "aaxis": {
                        "gridcolor": "white",
                        "linecolor": "white",
                        "ticks": ""
                      },
                      "baxis": {
                        "gridcolor": "white",
                        "linecolor": "white",
                        "ticks": ""
                      },
                      "bgcolor": "#E5ECF6",
                      "caxis": {
                        "gridcolor": "white",
                        "linecolor": "white",
                        "ticks": ""
                      }
                    },
                    "title": {
                      "x": 0.05
                    },
                    "xaxis": {
                      "automargin": true,
                      "gridcolor": "white",
                      "linecolor": "white",
                      "ticks": "",
                      "title": {
                        "standoff": 15
                      },
                      "zerolinecolor": "white",
                      "zerolinewidth": 2
                    },
                    "yaxis": {
                      "automargin": true,
                      "gridcolor": "white",
                      "linecolor": "white",
                      "ticks": "",
                      "title": {
                        "standoff": 15
                      },
                      "zerolinecolor": "white",
                      "zerolinewidth": 2
                    }
                  }
                },
                "title": {
                  "text": "Número de noticias reales por año"
                },
                "xaxis": {
                  "anchor": "y",
                  "domain": [
                    0,
                    1
                  ],
                  "title": {
                    "text": "Año de la noticia"
                  }
                },
                "yaxis": {
                  "anchor": "x",
                  "domain": [
                    0,
                    1
                  ],
                  "title": {
                    "text": "Número de noticias"
                  }
                }
              }
            }
          },
          "metadata": {},
          "output_type": "display_data"
        }
      ],
      "source": [
        "# Número de noticias por año\n",
        "dfg=news_true.groupby('anno').count().reset_index()\n",
        "fig = px.bar(dfg, x='anno', y = 'title', title = 'Número de noticias reales por año', color = 'title', barmode = 'stack', text_auto='.2s',\n",
        "              labels={'anno':'Año de la noticia','title':'Número de noticias'})\n",
        "fig.show()"
      ]
    },
    {
      "cell_type": "code",
      "execution_count": 14,
      "metadata": {
        "colab": {
          "base_uri": "https://localhost:8080/"
        },
        "id": "S3YPa570RpyF",
        "outputId": "a776a64a-f59d-4703-e6bb-9f27ce8b7b93"
      },
      "outputs": [
        {
          "name": "stdout",
          "output_type": "stream",
          "text": [
            "['politicsNews' 'worldnews']\n"
          ]
        }
      ],
      "source": [
        "# Análisis del subject de las noticias\n",
        "print(news_true['subject'].unique())"
      ]
    },
    {
      "cell_type": "code",
      "execution_count": 15,
      "metadata": {
        "colab": {
          "base_uri": "https://localhost:8080/",
          "height": 542
        },
        "id": "88aLslpjSU67",
        "outputId": "46cf838f-8360-4437-c5cc-30e6b08e57c6"
      },
      "outputs": [
        {
          "data": {
            "application/vnd.plotly.v1+json": {
              "config": {
                "plotlyServerURL": "https://plot.ly"
              },
              "data": [
                {
                  "alignmentgroup": "True",
                  "hovertemplate": "Tópico de la noticia=%{x}<br>Número de noticias=%{marker.color}<extra></extra>",
                  "legendgroup": "",
                  "marker": {
                    "color": [
                      11272,
                      10145
                    ],
                    "coloraxis": "coloraxis",
                    "pattern": {
                      "shape": ""
                    }
                  },
                  "name": "",
                  "offsetgroup": "",
                  "orientation": "v",
                  "showlegend": false,
                  "textposition": "auto",
                  "type": "bar",
                  "x": [
                    "politicsNews",
                    "worldnews"
                  ],
                  "xaxis": "x",
                  "y": [
                    11272,
                    10145
                  ],
                  "yaxis": "y"
                }
              ],
              "layout": {
                "barmode": "stack",
                "coloraxis": {
                  "colorbar": {
                    "title": {
                      "text": "Número de noticias"
                    }
                  },
                  "colorscale": [
                    [
                      0,
                      "#0d0887"
                    ],
                    [
                      0.1111111111111111,
                      "#46039f"
                    ],
                    [
                      0.2222222222222222,
                      "#7201a8"
                    ],
                    [
                      0.3333333333333333,
                      "#9c179e"
                    ],
                    [
                      0.4444444444444444,
                      "#bd3786"
                    ],
                    [
                      0.5555555555555556,
                      "#d8576b"
                    ],
                    [
                      0.6666666666666666,
                      "#ed7953"
                    ],
                    [
                      0.7777777777777778,
                      "#fb9f3a"
                    ],
                    [
                      0.8888888888888888,
                      "#fdca26"
                    ],
                    [
                      1,
                      "#f0f921"
                    ]
                  ]
                },
                "legend": {
                  "tracegroupgap": 0
                },
                "template": {
                  "data": {
                    "bar": [
                      {
                        "error_x": {
                          "color": "#2a3f5f"
                        },
                        "error_y": {
                          "color": "#2a3f5f"
                        },
                        "marker": {
                          "line": {
                            "color": "#E5ECF6",
                            "width": 0.5
                          },
                          "pattern": {
                            "fillmode": "overlay",
                            "size": 10,
                            "solidity": 0.2
                          }
                        },
                        "type": "bar"
                      }
                    ],
                    "barpolar": [
                      {
                        "marker": {
                          "line": {
                            "color": "#E5ECF6",
                            "width": 0.5
                          },
                          "pattern": {
                            "fillmode": "overlay",
                            "size": 10,
                            "solidity": 0.2
                          }
                        },
                        "type": "barpolar"
                      }
                    ],
                    "carpet": [
                      {
                        "aaxis": {
                          "endlinecolor": "#2a3f5f",
                          "gridcolor": "white",
                          "linecolor": "white",
                          "minorgridcolor": "white",
                          "startlinecolor": "#2a3f5f"
                        },
                        "baxis": {
                          "endlinecolor": "#2a3f5f",
                          "gridcolor": "white",
                          "linecolor": "white",
                          "minorgridcolor": "white",
                          "startlinecolor": "#2a3f5f"
                        },
                        "type": "carpet"
                      }
                    ],
                    "choropleth": [
                      {
                        "colorbar": {
                          "outlinewidth": 0,
                          "ticks": ""
                        },
                        "type": "choropleth"
                      }
                    ],
                    "contour": [
                      {
                        "colorbar": {
                          "outlinewidth": 0,
                          "ticks": ""
                        },
                        "colorscale": [
                          [
                            0,
                            "#0d0887"
                          ],
                          [
                            0.1111111111111111,
                            "#46039f"
                          ],
                          [
                            0.2222222222222222,
                            "#7201a8"
                          ],
                          [
                            0.3333333333333333,
                            "#9c179e"
                          ],
                          [
                            0.4444444444444444,
                            "#bd3786"
                          ],
                          [
                            0.5555555555555556,
                            "#d8576b"
                          ],
                          [
                            0.6666666666666666,
                            "#ed7953"
                          ],
                          [
                            0.7777777777777778,
                            "#fb9f3a"
                          ],
                          [
                            0.8888888888888888,
                            "#fdca26"
                          ],
                          [
                            1,
                            "#f0f921"
                          ]
                        ],
                        "type": "contour"
                      }
                    ],
                    "contourcarpet": [
                      {
                        "colorbar": {
                          "outlinewidth": 0,
                          "ticks": ""
                        },
                        "type": "contourcarpet"
                      }
                    ],
                    "heatmap": [
                      {
                        "colorbar": {
                          "outlinewidth": 0,
                          "ticks": ""
                        },
                        "colorscale": [
                          [
                            0,
                            "#0d0887"
                          ],
                          [
                            0.1111111111111111,
                            "#46039f"
                          ],
                          [
                            0.2222222222222222,
                            "#7201a8"
                          ],
                          [
                            0.3333333333333333,
                            "#9c179e"
                          ],
                          [
                            0.4444444444444444,
                            "#bd3786"
                          ],
                          [
                            0.5555555555555556,
                            "#d8576b"
                          ],
                          [
                            0.6666666666666666,
                            "#ed7953"
                          ],
                          [
                            0.7777777777777778,
                            "#fb9f3a"
                          ],
                          [
                            0.8888888888888888,
                            "#fdca26"
                          ],
                          [
                            1,
                            "#f0f921"
                          ]
                        ],
                        "type": "heatmap"
                      }
                    ],
                    "heatmapgl": [
                      {
                        "colorbar": {
                          "outlinewidth": 0,
                          "ticks": ""
                        },
                        "colorscale": [
                          [
                            0,
                            "#0d0887"
                          ],
                          [
                            0.1111111111111111,
                            "#46039f"
                          ],
                          [
                            0.2222222222222222,
                            "#7201a8"
                          ],
                          [
                            0.3333333333333333,
                            "#9c179e"
                          ],
                          [
                            0.4444444444444444,
                            "#bd3786"
                          ],
                          [
                            0.5555555555555556,
                            "#d8576b"
                          ],
                          [
                            0.6666666666666666,
                            "#ed7953"
                          ],
                          [
                            0.7777777777777778,
                            "#fb9f3a"
                          ],
                          [
                            0.8888888888888888,
                            "#fdca26"
                          ],
                          [
                            1,
                            "#f0f921"
                          ]
                        ],
                        "type": "heatmapgl"
                      }
                    ],
                    "histogram": [
                      {
                        "marker": {
                          "pattern": {
                            "fillmode": "overlay",
                            "size": 10,
                            "solidity": 0.2
                          }
                        },
                        "type": "histogram"
                      }
                    ],
                    "histogram2d": [
                      {
                        "colorbar": {
                          "outlinewidth": 0,
                          "ticks": ""
                        },
                        "colorscale": [
                          [
                            0,
                            "#0d0887"
                          ],
                          [
                            0.1111111111111111,
                            "#46039f"
                          ],
                          [
                            0.2222222222222222,
                            "#7201a8"
                          ],
                          [
                            0.3333333333333333,
                            "#9c179e"
                          ],
                          [
                            0.4444444444444444,
                            "#bd3786"
                          ],
                          [
                            0.5555555555555556,
                            "#d8576b"
                          ],
                          [
                            0.6666666666666666,
                            "#ed7953"
                          ],
                          [
                            0.7777777777777778,
                            "#fb9f3a"
                          ],
                          [
                            0.8888888888888888,
                            "#fdca26"
                          ],
                          [
                            1,
                            "#f0f921"
                          ]
                        ],
                        "type": "histogram2d"
                      }
                    ],
                    "histogram2dcontour": [
                      {
                        "colorbar": {
                          "outlinewidth": 0,
                          "ticks": ""
                        },
                        "colorscale": [
                          [
                            0,
                            "#0d0887"
                          ],
                          [
                            0.1111111111111111,
                            "#46039f"
                          ],
                          [
                            0.2222222222222222,
                            "#7201a8"
                          ],
                          [
                            0.3333333333333333,
                            "#9c179e"
                          ],
                          [
                            0.4444444444444444,
                            "#bd3786"
                          ],
                          [
                            0.5555555555555556,
                            "#d8576b"
                          ],
                          [
                            0.6666666666666666,
                            "#ed7953"
                          ],
                          [
                            0.7777777777777778,
                            "#fb9f3a"
                          ],
                          [
                            0.8888888888888888,
                            "#fdca26"
                          ],
                          [
                            1,
                            "#f0f921"
                          ]
                        ],
                        "type": "histogram2dcontour"
                      }
                    ],
                    "mesh3d": [
                      {
                        "colorbar": {
                          "outlinewidth": 0,
                          "ticks": ""
                        },
                        "type": "mesh3d"
                      }
                    ],
                    "parcoords": [
                      {
                        "line": {
                          "colorbar": {
                            "outlinewidth": 0,
                            "ticks": ""
                          }
                        },
                        "type": "parcoords"
                      }
                    ],
                    "pie": [
                      {
                        "automargin": true,
                        "type": "pie"
                      }
                    ],
                    "scatter": [
                      {
                        "marker": {
                          "colorbar": {
                            "outlinewidth": 0,
                            "ticks": ""
                          }
                        },
                        "type": "scatter"
                      }
                    ],
                    "scatter3d": [
                      {
                        "line": {
                          "colorbar": {
                            "outlinewidth": 0,
                            "ticks": ""
                          }
                        },
                        "marker": {
                          "colorbar": {
                            "outlinewidth": 0,
                            "ticks": ""
                          }
                        },
                        "type": "scatter3d"
                      }
                    ],
                    "scattercarpet": [
                      {
                        "marker": {
                          "colorbar": {
                            "outlinewidth": 0,
                            "ticks": ""
                          }
                        },
                        "type": "scattercarpet"
                      }
                    ],
                    "scattergeo": [
                      {
                        "marker": {
                          "colorbar": {
                            "outlinewidth": 0,
                            "ticks": ""
                          }
                        },
                        "type": "scattergeo"
                      }
                    ],
                    "scattergl": [
                      {
                        "marker": {
                          "colorbar": {
                            "outlinewidth": 0,
                            "ticks": ""
                          }
                        },
                        "type": "scattergl"
                      }
                    ],
                    "scattermapbox": [
                      {
                        "marker": {
                          "colorbar": {
                            "outlinewidth": 0,
                            "ticks": ""
                          }
                        },
                        "type": "scattermapbox"
                      }
                    ],
                    "scatterpolar": [
                      {
                        "marker": {
                          "colorbar": {
                            "outlinewidth": 0,
                            "ticks": ""
                          }
                        },
                        "type": "scatterpolar"
                      }
                    ],
                    "scatterpolargl": [
                      {
                        "marker": {
                          "colorbar": {
                            "outlinewidth": 0,
                            "ticks": ""
                          }
                        },
                        "type": "scatterpolargl"
                      }
                    ],
                    "scatterternary": [
                      {
                        "marker": {
                          "colorbar": {
                            "outlinewidth": 0,
                            "ticks": ""
                          }
                        },
                        "type": "scatterternary"
                      }
                    ],
                    "surface": [
                      {
                        "colorbar": {
                          "outlinewidth": 0,
                          "ticks": ""
                        },
                        "colorscale": [
                          [
                            0,
                            "#0d0887"
                          ],
                          [
                            0.1111111111111111,
                            "#46039f"
                          ],
                          [
                            0.2222222222222222,
                            "#7201a8"
                          ],
                          [
                            0.3333333333333333,
                            "#9c179e"
                          ],
                          [
                            0.4444444444444444,
                            "#bd3786"
                          ],
                          [
                            0.5555555555555556,
                            "#d8576b"
                          ],
                          [
                            0.6666666666666666,
                            "#ed7953"
                          ],
                          [
                            0.7777777777777778,
                            "#fb9f3a"
                          ],
                          [
                            0.8888888888888888,
                            "#fdca26"
                          ],
                          [
                            1,
                            "#f0f921"
                          ]
                        ],
                        "type": "surface"
                      }
                    ],
                    "table": [
                      {
                        "cells": {
                          "fill": {
                            "color": "#EBF0F8"
                          },
                          "line": {
                            "color": "white"
                          }
                        },
                        "header": {
                          "fill": {
                            "color": "#C8D4E3"
                          },
                          "line": {
                            "color": "white"
                          }
                        },
                        "type": "table"
                      }
                    ]
                  },
                  "layout": {
                    "annotationdefaults": {
                      "arrowcolor": "#2a3f5f",
                      "arrowhead": 0,
                      "arrowwidth": 1
                    },
                    "autotypenumbers": "strict",
                    "coloraxis": {
                      "colorbar": {
                        "outlinewidth": 0,
                        "ticks": ""
                      }
                    },
                    "colorscale": {
                      "diverging": [
                        [
                          0,
                          "#8e0152"
                        ],
                        [
                          0.1,
                          "#c51b7d"
                        ],
                        [
                          0.2,
                          "#de77ae"
                        ],
                        [
                          0.3,
                          "#f1b6da"
                        ],
                        [
                          0.4,
                          "#fde0ef"
                        ],
                        [
                          0.5,
                          "#f7f7f7"
                        ],
                        [
                          0.6,
                          "#e6f5d0"
                        ],
                        [
                          0.7,
                          "#b8e186"
                        ],
                        [
                          0.8,
                          "#7fbc41"
                        ],
                        [
                          0.9,
                          "#4d9221"
                        ],
                        [
                          1,
                          "#276419"
                        ]
                      ],
                      "sequential": [
                        [
                          0,
                          "#0d0887"
                        ],
                        [
                          0.1111111111111111,
                          "#46039f"
                        ],
                        [
                          0.2222222222222222,
                          "#7201a8"
                        ],
                        [
                          0.3333333333333333,
                          "#9c179e"
                        ],
                        [
                          0.4444444444444444,
                          "#bd3786"
                        ],
                        [
                          0.5555555555555556,
                          "#d8576b"
                        ],
                        [
                          0.6666666666666666,
                          "#ed7953"
                        ],
                        [
                          0.7777777777777778,
                          "#fb9f3a"
                        ],
                        [
                          0.8888888888888888,
                          "#fdca26"
                        ],
                        [
                          1,
                          "#f0f921"
                        ]
                      ],
                      "sequentialminus": [
                        [
                          0,
                          "#0d0887"
                        ],
                        [
                          0.1111111111111111,
                          "#46039f"
                        ],
                        [
                          0.2222222222222222,
                          "#7201a8"
                        ],
                        [
                          0.3333333333333333,
                          "#9c179e"
                        ],
                        [
                          0.4444444444444444,
                          "#bd3786"
                        ],
                        [
                          0.5555555555555556,
                          "#d8576b"
                        ],
                        [
                          0.6666666666666666,
                          "#ed7953"
                        ],
                        [
                          0.7777777777777778,
                          "#fb9f3a"
                        ],
                        [
                          0.8888888888888888,
                          "#fdca26"
                        ],
                        [
                          1,
                          "#f0f921"
                        ]
                      ]
                    },
                    "colorway": [
                      "#636efa",
                      "#EF553B",
                      "#00cc96",
                      "#ab63fa",
                      "#FFA15A",
                      "#19d3f3",
                      "#FF6692",
                      "#B6E880",
                      "#FF97FF",
                      "#FECB52"
                    ],
                    "font": {
                      "color": "#2a3f5f"
                    },
                    "geo": {
                      "bgcolor": "white",
                      "lakecolor": "white",
                      "landcolor": "#E5ECF6",
                      "showlakes": true,
                      "showland": true,
                      "subunitcolor": "white"
                    },
                    "hoverlabel": {
                      "align": "left"
                    },
                    "hovermode": "closest",
                    "mapbox": {
                      "style": "light"
                    },
                    "paper_bgcolor": "white",
                    "plot_bgcolor": "#E5ECF6",
                    "polar": {
                      "angularaxis": {
                        "gridcolor": "white",
                        "linecolor": "white",
                        "ticks": ""
                      },
                      "bgcolor": "#E5ECF6",
                      "radialaxis": {
                        "gridcolor": "white",
                        "linecolor": "white",
                        "ticks": ""
                      }
                    },
                    "scene": {
                      "xaxis": {
                        "backgroundcolor": "#E5ECF6",
                        "gridcolor": "white",
                        "gridwidth": 2,
                        "linecolor": "white",
                        "showbackground": true,
                        "ticks": "",
                        "zerolinecolor": "white"
                      },
                      "yaxis": {
                        "backgroundcolor": "#E5ECF6",
                        "gridcolor": "white",
                        "gridwidth": 2,
                        "linecolor": "white",
                        "showbackground": true,
                        "ticks": "",
                        "zerolinecolor": "white"
                      },
                      "zaxis": {
                        "backgroundcolor": "#E5ECF6",
                        "gridcolor": "white",
                        "gridwidth": 2,
                        "linecolor": "white",
                        "showbackground": true,
                        "ticks": "",
                        "zerolinecolor": "white"
                      }
                    },
                    "shapedefaults": {
                      "line": {
                        "color": "#2a3f5f"
                      }
                    },
                    "ternary": {
                      "aaxis": {
                        "gridcolor": "white",
                        "linecolor": "white",
                        "ticks": ""
                      },
                      "baxis": {
                        "gridcolor": "white",
                        "linecolor": "white",
                        "ticks": ""
                      },
                      "bgcolor": "#E5ECF6",
                      "caxis": {
                        "gridcolor": "white",
                        "linecolor": "white",
                        "ticks": ""
                      }
                    },
                    "title": {
                      "x": 0.05
                    },
                    "xaxis": {
                      "automargin": true,
                      "gridcolor": "white",
                      "linecolor": "white",
                      "ticks": "",
                      "title": {
                        "standoff": 15
                      },
                      "zerolinecolor": "white",
                      "zerolinewidth": 2
                    },
                    "yaxis": {
                      "automargin": true,
                      "gridcolor": "white",
                      "linecolor": "white",
                      "ticks": "",
                      "title": {
                        "standoff": 15
                      },
                      "zerolinecolor": "white",
                      "zerolinewidth": 2
                    }
                  }
                },
                "title": {
                  "text": "Número de noticias reales por tópico"
                },
                "xaxis": {
                  "anchor": "y",
                  "domain": [
                    0,
                    1
                  ],
                  "title": {
                    "text": "Tópico de la noticia"
                  }
                },
                "yaxis": {
                  "anchor": "x",
                  "domain": [
                    0,
                    1
                  ],
                  "title": {
                    "text": "Número de noticias"
                  }
                }
              }
            }
          },
          "metadata": {},
          "output_type": "display_data"
        }
      ],
      "source": [
        "# Número de noticias por tópico\n",
        "dfg=news_true.groupby('subject').count().reset_index()\n",
        "fig = px.bar(dfg, x='subject', y = 'title', title = 'Número de noticias reales por tópico', color = 'title', barmode = 'stack',\n",
        "              labels={'subject':'Tópico de la noticia','title':'Número de noticias'})\n",
        "fig.show()"
      ]
    },
    {
      "cell_type": "code",
      "execution_count": 16,
      "metadata": {},
      "outputs": [
        {
          "data": {
            "text/html": [
              "<div>\n",
              "<style scoped>\n",
              "    .dataframe tbody tr th:only-of-type {\n",
              "        vertical-align: middle;\n",
              "    }\n",
              "\n",
              "    .dataframe tbody tr th {\n",
              "        vertical-align: top;\n",
              "    }\n",
              "\n",
              "    .dataframe thead th {\n",
              "        text-align: right;\n",
              "    }\n",
              "</style>\n",
              "<table border=\"1\" class=\"dataframe\">\n",
              "  <thead>\n",
              "    <tr style=\"text-align: right;\">\n",
              "      <th></th>\n",
              "      <th>title</th>\n",
              "      <th>text</th>\n",
              "      <th>subject</th>\n",
              "      <th>date</th>\n",
              "      <th>anno</th>\n",
              "    </tr>\n",
              "  </thead>\n",
              "  <tbody>\n",
              "    <tr>\n",
              "      <th>14956</th>\n",
              "      <td>Kosovo at risk of attacks by returning Islamis...</td>\n",
              "      <td>PRISTINA (Reuters) - Kosovo s government consi...</td>\n",
              "      <td>worldnews</td>\n",
              "      <td>2017-11-13</td>\n",
              "      <td>2017</td>\n",
              "    </tr>\n",
              "    <tr>\n",
              "      <th>17068</th>\n",
              "      <td>UK's May to meet Bill Clinton to discuss North...</td>\n",
              "      <td>LONDON (Reuters) - British Prime Minister Ther...</td>\n",
              "      <td>worldnews</td>\n",
              "      <td>2017-10-18</td>\n",
              "      <td>2017</td>\n",
              "    </tr>\n",
              "    <tr>\n",
              "      <th>1485</th>\n",
              "      <td>Trump congratulates Merkel on election win, di...</td>\n",
              "      <td>WASHINGTON (Reuters) - U.S. President Donald T...</td>\n",
              "      <td>politicsNews</td>\n",
              "      <td>2017-09-28</td>\n",
              "      <td>2017</td>\n",
              "    </tr>\n",
              "    <tr>\n",
              "      <th>4944</th>\n",
              "      <td>FBI, NSA chiefs to testify on Trump wiretap cl...</td>\n",
              "      <td>WASHINGTON (Reuters) - Leaders of the House of...</td>\n",
              "      <td>politicsNews</td>\n",
              "      <td>2017-03-15</td>\n",
              "      <td>2017</td>\n",
              "    </tr>\n",
              "    <tr>\n",
              "      <th>9382</th>\n",
              "      <td>Ohio legislature votes to allow limited medica...</td>\n",
              "      <td>CLEVELAND (Reuters) - Lawmakers in Ohio on Wed...</td>\n",
              "      <td>politicsNews</td>\n",
              "      <td>2016-05-26</td>\n",
              "      <td>2016</td>\n",
              "    </tr>\n",
              "  </tbody>\n",
              "</table>\n",
              "</div>"
            ],
            "text/plain": [
              "                                                   title  \\\n",
              "14956  Kosovo at risk of attacks by returning Islamis...   \n",
              "17068  UK's May to meet Bill Clinton to discuss North...   \n",
              "1485   Trump congratulates Merkel on election win, di...   \n",
              "4944   FBI, NSA chiefs to testify on Trump wiretap cl...   \n",
              "9382   Ohio legislature votes to allow limited medica...   \n",
              "\n",
              "                                                    text       subject  \\\n",
              "14956  PRISTINA (Reuters) - Kosovo s government consi...     worldnews   \n",
              "17068  LONDON (Reuters) - British Prime Minister Ther...     worldnews   \n",
              "1485   WASHINGTON (Reuters) - U.S. President Donald T...  politicsNews   \n",
              "4944   WASHINGTON (Reuters) - Leaders of the House of...  politicsNews   \n",
              "9382   CLEVELAND (Reuters) - Lawmakers in Ohio on Wed...  politicsNews   \n",
              "\n",
              "            date  anno  \n",
              "14956 2017-11-13  2017  \n",
              "17068 2017-10-18  2017  \n",
              "1485  2017-09-28  2017  \n",
              "4944  2017-03-15  2017  \n",
              "9382  2016-05-26  2016  "
            ]
          },
          "execution_count": 16,
          "metadata": {},
          "output_type": "execute_result"
        }
      ],
      "source": [
        "# Ejemplo aleatorio de 5 noticias reales y del contenido que ofrece el dataset\n",
        "news_true.sample(5)"
      ]
    },
    {
      "cell_type": "code",
      "execution_count": 17,
      "metadata": {
        "id": "yUuAd7451AW0"
      },
      "outputs": [],
      "source": [
        "# Cálculo de la extensión del título (title) y contenido (text) de las noticias reales\n",
        "news_true['len_title'] = (news_true['title'].str.strip()).str.len()\n",
        "news_true['len_text'] = (news_true['text'].str.strip()).str.len()"
      ]
    },
    {
      "cell_type": "code",
      "execution_count": 19,
      "metadata": {
        "id": "LAwiZEZS28Mp"
      },
      "outputs": [],
      "source": [
        "# Análisis de la extensión del título (title) y contenido (text) de las noticias reales\n",
        "min_title = min(news_true['len_title'])\n",
        "max_title = max(news_true['len_title'])\n",
        "ave_title = mean(news_true['len_title'])\n",
        "min_text = min(news_true['len_text'])\n",
        "max_text = max(news_true['len_text'])\n",
        "ave_text = mean(news_true['len_text'])"
      ]
    },
    {
      "cell_type": "code",
      "execution_count": 47,
      "metadata": {
        "colab": {
          "base_uri": "https://localhost:8080/"
        },
        "id": "eVpP_5693fWM",
        "outputId": "2b08c4a5-1b53-45d3-beb4-38b33bbb3766"
      },
      "outputs": [
        {
          "name": "stdout",
          "output_type": "stream",
          "text": [
            "Tamaño Máximo del título: 133 caracteres. Tamaño Mínimo del título: 26 caracteres, Tamaño promedio del título: 65 caracteres\n",
            "Tamaño Máximo del contenido: 29780 caracteres. Tamaño Mínimo del contenido: 0 caracteres, Tamaño promedio del contenido: 2382 caracteres\n"
          ]
        }
      ],
      "source": [
        "print(f\"Tamaño Máximo del título: {max_title} caracteres. Tamaño Mínimo del título: {min_title} caracteres, Tamaño promedio del título: { round(ave_title)} caracteres\")\n",
        "print(f\"Tamaño Máximo del contenido: {max_text} caracteres. Tamaño Mínimo del contenido: {min_text} caracteres, Tamaño promedio del contenido: { round(ave_text)} caracteres\")"
      ]
    },
    {
      "cell_type": "code",
      "execution_count": 20,
      "metadata": {
        "id": "Rd_cdnMut_V0"
      },
      "outputs": [],
      "source": [
        "# Se muestran los registros con longitud 0 en el campo text\n",
        "news_true_short = news_true[news_true['len_text'] == 0]"
      ]
    },
    {
      "cell_type": "code",
      "execution_count": 21,
      "metadata": {
        "colab": {
          "base_uri": "https://localhost:8080/",
          "height": 81
        },
        "id": "UWSLHJ_0uVh_",
        "outputId": "5880e1e2-e824-4869-bc65-c63bbf7dadc0"
      },
      "outputs": [
        {
          "data": {
            "text/html": [
              "<div>\n",
              "<style scoped>\n",
              "    .dataframe tbody tr th:only-of-type {\n",
              "        vertical-align: middle;\n",
              "    }\n",
              "\n",
              "    .dataframe tbody tr th {\n",
              "        vertical-align: top;\n",
              "    }\n",
              "\n",
              "    .dataframe thead th {\n",
              "        text-align: right;\n",
              "    }\n",
              "</style>\n",
              "<table border=\"1\" class=\"dataframe\">\n",
              "  <thead>\n",
              "    <tr style=\"text-align: right;\">\n",
              "      <th></th>\n",
              "      <th>title</th>\n",
              "      <th>text</th>\n",
              "      <th>subject</th>\n",
              "      <th>date</th>\n",
              "      <th>anno</th>\n",
              "      <th>len_title</th>\n",
              "      <th>len_text</th>\n",
              "    </tr>\n",
              "  </thead>\n",
              "  <tbody>\n",
              "    <tr>\n",
              "      <th>8970</th>\n",
              "      <td>Graphic: Supreme Court roundup</td>\n",
              "      <td></td>\n",
              "      <td>politicsNews</td>\n",
              "      <td>2016-06-16</td>\n",
              "      <td>2016</td>\n",
              "      <td>30</td>\n",
              "      <td>0</td>\n",
              "    </tr>\n",
              "  </tbody>\n",
              "</table>\n",
              "</div>"
            ],
            "text/plain": [
              "                               title text       subject       date  anno  \\\n",
              "8970  Graphic: Supreme Court roundup       politicsNews 2016-06-16  2016   \n",
              "\n",
              "      len_title  len_text  \n",
              "8970         30         0  "
            ]
          },
          "execution_count": 21,
          "metadata": {},
          "output_type": "execute_result"
        }
      ],
      "source": [
        "# solo un registro con longitud 0\n",
        "news_true_short "
      ]
    },
    {
      "cell_type": "code",
      "execution_count": 22,
      "metadata": {
        "id": "msoIQw7Bzscy"
      },
      "outputs": [],
      "source": [
        "# Se crea un nuevo dataframe eliminando el registro sin información en el campo text\n",
        "news_true_mod = news_true[news_true['len_text'] > 0]"
      ]
    },
    {
      "cell_type": "code",
      "execution_count": 23,
      "metadata": {
        "id": "1sFMsfEh0CnC"
      },
      "outputs": [],
      "source": [
        "# Se calcula de nuevo los valores min, max y promedio en longitud del contenido\n",
        "min_text = min(news_true_mod['len_text'])\n",
        "max_text = max(news_true_mod['len_text'])\n",
        "ave_text = mean(news_true_mod['len_text'])"
      ]
    },
    {
      "cell_type": "code",
      "execution_count": 24,
      "metadata": {
        "colab": {
          "base_uri": "https://localhost:8080/"
        },
        "id": "UHNw8n9j0Jhu",
        "outputId": "1f3a1d4c-67f7-431c-8e8b-e0f1cb248668"
      },
      "outputs": [
        {
          "name": "stdout",
          "output_type": "stream",
          "text": [
            "Tamaño Máximo del contenido: 29780 caracteres. Tamaño mínimo del contenido: 151 caracteres, Tamaño promedio del contenido: 2382 caracteres\n"
          ]
        }
      ],
      "source": [
        "print(f\"Tamaño Máximo del contenido: {max_text} caracteres. Tamaño mínimo del contenido: {min_text} caracteres, Tamaño promedio del contenido: { round(ave_text)} caracteres\")"
      ]
    },
    {
      "attachments": {},
      "cell_type": "markdown",
      "metadata": {
        "id": "yYYY-nTAZ6Ai"
      },
      "source": [
        "# **2. Análisis del archivo noticias falsas**\n",
        "De acuerdo con el análisis exploratorio de los datos se encuentra:\n",
        "1. Total de noticias: 23481.\n",
        "2. El campo 'date' presenta diferentes formatos e incluso datos que no corresponden a la fecha, sin embargo dado el problema que se plantea y como resultado de análisis exploratorio no se considera información relevante para el desarrollo del objetivo del proyecto.\n",
        "4. Las noticias se encuentran asociadas a dos temas: 'News', 'politics', 'Government News', 'left-news', 'US_News' y 'Middle-east.\n",
        "5. Noticias que tratan de politics : 6841.\n",
        "6. Noticias que tratan de News: 9050.\n",
        "7. Noticias que tratan de Government News: 1570.\n",
        "8. Noticias que tratan de left-News: 4459.\n",
        "9. Noticias que tratan de US_News: 783.\n",
        "10. Noticias que tratan de Middle-east: 778.\n",
        "11. Se encuentran 630 registros sin contenido en el texto de la noticia, los cuales serán eliminados en el preprocesamiento del archivo.\n",
        "12. Se encuentran registros 211 registros cuyo tamaño del contenido es muy corto inferior o igual a 50 caracteres. Estos registros serán eliminados de la fuente de datos a procesar. Y se probarán los resultados para evaluar si puede requerirse hacer una nueva inspección y tomar registros con un tamaño del contenido superior al límite usado inicialmente de 50 caracteres."
      ]
    },
    {
      "cell_type": "code",
      "execution_count": 25,
      "metadata": {
        "colab": {
          "base_uri": "https://localhost:8080/"
        },
        "id": "9pze6WwOaCxP",
        "outputId": "dc0e10ad-1e42-4bc2-a0d1-5398bb159197"
      },
      "outputs": [
        {
          "data": {
            "text/plain": [
              "title      23481\n",
              "text       23481\n",
              "subject    23481\n",
              "date       23481\n",
              "dtype: int64"
            ]
          },
          "execution_count": 25,
          "metadata": {},
          "output_type": "execute_result"
        }
      ],
      "source": [
        "# Conteo del número de registros\n",
        "news_false.count()"
      ]
    },
    {
      "cell_type": "code",
      "execution_count": 26,
      "metadata": {
        "colab": {
          "base_uri": "https://localhost:8080/"
        },
        "id": "KpT0UlbYaWjf",
        "outputId": "bb4be5db-a117-4928-95f8-249beed22e5d"
      },
      "outputs": [
        {
          "name": "stdout",
          "output_type": "stream",
          "text": [
            "<class 'pandas.core.frame.DataFrame'>\n",
            "RangeIndex: 23481 entries, 0 to 23480\n",
            "Data columns (total 4 columns):\n",
            " #   Column   Non-Null Count  Dtype \n",
            "---  ------   --------------  ----- \n",
            " 0   title    23481 non-null  object\n",
            " 1   text     23481 non-null  object\n",
            " 2   subject  23481 non-null  object\n",
            " 3   date     23481 non-null  object\n",
            "dtypes: object(4)\n",
            "memory usage: 733.9+ KB\n"
          ]
        }
      ],
      "source": [
        "# Información del dataframe\n",
        "news_false.info()"
      ]
    },
    {
      "cell_type": "code",
      "execution_count": 27,
      "metadata": {
        "colab": {
          "base_uri": "https://localhost:8080/"
        },
        "id": "5LCZz4xrazsa",
        "outputId": "4bfcfd04-016d-4f44-ff30-2ddbe7de6ab1"
      },
      "outputs": [
        {
          "name": "stdout",
          "output_type": "stream",
          "text": [
            "['News' 'politics' 'Government News' 'left-news' 'US_News' 'Middle-east']\n"
          ]
        }
      ],
      "source": [
        "# Análisis del subject de las noticias\n",
        "print(news_false['subject'].unique())"
      ]
    },
    {
      "cell_type": "code",
      "execution_count": 28,
      "metadata": {
        "colab": {
          "base_uri": "https://localhost:8080/",
          "height": 542
        },
        "id": "GC3UuR_nCGVJ",
        "outputId": "62aafe96-6886-4687-bc44-2f22b174c74a"
      },
      "outputs": [
        {
          "data": {
            "application/vnd.plotly.v1+json": {
              "config": {
                "plotlyServerURL": "https://plot.ly"
              },
              "data": [
                {
                  "alignmentgroup": "True",
                  "hovertemplate": "Tópico de la noticia=%{x}<br>Número de noticias=%{marker.color}<extra></extra>",
                  "legendgroup": "",
                  "marker": {
                    "color": [
                      1570,
                      778,
                      9050,
                      783,
                      4459,
                      6841
                    ],
                    "coloraxis": "coloraxis",
                    "pattern": {
                      "shape": ""
                    }
                  },
                  "name": "",
                  "offsetgroup": "",
                  "orientation": "v",
                  "showlegend": false,
                  "textposition": "auto",
                  "texttemplate": "%{y:.2s}",
                  "type": "bar",
                  "x": [
                    "Government News",
                    "Middle-east",
                    "News",
                    "US_News",
                    "left-news",
                    "politics"
                  ],
                  "xaxis": "x",
                  "y": [
                    1570,
                    778,
                    9050,
                    783,
                    4459,
                    6841
                  ],
                  "yaxis": "y"
                }
              ],
              "layout": {
                "barmode": "stack",
                "coloraxis": {
                  "colorbar": {
                    "title": {
                      "text": "Número de noticias"
                    }
                  },
                  "colorscale": [
                    [
                      0,
                      "#0d0887"
                    ],
                    [
                      0.1111111111111111,
                      "#46039f"
                    ],
                    [
                      0.2222222222222222,
                      "#7201a8"
                    ],
                    [
                      0.3333333333333333,
                      "#9c179e"
                    ],
                    [
                      0.4444444444444444,
                      "#bd3786"
                    ],
                    [
                      0.5555555555555556,
                      "#d8576b"
                    ],
                    [
                      0.6666666666666666,
                      "#ed7953"
                    ],
                    [
                      0.7777777777777778,
                      "#fb9f3a"
                    ],
                    [
                      0.8888888888888888,
                      "#fdca26"
                    ],
                    [
                      1,
                      "#f0f921"
                    ]
                  ]
                },
                "legend": {
                  "tracegroupgap": 0
                },
                "template": {
                  "data": {
                    "bar": [
                      {
                        "error_x": {
                          "color": "#2a3f5f"
                        },
                        "error_y": {
                          "color": "#2a3f5f"
                        },
                        "marker": {
                          "line": {
                            "color": "#E5ECF6",
                            "width": 0.5
                          },
                          "pattern": {
                            "fillmode": "overlay",
                            "size": 10,
                            "solidity": 0.2
                          }
                        },
                        "type": "bar"
                      }
                    ],
                    "barpolar": [
                      {
                        "marker": {
                          "line": {
                            "color": "#E5ECF6",
                            "width": 0.5
                          },
                          "pattern": {
                            "fillmode": "overlay",
                            "size": 10,
                            "solidity": 0.2
                          }
                        },
                        "type": "barpolar"
                      }
                    ],
                    "carpet": [
                      {
                        "aaxis": {
                          "endlinecolor": "#2a3f5f",
                          "gridcolor": "white",
                          "linecolor": "white",
                          "minorgridcolor": "white",
                          "startlinecolor": "#2a3f5f"
                        },
                        "baxis": {
                          "endlinecolor": "#2a3f5f",
                          "gridcolor": "white",
                          "linecolor": "white",
                          "minorgridcolor": "white",
                          "startlinecolor": "#2a3f5f"
                        },
                        "type": "carpet"
                      }
                    ],
                    "choropleth": [
                      {
                        "colorbar": {
                          "outlinewidth": 0,
                          "ticks": ""
                        },
                        "type": "choropleth"
                      }
                    ],
                    "contour": [
                      {
                        "colorbar": {
                          "outlinewidth": 0,
                          "ticks": ""
                        },
                        "colorscale": [
                          [
                            0,
                            "#0d0887"
                          ],
                          [
                            0.1111111111111111,
                            "#46039f"
                          ],
                          [
                            0.2222222222222222,
                            "#7201a8"
                          ],
                          [
                            0.3333333333333333,
                            "#9c179e"
                          ],
                          [
                            0.4444444444444444,
                            "#bd3786"
                          ],
                          [
                            0.5555555555555556,
                            "#d8576b"
                          ],
                          [
                            0.6666666666666666,
                            "#ed7953"
                          ],
                          [
                            0.7777777777777778,
                            "#fb9f3a"
                          ],
                          [
                            0.8888888888888888,
                            "#fdca26"
                          ],
                          [
                            1,
                            "#f0f921"
                          ]
                        ],
                        "type": "contour"
                      }
                    ],
                    "contourcarpet": [
                      {
                        "colorbar": {
                          "outlinewidth": 0,
                          "ticks": ""
                        },
                        "type": "contourcarpet"
                      }
                    ],
                    "heatmap": [
                      {
                        "colorbar": {
                          "outlinewidth": 0,
                          "ticks": ""
                        },
                        "colorscale": [
                          [
                            0,
                            "#0d0887"
                          ],
                          [
                            0.1111111111111111,
                            "#46039f"
                          ],
                          [
                            0.2222222222222222,
                            "#7201a8"
                          ],
                          [
                            0.3333333333333333,
                            "#9c179e"
                          ],
                          [
                            0.4444444444444444,
                            "#bd3786"
                          ],
                          [
                            0.5555555555555556,
                            "#d8576b"
                          ],
                          [
                            0.6666666666666666,
                            "#ed7953"
                          ],
                          [
                            0.7777777777777778,
                            "#fb9f3a"
                          ],
                          [
                            0.8888888888888888,
                            "#fdca26"
                          ],
                          [
                            1,
                            "#f0f921"
                          ]
                        ],
                        "type": "heatmap"
                      }
                    ],
                    "heatmapgl": [
                      {
                        "colorbar": {
                          "outlinewidth": 0,
                          "ticks": ""
                        },
                        "colorscale": [
                          [
                            0,
                            "#0d0887"
                          ],
                          [
                            0.1111111111111111,
                            "#46039f"
                          ],
                          [
                            0.2222222222222222,
                            "#7201a8"
                          ],
                          [
                            0.3333333333333333,
                            "#9c179e"
                          ],
                          [
                            0.4444444444444444,
                            "#bd3786"
                          ],
                          [
                            0.5555555555555556,
                            "#d8576b"
                          ],
                          [
                            0.6666666666666666,
                            "#ed7953"
                          ],
                          [
                            0.7777777777777778,
                            "#fb9f3a"
                          ],
                          [
                            0.8888888888888888,
                            "#fdca26"
                          ],
                          [
                            1,
                            "#f0f921"
                          ]
                        ],
                        "type": "heatmapgl"
                      }
                    ],
                    "histogram": [
                      {
                        "marker": {
                          "pattern": {
                            "fillmode": "overlay",
                            "size": 10,
                            "solidity": 0.2
                          }
                        },
                        "type": "histogram"
                      }
                    ],
                    "histogram2d": [
                      {
                        "colorbar": {
                          "outlinewidth": 0,
                          "ticks": ""
                        },
                        "colorscale": [
                          [
                            0,
                            "#0d0887"
                          ],
                          [
                            0.1111111111111111,
                            "#46039f"
                          ],
                          [
                            0.2222222222222222,
                            "#7201a8"
                          ],
                          [
                            0.3333333333333333,
                            "#9c179e"
                          ],
                          [
                            0.4444444444444444,
                            "#bd3786"
                          ],
                          [
                            0.5555555555555556,
                            "#d8576b"
                          ],
                          [
                            0.6666666666666666,
                            "#ed7953"
                          ],
                          [
                            0.7777777777777778,
                            "#fb9f3a"
                          ],
                          [
                            0.8888888888888888,
                            "#fdca26"
                          ],
                          [
                            1,
                            "#f0f921"
                          ]
                        ],
                        "type": "histogram2d"
                      }
                    ],
                    "histogram2dcontour": [
                      {
                        "colorbar": {
                          "outlinewidth": 0,
                          "ticks": ""
                        },
                        "colorscale": [
                          [
                            0,
                            "#0d0887"
                          ],
                          [
                            0.1111111111111111,
                            "#46039f"
                          ],
                          [
                            0.2222222222222222,
                            "#7201a8"
                          ],
                          [
                            0.3333333333333333,
                            "#9c179e"
                          ],
                          [
                            0.4444444444444444,
                            "#bd3786"
                          ],
                          [
                            0.5555555555555556,
                            "#d8576b"
                          ],
                          [
                            0.6666666666666666,
                            "#ed7953"
                          ],
                          [
                            0.7777777777777778,
                            "#fb9f3a"
                          ],
                          [
                            0.8888888888888888,
                            "#fdca26"
                          ],
                          [
                            1,
                            "#f0f921"
                          ]
                        ],
                        "type": "histogram2dcontour"
                      }
                    ],
                    "mesh3d": [
                      {
                        "colorbar": {
                          "outlinewidth": 0,
                          "ticks": ""
                        },
                        "type": "mesh3d"
                      }
                    ],
                    "parcoords": [
                      {
                        "line": {
                          "colorbar": {
                            "outlinewidth": 0,
                            "ticks": ""
                          }
                        },
                        "type": "parcoords"
                      }
                    ],
                    "pie": [
                      {
                        "automargin": true,
                        "type": "pie"
                      }
                    ],
                    "scatter": [
                      {
                        "marker": {
                          "colorbar": {
                            "outlinewidth": 0,
                            "ticks": ""
                          }
                        },
                        "type": "scatter"
                      }
                    ],
                    "scatter3d": [
                      {
                        "line": {
                          "colorbar": {
                            "outlinewidth": 0,
                            "ticks": ""
                          }
                        },
                        "marker": {
                          "colorbar": {
                            "outlinewidth": 0,
                            "ticks": ""
                          }
                        },
                        "type": "scatter3d"
                      }
                    ],
                    "scattercarpet": [
                      {
                        "marker": {
                          "colorbar": {
                            "outlinewidth": 0,
                            "ticks": ""
                          }
                        },
                        "type": "scattercarpet"
                      }
                    ],
                    "scattergeo": [
                      {
                        "marker": {
                          "colorbar": {
                            "outlinewidth": 0,
                            "ticks": ""
                          }
                        },
                        "type": "scattergeo"
                      }
                    ],
                    "scattergl": [
                      {
                        "marker": {
                          "colorbar": {
                            "outlinewidth": 0,
                            "ticks": ""
                          }
                        },
                        "type": "scattergl"
                      }
                    ],
                    "scattermapbox": [
                      {
                        "marker": {
                          "colorbar": {
                            "outlinewidth": 0,
                            "ticks": ""
                          }
                        },
                        "type": "scattermapbox"
                      }
                    ],
                    "scatterpolar": [
                      {
                        "marker": {
                          "colorbar": {
                            "outlinewidth": 0,
                            "ticks": ""
                          }
                        },
                        "type": "scatterpolar"
                      }
                    ],
                    "scatterpolargl": [
                      {
                        "marker": {
                          "colorbar": {
                            "outlinewidth": 0,
                            "ticks": ""
                          }
                        },
                        "type": "scatterpolargl"
                      }
                    ],
                    "scatterternary": [
                      {
                        "marker": {
                          "colorbar": {
                            "outlinewidth": 0,
                            "ticks": ""
                          }
                        },
                        "type": "scatterternary"
                      }
                    ],
                    "surface": [
                      {
                        "colorbar": {
                          "outlinewidth": 0,
                          "ticks": ""
                        },
                        "colorscale": [
                          [
                            0,
                            "#0d0887"
                          ],
                          [
                            0.1111111111111111,
                            "#46039f"
                          ],
                          [
                            0.2222222222222222,
                            "#7201a8"
                          ],
                          [
                            0.3333333333333333,
                            "#9c179e"
                          ],
                          [
                            0.4444444444444444,
                            "#bd3786"
                          ],
                          [
                            0.5555555555555556,
                            "#d8576b"
                          ],
                          [
                            0.6666666666666666,
                            "#ed7953"
                          ],
                          [
                            0.7777777777777778,
                            "#fb9f3a"
                          ],
                          [
                            0.8888888888888888,
                            "#fdca26"
                          ],
                          [
                            1,
                            "#f0f921"
                          ]
                        ],
                        "type": "surface"
                      }
                    ],
                    "table": [
                      {
                        "cells": {
                          "fill": {
                            "color": "#EBF0F8"
                          },
                          "line": {
                            "color": "white"
                          }
                        },
                        "header": {
                          "fill": {
                            "color": "#C8D4E3"
                          },
                          "line": {
                            "color": "white"
                          }
                        },
                        "type": "table"
                      }
                    ]
                  },
                  "layout": {
                    "annotationdefaults": {
                      "arrowcolor": "#2a3f5f",
                      "arrowhead": 0,
                      "arrowwidth": 1
                    },
                    "autotypenumbers": "strict",
                    "coloraxis": {
                      "colorbar": {
                        "outlinewidth": 0,
                        "ticks": ""
                      }
                    },
                    "colorscale": {
                      "diverging": [
                        [
                          0,
                          "#8e0152"
                        ],
                        [
                          0.1,
                          "#c51b7d"
                        ],
                        [
                          0.2,
                          "#de77ae"
                        ],
                        [
                          0.3,
                          "#f1b6da"
                        ],
                        [
                          0.4,
                          "#fde0ef"
                        ],
                        [
                          0.5,
                          "#f7f7f7"
                        ],
                        [
                          0.6,
                          "#e6f5d0"
                        ],
                        [
                          0.7,
                          "#b8e186"
                        ],
                        [
                          0.8,
                          "#7fbc41"
                        ],
                        [
                          0.9,
                          "#4d9221"
                        ],
                        [
                          1,
                          "#276419"
                        ]
                      ],
                      "sequential": [
                        [
                          0,
                          "#0d0887"
                        ],
                        [
                          0.1111111111111111,
                          "#46039f"
                        ],
                        [
                          0.2222222222222222,
                          "#7201a8"
                        ],
                        [
                          0.3333333333333333,
                          "#9c179e"
                        ],
                        [
                          0.4444444444444444,
                          "#bd3786"
                        ],
                        [
                          0.5555555555555556,
                          "#d8576b"
                        ],
                        [
                          0.6666666666666666,
                          "#ed7953"
                        ],
                        [
                          0.7777777777777778,
                          "#fb9f3a"
                        ],
                        [
                          0.8888888888888888,
                          "#fdca26"
                        ],
                        [
                          1,
                          "#f0f921"
                        ]
                      ],
                      "sequentialminus": [
                        [
                          0,
                          "#0d0887"
                        ],
                        [
                          0.1111111111111111,
                          "#46039f"
                        ],
                        [
                          0.2222222222222222,
                          "#7201a8"
                        ],
                        [
                          0.3333333333333333,
                          "#9c179e"
                        ],
                        [
                          0.4444444444444444,
                          "#bd3786"
                        ],
                        [
                          0.5555555555555556,
                          "#d8576b"
                        ],
                        [
                          0.6666666666666666,
                          "#ed7953"
                        ],
                        [
                          0.7777777777777778,
                          "#fb9f3a"
                        ],
                        [
                          0.8888888888888888,
                          "#fdca26"
                        ],
                        [
                          1,
                          "#f0f921"
                        ]
                      ]
                    },
                    "colorway": [
                      "#636efa",
                      "#EF553B",
                      "#00cc96",
                      "#ab63fa",
                      "#FFA15A",
                      "#19d3f3",
                      "#FF6692",
                      "#B6E880",
                      "#FF97FF",
                      "#FECB52"
                    ],
                    "font": {
                      "color": "#2a3f5f"
                    },
                    "geo": {
                      "bgcolor": "white",
                      "lakecolor": "white",
                      "landcolor": "#E5ECF6",
                      "showlakes": true,
                      "showland": true,
                      "subunitcolor": "white"
                    },
                    "hoverlabel": {
                      "align": "left"
                    },
                    "hovermode": "closest",
                    "mapbox": {
                      "style": "light"
                    },
                    "paper_bgcolor": "white",
                    "plot_bgcolor": "#E5ECF6",
                    "polar": {
                      "angularaxis": {
                        "gridcolor": "white",
                        "linecolor": "white",
                        "ticks": ""
                      },
                      "bgcolor": "#E5ECF6",
                      "radialaxis": {
                        "gridcolor": "white",
                        "linecolor": "white",
                        "ticks": ""
                      }
                    },
                    "scene": {
                      "xaxis": {
                        "backgroundcolor": "#E5ECF6",
                        "gridcolor": "white",
                        "gridwidth": 2,
                        "linecolor": "white",
                        "showbackground": true,
                        "ticks": "",
                        "zerolinecolor": "white"
                      },
                      "yaxis": {
                        "backgroundcolor": "#E5ECF6",
                        "gridcolor": "white",
                        "gridwidth": 2,
                        "linecolor": "white",
                        "showbackground": true,
                        "ticks": "",
                        "zerolinecolor": "white"
                      },
                      "zaxis": {
                        "backgroundcolor": "#E5ECF6",
                        "gridcolor": "white",
                        "gridwidth": 2,
                        "linecolor": "white",
                        "showbackground": true,
                        "ticks": "",
                        "zerolinecolor": "white"
                      }
                    },
                    "shapedefaults": {
                      "line": {
                        "color": "#2a3f5f"
                      }
                    },
                    "ternary": {
                      "aaxis": {
                        "gridcolor": "white",
                        "linecolor": "white",
                        "ticks": ""
                      },
                      "baxis": {
                        "gridcolor": "white",
                        "linecolor": "white",
                        "ticks": ""
                      },
                      "bgcolor": "#E5ECF6",
                      "caxis": {
                        "gridcolor": "white",
                        "linecolor": "white",
                        "ticks": ""
                      }
                    },
                    "title": {
                      "x": 0.05
                    },
                    "xaxis": {
                      "automargin": true,
                      "gridcolor": "white",
                      "linecolor": "white",
                      "ticks": "",
                      "title": {
                        "standoff": 15
                      },
                      "zerolinecolor": "white",
                      "zerolinewidth": 2
                    },
                    "yaxis": {
                      "automargin": true,
                      "gridcolor": "white",
                      "linecolor": "white",
                      "ticks": "",
                      "title": {
                        "standoff": 15
                      },
                      "zerolinecolor": "white",
                      "zerolinewidth": 2
                    }
                  }
                },
                "title": {
                  "text": "Número de noticias falsas por tópico"
                },
                "xaxis": {
                  "anchor": "y",
                  "domain": [
                    0,
                    1
                  ],
                  "title": {
                    "text": "Tópico de la noticia"
                  }
                },
                "yaxis": {
                  "anchor": "x",
                  "domain": [
                    0,
                    1
                  ],
                  "title": {
                    "text": "Número de noticias"
                  }
                }
              }
            }
          },
          "metadata": {},
          "output_type": "display_data"
        }
      ],
      "source": [
        "# Número de noticias por tópico\n",
        "dfg=news_false.groupby('subject').count().reset_index()\n",
        "fig = px.bar(dfg, x='subject', y = 'title', title = 'Número de noticias falsas por tópico', color = 'title', barmode = 'stack',text_auto='.2s',\n",
        "              labels={'subject':'Tópico de la noticia','title':'Número de noticias'})\n",
        "fig.show()"
      ]
    },
    {
      "cell_type": "code",
      "execution_count": 29,
      "metadata": {},
      "outputs": [
        {
          "data": {
            "text/html": [
              "<div>\n",
              "<style scoped>\n",
              "    .dataframe tbody tr th:only-of-type {\n",
              "        vertical-align: middle;\n",
              "    }\n",
              "\n",
              "    .dataframe tbody tr th {\n",
              "        vertical-align: top;\n",
              "    }\n",
              "\n",
              "    .dataframe thead th {\n",
              "        text-align: right;\n",
              "    }\n",
              "</style>\n",
              "<table border=\"1\" class=\"dataframe\">\n",
              "  <thead>\n",
              "    <tr style=\"text-align: right;\">\n",
              "      <th></th>\n",
              "      <th>title</th>\n",
              "      <th>text</th>\n",
              "      <th>subject</th>\n",
              "      <th>date</th>\n",
              "    </tr>\n",
              "  </thead>\n",
              "  <tbody>\n",
              "    <tr>\n",
              "      <th>2723</th>\n",
              "      <td>Robert Reich Makes STUNNING Anti-Trump Statem...</td>\n",
              "      <td>Donald Trump is successfully ruining all of ou...</td>\n",
              "      <td>News</td>\n",
              "      <td>February 2, 2017</td>\n",
              "    </tr>\n",
              "    <tr>\n",
              "      <th>2825</th>\n",
              "      <td>After Months Of Concern Trolling, Trump Prove...</td>\n",
              "      <td>Amid one of the most racist presidential campa...</td>\n",
              "      <td>News</td>\n",
              "      <td>January 26, 2017</td>\n",
              "    </tr>\n",
              "    <tr>\n",
              "      <th>9986</th>\n",
              "      <td>Mainstream Media Spreads Huge Lie GOP Official...</td>\n",
              "      <td>The usual mainstream media suspects are at it ...</td>\n",
              "      <td>politics</td>\n",
              "      <td>Sep 4, 2017</td>\n",
              "    </tr>\n",
              "    <tr>\n",
              "      <th>13577</th>\n",
              "      <td>BLOODY 4TH OF JULY WEEKEND UPDATE: Obama’s Hom...</td>\n",
              "      <td>Just another big city destroyed by Democrats A...</td>\n",
              "      <td>politics</td>\n",
              "      <td>Jul 5, 2016</td>\n",
              "    </tr>\n",
              "    <tr>\n",
              "      <th>18580</th>\n",
              "      <td>CONSEQUENCES OF LIBERAL TOLERANCE: He Had An I...</td>\n",
              "      <td>Terrified concert goers fled an Ariana Grande ...</td>\n",
              "      <td>left-news</td>\n",
              "      <td>May 25, 2017</td>\n",
              "    </tr>\n",
              "  </tbody>\n",
              "</table>\n",
              "</div>"
            ],
            "text/plain": [
              "                                                   title  \\\n",
              "2723    Robert Reich Makes STUNNING Anti-Trump Statem...   \n",
              "2825    After Months Of Concern Trolling, Trump Prove...   \n",
              "9986   Mainstream Media Spreads Huge Lie GOP Official...   \n",
              "13577  BLOODY 4TH OF JULY WEEKEND UPDATE: Obama’s Hom...   \n",
              "18580  CONSEQUENCES OF LIBERAL TOLERANCE: He Had An I...   \n",
              "\n",
              "                                                    text    subject  \\\n",
              "2723   Donald Trump is successfully ruining all of ou...       News   \n",
              "2825   Amid one of the most racist presidential campa...       News   \n",
              "9986   The usual mainstream media suspects are at it ...   politics   \n",
              "13577  Just another big city destroyed by Democrats A...   politics   \n",
              "18580  Terrified concert goers fled an Ariana Grande ...  left-news   \n",
              "\n",
              "                   date  \n",
              "2723   February 2, 2017  \n",
              "2825   January 26, 2017  \n",
              "9986        Sep 4, 2017  \n",
              "13577       Jul 5, 2016  \n",
              "18580      May 25, 2017  "
            ]
          },
          "execution_count": 29,
          "metadata": {},
          "output_type": "execute_result"
        }
      ],
      "source": [
        "# Ejemplo aleatorio de 5 noticias falsas y del contenido que ofrece el dataset\n",
        "news_false.sample(5)"
      ]
    },
    {
      "cell_type": "code",
      "execution_count": 30,
      "metadata": {
        "colab": {
          "base_uri": "https://localhost:8080/"
        },
        "id": "BKCrc6sGiGD1",
        "outputId": "86efd646-1d0f-451e-aeba-fe0ed07bf427"
      },
      "outputs": [
        {
          "name": "stdout",
          "output_type": "stream",
          "text": [
            "9350                                         Nov 26, 2017\n",
            "9351                                         Nov 26, 2017\n",
            "9352                                         Nov 26, 2017\n",
            "9353                                         Nov 25, 2017\n",
            "9354                                         Nov 25, 2017\n",
            "9355                                         Nov 25, 2017\n",
            "9356                                         Nov 25, 2017\n",
            "9357                                         Nov 25, 2017\n",
            "9358    https://100percentfedup.com/served-roy-moore-v...\n",
            "9359                                         Nov 25, 2017\n",
            "9360                                         Nov 24, 2017\n",
            "9361                                         Nov 24, 2017\n",
            "9362                                         Nov 24, 2017\n",
            "9363                                         Nov 23, 2017\n",
            "9364                                         Nov 23, 2017\n",
            "9365                                         Nov 22, 2017\n",
            "9366                                         Nov 22, 2017\n",
            "9367                                         Nov 22, 2017\n",
            "9368                                         Nov 22, 2017\n",
            "9369                                         Nov 21, 2017\n",
            "9370                                         Nov 21, 2017\n",
            "9371                                         Nov 21, 2017\n",
            "9372                                         Nov 21, 2017\n",
            "9373                                         Nov 21, 2017\n",
            "9374                                         Nov 21, 2017\n",
            "9375                                         Nov 21, 2017\n",
            "9376                                         Nov 21, 2017\n",
            "9377                                         Nov 21, 2017\n",
            "9378                                         Nov 21, 2017\n",
            "9379                                         Nov 21, 2017\n",
            "9380                                         Nov 20, 2017\n",
            "9381                                         Nov 20, 2017\n",
            "9382                                         Nov 20, 2017\n",
            "9383                                         Nov 20, 2017\n",
            "9384                                         Nov 20, 2017\n",
            "9385                                         Nov 20, 2017\n",
            "9386                                         Nov 20, 2017\n",
            "9387                                         Nov 20, 2017\n",
            "9388                                         Nov 19, 2017\n",
            "9389                                         Nov 19, 2017\n",
            "9390                                         Nov 19, 2017\n",
            "9391                                         Nov 19, 2017\n",
            "9392                                         Nov 19, 2017\n",
            "9393                                         Nov 19, 2017\n",
            "9394                                         Nov 19, 2017\n",
            "9395                                         Nov 19, 2017\n",
            "9396                                         Nov 19, 2017\n",
            "9397                                         Nov 18, 2017\n",
            "9398                                         Nov 18, 2017\n",
            "9399                                         Nov 18, 2017\n",
            "Name: date, dtype: object\n"
          ]
        }
      ],
      "source": [
        "# Análisis exploratorio del campo date, al encontrarse que no todas las filas tienen una fecha en esa columna\n",
        "serie = news_false.iloc[9350:9400,3]\n",
        "print(serie)"
      ]
    },
    {
      "cell_type": "code",
      "execution_count": 31,
      "metadata": {
        "colab": {
          "base_uri": "https://localhost:8080/"
        },
        "id": "XLOVlfh1i5OO",
        "outputId": "1e891393-1fa9-4fcd-8ebd-690d0c3d4b26"
      },
      "outputs": [
        {
          "name": "stdout",
          "output_type": "stream",
          "text": [
            "https://100percentfedup.com/served-roy-moore-vietnamletter-veteran-sets-record-straight-honorable-decent-respectable-patriotic-commander-soldier/\n"
          ]
        }
      ],
      "source": [
        "# Ejemplo de uno de los registros y lo que aparece registrado en ese campo\n",
        "serie9358 = news_false.iloc[9358,:]\n",
        "print(serie9358[3])"
      ]
    },
    {
      "cell_type": "code",
      "execution_count": 32,
      "metadata": {
        "id": "gT_4OheRKBZd"
      },
      "outputs": [],
      "source": [
        "# Convertir el formato de la columna date a datetime\n",
        "news_false['date_new'] = pd.to_datetime(news_false['date'], infer_datetime_format=True, errors='coerce')"
      ]
    },
    {
      "cell_type": "code",
      "execution_count": 33,
      "metadata": {
        "colab": {
          "base_uri": "https://localhost:8080/"
        },
        "id": "D1goDZLPLOBD",
        "outputId": "677c26fe-439d-46e9-cfe9-83814f680511"
      },
      "outputs": [
        {
          "data": {
            "text/plain": [
              "array(['2017-12-31T00:00:00.000000000', '2017-12-30T00:00:00.000000000',\n",
              "       '2017-12-29T00:00:00.000000000', '2017-12-25T00:00:00.000000000',\n",
              "       '2017-12-23T00:00:00.000000000', '2017-12-22T00:00:00.000000000',\n",
              "       '2017-12-21T00:00:00.000000000', '2017-12-20T00:00:00.000000000',\n",
              "       '2017-12-19T00:00:00.000000000', '2017-12-17T00:00:00.000000000',\n",
              "       '2017-12-16T00:00:00.000000000', '2017-12-13T00:00:00.000000000',\n",
              "       '2017-12-12T00:00:00.000000000', '2017-12-11T00:00:00.000000000',\n",
              "       '2017-12-10T00:00:00.000000000', '2017-12-09T00:00:00.000000000',\n",
              "       '2017-12-07T00:00:00.000000000', '2017-12-06T00:00:00.000000000',\n",
              "       '2017-12-05T00:00:00.000000000', '2017-12-04T00:00:00.000000000',\n",
              "       '2017-12-03T00:00:00.000000000', '2017-12-02T00:00:00.000000000',\n",
              "       '2017-12-01T00:00:00.000000000', '2017-11-30T00:00:00.000000000',\n",
              "       '2017-11-29T00:00:00.000000000', '2017-11-28T00:00:00.000000000',\n",
              "       '2017-11-27T00:00:00.000000000', '2017-11-26T00:00:00.000000000',\n",
              "       '2017-11-25T00:00:00.000000000', '2017-11-24T00:00:00.000000000',\n",
              "       '2017-11-23T00:00:00.000000000', '2017-11-22T00:00:00.000000000',\n",
              "       '2017-11-21T00:00:00.000000000', '2017-11-20T00:00:00.000000000',\n",
              "       '2017-11-19T00:00:00.000000000', '2017-11-18T00:00:00.000000000',\n",
              "       '2017-11-17T00:00:00.000000000', '2017-11-16T00:00:00.000000000',\n",
              "       '2017-11-15T00:00:00.000000000', '2017-11-14T00:00:00.000000000',\n",
              "       '2017-11-13T00:00:00.000000000', '2017-11-12T00:00:00.000000000',\n",
              "       '2017-11-11T00:00:00.000000000', '2017-11-10T00:00:00.000000000',\n",
              "       '2017-11-09T00:00:00.000000000', '2017-11-08T00:00:00.000000000',\n",
              "       '2017-11-07T00:00:00.000000000', '2017-11-06T00:00:00.000000000',\n",
              "       '2017-11-05T00:00:00.000000000', '2017-11-04T00:00:00.000000000',\n",
              "       '2017-11-03T00:00:00.000000000', '2017-11-02T00:00:00.000000000',\n",
              "       '2017-11-01T00:00:00.000000000', '2017-10-31T00:00:00.000000000',\n",
              "       '2017-10-30T00:00:00.000000000', '2017-10-29T00:00:00.000000000',\n",
              "       '2017-10-28T00:00:00.000000000', '2017-10-27T00:00:00.000000000',\n",
              "       '2017-10-26T00:00:00.000000000', '2017-10-25T00:00:00.000000000',\n",
              "       '2017-10-24T00:00:00.000000000', '2017-10-23T00:00:00.000000000',\n",
              "       '2017-10-22T00:00:00.000000000', '2017-10-21T00:00:00.000000000',\n",
              "       '2017-10-20T00:00:00.000000000', '2017-10-19T00:00:00.000000000',\n",
              "       '2017-10-18T00:00:00.000000000', '2017-10-17T00:00:00.000000000',\n",
              "       '2017-10-16T00:00:00.000000000', '2017-10-15T00:00:00.000000000',\n",
              "       '2017-10-14T00:00:00.000000000', '2017-10-13T00:00:00.000000000',\n",
              "       '2017-10-12T00:00:00.000000000', '2017-10-11T00:00:00.000000000',\n",
              "       '2017-10-10T00:00:00.000000000', '2017-10-09T00:00:00.000000000',\n",
              "       '2017-10-08T00:00:00.000000000', '2017-10-07T00:00:00.000000000',\n",
              "       '2017-10-06T00:00:00.000000000', '2017-10-05T00:00:00.000000000',\n",
              "       '2017-10-04T00:00:00.000000000', '2017-10-03T00:00:00.000000000',\n",
              "       '2017-10-02T00:00:00.000000000', '2017-10-01T00:00:00.000000000',\n",
              "       '2017-09-30T00:00:00.000000000', '2017-09-29T00:00:00.000000000',\n",
              "       '2017-09-28T00:00:00.000000000', '2017-09-27T00:00:00.000000000',\n",
              "       '2017-09-26T00:00:00.000000000', '2017-09-25T00:00:00.000000000',\n",
              "       '2017-09-24T00:00:00.000000000', '2017-09-23T00:00:00.000000000',\n",
              "       '2017-09-22T00:00:00.000000000', '2017-09-21T00:00:00.000000000',\n",
              "       '2017-09-20T00:00:00.000000000', '2017-09-19T00:00:00.000000000',\n",
              "       '2017-09-18T00:00:00.000000000', '2017-09-17T00:00:00.000000000',\n",
              "       '2017-09-16T00:00:00.000000000', '2017-09-15T00:00:00.000000000',\n",
              "       '2017-09-14T00:00:00.000000000', '2017-09-13T00:00:00.000000000',\n",
              "       '2017-09-12T00:00:00.000000000', '2017-09-11T00:00:00.000000000',\n",
              "       '2017-09-10T00:00:00.000000000', '2017-09-09T00:00:00.000000000',\n",
              "       '2017-09-08T00:00:00.000000000', '2017-09-07T00:00:00.000000000',\n",
              "       '2017-09-06T00:00:00.000000000', '2017-09-05T00:00:00.000000000',\n",
              "       '2017-09-04T00:00:00.000000000', '2017-09-03T00:00:00.000000000',\n",
              "       '2017-09-02T00:00:00.000000000', '2017-09-01T00:00:00.000000000',\n",
              "       '2017-08-31T00:00:00.000000000', '2017-08-30T00:00:00.000000000',\n",
              "       '2017-08-29T00:00:00.000000000', '2017-08-28T00:00:00.000000000',\n",
              "       '2017-08-27T00:00:00.000000000', '2017-08-26T00:00:00.000000000',\n",
              "       '2017-08-25T00:00:00.000000000', '2017-08-24T00:00:00.000000000',\n",
              "       '2017-08-23T00:00:00.000000000', '2017-08-22T00:00:00.000000000',\n",
              "       '2017-08-21T00:00:00.000000000', '2017-08-20T00:00:00.000000000',\n",
              "       '2017-08-19T00:00:00.000000000', '2017-08-18T00:00:00.000000000',\n",
              "       '2017-08-17T00:00:00.000000000', '2017-08-16T00:00:00.000000000',\n",
              "       '2017-08-15T00:00:00.000000000', '2017-08-14T00:00:00.000000000',\n",
              "       '2017-08-13T00:00:00.000000000', '2017-08-12T00:00:00.000000000',\n",
              "       '2017-08-11T00:00:00.000000000', '2017-08-10T00:00:00.000000000',\n",
              "       '2017-08-09T00:00:00.000000000', '2017-08-08T00:00:00.000000000',\n",
              "       '2017-08-07T00:00:00.000000000', '2017-08-06T00:00:00.000000000',\n",
              "       '2017-08-05T00:00:00.000000000', '2017-08-04T00:00:00.000000000',\n",
              "       '2017-08-03T00:00:00.000000000', '2017-08-02T00:00:00.000000000',\n",
              "       '2017-08-01T00:00:00.000000000', '2017-07-31T00:00:00.000000000',\n",
              "       '2017-07-30T00:00:00.000000000', '2017-07-29T00:00:00.000000000',\n",
              "       '2017-07-28T00:00:00.000000000', '2017-07-27T00:00:00.000000000',\n",
              "       '2017-07-26T00:00:00.000000000', '2017-07-25T00:00:00.000000000',\n",
              "       '2017-07-24T00:00:00.000000000', '2017-07-23T00:00:00.000000000',\n",
              "       '2017-07-22T00:00:00.000000000', '2017-07-21T00:00:00.000000000',\n",
              "       '2017-07-20T00:00:00.000000000', '2017-07-19T00:00:00.000000000',\n",
              "       '2017-07-18T00:00:00.000000000', '2017-07-17T00:00:00.000000000',\n",
              "       '2017-07-16T00:00:00.000000000', '2017-07-15T00:00:00.000000000',\n",
              "       '2017-07-14T00:00:00.000000000', '2017-07-13T00:00:00.000000000',\n",
              "       '2017-07-12T00:00:00.000000000', '2017-07-11T00:00:00.000000000',\n",
              "       '2017-07-10T00:00:00.000000000', '2017-07-09T00:00:00.000000000',\n",
              "       '2017-07-08T00:00:00.000000000', '2017-07-07T00:00:00.000000000',\n",
              "       '2017-07-06T00:00:00.000000000', '2017-07-05T00:00:00.000000000',\n",
              "       '2017-07-04T00:00:00.000000000', '2017-07-03T00:00:00.000000000',\n",
              "       '2017-07-02T00:00:00.000000000', '2017-07-01T00:00:00.000000000',\n",
              "       '2017-06-30T00:00:00.000000000', '2017-06-29T00:00:00.000000000',\n",
              "       '2017-06-28T00:00:00.000000000', '2017-06-27T00:00:00.000000000',\n",
              "       '2017-06-26T00:00:00.000000000', '2017-06-25T00:00:00.000000000',\n",
              "       '2017-06-24T00:00:00.000000000', '2017-06-23T00:00:00.000000000',\n",
              "       '2017-06-22T00:00:00.000000000', '2017-06-21T00:00:00.000000000',\n",
              "       '2017-06-20T00:00:00.000000000', '2017-06-19T00:00:00.000000000',\n",
              "       '2017-06-18T00:00:00.000000000', '2017-06-17T00:00:00.000000000',\n",
              "       '2017-06-16T00:00:00.000000000', '2017-06-15T00:00:00.000000000',\n",
              "       '2017-06-14T00:00:00.000000000', '2017-06-13T00:00:00.000000000',\n",
              "       '2017-06-12T00:00:00.000000000', '2017-06-11T00:00:00.000000000',\n",
              "       '2017-06-10T00:00:00.000000000', '2017-06-09T00:00:00.000000000',\n",
              "       '2017-06-08T00:00:00.000000000', '2017-06-07T00:00:00.000000000',\n",
              "       '2017-06-06T00:00:00.000000000', '2017-06-05T00:00:00.000000000',\n",
              "       '2017-06-04T00:00:00.000000000', '2017-06-03T00:00:00.000000000',\n",
              "       '2017-06-02T00:00:00.000000000', '2017-06-01T00:00:00.000000000',\n",
              "       '2017-05-31T00:00:00.000000000', '2017-05-30T00:00:00.000000000',\n",
              "       '2017-05-29T00:00:00.000000000', '2017-05-28T00:00:00.000000000',\n",
              "       '2017-05-27T00:00:00.000000000', '2017-05-26T00:00:00.000000000',\n",
              "       '2017-05-25T00:00:00.000000000', '2017-05-24T00:00:00.000000000',\n",
              "       '2017-05-23T00:00:00.000000000', '2017-05-22T00:00:00.000000000',\n",
              "       '2017-05-21T00:00:00.000000000', '2017-05-20T00:00:00.000000000',\n",
              "       '2017-05-19T00:00:00.000000000', '2017-05-18T00:00:00.000000000',\n",
              "       '2017-05-17T00:00:00.000000000', '2017-05-16T00:00:00.000000000',\n",
              "       '2017-05-15T00:00:00.000000000', '2017-05-14T00:00:00.000000000',\n",
              "       '2017-05-13T00:00:00.000000000', '2017-05-12T00:00:00.000000000',\n",
              "       '2017-05-11T00:00:00.000000000', '2017-05-10T00:00:00.000000000',\n",
              "       '2017-05-09T00:00:00.000000000', '2017-05-08T00:00:00.000000000',\n",
              "       '2017-05-07T00:00:00.000000000', '2017-05-06T00:00:00.000000000',\n",
              "       '2017-05-05T00:00:00.000000000', '2017-05-04T00:00:00.000000000',\n",
              "       '2017-05-03T00:00:00.000000000', '2017-05-02T00:00:00.000000000',\n",
              "       '2017-05-01T00:00:00.000000000', '2017-04-30T00:00:00.000000000',\n",
              "       '2017-04-29T00:00:00.000000000', '2017-04-28T00:00:00.000000000',\n",
              "       '2017-04-27T00:00:00.000000000', '2017-04-26T00:00:00.000000000',\n",
              "       '2017-04-25T00:00:00.000000000', '2017-04-24T00:00:00.000000000',\n",
              "       '2017-04-23T00:00:00.000000000', '2017-04-22T00:00:00.000000000',\n",
              "       '2017-04-21T00:00:00.000000000', '2017-04-20T00:00:00.000000000',\n",
              "       '2017-04-19T00:00:00.000000000', '2017-04-18T00:00:00.000000000',\n",
              "       '2017-04-17T00:00:00.000000000', '2017-04-16T00:00:00.000000000',\n",
              "       '2017-04-15T00:00:00.000000000', '2017-04-14T00:00:00.000000000',\n",
              "       '2017-04-13T00:00:00.000000000', '2017-04-12T00:00:00.000000000',\n",
              "       '2017-04-11T00:00:00.000000000', '2017-04-10T00:00:00.000000000',\n",
              "       '2017-04-09T00:00:00.000000000', '2017-04-08T00:00:00.000000000',\n",
              "       '2017-04-07T00:00:00.000000000', '2017-04-06T00:00:00.000000000',\n",
              "       '2017-04-05T00:00:00.000000000', '2017-04-04T00:00:00.000000000',\n",
              "       '2017-04-03T00:00:00.000000000', '2017-04-02T00:00:00.000000000',\n",
              "       '2017-04-01T00:00:00.000000000', '2017-03-31T00:00:00.000000000',\n",
              "       '2017-03-30T00:00:00.000000000', '2017-03-29T00:00:00.000000000',\n",
              "       '2017-03-28T00:00:00.000000000', '2017-03-27T00:00:00.000000000',\n",
              "       '2017-03-26T00:00:00.000000000', '2017-03-25T00:00:00.000000000',\n",
              "       '2017-03-24T00:00:00.000000000', '2017-03-23T00:00:00.000000000',\n",
              "       '2017-03-22T00:00:00.000000000', '2017-03-21T00:00:00.000000000',\n",
              "       '2017-03-20T00:00:00.000000000', '2017-03-19T00:00:00.000000000',\n",
              "       '2017-03-18T00:00:00.000000000', '2017-03-17T00:00:00.000000000',\n",
              "       '2017-03-16T00:00:00.000000000', '2017-03-15T00:00:00.000000000',\n",
              "       '2017-03-14T00:00:00.000000000', '2017-03-13T00:00:00.000000000',\n",
              "       '2017-03-12T00:00:00.000000000', '2017-03-11T00:00:00.000000000',\n",
              "       '2017-03-10T00:00:00.000000000', '2017-03-09T00:00:00.000000000',\n",
              "       '2017-03-08T00:00:00.000000000', '2017-03-07T00:00:00.000000000',\n",
              "       '2017-03-06T00:00:00.000000000', '2017-03-05T00:00:00.000000000',\n",
              "       '2017-03-04T00:00:00.000000000', '2017-03-03T00:00:00.000000000',\n",
              "       '2017-03-02T00:00:00.000000000', '2017-03-01T00:00:00.000000000',\n",
              "       '2017-02-28T00:00:00.000000000', '2017-02-27T00:00:00.000000000',\n",
              "       '2017-02-26T00:00:00.000000000', '2017-02-25T00:00:00.000000000',\n",
              "       '2017-02-24T00:00:00.000000000', '2017-02-23T00:00:00.000000000',\n",
              "       '2017-02-22T00:00:00.000000000', '2017-02-21T00:00:00.000000000',\n",
              "       '2017-02-20T00:00:00.000000000', '2017-02-19T00:00:00.000000000',\n",
              "       '2017-02-18T00:00:00.000000000', '2017-02-17T00:00:00.000000000',\n",
              "       '2017-02-16T00:00:00.000000000', '2017-02-15T00:00:00.000000000',\n",
              "       '2017-02-14T00:00:00.000000000', '2017-02-13T00:00:00.000000000',\n",
              "       '2017-02-12T00:00:00.000000000', '2017-02-11T00:00:00.000000000',\n",
              "       '2017-02-10T00:00:00.000000000', '2017-02-09T00:00:00.000000000',\n",
              "       '2017-02-08T00:00:00.000000000', '2017-02-07T00:00:00.000000000',\n",
              "       '2017-02-06T00:00:00.000000000', '2017-02-05T00:00:00.000000000',\n",
              "       '2017-02-04T00:00:00.000000000', '2017-02-03T00:00:00.000000000',\n",
              "       '2017-02-02T00:00:00.000000000', '2017-02-01T00:00:00.000000000',\n",
              "       '2017-01-31T00:00:00.000000000', '2017-01-30T00:00:00.000000000',\n",
              "       '2017-01-29T00:00:00.000000000', '2017-01-28T00:00:00.000000000',\n",
              "       '2017-01-27T00:00:00.000000000', '2017-01-26T00:00:00.000000000',\n",
              "       '2017-01-25T00:00:00.000000000', '2017-01-24T00:00:00.000000000',\n",
              "       '2017-01-23T00:00:00.000000000', '2017-01-22T00:00:00.000000000',\n",
              "       '2017-01-21T00:00:00.000000000', '2017-01-20T00:00:00.000000000',\n",
              "       '2017-01-19T00:00:00.000000000', '2017-01-18T00:00:00.000000000',\n",
              "       '2017-01-17T00:00:00.000000000', '2017-01-16T00:00:00.000000000',\n",
              "       '2017-01-15T00:00:00.000000000', '2017-01-14T00:00:00.000000000',\n",
              "       '2017-01-13T00:00:00.000000000', '2017-01-12T00:00:00.000000000',\n",
              "       '2017-01-11T00:00:00.000000000', '2017-01-10T00:00:00.000000000',\n",
              "       '2017-01-09T00:00:00.000000000', '2017-01-08T00:00:00.000000000',\n",
              "       '2017-01-07T00:00:00.000000000', '2017-01-06T00:00:00.000000000',\n",
              "       '2017-01-05T00:00:00.000000000', '2017-01-04T00:00:00.000000000',\n",
              "       '2017-01-03T00:00:00.000000000', '2017-01-02T00:00:00.000000000',\n",
              "       '2017-01-01T00:00:00.000000000', '2016-12-31T00:00:00.000000000',\n",
              "       '2016-12-30T00:00:00.000000000', '2016-12-29T00:00:00.000000000',\n",
              "       '2016-12-28T00:00:00.000000000', '2016-12-27T00:00:00.000000000',\n",
              "       '2016-12-26T00:00:00.000000000', '2016-12-25T00:00:00.000000000',\n",
              "       '2016-12-24T00:00:00.000000000', '2016-12-23T00:00:00.000000000',\n",
              "       '2016-12-22T00:00:00.000000000', '2016-12-21T00:00:00.000000000',\n",
              "       '2016-12-20T00:00:00.000000000', '2016-12-19T00:00:00.000000000',\n",
              "       '2016-12-18T00:00:00.000000000', '2016-12-17T00:00:00.000000000',\n",
              "       '2016-12-16T00:00:00.000000000', '2016-12-15T00:00:00.000000000',\n",
              "       '2016-12-14T00:00:00.000000000', '2016-12-13T00:00:00.000000000',\n",
              "       '2016-12-12T00:00:00.000000000', '2016-12-11T00:00:00.000000000',\n",
              "       '2016-12-10T00:00:00.000000000', '2016-12-09T00:00:00.000000000',\n",
              "       '2016-12-08T00:00:00.000000000', '2016-12-07T00:00:00.000000000',\n",
              "       '2016-12-06T00:00:00.000000000', '2016-12-05T00:00:00.000000000',\n",
              "       '2016-12-04T00:00:00.000000000', '2016-12-03T00:00:00.000000000',\n",
              "       '2016-12-02T00:00:00.000000000', '2016-12-01T00:00:00.000000000',\n",
              "       '2016-11-30T00:00:00.000000000', '2016-11-29T00:00:00.000000000',\n",
              "       '2016-11-28T00:00:00.000000000', '2016-11-27T00:00:00.000000000',\n",
              "       '2016-11-26T00:00:00.000000000', '2016-11-25T00:00:00.000000000',\n",
              "       '2016-11-24T00:00:00.000000000', '2016-11-23T00:00:00.000000000',\n",
              "       '2016-11-22T00:00:00.000000000', '2016-11-21T00:00:00.000000000',\n",
              "       '2016-11-20T00:00:00.000000000', '2016-11-19T00:00:00.000000000',\n",
              "       '2016-11-18T00:00:00.000000000', '2016-11-17T00:00:00.000000000',\n",
              "       '2016-11-16T00:00:00.000000000', '2016-11-15T00:00:00.000000000',\n",
              "       '2016-11-14T00:00:00.000000000', '2016-11-13T00:00:00.000000000',\n",
              "       '2016-11-12T00:00:00.000000000', '2016-11-11T00:00:00.000000000',\n",
              "       '2016-11-10T00:00:00.000000000', '2016-11-09T00:00:00.000000000',\n",
              "       '2016-11-08T00:00:00.000000000', '2016-11-07T00:00:00.000000000',\n",
              "       '2016-11-06T00:00:00.000000000', '2016-11-05T00:00:00.000000000',\n",
              "       '2016-11-04T00:00:00.000000000', '2016-11-03T00:00:00.000000000',\n",
              "       '2016-11-02T00:00:00.000000000', '2016-11-01T00:00:00.000000000',\n",
              "       '2016-10-31T00:00:00.000000000', '2016-10-30T00:00:00.000000000',\n",
              "       '2016-10-29T00:00:00.000000000', '2016-10-28T00:00:00.000000000',\n",
              "       '2016-10-27T00:00:00.000000000', '2016-10-26T00:00:00.000000000',\n",
              "       '2016-10-25T00:00:00.000000000', '2016-10-24T00:00:00.000000000',\n",
              "       '2016-10-23T00:00:00.000000000', '2016-10-22T00:00:00.000000000',\n",
              "       '2016-10-21T00:00:00.000000000', '2016-10-20T00:00:00.000000000',\n",
              "       '2016-10-19T00:00:00.000000000', '2016-10-18T00:00:00.000000000',\n",
              "       '2016-10-17T00:00:00.000000000', '2016-10-16T00:00:00.000000000',\n",
              "       '2016-10-15T00:00:00.000000000', '2016-10-14T00:00:00.000000000',\n",
              "       '2016-10-13T00:00:00.000000000', '2016-10-12T00:00:00.000000000',\n",
              "       '2016-10-11T00:00:00.000000000', '2016-10-10T00:00:00.000000000',\n",
              "       '2016-10-09T00:00:00.000000000', '2016-10-08T00:00:00.000000000',\n",
              "       '2016-10-07T00:00:00.000000000', '2016-10-06T00:00:00.000000000',\n",
              "       '2016-10-05T00:00:00.000000000', '2016-10-04T00:00:00.000000000',\n",
              "       '2016-10-03T00:00:00.000000000', '2016-10-02T00:00:00.000000000',\n",
              "       '2016-10-01T00:00:00.000000000', '2016-09-30T00:00:00.000000000',\n",
              "       '2016-09-29T00:00:00.000000000', '2016-09-28T00:00:00.000000000',\n",
              "       '2016-09-27T00:00:00.000000000', '2016-09-26T00:00:00.000000000',\n",
              "       '2016-09-25T00:00:00.000000000', '2016-09-24T00:00:00.000000000',\n",
              "       '2016-09-23T00:00:00.000000000', '2016-09-22T00:00:00.000000000',\n",
              "       '2016-09-21T00:00:00.000000000', '2016-09-20T00:00:00.000000000',\n",
              "       '2016-09-19T00:00:00.000000000', '2016-09-18T00:00:00.000000000',\n",
              "       '2016-09-17T00:00:00.000000000', '2016-09-16T00:00:00.000000000',\n",
              "       '2016-09-15T00:00:00.000000000', '2016-09-14T00:00:00.000000000',\n",
              "       '2016-09-13T00:00:00.000000000', '2016-09-12T00:00:00.000000000',\n",
              "       '2016-09-11T00:00:00.000000000', '2016-09-10T00:00:00.000000000',\n",
              "       '2016-09-09T00:00:00.000000000', '2016-09-08T00:00:00.000000000',\n",
              "       '2016-09-07T00:00:00.000000000', '2016-09-06T00:00:00.000000000',\n",
              "       '2016-09-05T00:00:00.000000000', '2016-09-04T00:00:00.000000000',\n",
              "       '2016-09-03T00:00:00.000000000', '2016-09-02T00:00:00.000000000',\n",
              "       '2016-09-01T00:00:00.000000000', '2016-08-31T00:00:00.000000000',\n",
              "       '2016-08-30T00:00:00.000000000', '2016-08-29T00:00:00.000000000',\n",
              "       '2016-08-28T00:00:00.000000000', '2016-08-27T00:00:00.000000000',\n",
              "       '2016-08-26T00:00:00.000000000', '2016-08-25T00:00:00.000000000',\n",
              "       '2016-08-24T00:00:00.000000000', '2016-08-23T00:00:00.000000000',\n",
              "       '2016-08-22T00:00:00.000000000', '2016-08-21T00:00:00.000000000',\n",
              "       '2016-08-20T00:00:00.000000000', '2016-08-19T00:00:00.000000000',\n",
              "       '2016-08-18T00:00:00.000000000', '2016-08-17T00:00:00.000000000',\n",
              "       '2016-08-16T00:00:00.000000000', '2016-08-15T00:00:00.000000000',\n",
              "       '2016-08-14T00:00:00.000000000', '2016-08-13T00:00:00.000000000',\n",
              "       '2016-08-12T00:00:00.000000000', '2016-08-11T00:00:00.000000000',\n",
              "       '2016-08-10T00:00:00.000000000', '2016-08-09T00:00:00.000000000',\n",
              "       '2016-08-08T00:00:00.000000000', '2016-08-07T00:00:00.000000000',\n",
              "       '2016-08-06T00:00:00.000000000', '2016-08-05T00:00:00.000000000',\n",
              "       '2016-08-04T00:00:00.000000000', '2016-08-03T00:00:00.000000000',\n",
              "       '2016-08-02T00:00:00.000000000', '2016-08-01T00:00:00.000000000',\n",
              "       '2016-07-31T00:00:00.000000000', '2016-07-30T00:00:00.000000000',\n",
              "       '2016-07-29T00:00:00.000000000', '2016-07-28T00:00:00.000000000',\n",
              "       '2016-07-27T00:00:00.000000000', '2016-07-26T00:00:00.000000000',\n",
              "       '2016-07-25T00:00:00.000000000', '2016-07-24T00:00:00.000000000',\n",
              "       '2016-07-23T00:00:00.000000000', '2016-07-22T00:00:00.000000000',\n",
              "       '2016-07-21T00:00:00.000000000', '2016-07-20T00:00:00.000000000',\n",
              "       '2016-07-19T00:00:00.000000000', '2016-07-18T00:00:00.000000000',\n",
              "       '2016-07-17T00:00:00.000000000', '2016-07-16T00:00:00.000000000',\n",
              "       '2016-07-15T00:00:00.000000000', '2016-07-14T00:00:00.000000000',\n",
              "       '2016-07-13T00:00:00.000000000', '2016-07-12T00:00:00.000000000',\n",
              "       '2016-07-11T00:00:00.000000000', '2016-07-10T00:00:00.000000000',\n",
              "       '2016-07-09T00:00:00.000000000', '2016-07-08T00:00:00.000000000',\n",
              "       '2016-07-07T00:00:00.000000000', '2016-07-06T00:00:00.000000000',\n",
              "       '2016-07-05T00:00:00.000000000', '2016-07-04T00:00:00.000000000',\n",
              "       '2016-07-03T00:00:00.000000000', '2016-07-02T00:00:00.000000000',\n",
              "       '2016-07-01T00:00:00.000000000', '2016-06-30T00:00:00.000000000',\n",
              "       '2016-06-29T00:00:00.000000000', '2016-06-28T00:00:00.000000000',\n",
              "       '2016-06-27T00:00:00.000000000', '2016-06-26T00:00:00.000000000',\n",
              "       '2016-06-25T00:00:00.000000000', '2016-06-24T00:00:00.000000000',\n",
              "       '2016-06-23T00:00:00.000000000', '2016-06-22T00:00:00.000000000',\n",
              "       '2016-06-21T00:00:00.000000000', '2016-06-20T00:00:00.000000000',\n",
              "       '2016-06-19T00:00:00.000000000', '2016-06-18T00:00:00.000000000',\n",
              "       '2016-06-17T00:00:00.000000000', '2016-06-16T00:00:00.000000000',\n",
              "       '2016-06-15T00:00:00.000000000', '2016-06-14T00:00:00.000000000',\n",
              "       '2016-06-13T00:00:00.000000000', '2016-06-12T00:00:00.000000000',\n",
              "       '2016-06-11T00:00:00.000000000', '2016-06-10T00:00:00.000000000',\n",
              "       '2016-06-09T00:00:00.000000000', '2016-06-08T00:00:00.000000000',\n",
              "       '2016-06-07T00:00:00.000000000', '2016-06-06T00:00:00.000000000',\n",
              "       '2016-06-05T00:00:00.000000000', '2016-06-04T00:00:00.000000000',\n",
              "       '2016-06-03T00:00:00.000000000', '2016-06-02T00:00:00.000000000',\n",
              "       '2016-06-01T00:00:00.000000000', '2016-05-31T00:00:00.000000000',\n",
              "       '2016-05-30T00:00:00.000000000', '2016-05-29T00:00:00.000000000',\n",
              "       '2016-05-28T00:00:00.000000000', '2016-05-27T00:00:00.000000000',\n",
              "       '2016-05-26T00:00:00.000000000', '2016-05-25T00:00:00.000000000',\n",
              "       '2016-05-24T00:00:00.000000000', '2016-05-23T00:00:00.000000000',\n",
              "       '2016-05-22T00:00:00.000000000', '2016-05-21T00:00:00.000000000',\n",
              "       '2016-05-20T00:00:00.000000000', '2016-05-19T00:00:00.000000000',\n",
              "       '2016-05-18T00:00:00.000000000', '2016-05-17T00:00:00.000000000',\n",
              "       '2016-05-16T00:00:00.000000000', '2016-05-15T00:00:00.000000000',\n",
              "       '2016-05-14T00:00:00.000000000', '2016-05-13T00:00:00.000000000',\n",
              "       '2016-05-12T00:00:00.000000000', '2016-05-11T00:00:00.000000000',\n",
              "       '2016-05-10T00:00:00.000000000', '2016-05-09T00:00:00.000000000',\n",
              "       '2016-05-08T00:00:00.000000000', '2016-05-07T00:00:00.000000000',\n",
              "       '2016-05-06T00:00:00.000000000', '2016-05-05T00:00:00.000000000',\n",
              "       '2016-05-04T00:00:00.000000000', '2016-05-03T00:00:00.000000000',\n",
              "       '2016-05-02T00:00:00.000000000', '2016-05-01T00:00:00.000000000',\n",
              "       '2016-04-30T00:00:00.000000000', '2016-04-29T00:00:00.000000000',\n",
              "       '2016-04-28T00:00:00.000000000', '2016-04-27T00:00:00.000000000',\n",
              "       '2016-04-26T00:00:00.000000000', '2016-04-25T00:00:00.000000000',\n",
              "       '2016-04-24T00:00:00.000000000', '2016-04-23T00:00:00.000000000',\n",
              "       '2016-04-22T00:00:00.000000000', '2016-04-21T00:00:00.000000000',\n",
              "       '2016-04-20T00:00:00.000000000', '2016-04-19T00:00:00.000000000',\n",
              "       '2016-04-18T00:00:00.000000000', '2016-04-17T00:00:00.000000000',\n",
              "       '2016-04-16T00:00:00.000000000', '2016-04-15T00:00:00.000000000',\n",
              "       '2016-04-14T00:00:00.000000000', '2016-04-13T00:00:00.000000000',\n",
              "       '2016-04-12T00:00:00.000000000', '2016-04-11T00:00:00.000000000',\n",
              "       '2016-04-10T00:00:00.000000000', '2016-04-09T00:00:00.000000000',\n",
              "       '2016-04-08T00:00:00.000000000', '2016-04-07T00:00:00.000000000',\n",
              "       '2016-04-06T00:00:00.000000000', '2016-04-05T00:00:00.000000000',\n",
              "       '2016-04-04T00:00:00.000000000', '2016-04-03T00:00:00.000000000',\n",
              "       '2016-04-02T00:00:00.000000000', '2016-04-01T00:00:00.000000000',\n",
              "       '2016-03-31T00:00:00.000000000', '2016-03-30T00:00:00.000000000',\n",
              "       '2016-03-29T00:00:00.000000000', '2016-03-28T00:00:00.000000000',\n",
              "       '2016-03-27T00:00:00.000000000', '2016-03-26T00:00:00.000000000',\n",
              "       '2016-03-25T00:00:00.000000000', '2016-03-24T00:00:00.000000000',\n",
              "       '2016-03-23T00:00:00.000000000', '2016-03-22T00:00:00.000000000',\n",
              "       '2016-03-21T00:00:00.000000000', '2016-03-20T00:00:00.000000000',\n",
              "       '2016-03-19T00:00:00.000000000', '2016-03-18T00:00:00.000000000',\n",
              "       '2016-03-17T00:00:00.000000000', '2016-03-16T00:00:00.000000000',\n",
              "       '2016-03-15T00:00:00.000000000', '2016-03-14T00:00:00.000000000',\n",
              "       '2016-03-13T00:00:00.000000000', '2016-03-12T00:00:00.000000000',\n",
              "       '2016-03-11T00:00:00.000000000', '2016-03-10T00:00:00.000000000',\n",
              "       '2016-03-09T00:00:00.000000000', '2016-03-08T00:00:00.000000000',\n",
              "       '2016-03-07T00:00:00.000000000', '2016-03-06T00:00:00.000000000',\n",
              "       '2016-03-05T00:00:00.000000000', '2016-03-04T00:00:00.000000000',\n",
              "       '2016-03-03T00:00:00.000000000', '2016-03-02T00:00:00.000000000',\n",
              "       '2016-03-01T00:00:00.000000000', '2016-02-29T00:00:00.000000000',\n",
              "       '2016-02-28T00:00:00.000000000', '2016-02-27T00:00:00.000000000',\n",
              "       '2016-02-26T00:00:00.000000000', '2016-02-25T00:00:00.000000000',\n",
              "       '2016-02-24T00:00:00.000000000', '2016-02-23T00:00:00.000000000',\n",
              "       '2016-02-22T00:00:00.000000000', '2016-02-21T00:00:00.000000000',\n",
              "       '2016-02-20T00:00:00.000000000', '2016-02-19T00:00:00.000000000',\n",
              "       '2016-02-18T00:00:00.000000000', '2016-02-17T00:00:00.000000000',\n",
              "       '2016-02-16T00:00:00.000000000', '2016-02-15T00:00:00.000000000',\n",
              "       '2016-02-14T00:00:00.000000000', '2016-02-13T00:00:00.000000000',\n",
              "       '2016-02-12T00:00:00.000000000', '2016-02-11T00:00:00.000000000',\n",
              "       '2016-02-10T00:00:00.000000000', '2016-02-09T00:00:00.000000000',\n",
              "       '2016-02-08T00:00:00.000000000', '2016-02-07T00:00:00.000000000',\n",
              "       '2016-02-06T00:00:00.000000000', '2016-02-05T00:00:00.000000000',\n",
              "       '2016-02-04T00:00:00.000000000', '2016-02-03T00:00:00.000000000',\n",
              "       '2016-02-02T00:00:00.000000000', '2016-02-01T00:00:00.000000000',\n",
              "       '2016-01-31T00:00:00.000000000', '2016-01-30T00:00:00.000000000',\n",
              "       '2016-01-29T00:00:00.000000000', '2016-01-28T00:00:00.000000000',\n",
              "       '2016-01-27T00:00:00.000000000', '2016-01-26T00:00:00.000000000',\n",
              "       '2016-01-25T00:00:00.000000000', '2016-01-24T00:00:00.000000000',\n",
              "       '2016-01-23T00:00:00.000000000', '2016-01-22T00:00:00.000000000',\n",
              "       '2016-01-21T00:00:00.000000000', '2016-01-20T00:00:00.000000000',\n",
              "       '2016-01-19T00:00:00.000000000', '2016-01-18T00:00:00.000000000',\n",
              "       '2016-01-17T00:00:00.000000000', '2016-01-16T00:00:00.000000000',\n",
              "       '2016-01-15T00:00:00.000000000', '2016-01-14T00:00:00.000000000',\n",
              "       '2016-01-13T00:00:00.000000000', '2016-01-12T00:00:00.000000000',\n",
              "       '2016-01-11T00:00:00.000000000', '2016-01-10T00:00:00.000000000',\n",
              "       '2016-01-09T00:00:00.000000000', '2016-01-08T00:00:00.000000000',\n",
              "       '2016-01-07T00:00:00.000000000', '2016-01-06T00:00:00.000000000',\n",
              "       '2016-01-05T00:00:00.000000000', '2016-01-04T00:00:00.000000000',\n",
              "       '2016-01-03T00:00:00.000000000', '2016-01-02T00:00:00.000000000',\n",
              "       '2016-01-01T00:00:00.000000000',                           'NaT',\n",
              "       '2015-05-31T00:00:00.000000000', '2015-05-30T00:00:00.000000000',\n",
              "       '2015-05-29T00:00:00.000000000', '2015-05-28T00:00:00.000000000',\n",
              "       '2015-05-27T00:00:00.000000000', '2015-05-26T00:00:00.000000000',\n",
              "       '2015-05-25T00:00:00.000000000', '2015-05-24T00:00:00.000000000',\n",
              "       '2015-05-23T00:00:00.000000000', '2015-05-22T00:00:00.000000000',\n",
              "       '2015-05-21T00:00:00.000000000', '2015-05-20T00:00:00.000000000',\n",
              "       '2015-05-19T00:00:00.000000000', '2015-05-18T00:00:00.000000000',\n",
              "       '2015-05-17T00:00:00.000000000', '2015-05-16T00:00:00.000000000',\n",
              "       '2015-05-15T00:00:00.000000000', '2015-05-14T00:00:00.000000000',\n",
              "       '2015-05-13T00:00:00.000000000', '2015-05-12T00:00:00.000000000',\n",
              "       '2015-05-11T00:00:00.000000000', '2015-05-10T00:00:00.000000000',\n",
              "       '2015-05-09T00:00:00.000000000', '2015-05-08T00:00:00.000000000',\n",
              "       '2015-05-07T00:00:00.000000000', '2015-05-06T00:00:00.000000000',\n",
              "       '2015-05-05T00:00:00.000000000', '2015-05-04T00:00:00.000000000',\n",
              "       '2015-05-01T00:00:00.000000000', '2015-05-02T00:00:00.000000000',\n",
              "       '2017-12-28T00:00:00.000000000', '2017-12-18T00:00:00.000000000',\n",
              "       '2017-12-14T00:00:00.000000000', '2017-12-08T00:00:00.000000000'],\n",
              "      dtype='datetime64[ns]')"
            ]
          },
          "execution_count": 33,
          "metadata": {},
          "output_type": "execute_result"
        }
      ],
      "source": [
        "# Exploración del campo creado para la fecha\n",
        "news_false['date_new'].unique()"
      ]
    },
    {
      "cell_type": "code",
      "execution_count": 34,
      "metadata": {
        "id": "d_YGI0me2ZVR"
      },
      "outputs": [],
      "source": [
        "# Cálculo de la extensión del título (title) y contenido (text) de las noticias reales\n",
        "news_false['len_title'] = (news_false['title'].str.strip()).str.len()\n",
        "news_false['len_text'] = (news_false['text'].str.strip()).str.len()"
      ]
    },
    {
      "cell_type": "code",
      "execution_count": 35,
      "metadata": {
        "id": "ocRjp7Ya2gv3"
      },
      "outputs": [],
      "source": [
        "# Análisis de la extensión del título (title) y contenido (text) de las noticias reales\n",
        "min_title_false = min(news_false['len_title'])\n",
        "max_title_false = max(news_false['len_title'])\n",
        "ave_title_false = mean(news_false['len_title'])\n",
        "min_text_false = min(news_false['len_text'])\n",
        "max_text_false = max(news_false['len_text'])\n",
        "ave_text_false = mean(news_false['len_text'])"
      ]
    },
    {
      "cell_type": "code",
      "execution_count": 37,
      "metadata": {
        "colab": {
          "base_uri": "https://localhost:8080/"
        },
        "id": "-00rUXZM2nsb",
        "outputId": "e40e7e00-3e0b-44a0-ccf8-2322505fa4b3"
      },
      "outputs": [
        {
          "name": "stdout",
          "output_type": "stream",
          "text": [
            "Tamaño Máximo del título: 279 caracteres. Tamaño Mínimo del título: 8 caracteres, Tamaño promedio del título: 94 caracteres\n",
            "Tamaño Máximo del contenido: 51793 caracteres. Tamaño Mínimo del contenido: 0 caracteres, Tamaño promedio del contenido: 2547 caracteres\n"
          ]
        }
      ],
      "source": [
        "print(f\"Tamaño Máximo del título: {max_title_false} caracteres. Tamaño Mínimo del título: {min_title_false} caracteres, Tamaño promedio del título: { round(ave_title_false)} caracteres\")\n",
        "print(f\"Tamaño Máximo del contenido: {max_text_false} caracteres. Tamaño Mínimo del contenido: {min_text_false} caracteres, Tamaño promedio del contenido: { round(ave_text_false)} caracteres\")"
      ]
    },
    {
      "cell_type": "code",
      "execution_count": 38,
      "metadata": {
        "colab": {
          "base_uri": "https://localhost:8080/"
        },
        "id": "YxL8Y1Kj4Hpe",
        "outputId": "d1ac7ab1-b1cd-444d-8b4d-29f2016e4e72"
      },
      "outputs": [
        {
          "data": {
            "text/plain": [
              "title        630\n",
              "text         630\n",
              "subject      630\n",
              "date         630\n",
              "date_new      39\n",
              "len_title    630\n",
              "len_text     630\n",
              "dtype: int64"
            ]
          },
          "execution_count": 38,
          "metadata": {},
          "output_type": "execute_result"
        }
      ],
      "source": [
        "# Registros sin información en el campo texto\n",
        "reg_sininfo = news_false[news_false['len_text'] == 0 ]\n",
        "reg_sininfo.count()"
      ]
    },
    {
      "cell_type": "code",
      "execution_count": 55,
      "metadata": {
        "id": "rMETDRmN3N50"
      },
      "outputs": [],
      "source": [
        "# Se crea un nuevo dataframe eliminando los registros sin información en el campo text\n",
        "news_false_mod = news_false[news_false['len_text'] > 0]"
      ]
    },
    {
      "cell_type": "code",
      "execution_count": 56,
      "metadata": {
        "colab": {
          "base_uri": "https://localhost:8080/"
        },
        "id": "6_Cr6o1Z4rWe",
        "outputId": "f48e7a11-fada-43dc-98cb-7962fb93b5ef"
      },
      "outputs": [
        {
          "data": {
            "text/plain": [
              "title        22851\n",
              "text         22851\n",
              "subject      22851\n",
              "date         22851\n",
              "date_new     11829\n",
              "len_title    22851\n",
              "len_text     22851\n",
              "dtype: int64"
            ]
          },
          "execution_count": 56,
          "metadata": {},
          "output_type": "execute_result"
        }
      ],
      "source": [
        "# Número de registros en el dataframe de noticias falsa modificado\n",
        "news_false_mod.count()"
      ]
    },
    {
      "cell_type": "code",
      "execution_count": 57,
      "metadata": {
        "id": "vq3XPJrY3Zb-"
      },
      "outputs": [],
      "source": [
        "# Se calcula de nuevo los valores min, max y promedio en longitud \n",
        "min_text_false = min(news_false_mod['len_text'])\n",
        "max_text_false = max(news_false_mod['len_text'])\n",
        "ave_text_false = mean(news_false_mod['len_text'])"
      ]
    },
    {
      "cell_type": "code",
      "execution_count": 58,
      "metadata": {
        "colab": {
          "base_uri": "https://localhost:8080/"
        },
        "id": "cJaxc8VN3h5G",
        "outputId": "ed860ed5-11a3-4216-ac1a-5d8d4b134b40"
      },
      "outputs": [
        {
          "name": "stdout",
          "output_type": "stream",
          "text": [
            "Tamaño Máximo del contenido: 51793 caracteres. Tamaño mínimo del contenido: 5 caracteres, Tamaño promedio del contenido: 2617 caracteres\n"
          ]
        }
      ],
      "source": [
        "print(f\"Tamaño Máximo del contenido: {max_text_false} caracteres. Tamaño mínimo del contenido: {min_text_false} caracteres, Tamaño promedio del contenido: { round(ave_text_false)} caracteres\")"
      ]
    },
    {
      "cell_type": "code",
      "execution_count": 59,
      "metadata": {},
      "outputs": [
        {
          "data": {
            "text/plain": [
              "title        211\n",
              "text         211\n",
              "subject      211\n",
              "date         211\n",
              "date_new       9\n",
              "len_title    211\n",
              "len_text     211\n",
              "dtype: int64"
            ]
          },
          "execution_count": 59,
          "metadata": {},
          "output_type": "execute_result"
        }
      ],
      "source": [
        "# Registros con muy pocos caracteres en el campo texto, analizando el nuevo dataframe modificado\n",
        "size_limit = 50\n",
        "reg_lowinfo = news_false_mod[news_false_mod['len_text'] <= size_limit ]\n",
        "reg_lowinfo.count()"
      ]
    },
    {
      "cell_type": "code",
      "execution_count": 61,
      "metadata": {},
      "outputs": [
        {
          "data": {
            "text/plain": [
              "11117                                               Enjoy:\n",
              "11251          https://www.youtube.com/watch?v=cJZFepSvxzM\n",
              "11286          https://www.youtube.com/watch?v=-7Tn4gi_Os8\n",
              "11315          https://www.youtube.com/watch?v=SH0pRtK9sAE\n",
              "11316          https://www.youtube.com/watch?v=DRLVvYzG46w\n",
              "                               ...                        \n",
              "21209                     When karma bites ya  in the a*s \n",
              "21503                    My brothers DIED for that flag!  \n",
              "21659    Here s a mom who knows how to raise her children \n",
              "21882                         You won t want to miss this \n",
              "21909    PRETTY FUNNY STUFF-MAKE SURE TO WATCH TO THE END.\n",
              "Name: text, Length: 211, dtype: object"
            ]
          },
          "execution_count": 61,
          "metadata": {},
          "output_type": "execute_result"
        }
      ],
      "source": [
        "# Inspección de los registros cuyo tamaño del contenido es menor o igual a 50 caracteres\n",
        "reg_lowinfo['text']"
      ]
    },
    {
      "cell_type": "code",
      "execution_count": 64,
      "metadata": {},
      "outputs": [],
      "source": [
        "# Se crea un nuevo dataframe eliminando los registros cuto tamaño del campo text es inferior o igual al límite establecido\n",
        "news_false_mod2 = news_false_mod[news_false_mod['len_text'] > size_limit]"
      ]
    },
    {
      "cell_type": "code",
      "execution_count": 101,
      "metadata": {},
      "outputs": [
        {
          "data": {
            "text/plain": [
              "title        22640\n",
              "text         22640\n",
              "subject      22640\n",
              "date         22640\n",
              "date_new     11820\n",
              "len_title    22640\n",
              "len_text     22640\n",
              "type         22640\n",
              "dtype: int64"
            ]
          },
          "execution_count": 101,
          "metadata": {},
          "output_type": "execute_result"
        }
      ],
      "source": [
        "# Número de reistros en el dataframe de noticias falsas modificado\n",
        "news_false_mod2.count()"
      ]
    },
    {
      "cell_type": "code",
      "execution_count": 66,
      "metadata": {},
      "outputs": [
        {
          "name": "stdout",
          "output_type": "stream",
          "text": [
            "Tamaño Máximo del contenido: 51793 caracteres. Tamaño mínimo del contenido: 51 caracteres, Tamaño promedio del contenido: 2641 caracteres\n"
          ]
        }
      ],
      "source": [
        "# Se calcula de nuevo los valores min, max y promedio en longitud \n",
        "min_text_false = min(news_false_mod2['len_text'])\n",
        "max_text_false = max(news_false_mod2['len_text'])\n",
        "ave_text_false = mean(news_false_mod2['len_text'])\n",
        "print(f\"Tamaño Máximo del contenido: {max_text_false} caracteres. Tamaño mínimo del contenido: {min_text_false} caracteres, Tamaño promedio del contenido: { round(ave_text_false)} caracteres\")"
      ]
    },
    {
      "attachments": {},
      "cell_type": "markdown",
      "metadata": {},
      "source": [
        "# **3. Revisión total de las noticias**"
      ]
    },
    {
      "cell_type": "code",
      "execution_count": 95,
      "metadata": {},
      "outputs": [],
      "source": [
        "# Creación de un único dataframe con las noticias reales y falsas\n",
        "df_true = news_true\n",
        "df_true['type'] = 0\n",
        "df_false = news_false\n",
        "df_false['type'] = 1"
      ]
    },
    {
      "cell_type": "code",
      "execution_count": 96,
      "metadata": {},
      "outputs": [],
      "source": [
        "# Creación de un único dataframe con las noticias reales y falsas\n",
        "df_aux = [df_true, df_false]\n",
        "df_total = pd.concat(df_aux)"
      ]
    },
    {
      "cell_type": "code",
      "execution_count": 100,
      "metadata": {},
      "outputs": [
        {
          "data": {
            "image/png": "[encoded data removed]",
            "text/plain": [
              "<Figure size 360x360 with 1 Axes>"
            ]
          },
          "metadata": {},
          "output_type": "display_data"
        }
      ],
      "source": [
        "# Distribución del número de nocicias reales y falsas\n",
        "# Archivos originales\n",
        "import matplotlib.pyplot as plt\n",
        "fig = plt.figure(figsize=(5,5))\n",
        "labels = 'Reales', 'Falsas'\n",
        "counts = df_total['type'].value_counts().values\n",
        "plt.pie(counts, labels=labels, autopct='%1.1f%%', startangle=90, colors=['#2196f3', '#f44336' ])\n",
        "plt.axis('equal')\n",
        "plt.title(\"Distribución de noticias Reales y Falsas\")\n",
        "plt.show()"
      ]
    }
  ],
  "metadata": {
    "colab": {
      "provenance": []
    },
    "kernelspec": {
      "display_name": "Python 3",
      "name": "python3"
    },
    "language_info": {
      "codemirror_mode": {
        "name": "ipython",
        "version": 3
      },
      "file_extension": ".py",
      "mimetype": "text/x-python",
      "name": "python",
      "nbconvert_exporter": "python",
      "pygments_lexer": "ipython3",
      "version": "3.9.12"
    }
  },
  "nbformat": 4,
  "nbformat_minor": 0
}

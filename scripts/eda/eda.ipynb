{
  "nbformat": 4,
  "nbformat_minor": 0,
  "metadata": {
    "colab": {
      "provenance": []
    },
    "kernelspec": {
      "name": "python3",
      "display_name": "Python 3"
    },
    "language_info": {
      "name": "python"
    }
  },
  "cells": [
    {
      "cell_type": "code",
      "source": [
        "from google.colab import drive\n",
        "drive.mount('/content/drive')"
      ],
      "metadata": {
        "colab": {
          "base_uri": "https://localhost:8080/"
        },
        "id": "P94NGKfFHXAP",
        "outputId": "ae13f3bf-36e8-4cf3-c9e8-ae8cae0b6659"
      },
      "execution_count": 1,
      "outputs": [
        {
          "output_type": "stream",
          "name": "stdout",
          "text": [
            "Mounted at /content/drive\n"
          ]
        }
      ]
    },
    {
      "cell_type": "code",
      "source": [
        "# Importar las librerías con el código desarrollado\n",
        "import sys\n",
        "sys.path.insert(0,'/content/drive/MyDrive/Colab Notebooks/MLOPS')"
      ],
      "metadata": {
        "id": "UXwAcOcIHcVO"
      },
      "execution_count": 2,
      "outputs": []
    },
    {
      "cell_type": "code",
      "source": [
        "# Librerías a usar en el proyecto\n",
        "from download_data import get_data\n",
        "import pandas as pd\n",
        "import plotly.express as px\n",
        "from statistics import mean"
      ],
      "metadata": {
        "colab": {
          "base_uri": "https://localhost:8080/"
        },
        "id": "ls8uC-mDF41Q",
        "outputId": "75adea78-238e-4a28-add4-25913f992885"
      },
      "execution_count": 3,
      "outputs": [
        {
          "output_type": "stream",
          "name": "stdout",
          "text": [
            "Mounted at /content/drive\n",
            "<class 'pandas.core.frame.DataFrame'>\n",
            "RangeIndex: 21417 entries, 0 to 21416\n",
            "Data columns (total 4 columns):\n",
            " #   Column   Non-Null Count  Dtype \n",
            "---  ------   --------------  ----- \n",
            " 0   title    21417 non-null  object\n",
            " 1   text     21417 non-null  object\n",
            " 2   subject  21417 non-null  object\n",
            " 3   date     21417 non-null  object\n",
            "dtypes: object(4)\n",
            "memory usage: 669.4+ KB\n",
            "<class 'pandas.core.frame.DataFrame'>\n",
            "RangeIndex: 23481 entries, 0 to 23480\n",
            "Data columns (total 4 columns):\n",
            " #   Column   Non-Null Count  Dtype \n",
            "---  ------   --------------  ----- \n",
            " 0   title    23481 non-null  object\n",
            " 1   text     23481 non-null  object\n",
            " 2   subject  23481 non-null  object\n",
            " 3   date     23481 non-null  object\n",
            "dtypes: object(4)\n",
            "memory usage: 733.9+ KB\n"
          ]
        }
      ]
    },
    {
      "cell_type": "code",
      "source": [
        "# Obtención de los archivos\n",
        "news_true, news_false = get_data()"
      ],
      "metadata": {
        "id": "3cWxM6pm_eRz"
      },
      "execution_count": 4,
      "outputs": []
    },
    {
      "cell_type": "markdown",
      "source": [
        "# **1. Análisis del archivo noticias reales**\n",
        "De acuerdo con el análisis exploratorio de los datos se encuentra:\n",
        "1. Total de noticias: 21417\n",
        "2. Noticias en el año 2016: 4716\n",
        "3. Noticias en el año 2017: 16701\n",
        "4. Las noticias se encuentran asociadas a dos temas: 'politicsNews' y 'worldnews'. \n",
        "5. Noticias que tratan de politicsNews : 11272\n",
        "6. Noticias que tratan de worldnews: 10145"
      ],
      "metadata": {
        "id": "hnKtCob6CLwS"
      }
    },
    {
      "cell_type": "code",
      "source": [
        "# Conteo del número de registros\n",
        "news_true.count()"
      ],
      "metadata": {
        "colab": {
          "base_uri": "https://localhost:8080/"
        },
        "id": "J5i1CWTaEEa-",
        "outputId": "7d4d62c6-c9f6-4bef-db2c-7b9a56edcdee"
      },
      "execution_count": 5,
      "outputs": [
        {
          "output_type": "execute_result",
          "data": {
            "text/plain": [
              "title      21417\n",
              "text       21417\n",
              "subject    21417\n",
              "date       21417\n",
              "dtype: int64"
            ]
          },
          "metadata": {},
          "execution_count": 5
        }
      ]
    },
    {
      "cell_type": "code",
      "source": [
        "# Información del dataframe\n",
        "news_true.info()"
      ],
      "metadata": {
        "colab": {
          "base_uri": "https://localhost:8080/"
        },
        "id": "pK_oGEnpB0fL",
        "outputId": "0560b96b-22c7-4e27-8501-966e3c95e454"
      },
      "execution_count": 6,
      "outputs": [
        {
          "output_type": "stream",
          "name": "stdout",
          "text": [
            "<class 'pandas.core.frame.DataFrame'>\n",
            "RangeIndex: 21417 entries, 0 to 21416\n",
            "Data columns (total 4 columns):\n",
            " #   Column   Non-Null Count  Dtype \n",
            "---  ------   --------------  ----- \n",
            " 0   title    21417 non-null  object\n",
            " 1   text     21417 non-null  object\n",
            " 2   subject  21417 non-null  object\n",
            " 3   date     21417 non-null  object\n",
            "dtypes: object(4)\n",
            "memory usage: 669.4+ KB\n"
          ]
        }
      ]
    },
    {
      "cell_type": "code",
      "source": [
        "# Convertir el formato de la columna date a datetime\n",
        "news_true['date'] = pd.to_datetime(news_true['date'], infer_datetime_format=True)"
      ],
      "metadata": {
        "id": "sKqA4NXQCZMA"
      },
      "execution_count": 7,
      "outputs": []
    },
    {
      "cell_type": "code",
      "source": [
        "# Extraer el año de la fecha\n",
        "news_true['anno'] = news_true['date'].dt.year"
      ],
      "metadata": {
        "id": "LC0LBYcuLyuY"
      },
      "execution_count": 8,
      "outputs": []
    },
    {
      "cell_type": "code",
      "source": [
        "# Validación de la conversión del formato y creación de los nuevos elementos \n",
        "news_true.info()"
      ],
      "metadata": {
        "colab": {
          "base_uri": "https://localhost:8080/"
        },
        "id": "ldC7dsZcJOAJ",
        "outputId": "4b29f30d-45a1-4ef0-eb47-f10499280eb3"
      },
      "execution_count": 9,
      "outputs": [
        {
          "output_type": "stream",
          "name": "stdout",
          "text": [
            "<class 'pandas.core.frame.DataFrame'>\n",
            "RangeIndex: 21417 entries, 0 to 21416\n",
            "Data columns (total 5 columns):\n",
            " #   Column   Non-Null Count  Dtype         \n",
            "---  ------   --------------  -----         \n",
            " 0   title    21417 non-null  object        \n",
            " 1   text     21417 non-null  object        \n",
            " 2   subject  21417 non-null  object        \n",
            " 3   date     21417 non-null  datetime64[ns]\n",
            " 4   anno     21417 non-null  int64         \n",
            "dtypes: datetime64[ns](1), int64(1), object(3)\n",
            "memory usage: 836.7+ KB\n"
          ]
        }
      ]
    },
    {
      "cell_type": "code",
      "source": [
        "# Número de noticias por año\n",
        "dfg=news_true.groupby('anno').count().reset_index()\n",
        "fig = px.bar(dfg, x='anno', y = 'title', title = 'Número de noticias reales por año', color = 'title', barmode = 'stack', text_auto='.2s',\n",
        "              labels={'anno':'Año de la noticia','title':'Número de noticias'})\n",
        "fig.show()"
      ],
      "metadata": {
        "colab": {
          "base_uri": "https://localhost:8080/",
          "height": 542
        },
        "id": "Ql6HVk3_KxWm",
        "outputId": "4880d77f-895c-4f38-8713-28e6d871ca30"
      },
      "execution_count": 10,
      "outputs": [
        {
          "output_type": "display_data",
          "data": {
            "text/html": [
              "<html>\n",
              "<head><meta charset=\"utf-8\" /></head>\n",
              "<body>\n",
              "    <div>            <script src=\"https://cdnjs.cloudflare.com/ajax/libs/mathjax/2.7.5/MathJax.js?config=TeX-AMS-MML_SVG\"></script><script type=\"text/javascript\">if (window.MathJax && window.MathJax.Hub && window.MathJax.Hub.Config) {window.MathJax.Hub.Config({SVG: {font: \"STIX-Web\"}});}</script>                <script type=\"text/javascript\">window.PlotlyConfig = {MathJaxConfig: 'local'};</script>\n",
              "        <script src=\"https://cdn.plot.ly/plotly-2.18.2.min.js\"></script>                <div id=\"dac8aa4c-3b66-4ede-a785-13b3e18e91e1\" class=\"plotly-graph-div\" style=\"height:525px; width:100%;\"></div>            <script type=\"text/javascript\">                                    window.PLOTLYENV=window.PLOTLYENV || {};                                    if (document.getElementById(\"dac8aa4c-3b66-4ede-a785-13b3e18e91e1\")) {                    Plotly.newPlot(                        \"dac8aa4c-3b66-4ede-a785-13b3e18e91e1\",                        [{\"alignmentgroup\":\"True\",\"hovertemplate\":\"A\\u00f1o de la noticia=%{x}<br>N\\u00famero de noticias=%{marker.color}<extra></extra>\",\"legendgroup\":\"\",\"marker\":{\"color\":[4716,16701],\"coloraxis\":\"coloraxis\",\"pattern\":{\"shape\":\"\"}},\"name\":\"\",\"offsetgroup\":\"\",\"orientation\":\"v\",\"showlegend\":false,\"textposition\":\"auto\",\"texttemplate\":\"%{y:.2s}\",\"x\":[2016,2017],\"xaxis\":\"x\",\"y\":[4716,16701],\"yaxis\":\"y\",\"type\":\"bar\"}],                        {\"template\":{\"data\":{\"histogram2dcontour\":[{\"type\":\"histogram2dcontour\",\"colorbar\":{\"outlinewidth\":0,\"ticks\":\"\"},\"colorscale\":[[0.0,\"#0d0887\"],[0.1111111111111111,\"#46039f\"],[0.2222222222222222,\"#7201a8\"],[0.3333333333333333,\"#9c179e\"],[0.4444444444444444,\"#bd3786\"],[0.5555555555555556,\"#d8576b\"],[0.6666666666666666,\"#ed7953\"],[0.7777777777777778,\"#fb9f3a\"],[0.8888888888888888,\"#fdca26\"],[1.0,\"#f0f921\"]]}],\"choropleth\":[{\"type\":\"choropleth\",\"colorbar\":{\"outlinewidth\":0,\"ticks\":\"\"}}],\"histogram2d\":[{\"type\":\"histogram2d\",\"colorbar\":{\"outlinewidth\":0,\"ticks\":\"\"},\"colorscale\":[[0.0,\"#0d0887\"],[0.1111111111111111,\"#46039f\"],[0.2222222222222222,\"#7201a8\"],[0.3333333333333333,\"#9c179e\"],[0.4444444444444444,\"#bd3786\"],[0.5555555555555556,\"#d8576b\"],[0.6666666666666666,\"#ed7953\"],[0.7777777777777778,\"#fb9f3a\"],[0.8888888888888888,\"#fdca26\"],[1.0,\"#f0f921\"]]}],\"heatmap\":[{\"type\":\"heatmap\",\"colorbar\":{\"outlinewidth\":0,\"ticks\":\"\"},\"colorscale\":[[0.0,\"#0d0887\"],[0.1111111111111111,\"#46039f\"],[0.2222222222222222,\"#7201a8\"],[0.3333333333333333,\"#9c179e\"],[0.4444444444444444,\"#bd3786\"],[0.5555555555555556,\"#d8576b\"],[0.6666666666666666,\"#ed7953\"],[0.7777777777777778,\"#fb9f3a\"],[0.8888888888888888,\"#fdca26\"],[1.0,\"#f0f921\"]]}],\"heatmapgl\":[{\"type\":\"heatmapgl\",\"colorbar\":{\"outlinewidth\":0,\"ticks\":\"\"},\"colorscale\":[[0.0,\"#0d0887\"],[0.1111111111111111,\"#46039f\"],[0.2222222222222222,\"#7201a8\"],[0.3333333333333333,\"#9c179e\"],[0.4444444444444444,\"#bd3786\"],[0.5555555555555556,\"#d8576b\"],[0.6666666666666666,\"#ed7953\"],[0.7777777777777778,\"#fb9f3a\"],[0.8888888888888888,\"#fdca26\"],[1.0,\"#f0f921\"]]}],\"contourcarpet\":[{\"type\":\"contourcarpet\",\"colorbar\":{\"outlinewidth\":0,\"ticks\":\"\"}}],\"contour\":[{\"type\":\"contour\",\"colorbar\":{\"outlinewidth\":0,\"ticks\":\"\"},\"colorscale\":[[0.0,\"#0d0887\"],[0.1111111111111111,\"#46039f\"],[0.2222222222222222,\"#7201a8\"],[0.3333333333333333,\"#9c179e\"],[0.4444444444444444,\"#bd3786\"],[0.5555555555555556,\"#d8576b\"],[0.6666666666666666,\"#ed7953\"],[0.7777777777777778,\"#fb9f3a\"],[0.8888888888888888,\"#fdca26\"],[1.0,\"#f0f921\"]]}],\"surface\":[{\"type\":\"surface\",\"colorbar\":{\"outlinewidth\":0,\"ticks\":\"\"},\"colorscale\":[[0.0,\"#0d0887\"],[0.1111111111111111,\"#46039f\"],[0.2222222222222222,\"#7201a8\"],[0.3333333333333333,\"#9c179e\"],[0.4444444444444444,\"#bd3786\"],[0.5555555555555556,\"#d8576b\"],[0.6666666666666666,\"#ed7953\"],[0.7777777777777778,\"#fb9f3a\"],[0.8888888888888888,\"#fdca26\"],[1.0,\"#f0f921\"]]}],\"mesh3d\":[{\"type\":\"mesh3d\",\"colorbar\":{\"outlinewidth\":0,\"ticks\":\"\"}}],\"scatter\":[{\"fillpattern\":{\"fillmode\":\"overlay\",\"size\":10,\"solidity\":0.2},\"type\":\"scatter\"}],\"parcoords\":[{\"type\":\"parcoords\",\"line\":{\"colorbar\":{\"outlinewidth\":0,\"ticks\":\"\"}}}],\"scatterpolargl\":[{\"type\":\"scatterpolargl\",\"marker\":{\"colorbar\":{\"outlinewidth\":0,\"ticks\":\"\"}}}],\"bar\":[{\"error_x\":{\"color\":\"#2a3f5f\"},\"error_y\":{\"color\":\"#2a3f5f\"},\"marker\":{\"line\":{\"color\":\"#E5ECF6\",\"width\":0.5},\"pattern\":{\"fillmode\":\"overlay\",\"size\":10,\"solidity\":0.2}},\"type\":\"bar\"}],\"scattergeo\":[{\"type\":\"scattergeo\",\"marker\":{\"colorbar\":{\"outlinewidth\":0,\"ticks\":\"\"}}}],\"scatterpolar\":[{\"type\":\"scatterpolar\",\"marker\":{\"colorbar\":{\"outlinewidth\":0,\"ticks\":\"\"}}}],\"histogram\":[{\"marker\":{\"pattern\":{\"fillmode\":\"overlay\",\"size\":10,\"solidity\":0.2}},\"type\":\"histogram\"}],\"scattergl\":[{\"type\":\"scattergl\",\"marker\":{\"colorbar\":{\"outlinewidth\":0,\"ticks\":\"\"}}}],\"scatter3d\":[{\"type\":\"scatter3d\",\"line\":{\"colorbar\":{\"outlinewidth\":0,\"ticks\":\"\"}},\"marker\":{\"colorbar\":{\"outlinewidth\":0,\"ticks\":\"\"}}}],\"scattermapbox\":[{\"type\":\"scattermapbox\",\"marker\":{\"colorbar\":{\"outlinewidth\":0,\"ticks\":\"\"}}}],\"scatterternary\":[{\"type\":\"scatterternary\",\"marker\":{\"colorbar\":{\"outlinewidth\":0,\"ticks\":\"\"}}}],\"scattercarpet\":[{\"type\":\"scattercarpet\",\"marker\":{\"colorbar\":{\"outlinewidth\":0,\"ticks\":\"\"}}}],\"carpet\":[{\"aaxis\":{\"endlinecolor\":\"#2a3f5f\",\"gridcolor\":\"white\",\"linecolor\":\"white\",\"minorgridcolor\":\"white\",\"startlinecolor\":\"#2a3f5f\"},\"baxis\":{\"endlinecolor\":\"#2a3f5f\",\"gridcolor\":\"white\",\"linecolor\":\"white\",\"minorgridcolor\":\"white\",\"startlinecolor\":\"#2a3f5f\"},\"type\":\"carpet\"}],\"table\":[{\"cells\":{\"fill\":{\"color\":\"#EBF0F8\"},\"line\":{\"color\":\"white\"}},\"header\":{\"fill\":{\"color\":\"#C8D4E3\"},\"line\":{\"color\":\"white\"}},\"type\":\"table\"}],\"barpolar\":[{\"marker\":{\"line\":{\"color\":\"#E5ECF6\",\"width\":0.5},\"pattern\":{\"fillmode\":\"overlay\",\"size\":10,\"solidity\":0.2}},\"type\":\"barpolar\"}],\"pie\":[{\"automargin\":true,\"type\":\"pie\"}]},\"layout\":{\"autotypenumbers\":\"strict\",\"colorway\":[\"#636efa\",\"#EF553B\",\"#00cc96\",\"#ab63fa\",\"#FFA15A\",\"#19d3f3\",\"#FF6692\",\"#B6E880\",\"#FF97FF\",\"#FECB52\"],\"font\":{\"color\":\"#2a3f5f\"},\"hovermode\":\"closest\",\"hoverlabel\":{\"align\":\"left\"},\"paper_bgcolor\":\"white\",\"plot_bgcolor\":\"#E5ECF6\",\"polar\":{\"bgcolor\":\"#E5ECF6\",\"angularaxis\":{\"gridcolor\":\"white\",\"linecolor\":\"white\",\"ticks\":\"\"},\"radialaxis\":{\"gridcolor\":\"white\",\"linecolor\":\"white\",\"ticks\":\"\"}},\"ternary\":{\"bgcolor\":\"#E5ECF6\",\"aaxis\":{\"gridcolor\":\"white\",\"linecolor\":\"white\",\"ticks\":\"\"},\"baxis\":{\"gridcolor\":\"white\",\"linecolor\":\"white\",\"ticks\":\"\"},\"caxis\":{\"gridcolor\":\"white\",\"linecolor\":\"white\",\"ticks\":\"\"}},\"coloraxis\":{\"colorbar\":{\"outlinewidth\":0,\"ticks\":\"\"}},\"colorscale\":{\"sequential\":[[0.0,\"#0d0887\"],[0.1111111111111111,\"#46039f\"],[0.2222222222222222,\"#7201a8\"],[0.3333333333333333,\"#9c179e\"],[0.4444444444444444,\"#bd3786\"],[0.5555555555555556,\"#d8576b\"],[0.6666666666666666,\"#ed7953\"],[0.7777777777777778,\"#fb9f3a\"],[0.8888888888888888,\"#fdca26\"],[1.0,\"#f0f921\"]],\"sequentialminus\":[[0.0,\"#0d0887\"],[0.1111111111111111,\"#46039f\"],[0.2222222222222222,\"#7201a8\"],[0.3333333333333333,\"#9c179e\"],[0.4444444444444444,\"#bd3786\"],[0.5555555555555556,\"#d8576b\"],[0.6666666666666666,\"#ed7953\"],[0.7777777777777778,\"#fb9f3a\"],[0.8888888888888888,\"#fdca26\"],[1.0,\"#f0f921\"]],\"diverging\":[[0,\"#8e0152\"],[0.1,\"#c51b7d\"],[0.2,\"#de77ae\"],[0.3,\"#f1b6da\"],[0.4,\"#fde0ef\"],[0.5,\"#f7f7f7\"],[0.6,\"#e6f5d0\"],[0.7,\"#b8e186\"],[0.8,\"#7fbc41\"],[0.9,\"#4d9221\"],[1,\"#276419\"]]},\"xaxis\":{\"gridcolor\":\"white\",\"linecolor\":\"white\",\"ticks\":\"\",\"title\":{\"standoff\":15},\"zerolinecolor\":\"white\",\"automargin\":true,\"zerolinewidth\":2},\"yaxis\":{\"gridcolor\":\"white\",\"linecolor\":\"white\",\"ticks\":\"\",\"title\":{\"standoff\":15},\"zerolinecolor\":\"white\",\"automargin\":true,\"zerolinewidth\":2},\"scene\":{\"xaxis\":{\"backgroundcolor\":\"#E5ECF6\",\"gridcolor\":\"white\",\"linecolor\":\"white\",\"showbackground\":true,\"ticks\":\"\",\"zerolinecolor\":\"white\",\"gridwidth\":2},\"yaxis\":{\"backgroundcolor\":\"#E5ECF6\",\"gridcolor\":\"white\",\"linecolor\":\"white\",\"showbackground\":true,\"ticks\":\"\",\"zerolinecolor\":\"white\",\"gridwidth\":2},\"zaxis\":{\"backgroundcolor\":\"#E5ECF6\",\"gridcolor\":\"white\",\"linecolor\":\"white\",\"showbackground\":true,\"ticks\":\"\",\"zerolinecolor\":\"white\",\"gridwidth\":2}},\"shapedefaults\":{\"line\":{\"color\":\"#2a3f5f\"}},\"annotationdefaults\":{\"arrowcolor\":\"#2a3f5f\",\"arrowhead\":0,\"arrowwidth\":1},\"geo\":{\"bgcolor\":\"white\",\"landcolor\":\"#E5ECF6\",\"subunitcolor\":\"white\",\"showland\":true,\"showlakes\":true,\"lakecolor\":\"white\"},\"title\":{\"x\":0.05},\"mapbox\":{\"style\":\"light\"}}},\"xaxis\":{\"anchor\":\"y\",\"domain\":[0.0,1.0],\"title\":{\"text\":\"A\\u00f1o de la noticia\"}},\"yaxis\":{\"anchor\":\"x\",\"domain\":[0.0,1.0],\"title\":{\"text\":\"N\\u00famero de noticias\"}},\"coloraxis\":{\"colorbar\":{\"title\":{\"text\":\"N\\u00famero de noticias\"}},\"colorscale\":[[0.0,\"#0d0887\"],[0.1111111111111111,\"#46039f\"],[0.2222222222222222,\"#7201a8\"],[0.3333333333333333,\"#9c179e\"],[0.4444444444444444,\"#bd3786\"],[0.5555555555555556,\"#d8576b\"],[0.6666666666666666,\"#ed7953\"],[0.7777777777777778,\"#fb9f3a\"],[0.8888888888888888,\"#fdca26\"],[1.0,\"#f0f921\"]]},\"legend\":{\"tracegroupgap\":0},\"title\":{\"text\":\"N\\u00famero de noticias reales por a\\u00f1o\"},\"barmode\":\"stack\"},                        {\"responsive\": true}                    ).then(function(){\n",
              "                            \n",
              "var gd = document.getElementById('dac8aa4c-3b66-4ede-a785-13b3e18e91e1');\n",
              "var x = new MutationObserver(function (mutations, observer) {{\n",
              "        var display = window.getComputedStyle(gd).display;\n",
              "        if (!display || display === 'none') {{\n",
              "            console.log([gd, 'removed!']);\n",
              "            Plotly.purge(gd);\n",
              "            observer.disconnect();\n",
              "        }}\n",
              "}});\n",
              "\n",
              "// Listen for the removal of the full notebook cells\n",
              "var notebookContainer = gd.closest('#notebook-container');\n",
              "if (notebookContainer) {{\n",
              "    x.observe(notebookContainer, {childList: true});\n",
              "}}\n",
              "\n",
              "// Listen for the clearing of the current output cell\n",
              "var outputEl = gd.closest('.output');\n",
              "if (outputEl) {{\n",
              "    x.observe(outputEl, {childList: true});\n",
              "}}\n",
              "\n",
              "                        })                };                            </script>        </div>\n",
              "</body>\n",
              "</html>"
            ]
          },
          "metadata": {}
        }
      ]
    },
    {
      "cell_type": "code",
      "source": [
        "# Análisis del subject de las noticias\n",
        "print(news_true['subject'].unique())"
      ],
      "metadata": {
        "colab": {
          "base_uri": "https://localhost:8080/"
        },
        "id": "S3YPa570RpyF",
        "outputId": "a776a64a-f59d-4703-e6bb-9f27ce8b7b93"
      },
      "execution_count": 11,
      "outputs": [
        {
          "output_type": "stream",
          "name": "stdout",
          "text": [
            "['politicsNews' 'worldnews']\n"
          ]
        }
      ]
    },
    {
      "cell_type": "code",
      "source": [
        "# Número de noticias por tópico\n",
        "dfg=news_true.groupby('subject').count().reset_index()\n",
        "fig = px.bar(dfg, x='subject', y = 'title', title = 'Número de noticias reales por tópico', color = 'title', barmode = 'stack',\n",
        "              labels={'subject':'Tópico de la noticia','title':'Número de noticias'})\n",
        "fig.show()"
      ],
      "metadata": {
        "colab": {
          "base_uri": "https://localhost:8080/",
          "height": 542
        },
        "id": "88aLslpjSU67",
        "outputId": "46cf838f-8360-4437-c5cc-30e6b08e57c6"
      },
      "execution_count": 12,
      "outputs": [
        {
          "output_type": "display_data",
          "data": {
            "text/html": [
              "<html>\n",
              "<head><meta charset=\"utf-8\" /></head>\n",
              "<body>\n",
              "    <div>            <script src=\"https://cdnjs.cloudflare.com/ajax/libs/mathjax/2.7.5/MathJax.js?config=TeX-AMS-MML_SVG\"></script><script type=\"text/javascript\">if (window.MathJax && window.MathJax.Hub && window.MathJax.Hub.Config) {window.MathJax.Hub.Config({SVG: {font: \"STIX-Web\"}});}</script>                <script type=\"text/javascript\">window.PlotlyConfig = {MathJaxConfig: 'local'};</script>\n",
              "        <script src=\"https://cdn.plot.ly/plotly-2.18.2.min.js\"></script>                <div id=\"66653ad1-459a-4d91-8bdd-a18c20f9bf1d\" class=\"plotly-graph-div\" style=\"height:525px; width:100%;\"></div>            <script type=\"text/javascript\">                                    window.PLOTLYENV=window.PLOTLYENV || {};                                    if (document.getElementById(\"66653ad1-459a-4d91-8bdd-a18c20f9bf1d\")) {                    Plotly.newPlot(                        \"66653ad1-459a-4d91-8bdd-a18c20f9bf1d\",                        [{\"alignmentgroup\":\"True\",\"hovertemplate\":\"T\\u00f3pico de la noticia=%{x}<br>N\\u00famero de noticias=%{marker.color}<extra></extra>\",\"legendgroup\":\"\",\"marker\":{\"color\":[11272,10145],\"coloraxis\":\"coloraxis\",\"pattern\":{\"shape\":\"\"}},\"name\":\"\",\"offsetgroup\":\"\",\"orientation\":\"v\",\"showlegend\":false,\"textposition\":\"auto\",\"x\":[\"politicsNews\",\"worldnews\"],\"xaxis\":\"x\",\"y\":[11272,10145],\"yaxis\":\"y\",\"type\":\"bar\"}],                        {\"template\":{\"data\":{\"histogram2dcontour\":[{\"type\":\"histogram2dcontour\",\"colorbar\":{\"outlinewidth\":0,\"ticks\":\"\"},\"colorscale\":[[0.0,\"#0d0887\"],[0.1111111111111111,\"#46039f\"],[0.2222222222222222,\"#7201a8\"],[0.3333333333333333,\"#9c179e\"],[0.4444444444444444,\"#bd3786\"],[0.5555555555555556,\"#d8576b\"],[0.6666666666666666,\"#ed7953\"],[0.7777777777777778,\"#fb9f3a\"],[0.8888888888888888,\"#fdca26\"],[1.0,\"#f0f921\"]]}],\"choropleth\":[{\"type\":\"choropleth\",\"colorbar\":{\"outlinewidth\":0,\"ticks\":\"\"}}],\"histogram2d\":[{\"type\":\"histogram2d\",\"colorbar\":{\"outlinewidth\":0,\"ticks\":\"\"},\"colorscale\":[[0.0,\"#0d0887\"],[0.1111111111111111,\"#46039f\"],[0.2222222222222222,\"#7201a8\"],[0.3333333333333333,\"#9c179e\"],[0.4444444444444444,\"#bd3786\"],[0.5555555555555556,\"#d8576b\"],[0.6666666666666666,\"#ed7953\"],[0.7777777777777778,\"#fb9f3a\"],[0.8888888888888888,\"#fdca26\"],[1.0,\"#f0f921\"]]}],\"heatmap\":[{\"type\":\"heatmap\",\"colorbar\":{\"outlinewidth\":0,\"ticks\":\"\"},\"colorscale\":[[0.0,\"#0d0887\"],[0.1111111111111111,\"#46039f\"],[0.2222222222222222,\"#7201a8\"],[0.3333333333333333,\"#9c179e\"],[0.4444444444444444,\"#bd3786\"],[0.5555555555555556,\"#d8576b\"],[0.6666666666666666,\"#ed7953\"],[0.7777777777777778,\"#fb9f3a\"],[0.8888888888888888,\"#fdca26\"],[1.0,\"#f0f921\"]]}],\"heatmapgl\":[{\"type\":\"heatmapgl\",\"colorbar\":{\"outlinewidth\":0,\"ticks\":\"\"},\"colorscale\":[[0.0,\"#0d0887\"],[0.1111111111111111,\"#46039f\"],[0.2222222222222222,\"#7201a8\"],[0.3333333333333333,\"#9c179e\"],[0.4444444444444444,\"#bd3786\"],[0.5555555555555556,\"#d8576b\"],[0.6666666666666666,\"#ed7953\"],[0.7777777777777778,\"#fb9f3a\"],[0.8888888888888888,\"#fdca26\"],[1.0,\"#f0f921\"]]}],\"contourcarpet\":[{\"type\":\"contourcarpet\",\"colorbar\":{\"outlinewidth\":0,\"ticks\":\"\"}}],\"contour\":[{\"type\":\"contour\",\"colorbar\":{\"outlinewidth\":0,\"ticks\":\"\"},\"colorscale\":[[0.0,\"#0d0887\"],[0.1111111111111111,\"#46039f\"],[0.2222222222222222,\"#7201a8\"],[0.3333333333333333,\"#9c179e\"],[0.4444444444444444,\"#bd3786\"],[0.5555555555555556,\"#d8576b\"],[0.6666666666666666,\"#ed7953\"],[0.7777777777777778,\"#fb9f3a\"],[0.8888888888888888,\"#fdca26\"],[1.0,\"#f0f921\"]]}],\"surface\":[{\"type\":\"surface\",\"colorbar\":{\"outlinewidth\":0,\"ticks\":\"\"},\"colorscale\":[[0.0,\"#0d0887\"],[0.1111111111111111,\"#46039f\"],[0.2222222222222222,\"#7201a8\"],[0.3333333333333333,\"#9c179e\"],[0.4444444444444444,\"#bd3786\"],[0.5555555555555556,\"#d8576b\"],[0.6666666666666666,\"#ed7953\"],[0.7777777777777778,\"#fb9f3a\"],[0.8888888888888888,\"#fdca26\"],[1.0,\"#f0f921\"]]}],\"mesh3d\":[{\"type\":\"mesh3d\",\"colorbar\":{\"outlinewidth\":0,\"ticks\":\"\"}}],\"scatter\":[{\"fillpattern\":{\"fillmode\":\"overlay\",\"size\":10,\"solidity\":0.2},\"type\":\"scatter\"}],\"parcoords\":[{\"type\":\"parcoords\",\"line\":{\"colorbar\":{\"outlinewidth\":0,\"ticks\":\"\"}}}],\"scatterpolargl\":[{\"type\":\"scatterpolargl\",\"marker\":{\"colorbar\":{\"outlinewidth\":0,\"ticks\":\"\"}}}],\"bar\":[{\"error_x\":{\"color\":\"#2a3f5f\"},\"error_y\":{\"color\":\"#2a3f5f\"},\"marker\":{\"line\":{\"color\":\"#E5ECF6\",\"width\":0.5},\"pattern\":{\"fillmode\":\"overlay\",\"size\":10,\"solidity\":0.2}},\"type\":\"bar\"}],\"scattergeo\":[{\"type\":\"scattergeo\",\"marker\":{\"colorbar\":{\"outlinewidth\":0,\"ticks\":\"\"}}}],\"scatterpolar\":[{\"type\":\"scatterpolar\",\"marker\":{\"colorbar\":{\"outlinewidth\":0,\"ticks\":\"\"}}}],\"histogram\":[{\"marker\":{\"pattern\":{\"fillmode\":\"overlay\",\"size\":10,\"solidity\":0.2}},\"type\":\"histogram\"}],\"scattergl\":[{\"type\":\"scattergl\",\"marker\":{\"colorbar\":{\"outlinewidth\":0,\"ticks\":\"\"}}}],\"scatter3d\":[{\"type\":\"scatter3d\",\"line\":{\"colorbar\":{\"outlinewidth\":0,\"ticks\":\"\"}},\"marker\":{\"colorbar\":{\"outlinewidth\":0,\"ticks\":\"\"}}}],\"scattermapbox\":[{\"type\":\"scattermapbox\",\"marker\":{\"colorbar\":{\"outlinewidth\":0,\"ticks\":\"\"}}}],\"scatterternary\":[{\"type\":\"scatterternary\",\"marker\":{\"colorbar\":{\"outlinewidth\":0,\"ticks\":\"\"}}}],\"scattercarpet\":[{\"type\":\"scattercarpet\",\"marker\":{\"colorbar\":{\"outlinewidth\":0,\"ticks\":\"\"}}}],\"carpet\":[{\"aaxis\":{\"endlinecolor\":\"#2a3f5f\",\"gridcolor\":\"white\",\"linecolor\":\"white\",\"minorgridcolor\":\"white\",\"startlinecolor\":\"#2a3f5f\"},\"baxis\":{\"endlinecolor\":\"#2a3f5f\",\"gridcolor\":\"white\",\"linecolor\":\"white\",\"minorgridcolor\":\"white\",\"startlinecolor\":\"#2a3f5f\"},\"type\":\"carpet\"}],\"table\":[{\"cells\":{\"fill\":{\"color\":\"#EBF0F8\"},\"line\":{\"color\":\"white\"}},\"header\":{\"fill\":{\"color\":\"#C8D4E3\"},\"line\":{\"color\":\"white\"}},\"type\":\"table\"}],\"barpolar\":[{\"marker\":{\"line\":{\"color\":\"#E5ECF6\",\"width\":0.5},\"pattern\":{\"fillmode\":\"overlay\",\"size\":10,\"solidity\":0.2}},\"type\":\"barpolar\"}],\"pie\":[{\"automargin\":true,\"type\":\"pie\"}]},\"layout\":{\"autotypenumbers\":\"strict\",\"colorway\":[\"#636efa\",\"#EF553B\",\"#00cc96\",\"#ab63fa\",\"#FFA15A\",\"#19d3f3\",\"#FF6692\",\"#B6E880\",\"#FF97FF\",\"#FECB52\"],\"font\":{\"color\":\"#2a3f5f\"},\"hovermode\":\"closest\",\"hoverlabel\":{\"align\":\"left\"},\"paper_bgcolor\":\"white\",\"plot_bgcolor\":\"#E5ECF6\",\"polar\":{\"bgcolor\":\"#E5ECF6\",\"angularaxis\":{\"gridcolor\":\"white\",\"linecolor\":\"white\",\"ticks\":\"\"},\"radialaxis\":{\"gridcolor\":\"white\",\"linecolor\":\"white\",\"ticks\":\"\"}},\"ternary\":{\"bgcolor\":\"#E5ECF6\",\"aaxis\":{\"gridcolor\":\"white\",\"linecolor\":\"white\",\"ticks\":\"\"},\"baxis\":{\"gridcolor\":\"white\",\"linecolor\":\"white\",\"ticks\":\"\"},\"caxis\":{\"gridcolor\":\"white\",\"linecolor\":\"white\",\"ticks\":\"\"}},\"coloraxis\":{\"colorbar\":{\"outlinewidth\":0,\"ticks\":\"\"}},\"colorscale\":{\"sequential\":[[0.0,\"#0d0887\"],[0.1111111111111111,\"#46039f\"],[0.2222222222222222,\"#7201a8\"],[0.3333333333333333,\"#9c179e\"],[0.4444444444444444,\"#bd3786\"],[0.5555555555555556,\"#d8576b\"],[0.6666666666666666,\"#ed7953\"],[0.7777777777777778,\"#fb9f3a\"],[0.8888888888888888,\"#fdca26\"],[1.0,\"#f0f921\"]],\"sequentialminus\":[[0.0,\"#0d0887\"],[0.1111111111111111,\"#46039f\"],[0.2222222222222222,\"#7201a8\"],[0.3333333333333333,\"#9c179e\"],[0.4444444444444444,\"#bd3786\"],[0.5555555555555556,\"#d8576b\"],[0.6666666666666666,\"#ed7953\"],[0.7777777777777778,\"#fb9f3a\"],[0.8888888888888888,\"#fdca26\"],[1.0,\"#f0f921\"]],\"diverging\":[[0,\"#8e0152\"],[0.1,\"#c51b7d\"],[0.2,\"#de77ae\"],[0.3,\"#f1b6da\"],[0.4,\"#fde0ef\"],[0.5,\"#f7f7f7\"],[0.6,\"#e6f5d0\"],[0.7,\"#b8e186\"],[0.8,\"#7fbc41\"],[0.9,\"#4d9221\"],[1,\"#276419\"]]},\"xaxis\":{\"gridcolor\":\"white\",\"linecolor\":\"white\",\"ticks\":\"\",\"title\":{\"standoff\":15},\"zerolinecolor\":\"white\",\"automargin\":true,\"zerolinewidth\":2},\"yaxis\":{\"gridcolor\":\"white\",\"linecolor\":\"white\",\"ticks\":\"\",\"title\":{\"standoff\":15},\"zerolinecolor\":\"white\",\"automargin\":true,\"zerolinewidth\":2},\"scene\":{\"xaxis\":{\"backgroundcolor\":\"#E5ECF6\",\"gridcolor\":\"white\",\"linecolor\":\"white\",\"showbackground\":true,\"ticks\":\"\",\"zerolinecolor\":\"white\",\"gridwidth\":2},\"yaxis\":{\"backgroundcolor\":\"#E5ECF6\",\"gridcolor\":\"white\",\"linecolor\":\"white\",\"showbackground\":true,\"ticks\":\"\",\"zerolinecolor\":\"white\",\"gridwidth\":2},\"zaxis\":{\"backgroundcolor\":\"#E5ECF6\",\"gridcolor\":\"white\",\"linecolor\":\"white\",\"showbackground\":true,\"ticks\":\"\",\"zerolinecolor\":\"white\",\"gridwidth\":2}},\"shapedefaults\":{\"line\":{\"color\":\"#2a3f5f\"}},\"annotationdefaults\":{\"arrowcolor\":\"#2a3f5f\",\"arrowhead\":0,\"arrowwidth\":1},\"geo\":{\"bgcolor\":\"white\",\"landcolor\":\"#E5ECF6\",\"subunitcolor\":\"white\",\"showland\":true,\"showlakes\":true,\"lakecolor\":\"white\"},\"title\":{\"x\":0.05},\"mapbox\":{\"style\":\"light\"}}},\"xaxis\":{\"anchor\":\"y\",\"domain\":[0.0,1.0],\"title\":{\"text\":\"T\\u00f3pico de la noticia\"}},\"yaxis\":{\"anchor\":\"x\",\"domain\":[0.0,1.0],\"title\":{\"text\":\"N\\u00famero de noticias\"}},\"coloraxis\":{\"colorbar\":{\"title\":{\"text\":\"N\\u00famero de noticias\"}},\"colorscale\":[[0.0,\"#0d0887\"],[0.1111111111111111,\"#46039f\"],[0.2222222222222222,\"#7201a8\"],[0.3333333333333333,\"#9c179e\"],[0.4444444444444444,\"#bd3786\"],[0.5555555555555556,\"#d8576b\"],[0.6666666666666666,\"#ed7953\"],[0.7777777777777778,\"#fb9f3a\"],[0.8888888888888888,\"#fdca26\"],[1.0,\"#f0f921\"]]},\"legend\":{\"tracegroupgap\":0},\"title\":{\"text\":\"N\\u00famero de noticias reales por t\\u00f3pico\"},\"barmode\":\"stack\"},                        {\"responsive\": true}                    ).then(function(){\n",
              "                            \n",
              "var gd = document.getElementById('66653ad1-459a-4d91-8bdd-a18c20f9bf1d');\n",
              "var x = new MutationObserver(function (mutations, observer) {{\n",
              "        var display = window.getComputedStyle(gd).display;\n",
              "        if (!display || display === 'none') {{\n",
              "            console.log([gd, 'removed!']);\n",
              "            Plotly.purge(gd);\n",
              "            observer.disconnect();\n",
              "        }}\n",
              "}});\n",
              "\n",
              "// Listen for the removal of the full notebook cells\n",
              "var notebookContainer = gd.closest('#notebook-container');\n",
              "if (notebookContainer) {{\n",
              "    x.observe(notebookContainer, {childList: true});\n",
              "}}\n",
              "\n",
              "// Listen for the clearing of the current output cell\n",
              "var outputEl = gd.closest('.output');\n",
              "if (outputEl) {{\n",
              "    x.observe(outputEl, {childList: true});\n",
              "}}\n",
              "\n",
              "                        })                };                            </script>        </div>\n",
              "</body>\n",
              "</html>"
            ]
          },
          "metadata": {}
        }
      ]
    },
    {
      "cell_type": "code",
      "source": [
        "# Análisis del contenido de las noticias tanto en el título como en el texto\n",
        "news_true.iloc[15001, 1]"
      ],
      "metadata": {
        "colab": {
          "base_uri": "https://localhost:8080/",
          "height": 122
        },
        "id": "6uKrJc1FTK_h",
        "outputId": "3c150aa9-a315-4ebd-a382-1f7bf8db05ae"
      },
      "execution_count": null,
      "outputs": [
        {
          "output_type": "execute_result",
          "data": {
            "text/plain": [
              "'PANAMA CITY (Reuters) - Panama s President Juan Carlos Varela will travel to China to meet with his counterpart Xi Jinping on Friday, the first official visit by a Panamanian leader to the Asian country  coming five months after the nations established diplomatic relations. The bilateral meeting will serve to  establish a new economic, trade, tourist and diplomatic outlook for the country, leading to more than a dozen agreements that will be signed  between nations, Panama s Foreign Ministry said in a statement. In June, Panama upgraded its commercial ties with China and established full diplomatic links with the second most important customer of its key shipping canal, giving Beijing a major victory as it broke formal relations with Taiwan. The Foreign Ministry said the agreements will provide the basis for attracting investments and Chinese innovation to Panama, and help boost Panamanian exports, tourism and the use of the Panama canal. Varela will inaugurate Panama s first embassy in China. '"
            ],
            "application/vnd.google.colaboratory.intrinsic+json": {
              "type": "string"
            }
          },
          "metadata": {},
          "execution_count": 53
        }
      ]
    },
    {
      "cell_type": "code",
      "source": [
        "# Cálculo de la extensión del título (title) y contenido (text) de las noticias reales\n",
        "news_true['len_title'] = (news_true['title'].str.strip()).str.len()\n",
        "news_true['len_text'] = (news_true['text'].str.strip()).str.len()"
      ],
      "metadata": {
        "id": "yUuAd7451AW0"
      },
      "execution_count": 19,
      "outputs": []
    },
    {
      "cell_type": "code",
      "source": [
        "# Análisis de la extensión del título (title) y contenido (text) de las noticias reales\n",
        "min_title = min(news_true['len_title'])\n",
        "max_title = max(news_true['len_title'])\n",
        "ave_title = mean(news_true['len_title'])\n",
        "min_text = min(news_true['len_text'])\n",
        "max_text = max(news_true['len_text'])\n",
        "ave_text = mean(news_true['len_text'])"
      ],
      "metadata": {
        "id": "LAwiZEZS28Mp"
      },
      "execution_count": 39,
      "outputs": []
    },
    {
      "cell_type": "code",
      "source": [
        "print(f\"Tamaño Máximo del título: {max_title} caracteres. Tamaño Mínimo del título: {min_title} caracteres, Tamaño promedio del título: { round(ave_title)} caracteres\")\n",
        "print(f\"Tamaño Máximo del contenido: {max_text} caracteres. Tamaño Mínimo del contenido: {min_text} caracteres, Tamaño promedio del contenido: { round(ave_text)} caracteres\")"
      ],
      "metadata": {
        "colab": {
          "base_uri": "https://localhost:8080/"
        },
        "id": "eVpP_5693fWM",
        "outputId": "2b08c4a5-1b53-45d3-beb4-38b33bbb3766"
      },
      "execution_count": 40,
      "outputs": [
        {
          "output_type": "stream",
          "name": "stdout",
          "text": [
            "Tamaño Máximo del título: 133 caracteres. Tamaño Mínimo del título: 26 caracteres, Tamaño promedio del título: 65 caracteres\n",
            "Tamaño Máximo del contenido: 29780 caracteres. Tamaño Mínimo del contenido: 0 caracteres, Tamaño promedio del contenido: 2382 caracteres\n"
          ]
        }
      ]
    },
    {
      "cell_type": "code",
      "source": [
        "# Se muestran los registros con longitud 1 en el campo text\n",
        "news_true_short = news_true[news_true['len_text'] == 0]"
      ],
      "metadata": {
        "id": "Rd_cdnMut_V0"
      },
      "execution_count": 41,
      "outputs": []
    },
    {
      "cell_type": "code",
      "source": [
        "# solo un registro con longutid 0\n",
        "news_true_short "
      ],
      "metadata": {
        "colab": {
          "base_uri": "https://localhost:8080/",
          "height": 81
        },
        "id": "UWSLHJ_0uVh_",
        "outputId": "5880e1e2-e824-4869-bc65-c63bbf7dadc0"
      },
      "execution_count": 42,
      "outputs": [
        {
          "output_type": "execute_result",
          "data": {
            "text/plain": [
              "                               title text       subject       date  anno  \\\n",
              "8970  Graphic: Supreme Court roundup       politicsNews 2016-06-16  2016   \n",
              "\n",
              "      len_title  len_text  \n",
              "8970         30         0  "
            ],
            "text/html": [
              "\n",
              "  <div id=\"df-d33e3db7-a307-4840-9d9a-ddb5d9e1fc7d\">\n",
              "    <div class=\"colab-df-container\">\n",
              "      <div>\n",
              "<style scoped>\n",
              "    .dataframe tbody tr th:only-of-type {\n",
              "        vertical-align: middle;\n",
              "    }\n",
              "\n",
              "    .dataframe tbody tr th {\n",
              "        vertical-align: top;\n",
              "    }\n",
              "\n",
              "    .dataframe thead th {\n",
              "        text-align: right;\n",
              "    }\n",
              "</style>\n",
              "<table border=\"1\" class=\"dataframe\">\n",
              "  <thead>\n",
              "    <tr style=\"text-align: right;\">\n",
              "      <th></th>\n",
              "      <th>title</th>\n",
              "      <th>text</th>\n",
              "      <th>subject</th>\n",
              "      <th>date</th>\n",
              "      <th>anno</th>\n",
              "      <th>len_title</th>\n",
              "      <th>len_text</th>\n",
              "    </tr>\n",
              "  </thead>\n",
              "  <tbody>\n",
              "    <tr>\n",
              "      <th>8970</th>\n",
              "      <td>Graphic: Supreme Court roundup</td>\n",
              "      <td></td>\n",
              "      <td>politicsNews</td>\n",
              "      <td>2016-06-16</td>\n",
              "      <td>2016</td>\n",
              "      <td>30</td>\n",
              "      <td>0</td>\n",
              "    </tr>\n",
              "  </tbody>\n",
              "</table>\n",
              "</div>\n",
              "      <button class=\"colab-df-convert\" onclick=\"convertToInteractive('df-d33e3db7-a307-4840-9d9a-ddb5d9e1fc7d')\"\n",
              "              title=\"Convert this dataframe to an interactive table.\"\n",
              "              style=\"display:none;\">\n",
              "        \n",
              "  <svg xmlns=\"http://www.w3.org/2000/svg\" height=\"24px\"viewBox=\"0 0 24 24\"\n",
              "       width=\"24px\">\n",
              "    <path d=\"M0 0h24v24H0V0z\" fill=\"none\"/>\n",
              "    <path d=\"M18.56 5.44l.94 2.06.94-2.06 2.06-.94-2.06-.94-.94-2.06-.94 2.06-2.06.94zm-11 1L8.5 8.5l.94-2.06 2.06-.94-2.06-.94L8.5 2.5l-.94 2.06-2.06.94zm10 10l.94 2.06.94-2.06 2.06-.94-2.06-.94-.94-2.06-.94 2.06-2.06.94z\"/><path d=\"M17.41 7.96l-1.37-1.37c-.4-.4-.92-.59-1.43-.59-.52 0-1.04.2-1.43.59L10.3 9.45l-7.72 7.72c-.78.78-.78 2.05 0 2.83L4 21.41c.39.39.9.59 1.41.59.51 0 1.02-.2 1.41-.59l7.78-7.78 2.81-2.81c.8-.78.8-2.07 0-2.86zM5.41 20L4 18.59l7.72-7.72 1.47 1.35L5.41 20z\"/>\n",
              "  </svg>\n",
              "      </button>\n",
              "      \n",
              "  <style>\n",
              "    .colab-df-container {\n",
              "      display:flex;\n",
              "      flex-wrap:wrap;\n",
              "      gap: 12px;\n",
              "    }\n",
              "\n",
              "    .colab-df-convert {\n",
              "      background-color: #E8F0FE;\n",
              "      border: none;\n",
              "      border-radius: 50%;\n",
              "      cursor: pointer;\n",
              "      display: none;\n",
              "      fill: #1967D2;\n",
              "      height: 32px;\n",
              "      padding: 0 0 0 0;\n",
              "      width: 32px;\n",
              "    }\n",
              "\n",
              "    .colab-df-convert:hover {\n",
              "      background-color: #E2EBFA;\n",
              "      box-shadow: 0px 1px 2px rgba(60, 64, 67, 0.3), 0px 1px 3px 1px rgba(60, 64, 67, 0.15);\n",
              "      fill: #174EA6;\n",
              "    }\n",
              "\n",
              "    [theme=dark] .colab-df-convert {\n",
              "      background-color: #3B4455;\n",
              "      fill: #D2E3FC;\n",
              "    }\n",
              "\n",
              "    [theme=dark] .colab-df-convert:hover {\n",
              "      background-color: #434B5C;\n",
              "      box-shadow: 0px 1px 3px 1px rgba(0, 0, 0, 0.15);\n",
              "      filter: drop-shadow(0px 1px 2px rgba(0, 0, 0, 0.3));\n",
              "      fill: #FFFFFF;\n",
              "    }\n",
              "  </style>\n",
              "\n",
              "      <script>\n",
              "        const buttonEl =\n",
              "          document.querySelector('#df-d33e3db7-a307-4840-9d9a-ddb5d9e1fc7d button.colab-df-convert');\n",
              "        buttonEl.style.display =\n",
              "          google.colab.kernel.accessAllowed ? 'block' : 'none';\n",
              "\n",
              "        async function convertToInteractive(key) {\n",
              "          const element = document.querySelector('#df-d33e3db7-a307-4840-9d9a-ddb5d9e1fc7d');\n",
              "          const dataTable =\n",
              "            await google.colab.kernel.invokeFunction('convertToInteractive',\n",
              "                                                     [key], {});\n",
              "          if (!dataTable) return;\n",
              "\n",
              "          const docLinkHtml = 'Like what you see? Visit the ' +\n",
              "            '<a target=\"_blank\" href=https://colab.research.google.com/notebooks/data_table.ipynb>data table notebook</a>'\n",
              "            + ' to learn more about interactive tables.';\n",
              "          element.innerHTML = '';\n",
              "          dataTable['output_type'] = 'display_data';\n",
              "          await google.colab.output.renderOutput(dataTable, element);\n",
              "          const docLink = document.createElement('div');\n",
              "          docLink.innerHTML = docLinkHtml;\n",
              "          element.appendChild(docLink);\n",
              "        }\n",
              "      </script>\n",
              "    </div>\n",
              "  </div>\n",
              "  "
            ]
          },
          "metadata": {},
          "execution_count": 42
        }
      ]
    },
    {
      "cell_type": "code",
      "source": [
        "# Se crea un nuevo dataframe eliminando el registro sin información en el campo text\n",
        "news_true_mod = news_true[news_true['len_text'] > 0]"
      ],
      "metadata": {
        "id": "msoIQw7Bzscy"
      },
      "execution_count": 43,
      "outputs": []
    },
    {
      "cell_type": "code",
      "source": [
        "# Se calcula de nuevo los valores min, max y promedio en longitud \n",
        "min_text = min(news_true_mod['len_text'])\n",
        "max_text = max(news_true_mod['len_text'])\n",
        "ave_text = mean(news_true_mod['len_text'])"
      ],
      "metadata": {
        "id": "1sFMsfEh0CnC"
      },
      "execution_count": 44,
      "outputs": []
    },
    {
      "cell_type": "code",
      "source": [
        "print(f\"Tamaño Máximo del contenido: {max_text} caracteres. Tamaño mínimo del contenido: {min_text} caracteres, Tamaño promedio del contenido: { round(ave_text)} caracteres\")"
      ],
      "metadata": {
        "colab": {
          "base_uri": "https://localhost:8080/"
        },
        "id": "UHNw8n9j0Jhu",
        "outputId": "1f3a1d4c-67f7-431c-8e8b-e0f1cb248668"
      },
      "execution_count": 45,
      "outputs": [
        {
          "output_type": "stream",
          "name": "stdout",
          "text": [
            "Tamaño Máximo del contenido: 29780 caracteres. Tamaño mínimo del contenido: 151 caracteres, Tamaño promedio del contenido: 2382 caracteres\n"
          ]
        }
      ]
    },
    {
      "cell_type": "markdown",
      "source": [
        "# **2. Análisis del archivo noticias falsas**\n",
        "De acuerdo con el análisis exploratorio de los datos se encuentra:\n",
        "1. Total de noticias: 23481.\n",
        "2. El campo 'date' presenta diferentes formatos e incluso datos que no corresponden a la fecha, sin embargo dado el problema que se plantea y como resultado de análisis exploratorio no se considera información relevante para el desarrollo del objetivo del proyecto.\n",
        "4. Las noticias se encuentran asociadas a dos temas: 'News', 'politics', 'Government News', 'left-news', 'US_News' y 'Middle-east.\n",
        "5. Noticias que tratan de politics : 6841.\n",
        "6. Noticias que tratan de News: 9050.\n",
        "7. Noticias que tratan de Government News: 1570.\n",
        "8. Noticias que tratan de left-News: 4459.\n",
        "9. Noticias que tratan de US_News: 783.\n",
        "10. Noticias que tratan de Middle-east: 778."
      ],
      "metadata": {
        "id": "yYYY-nTAZ6Ai"
      }
    },
    {
      "cell_type": "code",
      "source": [
        "# Conteo del número de registros\n",
        "news_false.count()"
      ],
      "metadata": {
        "colab": {
          "base_uri": "https://localhost:8080/"
        },
        "id": "9pze6WwOaCxP",
        "outputId": "dc0e10ad-1e42-4bc2-a0d1-5398bb159197"
      },
      "execution_count": 29,
      "outputs": [
        {
          "output_type": "execute_result",
          "data": {
            "text/plain": [
              "title      23481\n",
              "text       23481\n",
              "subject    23481\n",
              "date       23481\n",
              "dtype: int64"
            ]
          },
          "metadata": {},
          "execution_count": 29
        }
      ]
    },
    {
      "cell_type": "code",
      "source": [
        "# Información del dataframe\n",
        "news_false.info()"
      ],
      "metadata": {
        "colab": {
          "base_uri": "https://localhost:8080/"
        },
        "id": "KpT0UlbYaWjf",
        "outputId": "bb4be5db-a117-4928-95f8-249beed22e5d"
      },
      "execution_count": null,
      "outputs": [
        {
          "output_type": "stream",
          "name": "stdout",
          "text": [
            "<class 'pandas.core.frame.DataFrame'>\n",
            "RangeIndex: 23481 entries, 0 to 23480\n",
            "Data columns (total 4 columns):\n",
            " #   Column   Non-Null Count  Dtype \n",
            "---  ------   --------------  ----- \n",
            " 0   title    23481 non-null  object\n",
            " 1   text     23481 non-null  object\n",
            " 2   subject  23481 non-null  object\n",
            " 3   date     23481 non-null  object\n",
            "dtypes: object(4)\n",
            "memory usage: 733.9+ KB\n"
          ]
        }
      ]
    },
    {
      "cell_type": "code",
      "source": [
        "# Análisis del subject de las noticias\n",
        "print(news_false['subject'].unique())"
      ],
      "metadata": {
        "colab": {
          "base_uri": "https://localhost:8080/"
        },
        "id": "5LCZz4xrazsa",
        "outputId": "4bfcfd04-016d-4f44-ff30-2ddbe7de6ab1"
      },
      "execution_count": 30,
      "outputs": [
        {
          "output_type": "stream",
          "name": "stdout",
          "text": [
            "['News' 'politics' 'Government News' 'left-news' 'US_News' 'Middle-east']\n"
          ]
        }
      ]
    },
    {
      "cell_type": "code",
      "source": [
        "# Número de noticias por tópico\n",
        "dfg=news_false.groupby('subject').count().reset_index()\n",
        "fig = px.bar(dfg, x='subject', y = 'title', title = 'Número de noticias falsas por tópico', color = 'title', barmode = 'stack',text_auto='.2s',\n",
        "              labels={'subject':'Tópico de la noticia','title':'Número de noticias'})\n",
        "fig.show()"
      ],
      "metadata": {
        "colab": {
          "base_uri": "https://localhost:8080/",
          "height": 542
        },
        "id": "GC3UuR_nCGVJ",
        "outputId": "62aafe96-6886-4687-bc44-2f22b174c74a"
      },
      "execution_count": 61,
      "outputs": [
        {
          "output_type": "display_data",
          "data": {
            "text/html": [
              "<html>\n",
              "<head><meta charset=\"utf-8\" /></head>\n",
              "<body>\n",
              "    <div>            <script src=\"https://cdnjs.cloudflare.com/ajax/libs/mathjax/2.7.5/MathJax.js?config=TeX-AMS-MML_SVG\"></script><script type=\"text/javascript\">if (window.MathJax && window.MathJax.Hub && window.MathJax.Hub.Config) {window.MathJax.Hub.Config({SVG: {font: \"STIX-Web\"}});}</script>                <script type=\"text/javascript\">window.PlotlyConfig = {MathJaxConfig: 'local'};</script>\n",
              "        <script src=\"https://cdn.plot.ly/plotly-2.18.2.min.js\"></script>                <div id=\"7431d332-68db-42c7-9472-c28c7064eeff\" class=\"plotly-graph-div\" style=\"height:525px; width:100%;\"></div>            <script type=\"text/javascript\">                                    window.PLOTLYENV=window.PLOTLYENV || {};                                    if (document.getElementById(\"7431d332-68db-42c7-9472-c28c7064eeff\")) {                    Plotly.newPlot(                        \"7431d332-68db-42c7-9472-c28c7064eeff\",                        [{\"alignmentgroup\":\"True\",\"hovertemplate\":\"T\\u00f3pico de la noticia=%{x}<br>N\\u00famero de noticias=%{marker.color}<extra></extra>\",\"legendgroup\":\"\",\"marker\":{\"color\":[1570,778,9050,783,4459,6841],\"coloraxis\":\"coloraxis\",\"pattern\":{\"shape\":\"\"}},\"name\":\"\",\"offsetgroup\":\"\",\"orientation\":\"v\",\"showlegend\":false,\"textposition\":\"auto\",\"texttemplate\":\"%{y:.2s}\",\"x\":[\"Government News\",\"Middle-east\",\"News\",\"US_News\",\"left-news\",\"politics\"],\"xaxis\":\"x\",\"y\":[1570,778,9050,783,4459,6841],\"yaxis\":\"y\",\"type\":\"bar\"}],                        {\"template\":{\"data\":{\"histogram2dcontour\":[{\"type\":\"histogram2dcontour\",\"colorbar\":{\"outlinewidth\":0,\"ticks\":\"\"},\"colorscale\":[[0.0,\"#0d0887\"],[0.1111111111111111,\"#46039f\"],[0.2222222222222222,\"#7201a8\"],[0.3333333333333333,\"#9c179e\"],[0.4444444444444444,\"#bd3786\"],[0.5555555555555556,\"#d8576b\"],[0.6666666666666666,\"#ed7953\"],[0.7777777777777778,\"#fb9f3a\"],[0.8888888888888888,\"#fdca26\"],[1.0,\"#f0f921\"]]}],\"choropleth\":[{\"type\":\"choropleth\",\"colorbar\":{\"outlinewidth\":0,\"ticks\":\"\"}}],\"histogram2d\":[{\"type\":\"histogram2d\",\"colorbar\":{\"outlinewidth\":0,\"ticks\":\"\"},\"colorscale\":[[0.0,\"#0d0887\"],[0.1111111111111111,\"#46039f\"],[0.2222222222222222,\"#7201a8\"],[0.3333333333333333,\"#9c179e\"],[0.4444444444444444,\"#bd3786\"],[0.5555555555555556,\"#d8576b\"],[0.6666666666666666,\"#ed7953\"],[0.7777777777777778,\"#fb9f3a\"],[0.8888888888888888,\"#fdca26\"],[1.0,\"#f0f921\"]]}],\"heatmap\":[{\"type\":\"heatmap\",\"colorbar\":{\"outlinewidth\":0,\"ticks\":\"\"},\"colorscale\":[[0.0,\"#0d0887\"],[0.1111111111111111,\"#46039f\"],[0.2222222222222222,\"#7201a8\"],[0.3333333333333333,\"#9c179e\"],[0.4444444444444444,\"#bd3786\"],[0.5555555555555556,\"#d8576b\"],[0.6666666666666666,\"#ed7953\"],[0.7777777777777778,\"#fb9f3a\"],[0.8888888888888888,\"#fdca26\"],[1.0,\"#f0f921\"]]}],\"heatmapgl\":[{\"type\":\"heatmapgl\",\"colorbar\":{\"outlinewidth\":0,\"ticks\":\"\"},\"colorscale\":[[0.0,\"#0d0887\"],[0.1111111111111111,\"#46039f\"],[0.2222222222222222,\"#7201a8\"],[0.3333333333333333,\"#9c179e\"],[0.4444444444444444,\"#bd3786\"],[0.5555555555555556,\"#d8576b\"],[0.6666666666666666,\"#ed7953\"],[0.7777777777777778,\"#fb9f3a\"],[0.8888888888888888,\"#fdca26\"],[1.0,\"#f0f921\"]]}],\"contourcarpet\":[{\"type\":\"contourcarpet\",\"colorbar\":{\"outlinewidth\":0,\"ticks\":\"\"}}],\"contour\":[{\"type\":\"contour\",\"colorbar\":{\"outlinewidth\":0,\"ticks\":\"\"},\"colorscale\":[[0.0,\"#0d0887\"],[0.1111111111111111,\"#46039f\"],[0.2222222222222222,\"#7201a8\"],[0.3333333333333333,\"#9c179e\"],[0.4444444444444444,\"#bd3786\"],[0.5555555555555556,\"#d8576b\"],[0.6666666666666666,\"#ed7953\"],[0.7777777777777778,\"#fb9f3a\"],[0.8888888888888888,\"#fdca26\"],[1.0,\"#f0f921\"]]}],\"surface\":[{\"type\":\"surface\",\"colorbar\":{\"outlinewidth\":0,\"ticks\":\"\"},\"colorscale\":[[0.0,\"#0d0887\"],[0.1111111111111111,\"#46039f\"],[0.2222222222222222,\"#7201a8\"],[0.3333333333333333,\"#9c179e\"],[0.4444444444444444,\"#bd3786\"],[0.5555555555555556,\"#d8576b\"],[0.6666666666666666,\"#ed7953\"],[0.7777777777777778,\"#fb9f3a\"],[0.8888888888888888,\"#fdca26\"],[1.0,\"#f0f921\"]]}],\"mesh3d\":[{\"type\":\"mesh3d\",\"colorbar\":{\"outlinewidth\":0,\"ticks\":\"\"}}],\"scatter\":[{\"fillpattern\":{\"fillmode\":\"overlay\",\"size\":10,\"solidity\":0.2},\"type\":\"scatter\"}],\"parcoords\":[{\"type\":\"parcoords\",\"line\":{\"colorbar\":{\"outlinewidth\":0,\"ticks\":\"\"}}}],\"scatterpolargl\":[{\"type\":\"scatterpolargl\",\"marker\":{\"colorbar\":{\"outlinewidth\":0,\"ticks\":\"\"}}}],\"bar\":[{\"error_x\":{\"color\":\"#2a3f5f\"},\"error_y\":{\"color\":\"#2a3f5f\"},\"marker\":{\"line\":{\"color\":\"#E5ECF6\",\"width\":0.5},\"pattern\":{\"fillmode\":\"overlay\",\"size\":10,\"solidity\":0.2}},\"type\":\"bar\"}],\"scattergeo\":[{\"type\":\"scattergeo\",\"marker\":{\"colorbar\":{\"outlinewidth\":0,\"ticks\":\"\"}}}],\"scatterpolar\":[{\"type\":\"scatterpolar\",\"marker\":{\"colorbar\":{\"outlinewidth\":0,\"ticks\":\"\"}}}],\"histogram\":[{\"marker\":{\"pattern\":{\"fillmode\":\"overlay\",\"size\":10,\"solidity\":0.2}},\"type\":\"histogram\"}],\"scattergl\":[{\"type\":\"scattergl\",\"marker\":{\"colorbar\":{\"outlinewidth\":0,\"ticks\":\"\"}}}],\"scatter3d\":[{\"type\":\"scatter3d\",\"line\":{\"colorbar\":{\"outlinewidth\":0,\"ticks\":\"\"}},\"marker\":{\"colorbar\":{\"outlinewidth\":0,\"ticks\":\"\"}}}],\"scattermapbox\":[{\"type\":\"scattermapbox\",\"marker\":{\"colorbar\":{\"outlinewidth\":0,\"ticks\":\"\"}}}],\"scatterternary\":[{\"type\":\"scatterternary\",\"marker\":{\"colorbar\":{\"outlinewidth\":0,\"ticks\":\"\"}}}],\"scattercarpet\":[{\"type\":\"scattercarpet\",\"marker\":{\"colorbar\":{\"outlinewidth\":0,\"ticks\":\"\"}}}],\"carpet\":[{\"aaxis\":{\"endlinecolor\":\"#2a3f5f\",\"gridcolor\":\"white\",\"linecolor\":\"white\",\"minorgridcolor\":\"white\",\"startlinecolor\":\"#2a3f5f\"},\"baxis\":{\"endlinecolor\":\"#2a3f5f\",\"gridcolor\":\"white\",\"linecolor\":\"white\",\"minorgridcolor\":\"white\",\"startlinecolor\":\"#2a3f5f\"},\"type\":\"carpet\"}],\"table\":[{\"cells\":{\"fill\":{\"color\":\"#EBF0F8\"},\"line\":{\"color\":\"white\"}},\"header\":{\"fill\":{\"color\":\"#C8D4E3\"},\"line\":{\"color\":\"white\"}},\"type\":\"table\"}],\"barpolar\":[{\"marker\":{\"line\":{\"color\":\"#E5ECF6\",\"width\":0.5},\"pattern\":{\"fillmode\":\"overlay\",\"size\":10,\"solidity\":0.2}},\"type\":\"barpolar\"}],\"pie\":[{\"automargin\":true,\"type\":\"pie\"}]},\"layout\":{\"autotypenumbers\":\"strict\",\"colorway\":[\"#636efa\",\"#EF553B\",\"#00cc96\",\"#ab63fa\",\"#FFA15A\",\"#19d3f3\",\"#FF6692\",\"#B6E880\",\"#FF97FF\",\"#FECB52\"],\"font\":{\"color\":\"#2a3f5f\"},\"hovermode\":\"closest\",\"hoverlabel\":{\"align\":\"left\"},\"paper_bgcolor\":\"white\",\"plot_bgcolor\":\"#E5ECF6\",\"polar\":{\"bgcolor\":\"#E5ECF6\",\"angularaxis\":{\"gridcolor\":\"white\",\"linecolor\":\"white\",\"ticks\":\"\"},\"radialaxis\":{\"gridcolor\":\"white\",\"linecolor\":\"white\",\"ticks\":\"\"}},\"ternary\":{\"bgcolor\":\"#E5ECF6\",\"aaxis\":{\"gridcolor\":\"white\",\"linecolor\":\"white\",\"ticks\":\"\"},\"baxis\":{\"gridcolor\":\"white\",\"linecolor\":\"white\",\"ticks\":\"\"},\"caxis\":{\"gridcolor\":\"white\",\"linecolor\":\"white\",\"ticks\":\"\"}},\"coloraxis\":{\"colorbar\":{\"outlinewidth\":0,\"ticks\":\"\"}},\"colorscale\":{\"sequential\":[[0.0,\"#0d0887\"],[0.1111111111111111,\"#46039f\"],[0.2222222222222222,\"#7201a8\"],[0.3333333333333333,\"#9c179e\"],[0.4444444444444444,\"#bd3786\"],[0.5555555555555556,\"#d8576b\"],[0.6666666666666666,\"#ed7953\"],[0.7777777777777778,\"#fb9f3a\"],[0.8888888888888888,\"#fdca26\"],[1.0,\"#f0f921\"]],\"sequentialminus\":[[0.0,\"#0d0887\"],[0.1111111111111111,\"#46039f\"],[0.2222222222222222,\"#7201a8\"],[0.3333333333333333,\"#9c179e\"],[0.4444444444444444,\"#bd3786\"],[0.5555555555555556,\"#d8576b\"],[0.6666666666666666,\"#ed7953\"],[0.7777777777777778,\"#fb9f3a\"],[0.8888888888888888,\"#fdca26\"],[1.0,\"#f0f921\"]],\"diverging\":[[0,\"#8e0152\"],[0.1,\"#c51b7d\"],[0.2,\"#de77ae\"],[0.3,\"#f1b6da\"],[0.4,\"#fde0ef\"],[0.5,\"#f7f7f7\"],[0.6,\"#e6f5d0\"],[0.7,\"#b8e186\"],[0.8,\"#7fbc41\"],[0.9,\"#4d9221\"],[1,\"#276419\"]]},\"xaxis\":{\"gridcolor\":\"white\",\"linecolor\":\"white\",\"ticks\":\"\",\"title\":{\"standoff\":15},\"zerolinecolor\":\"white\",\"automargin\":true,\"zerolinewidth\":2},\"yaxis\":{\"gridcolor\":\"white\",\"linecolor\":\"white\",\"ticks\":\"\",\"title\":{\"standoff\":15},\"zerolinecolor\":\"white\",\"automargin\":true,\"zerolinewidth\":2},\"scene\":{\"xaxis\":{\"backgroundcolor\":\"#E5ECF6\",\"gridcolor\":\"white\",\"linecolor\":\"white\",\"showbackground\":true,\"ticks\":\"\",\"zerolinecolor\":\"white\",\"gridwidth\":2},\"yaxis\":{\"backgroundcolor\":\"#E5ECF6\",\"gridcolor\":\"white\",\"linecolor\":\"white\",\"showbackground\":true,\"ticks\":\"\",\"zerolinecolor\":\"white\",\"gridwidth\":2},\"zaxis\":{\"backgroundcolor\":\"#E5ECF6\",\"gridcolor\":\"white\",\"linecolor\":\"white\",\"showbackground\":true,\"ticks\":\"\",\"zerolinecolor\":\"white\",\"gridwidth\":2}},\"shapedefaults\":{\"line\":{\"color\":\"#2a3f5f\"}},\"annotationdefaults\":{\"arrowcolor\":\"#2a3f5f\",\"arrowhead\":0,\"arrowwidth\":1},\"geo\":{\"bgcolor\":\"white\",\"landcolor\":\"#E5ECF6\",\"subunitcolor\":\"white\",\"showland\":true,\"showlakes\":true,\"lakecolor\":\"white\"},\"title\":{\"x\":0.05},\"mapbox\":{\"style\":\"light\"}}},\"xaxis\":{\"anchor\":\"y\",\"domain\":[0.0,1.0],\"title\":{\"text\":\"T\\u00f3pico de la noticia\"}},\"yaxis\":{\"anchor\":\"x\",\"domain\":[0.0,1.0],\"title\":{\"text\":\"N\\u00famero de noticias\"}},\"coloraxis\":{\"colorbar\":{\"title\":{\"text\":\"N\\u00famero de noticias\"}},\"colorscale\":[[0.0,\"#0d0887\"],[0.1111111111111111,\"#46039f\"],[0.2222222222222222,\"#7201a8\"],[0.3333333333333333,\"#9c179e\"],[0.4444444444444444,\"#bd3786\"],[0.5555555555555556,\"#d8576b\"],[0.6666666666666666,\"#ed7953\"],[0.7777777777777778,\"#fb9f3a\"],[0.8888888888888888,\"#fdca26\"],[1.0,\"#f0f921\"]]},\"legend\":{\"tracegroupgap\":0},\"title\":{\"text\":\"N\\u00famero de noticias falsas por t\\u00f3pico\"},\"barmode\":\"stack\"},                        {\"responsive\": true}                    ).then(function(){\n",
              "                            \n",
              "var gd = document.getElementById('7431d332-68db-42c7-9472-c28c7064eeff');\n",
              "var x = new MutationObserver(function (mutations, observer) {{\n",
              "        var display = window.getComputedStyle(gd).display;\n",
              "        if (!display || display === 'none') {{\n",
              "            console.log([gd, 'removed!']);\n",
              "            Plotly.purge(gd);\n",
              "            observer.disconnect();\n",
              "        }}\n",
              "}});\n",
              "\n",
              "// Listen for the removal of the full notebook cells\n",
              "var notebookContainer = gd.closest('#notebook-container');\n",
              "if (notebookContainer) {{\n",
              "    x.observe(notebookContainer, {childList: true});\n",
              "}}\n",
              "\n",
              "// Listen for the clearing of the current output cell\n",
              "var outputEl = gd.closest('.output');\n",
              "if (outputEl) {{\n",
              "    x.observe(outputEl, {childList: true});\n",
              "}}\n",
              "\n",
              "                        })                };                            </script>        </div>\n",
              "</body>\n",
              "</html>"
            ]
          },
          "metadata": {}
        }
      ]
    },
    {
      "cell_type": "code",
      "source": [
        "# Análisis exploratorio del campo date, al encontrarse que no todas las filas tienen una fecha en esa columna\n",
        "serie = news_false.iloc[9350:9400,3]\n",
        "print(serie)"
      ],
      "metadata": {
        "colab": {
          "base_uri": "https://localhost:8080/"
        },
        "id": "BKCrc6sGiGD1",
        "outputId": "86efd646-1d0f-451e-aeba-fe0ed07bf427"
      },
      "execution_count": 32,
      "outputs": [
        {
          "output_type": "stream",
          "name": "stdout",
          "text": [
            "9350                                         Nov 26, 2017\n",
            "9351                                         Nov 26, 2017\n",
            "9352                                         Nov 26, 2017\n",
            "9353                                         Nov 25, 2017\n",
            "9354                                         Nov 25, 2017\n",
            "9355                                         Nov 25, 2017\n",
            "9356                                         Nov 25, 2017\n",
            "9357                                         Nov 25, 2017\n",
            "9358    https://100percentfedup.com/served-roy-moore-v...\n",
            "9359                                         Nov 25, 2017\n",
            "9360                                         Nov 24, 2017\n",
            "9361                                         Nov 24, 2017\n",
            "9362                                         Nov 24, 2017\n",
            "9363                                         Nov 23, 2017\n",
            "9364                                         Nov 23, 2017\n",
            "9365                                         Nov 22, 2017\n",
            "9366                                         Nov 22, 2017\n",
            "9367                                         Nov 22, 2017\n",
            "9368                                         Nov 22, 2017\n",
            "9369                                         Nov 21, 2017\n",
            "9370                                         Nov 21, 2017\n",
            "9371                                         Nov 21, 2017\n",
            "9372                                         Nov 21, 2017\n",
            "9373                                         Nov 21, 2017\n",
            "9374                                         Nov 21, 2017\n",
            "9375                                         Nov 21, 2017\n",
            "9376                                         Nov 21, 2017\n",
            "9377                                         Nov 21, 2017\n",
            "9378                                         Nov 21, 2017\n",
            "9379                                         Nov 21, 2017\n",
            "9380                                         Nov 20, 2017\n",
            "9381                                         Nov 20, 2017\n",
            "9382                                         Nov 20, 2017\n",
            "9383                                         Nov 20, 2017\n",
            "9384                                         Nov 20, 2017\n",
            "9385                                         Nov 20, 2017\n",
            "9386                                         Nov 20, 2017\n",
            "9387                                         Nov 20, 2017\n",
            "9388                                         Nov 19, 2017\n",
            "9389                                         Nov 19, 2017\n",
            "9390                                         Nov 19, 2017\n",
            "9391                                         Nov 19, 2017\n",
            "9392                                         Nov 19, 2017\n",
            "9393                                         Nov 19, 2017\n",
            "9394                                         Nov 19, 2017\n",
            "9395                                         Nov 19, 2017\n",
            "9396                                         Nov 19, 2017\n",
            "9397                                         Nov 18, 2017\n",
            "9398                                         Nov 18, 2017\n",
            "9399                                         Nov 18, 2017\n",
            "Name: date, dtype: object\n"
          ]
        }
      ]
    },
    {
      "cell_type": "code",
      "source": [
        "# Ejemplo de uno de los registros y lo que aparece registrado en ese campo\n",
        "serie9358 = news_false.iloc[9358,:]\n",
        "print(serie9358[3])"
      ],
      "metadata": {
        "colab": {
          "base_uri": "https://localhost:8080/"
        },
        "id": "XLOVlfh1i5OO",
        "outputId": "1e891393-1fa9-4fcd-8ebd-690d0c3d4b26"
      },
      "execution_count": 33,
      "outputs": [
        {
          "output_type": "stream",
          "name": "stdout",
          "text": [
            "https://100percentfedup.com/served-roy-moore-vietnamletter-veteran-sets-record-straight-honorable-decent-respectable-patriotic-commander-soldier/\n"
          ]
        }
      ]
    },
    {
      "cell_type": "code",
      "source": [
        "# Convertir el formato de la columna date a datetime\n",
        "news_false['date_new'] = pd.to_datetime(news_false['date'], infer_datetime_format=True, errors='coerce')"
      ],
      "metadata": {
        "id": "gT_4OheRKBZd"
      },
      "execution_count": 34,
      "outputs": []
    },
    {
      "cell_type": "code",
      "source": [
        "# Exploración del campo creado para la fecha\n",
        "news_false['date_new'].unique()"
      ],
      "metadata": {
        "colab": {
          "base_uri": "https://localhost:8080/"
        },
        "id": "D1goDZLPLOBD",
        "outputId": "677c26fe-439d-46e9-cfe9-83814f680511"
      },
      "execution_count": 35,
      "outputs": [
        {
          "output_type": "execute_result",
          "data": {
            "text/plain": [
              "array(['2017-12-31T00:00:00.000000000', '2017-12-30T00:00:00.000000000',\n",
              "       '2017-12-29T00:00:00.000000000', '2017-12-25T00:00:00.000000000',\n",
              "       '2017-12-23T00:00:00.000000000', '2017-12-22T00:00:00.000000000',\n",
              "       '2017-12-21T00:00:00.000000000', '2017-12-20T00:00:00.000000000',\n",
              "       '2017-12-19T00:00:00.000000000', '2017-12-17T00:00:00.000000000',\n",
              "       '2017-12-16T00:00:00.000000000', '2017-12-13T00:00:00.000000000',\n",
              "       '2017-12-12T00:00:00.000000000', '2017-12-11T00:00:00.000000000',\n",
              "       '2017-12-10T00:00:00.000000000', '2017-12-09T00:00:00.000000000',\n",
              "       '2017-12-07T00:00:00.000000000', '2017-12-06T00:00:00.000000000',\n",
              "       '2017-12-05T00:00:00.000000000', '2017-12-04T00:00:00.000000000',\n",
              "       '2017-12-03T00:00:00.000000000', '2017-12-02T00:00:00.000000000',\n",
              "       '2017-12-01T00:00:00.000000000', '2017-11-30T00:00:00.000000000',\n",
              "       '2017-11-29T00:00:00.000000000', '2017-11-28T00:00:00.000000000',\n",
              "       '2017-11-27T00:00:00.000000000', '2017-11-26T00:00:00.000000000',\n",
              "       '2017-11-25T00:00:00.000000000', '2017-11-24T00:00:00.000000000',\n",
              "       '2017-11-23T00:00:00.000000000', '2017-11-22T00:00:00.000000000',\n",
              "       '2017-11-21T00:00:00.000000000', '2017-11-20T00:00:00.000000000',\n",
              "       '2017-11-19T00:00:00.000000000', '2017-11-18T00:00:00.000000000',\n",
              "       '2017-11-17T00:00:00.000000000', '2017-11-16T00:00:00.000000000',\n",
              "       '2017-11-15T00:00:00.000000000', '2017-11-14T00:00:00.000000000',\n",
              "       '2017-11-13T00:00:00.000000000', '2017-11-12T00:00:00.000000000',\n",
              "       '2017-11-11T00:00:00.000000000', '2017-11-10T00:00:00.000000000',\n",
              "       '2017-11-09T00:00:00.000000000', '2017-11-08T00:00:00.000000000',\n",
              "       '2017-11-07T00:00:00.000000000', '2017-11-06T00:00:00.000000000',\n",
              "       '2017-11-05T00:00:00.000000000', '2017-11-04T00:00:00.000000000',\n",
              "       '2017-11-03T00:00:00.000000000', '2017-11-02T00:00:00.000000000',\n",
              "       '2017-11-01T00:00:00.000000000', '2017-10-31T00:00:00.000000000',\n",
              "       '2017-10-30T00:00:00.000000000', '2017-10-29T00:00:00.000000000',\n",
              "       '2017-10-28T00:00:00.000000000', '2017-10-27T00:00:00.000000000',\n",
              "       '2017-10-26T00:00:00.000000000', '2017-10-25T00:00:00.000000000',\n",
              "       '2017-10-24T00:00:00.000000000', '2017-10-23T00:00:00.000000000',\n",
              "       '2017-10-22T00:00:00.000000000', '2017-10-21T00:00:00.000000000',\n",
              "       '2017-10-20T00:00:00.000000000', '2017-10-19T00:00:00.000000000',\n",
              "       '2017-10-18T00:00:00.000000000', '2017-10-17T00:00:00.000000000',\n",
              "       '2017-10-16T00:00:00.000000000', '2017-10-15T00:00:00.000000000',\n",
              "       '2017-10-14T00:00:00.000000000', '2017-10-13T00:00:00.000000000',\n",
              "       '2017-10-12T00:00:00.000000000', '2017-10-11T00:00:00.000000000',\n",
              "       '2017-10-10T00:00:00.000000000', '2017-10-09T00:00:00.000000000',\n",
              "       '2017-10-08T00:00:00.000000000', '2017-10-07T00:00:00.000000000',\n",
              "       '2017-10-06T00:00:00.000000000', '2017-10-05T00:00:00.000000000',\n",
              "       '2017-10-04T00:00:00.000000000', '2017-10-03T00:00:00.000000000',\n",
              "       '2017-10-02T00:00:00.000000000', '2017-10-01T00:00:00.000000000',\n",
              "       '2017-09-30T00:00:00.000000000', '2017-09-29T00:00:00.000000000',\n",
              "       '2017-09-28T00:00:00.000000000', '2017-09-27T00:00:00.000000000',\n",
              "       '2017-09-26T00:00:00.000000000', '2017-09-25T00:00:00.000000000',\n",
              "       '2017-09-24T00:00:00.000000000', '2017-09-23T00:00:00.000000000',\n",
              "       '2017-09-22T00:00:00.000000000', '2017-09-21T00:00:00.000000000',\n",
              "       '2017-09-20T00:00:00.000000000', '2017-09-19T00:00:00.000000000',\n",
              "       '2017-09-18T00:00:00.000000000', '2017-09-17T00:00:00.000000000',\n",
              "       '2017-09-16T00:00:00.000000000', '2017-09-15T00:00:00.000000000',\n",
              "       '2017-09-14T00:00:00.000000000', '2017-09-13T00:00:00.000000000',\n",
              "       '2017-09-12T00:00:00.000000000', '2017-09-11T00:00:00.000000000',\n",
              "       '2017-09-10T00:00:00.000000000', '2017-09-09T00:00:00.000000000',\n",
              "       '2017-09-08T00:00:00.000000000', '2017-09-07T00:00:00.000000000',\n",
              "       '2017-09-06T00:00:00.000000000', '2017-09-05T00:00:00.000000000',\n",
              "       '2017-09-04T00:00:00.000000000', '2017-09-03T00:00:00.000000000',\n",
              "       '2017-09-02T00:00:00.000000000', '2017-09-01T00:00:00.000000000',\n",
              "       '2017-08-31T00:00:00.000000000', '2017-08-30T00:00:00.000000000',\n",
              "       '2017-08-29T00:00:00.000000000', '2017-08-28T00:00:00.000000000',\n",
              "       '2017-08-27T00:00:00.000000000', '2017-08-26T00:00:00.000000000',\n",
              "       '2017-08-25T00:00:00.000000000', '2017-08-24T00:00:00.000000000',\n",
              "       '2017-08-23T00:00:00.000000000', '2017-08-22T00:00:00.000000000',\n",
              "       '2017-08-21T00:00:00.000000000', '2017-08-20T00:00:00.000000000',\n",
              "       '2017-08-19T00:00:00.000000000', '2017-08-18T00:00:00.000000000',\n",
              "       '2017-08-17T00:00:00.000000000', '2017-08-16T00:00:00.000000000',\n",
              "       '2017-08-15T00:00:00.000000000', '2017-08-14T00:00:00.000000000',\n",
              "       '2017-08-13T00:00:00.000000000', '2017-08-12T00:00:00.000000000',\n",
              "       '2017-08-11T00:00:00.000000000', '2017-08-10T00:00:00.000000000',\n",
              "       '2017-08-09T00:00:00.000000000', '2017-08-08T00:00:00.000000000',\n",
              "       '2017-08-07T00:00:00.000000000', '2017-08-06T00:00:00.000000000',\n",
              "       '2017-08-05T00:00:00.000000000', '2017-08-04T00:00:00.000000000',\n",
              "       '2017-08-03T00:00:00.000000000', '2017-08-02T00:00:00.000000000',\n",
              "       '2017-08-01T00:00:00.000000000', '2017-07-31T00:00:00.000000000',\n",
              "       '2017-07-30T00:00:00.000000000', '2017-07-29T00:00:00.000000000',\n",
              "       '2017-07-28T00:00:00.000000000', '2017-07-27T00:00:00.000000000',\n",
              "       '2017-07-26T00:00:00.000000000', '2017-07-25T00:00:00.000000000',\n",
              "       '2017-07-24T00:00:00.000000000', '2017-07-23T00:00:00.000000000',\n",
              "       '2017-07-22T00:00:00.000000000', '2017-07-21T00:00:00.000000000',\n",
              "       '2017-07-20T00:00:00.000000000', '2017-07-19T00:00:00.000000000',\n",
              "       '2017-07-18T00:00:00.000000000', '2017-07-17T00:00:00.000000000',\n",
              "       '2017-07-16T00:00:00.000000000', '2017-07-15T00:00:00.000000000',\n",
              "       '2017-07-14T00:00:00.000000000', '2017-07-13T00:00:00.000000000',\n",
              "       '2017-07-12T00:00:00.000000000', '2017-07-11T00:00:00.000000000',\n",
              "       '2017-07-10T00:00:00.000000000', '2017-07-09T00:00:00.000000000',\n",
              "       '2017-07-08T00:00:00.000000000', '2017-07-07T00:00:00.000000000',\n",
              "       '2017-07-06T00:00:00.000000000', '2017-07-05T00:00:00.000000000',\n",
              "       '2017-07-04T00:00:00.000000000', '2017-07-03T00:00:00.000000000',\n",
              "       '2017-07-02T00:00:00.000000000', '2017-07-01T00:00:00.000000000',\n",
              "       '2017-06-30T00:00:00.000000000', '2017-06-29T00:00:00.000000000',\n",
              "       '2017-06-28T00:00:00.000000000', '2017-06-27T00:00:00.000000000',\n",
              "       '2017-06-26T00:00:00.000000000', '2017-06-25T00:00:00.000000000',\n",
              "       '2017-06-24T00:00:00.000000000', '2017-06-23T00:00:00.000000000',\n",
              "       '2017-06-22T00:00:00.000000000', '2017-06-21T00:00:00.000000000',\n",
              "       '2017-06-20T00:00:00.000000000', '2017-06-19T00:00:00.000000000',\n",
              "       '2017-06-18T00:00:00.000000000', '2017-06-17T00:00:00.000000000',\n",
              "       '2017-06-16T00:00:00.000000000', '2017-06-15T00:00:00.000000000',\n",
              "       '2017-06-14T00:00:00.000000000', '2017-06-13T00:00:00.000000000',\n",
              "       '2017-06-12T00:00:00.000000000', '2017-06-11T00:00:00.000000000',\n",
              "       '2017-06-10T00:00:00.000000000', '2017-06-09T00:00:00.000000000',\n",
              "       '2017-06-08T00:00:00.000000000', '2017-06-07T00:00:00.000000000',\n",
              "       '2017-06-06T00:00:00.000000000', '2017-06-05T00:00:00.000000000',\n",
              "       '2017-06-04T00:00:00.000000000', '2017-06-03T00:00:00.000000000',\n",
              "       '2017-06-02T00:00:00.000000000', '2017-06-01T00:00:00.000000000',\n",
              "       '2017-05-31T00:00:00.000000000', '2017-05-30T00:00:00.000000000',\n",
              "       '2017-05-29T00:00:00.000000000', '2017-05-28T00:00:00.000000000',\n",
              "       '2017-05-27T00:00:00.000000000', '2017-05-26T00:00:00.000000000',\n",
              "       '2017-05-25T00:00:00.000000000', '2017-05-24T00:00:00.000000000',\n",
              "       '2017-05-23T00:00:00.000000000', '2017-05-22T00:00:00.000000000',\n",
              "       '2017-05-21T00:00:00.000000000', '2017-05-20T00:00:00.000000000',\n",
              "       '2017-05-19T00:00:00.000000000', '2017-05-18T00:00:00.000000000',\n",
              "       '2017-05-17T00:00:00.000000000', '2017-05-16T00:00:00.000000000',\n",
              "       '2017-05-15T00:00:00.000000000', '2017-05-14T00:00:00.000000000',\n",
              "       '2017-05-13T00:00:00.000000000', '2017-05-12T00:00:00.000000000',\n",
              "       '2017-05-11T00:00:00.000000000', '2017-05-10T00:00:00.000000000',\n",
              "       '2017-05-09T00:00:00.000000000', '2017-05-08T00:00:00.000000000',\n",
              "       '2017-05-07T00:00:00.000000000', '2017-05-06T00:00:00.000000000',\n",
              "       '2017-05-05T00:00:00.000000000', '2017-05-04T00:00:00.000000000',\n",
              "       '2017-05-03T00:00:00.000000000', '2017-05-02T00:00:00.000000000',\n",
              "       '2017-05-01T00:00:00.000000000', '2017-04-30T00:00:00.000000000',\n",
              "       '2017-04-29T00:00:00.000000000', '2017-04-28T00:00:00.000000000',\n",
              "       '2017-04-27T00:00:00.000000000', '2017-04-26T00:00:00.000000000',\n",
              "       '2017-04-25T00:00:00.000000000', '2017-04-24T00:00:00.000000000',\n",
              "       '2017-04-23T00:00:00.000000000', '2017-04-22T00:00:00.000000000',\n",
              "       '2017-04-21T00:00:00.000000000', '2017-04-20T00:00:00.000000000',\n",
              "       '2017-04-19T00:00:00.000000000', '2017-04-18T00:00:00.000000000',\n",
              "       '2017-04-17T00:00:00.000000000', '2017-04-16T00:00:00.000000000',\n",
              "       '2017-04-15T00:00:00.000000000', '2017-04-14T00:00:00.000000000',\n",
              "       '2017-04-13T00:00:00.000000000', '2017-04-12T00:00:00.000000000',\n",
              "       '2017-04-11T00:00:00.000000000', '2017-04-10T00:00:00.000000000',\n",
              "       '2017-04-09T00:00:00.000000000', '2017-04-08T00:00:00.000000000',\n",
              "       '2017-04-07T00:00:00.000000000', '2017-04-06T00:00:00.000000000',\n",
              "       '2017-04-05T00:00:00.000000000', '2017-04-04T00:00:00.000000000',\n",
              "       '2017-04-03T00:00:00.000000000', '2017-04-02T00:00:00.000000000',\n",
              "       '2017-04-01T00:00:00.000000000', '2017-03-31T00:00:00.000000000',\n",
              "       '2017-03-30T00:00:00.000000000', '2017-03-29T00:00:00.000000000',\n",
              "       '2017-03-28T00:00:00.000000000', '2017-03-27T00:00:00.000000000',\n",
              "       '2017-03-26T00:00:00.000000000', '2017-03-25T00:00:00.000000000',\n",
              "       '2017-03-24T00:00:00.000000000', '2017-03-23T00:00:00.000000000',\n",
              "       '2017-03-22T00:00:00.000000000', '2017-03-21T00:00:00.000000000',\n",
              "       '2017-03-20T00:00:00.000000000', '2017-03-19T00:00:00.000000000',\n",
              "       '2017-03-18T00:00:00.000000000', '2017-03-17T00:00:00.000000000',\n",
              "       '2017-03-16T00:00:00.000000000', '2017-03-15T00:00:00.000000000',\n",
              "       '2017-03-14T00:00:00.000000000', '2017-03-13T00:00:00.000000000',\n",
              "       '2017-03-12T00:00:00.000000000', '2017-03-11T00:00:00.000000000',\n",
              "       '2017-03-10T00:00:00.000000000', '2017-03-09T00:00:00.000000000',\n",
              "       '2017-03-08T00:00:00.000000000', '2017-03-07T00:00:00.000000000',\n",
              "       '2017-03-06T00:00:00.000000000', '2017-03-05T00:00:00.000000000',\n",
              "       '2017-03-04T00:00:00.000000000', '2017-03-03T00:00:00.000000000',\n",
              "       '2017-03-02T00:00:00.000000000', '2017-03-01T00:00:00.000000000',\n",
              "       '2017-02-28T00:00:00.000000000', '2017-02-27T00:00:00.000000000',\n",
              "       '2017-02-26T00:00:00.000000000', '2017-02-25T00:00:00.000000000',\n",
              "       '2017-02-24T00:00:00.000000000', '2017-02-23T00:00:00.000000000',\n",
              "       '2017-02-22T00:00:00.000000000', '2017-02-21T00:00:00.000000000',\n",
              "       '2017-02-20T00:00:00.000000000', '2017-02-19T00:00:00.000000000',\n",
              "       '2017-02-18T00:00:00.000000000', '2017-02-17T00:00:00.000000000',\n",
              "       '2017-02-16T00:00:00.000000000', '2017-02-15T00:00:00.000000000',\n",
              "       '2017-02-14T00:00:00.000000000', '2017-02-13T00:00:00.000000000',\n",
              "       '2017-02-12T00:00:00.000000000', '2017-02-11T00:00:00.000000000',\n",
              "       '2017-02-10T00:00:00.000000000', '2017-02-09T00:00:00.000000000',\n",
              "       '2017-02-08T00:00:00.000000000', '2017-02-07T00:00:00.000000000',\n",
              "       '2017-02-06T00:00:00.000000000', '2017-02-05T00:00:00.000000000',\n",
              "       '2017-02-04T00:00:00.000000000', '2017-02-03T00:00:00.000000000',\n",
              "       '2017-02-02T00:00:00.000000000', '2017-02-01T00:00:00.000000000',\n",
              "       '2017-01-31T00:00:00.000000000', '2017-01-30T00:00:00.000000000',\n",
              "       '2017-01-29T00:00:00.000000000', '2017-01-28T00:00:00.000000000',\n",
              "       '2017-01-27T00:00:00.000000000', '2017-01-26T00:00:00.000000000',\n",
              "       '2017-01-25T00:00:00.000000000', '2017-01-24T00:00:00.000000000',\n",
              "       '2017-01-23T00:00:00.000000000', '2017-01-22T00:00:00.000000000',\n",
              "       '2017-01-21T00:00:00.000000000', '2017-01-20T00:00:00.000000000',\n",
              "       '2017-01-19T00:00:00.000000000', '2017-01-18T00:00:00.000000000',\n",
              "       '2017-01-17T00:00:00.000000000', '2017-01-16T00:00:00.000000000',\n",
              "       '2017-01-15T00:00:00.000000000', '2017-01-14T00:00:00.000000000',\n",
              "       '2017-01-13T00:00:00.000000000', '2017-01-12T00:00:00.000000000',\n",
              "       '2017-01-11T00:00:00.000000000', '2017-01-10T00:00:00.000000000',\n",
              "       '2017-01-09T00:00:00.000000000', '2017-01-08T00:00:00.000000000',\n",
              "       '2017-01-07T00:00:00.000000000', '2017-01-06T00:00:00.000000000',\n",
              "       '2017-01-05T00:00:00.000000000', '2017-01-04T00:00:00.000000000',\n",
              "       '2017-01-03T00:00:00.000000000', '2017-01-02T00:00:00.000000000',\n",
              "       '2017-01-01T00:00:00.000000000', '2016-12-31T00:00:00.000000000',\n",
              "       '2016-12-30T00:00:00.000000000', '2016-12-29T00:00:00.000000000',\n",
              "       '2016-12-28T00:00:00.000000000', '2016-12-27T00:00:00.000000000',\n",
              "       '2016-12-26T00:00:00.000000000', '2016-12-25T00:00:00.000000000',\n",
              "       '2016-12-24T00:00:00.000000000', '2016-12-23T00:00:00.000000000',\n",
              "       '2016-12-22T00:00:00.000000000', '2016-12-21T00:00:00.000000000',\n",
              "       '2016-12-20T00:00:00.000000000', '2016-12-19T00:00:00.000000000',\n",
              "       '2016-12-18T00:00:00.000000000', '2016-12-17T00:00:00.000000000',\n",
              "       '2016-12-16T00:00:00.000000000', '2016-12-15T00:00:00.000000000',\n",
              "       '2016-12-14T00:00:00.000000000', '2016-12-13T00:00:00.000000000',\n",
              "       '2016-12-12T00:00:00.000000000', '2016-12-11T00:00:00.000000000',\n",
              "       '2016-12-10T00:00:00.000000000', '2016-12-09T00:00:00.000000000',\n",
              "       '2016-12-08T00:00:00.000000000', '2016-12-07T00:00:00.000000000',\n",
              "       '2016-12-06T00:00:00.000000000', '2016-12-05T00:00:00.000000000',\n",
              "       '2016-12-04T00:00:00.000000000', '2016-12-03T00:00:00.000000000',\n",
              "       '2016-12-02T00:00:00.000000000', '2016-12-01T00:00:00.000000000',\n",
              "       '2016-11-30T00:00:00.000000000', '2016-11-29T00:00:00.000000000',\n",
              "       '2016-11-28T00:00:00.000000000', '2016-11-27T00:00:00.000000000',\n",
              "       '2016-11-26T00:00:00.000000000', '2016-11-25T00:00:00.000000000',\n",
              "       '2016-11-24T00:00:00.000000000', '2016-11-23T00:00:00.000000000',\n",
              "       '2016-11-22T00:00:00.000000000', '2016-11-21T00:00:00.000000000',\n",
              "       '2016-11-20T00:00:00.000000000', '2016-11-19T00:00:00.000000000',\n",
              "       '2016-11-18T00:00:00.000000000', '2016-11-17T00:00:00.000000000',\n",
              "       '2016-11-16T00:00:00.000000000', '2016-11-15T00:00:00.000000000',\n",
              "       '2016-11-14T00:00:00.000000000', '2016-11-13T00:00:00.000000000',\n",
              "       '2016-11-12T00:00:00.000000000', '2016-11-11T00:00:00.000000000',\n",
              "       '2016-11-10T00:00:00.000000000', '2016-11-09T00:00:00.000000000',\n",
              "       '2016-11-08T00:00:00.000000000', '2016-11-07T00:00:00.000000000',\n",
              "       '2016-11-06T00:00:00.000000000', '2016-11-05T00:00:00.000000000',\n",
              "       '2016-11-04T00:00:00.000000000', '2016-11-03T00:00:00.000000000',\n",
              "       '2016-11-02T00:00:00.000000000', '2016-11-01T00:00:00.000000000',\n",
              "       '2016-10-31T00:00:00.000000000', '2016-10-30T00:00:00.000000000',\n",
              "       '2016-10-29T00:00:00.000000000', '2016-10-28T00:00:00.000000000',\n",
              "       '2016-10-27T00:00:00.000000000', '2016-10-26T00:00:00.000000000',\n",
              "       '2016-10-25T00:00:00.000000000', '2016-10-24T00:00:00.000000000',\n",
              "       '2016-10-23T00:00:00.000000000', '2016-10-22T00:00:00.000000000',\n",
              "       '2016-10-21T00:00:00.000000000', '2016-10-20T00:00:00.000000000',\n",
              "       '2016-10-19T00:00:00.000000000', '2016-10-18T00:00:00.000000000',\n",
              "       '2016-10-17T00:00:00.000000000', '2016-10-16T00:00:00.000000000',\n",
              "       '2016-10-15T00:00:00.000000000', '2016-10-14T00:00:00.000000000',\n",
              "       '2016-10-13T00:00:00.000000000', '2016-10-12T00:00:00.000000000',\n",
              "       '2016-10-11T00:00:00.000000000', '2016-10-10T00:00:00.000000000',\n",
              "       '2016-10-09T00:00:00.000000000', '2016-10-08T00:00:00.000000000',\n",
              "       '2016-10-07T00:00:00.000000000', '2016-10-06T00:00:00.000000000',\n",
              "       '2016-10-05T00:00:00.000000000', '2016-10-04T00:00:00.000000000',\n",
              "       '2016-10-03T00:00:00.000000000', '2016-10-02T00:00:00.000000000',\n",
              "       '2016-10-01T00:00:00.000000000', '2016-09-30T00:00:00.000000000',\n",
              "       '2016-09-29T00:00:00.000000000', '2016-09-28T00:00:00.000000000',\n",
              "       '2016-09-27T00:00:00.000000000', '2016-09-26T00:00:00.000000000',\n",
              "       '2016-09-25T00:00:00.000000000', '2016-09-24T00:00:00.000000000',\n",
              "       '2016-09-23T00:00:00.000000000', '2016-09-22T00:00:00.000000000',\n",
              "       '2016-09-21T00:00:00.000000000', '2016-09-20T00:00:00.000000000',\n",
              "       '2016-09-19T00:00:00.000000000', '2016-09-18T00:00:00.000000000',\n",
              "       '2016-09-17T00:00:00.000000000', '2016-09-16T00:00:00.000000000',\n",
              "       '2016-09-15T00:00:00.000000000', '2016-09-14T00:00:00.000000000',\n",
              "       '2016-09-13T00:00:00.000000000', '2016-09-12T00:00:00.000000000',\n",
              "       '2016-09-11T00:00:00.000000000', '2016-09-10T00:00:00.000000000',\n",
              "       '2016-09-09T00:00:00.000000000', '2016-09-08T00:00:00.000000000',\n",
              "       '2016-09-07T00:00:00.000000000', '2016-09-06T00:00:00.000000000',\n",
              "       '2016-09-05T00:00:00.000000000', '2016-09-04T00:00:00.000000000',\n",
              "       '2016-09-03T00:00:00.000000000', '2016-09-02T00:00:00.000000000',\n",
              "       '2016-09-01T00:00:00.000000000', '2016-08-31T00:00:00.000000000',\n",
              "       '2016-08-30T00:00:00.000000000', '2016-08-29T00:00:00.000000000',\n",
              "       '2016-08-28T00:00:00.000000000', '2016-08-27T00:00:00.000000000',\n",
              "       '2016-08-26T00:00:00.000000000', '2016-08-25T00:00:00.000000000',\n",
              "       '2016-08-24T00:00:00.000000000', '2016-08-23T00:00:00.000000000',\n",
              "       '2016-08-22T00:00:00.000000000', '2016-08-21T00:00:00.000000000',\n",
              "       '2016-08-20T00:00:00.000000000', '2016-08-19T00:00:00.000000000',\n",
              "       '2016-08-18T00:00:00.000000000', '2016-08-17T00:00:00.000000000',\n",
              "       '2016-08-16T00:00:00.000000000', '2016-08-15T00:00:00.000000000',\n",
              "       '2016-08-14T00:00:00.000000000', '2016-08-13T00:00:00.000000000',\n",
              "       '2016-08-12T00:00:00.000000000', '2016-08-11T00:00:00.000000000',\n",
              "       '2016-08-10T00:00:00.000000000', '2016-08-09T00:00:00.000000000',\n",
              "       '2016-08-08T00:00:00.000000000', '2016-08-07T00:00:00.000000000',\n",
              "       '2016-08-06T00:00:00.000000000', '2016-08-05T00:00:00.000000000',\n",
              "       '2016-08-04T00:00:00.000000000', '2016-08-03T00:00:00.000000000',\n",
              "       '2016-08-02T00:00:00.000000000', '2016-08-01T00:00:00.000000000',\n",
              "       '2016-07-31T00:00:00.000000000', '2016-07-30T00:00:00.000000000',\n",
              "       '2016-07-29T00:00:00.000000000', '2016-07-28T00:00:00.000000000',\n",
              "       '2016-07-27T00:00:00.000000000', '2016-07-26T00:00:00.000000000',\n",
              "       '2016-07-25T00:00:00.000000000', '2016-07-24T00:00:00.000000000',\n",
              "       '2016-07-23T00:00:00.000000000', '2016-07-22T00:00:00.000000000',\n",
              "       '2016-07-21T00:00:00.000000000', '2016-07-20T00:00:00.000000000',\n",
              "       '2016-07-19T00:00:00.000000000', '2016-07-18T00:00:00.000000000',\n",
              "       '2016-07-17T00:00:00.000000000', '2016-07-16T00:00:00.000000000',\n",
              "       '2016-07-15T00:00:00.000000000', '2016-07-14T00:00:00.000000000',\n",
              "       '2016-07-13T00:00:00.000000000', '2016-07-12T00:00:00.000000000',\n",
              "       '2016-07-11T00:00:00.000000000', '2016-07-10T00:00:00.000000000',\n",
              "       '2016-07-09T00:00:00.000000000', '2016-07-08T00:00:00.000000000',\n",
              "       '2016-07-07T00:00:00.000000000', '2016-07-06T00:00:00.000000000',\n",
              "       '2016-07-05T00:00:00.000000000', '2016-07-04T00:00:00.000000000',\n",
              "       '2016-07-03T00:00:00.000000000', '2016-07-02T00:00:00.000000000',\n",
              "       '2016-07-01T00:00:00.000000000', '2016-06-30T00:00:00.000000000',\n",
              "       '2016-06-29T00:00:00.000000000', '2016-06-28T00:00:00.000000000',\n",
              "       '2016-06-27T00:00:00.000000000', '2016-06-26T00:00:00.000000000',\n",
              "       '2016-06-25T00:00:00.000000000', '2016-06-24T00:00:00.000000000',\n",
              "       '2016-06-23T00:00:00.000000000', '2016-06-22T00:00:00.000000000',\n",
              "       '2016-06-21T00:00:00.000000000', '2016-06-20T00:00:00.000000000',\n",
              "       '2016-06-19T00:00:00.000000000', '2016-06-18T00:00:00.000000000',\n",
              "       '2016-06-17T00:00:00.000000000', '2016-06-16T00:00:00.000000000',\n",
              "       '2016-06-15T00:00:00.000000000', '2016-06-14T00:00:00.000000000',\n",
              "       '2016-06-13T00:00:00.000000000', '2016-06-12T00:00:00.000000000',\n",
              "       '2016-06-11T00:00:00.000000000', '2016-06-10T00:00:00.000000000',\n",
              "       '2016-06-09T00:00:00.000000000', '2016-06-08T00:00:00.000000000',\n",
              "       '2016-06-07T00:00:00.000000000', '2016-06-06T00:00:00.000000000',\n",
              "       '2016-06-05T00:00:00.000000000', '2016-06-04T00:00:00.000000000',\n",
              "       '2016-06-03T00:00:00.000000000', '2016-06-02T00:00:00.000000000',\n",
              "       '2016-06-01T00:00:00.000000000', '2016-05-31T00:00:00.000000000',\n",
              "       '2016-05-30T00:00:00.000000000', '2016-05-29T00:00:00.000000000',\n",
              "       '2016-05-28T00:00:00.000000000', '2016-05-27T00:00:00.000000000',\n",
              "       '2016-05-26T00:00:00.000000000', '2016-05-25T00:00:00.000000000',\n",
              "       '2016-05-24T00:00:00.000000000', '2016-05-23T00:00:00.000000000',\n",
              "       '2016-05-22T00:00:00.000000000', '2016-05-21T00:00:00.000000000',\n",
              "       '2016-05-20T00:00:00.000000000', '2016-05-19T00:00:00.000000000',\n",
              "       '2016-05-18T00:00:00.000000000', '2016-05-17T00:00:00.000000000',\n",
              "       '2016-05-16T00:00:00.000000000', '2016-05-15T00:00:00.000000000',\n",
              "       '2016-05-14T00:00:00.000000000', '2016-05-13T00:00:00.000000000',\n",
              "       '2016-05-12T00:00:00.000000000', '2016-05-11T00:00:00.000000000',\n",
              "       '2016-05-10T00:00:00.000000000', '2016-05-09T00:00:00.000000000',\n",
              "       '2016-05-08T00:00:00.000000000', '2016-05-07T00:00:00.000000000',\n",
              "       '2016-05-06T00:00:00.000000000', '2016-05-05T00:00:00.000000000',\n",
              "       '2016-05-04T00:00:00.000000000', '2016-05-03T00:00:00.000000000',\n",
              "       '2016-05-02T00:00:00.000000000', '2016-05-01T00:00:00.000000000',\n",
              "       '2016-04-30T00:00:00.000000000', '2016-04-29T00:00:00.000000000',\n",
              "       '2016-04-28T00:00:00.000000000', '2016-04-27T00:00:00.000000000',\n",
              "       '2016-04-26T00:00:00.000000000', '2016-04-25T00:00:00.000000000',\n",
              "       '2016-04-24T00:00:00.000000000', '2016-04-23T00:00:00.000000000',\n",
              "       '2016-04-22T00:00:00.000000000', '2016-04-21T00:00:00.000000000',\n",
              "       '2016-04-20T00:00:00.000000000', '2016-04-19T00:00:00.000000000',\n",
              "       '2016-04-18T00:00:00.000000000', '2016-04-17T00:00:00.000000000',\n",
              "       '2016-04-16T00:00:00.000000000', '2016-04-15T00:00:00.000000000',\n",
              "       '2016-04-14T00:00:00.000000000', '2016-04-13T00:00:00.000000000',\n",
              "       '2016-04-12T00:00:00.000000000', '2016-04-11T00:00:00.000000000',\n",
              "       '2016-04-10T00:00:00.000000000', '2016-04-09T00:00:00.000000000',\n",
              "       '2016-04-08T00:00:00.000000000', '2016-04-07T00:00:00.000000000',\n",
              "       '2016-04-06T00:00:00.000000000', '2016-04-05T00:00:00.000000000',\n",
              "       '2016-04-04T00:00:00.000000000', '2016-04-03T00:00:00.000000000',\n",
              "       '2016-04-02T00:00:00.000000000', '2016-04-01T00:00:00.000000000',\n",
              "       '2016-03-31T00:00:00.000000000', '2016-03-30T00:00:00.000000000',\n",
              "       '2016-03-29T00:00:00.000000000', '2016-03-28T00:00:00.000000000',\n",
              "       '2016-03-27T00:00:00.000000000', '2016-03-26T00:00:00.000000000',\n",
              "       '2016-03-25T00:00:00.000000000', '2016-03-24T00:00:00.000000000',\n",
              "       '2016-03-23T00:00:00.000000000', '2016-03-22T00:00:00.000000000',\n",
              "       '2016-03-21T00:00:00.000000000', '2016-03-20T00:00:00.000000000',\n",
              "       '2016-03-19T00:00:00.000000000', '2016-03-18T00:00:00.000000000',\n",
              "       '2016-03-17T00:00:00.000000000', '2016-03-16T00:00:00.000000000',\n",
              "       '2016-03-15T00:00:00.000000000', '2016-03-14T00:00:00.000000000',\n",
              "       '2016-03-13T00:00:00.000000000', '2016-03-12T00:00:00.000000000',\n",
              "       '2016-03-11T00:00:00.000000000', '2016-03-10T00:00:00.000000000',\n",
              "       '2016-03-09T00:00:00.000000000', '2016-03-08T00:00:00.000000000',\n",
              "       '2016-03-07T00:00:00.000000000', '2016-03-06T00:00:00.000000000',\n",
              "       '2016-03-05T00:00:00.000000000', '2016-03-04T00:00:00.000000000',\n",
              "       '2016-03-03T00:00:00.000000000', '2016-03-02T00:00:00.000000000',\n",
              "       '2016-03-01T00:00:00.000000000', '2016-02-29T00:00:00.000000000',\n",
              "       '2016-02-28T00:00:00.000000000', '2016-02-27T00:00:00.000000000',\n",
              "       '2016-02-26T00:00:00.000000000', '2016-02-25T00:00:00.000000000',\n",
              "       '2016-02-24T00:00:00.000000000', '2016-02-23T00:00:00.000000000',\n",
              "       '2016-02-22T00:00:00.000000000', '2016-02-21T00:00:00.000000000',\n",
              "       '2016-02-20T00:00:00.000000000', '2016-02-19T00:00:00.000000000',\n",
              "       '2016-02-18T00:00:00.000000000', '2016-02-17T00:00:00.000000000',\n",
              "       '2016-02-16T00:00:00.000000000', '2016-02-15T00:00:00.000000000',\n",
              "       '2016-02-14T00:00:00.000000000', '2016-02-13T00:00:00.000000000',\n",
              "       '2016-02-12T00:00:00.000000000', '2016-02-11T00:00:00.000000000',\n",
              "       '2016-02-10T00:00:00.000000000', '2016-02-09T00:00:00.000000000',\n",
              "       '2016-02-08T00:00:00.000000000', '2016-02-07T00:00:00.000000000',\n",
              "       '2016-02-06T00:00:00.000000000', '2016-02-05T00:00:00.000000000',\n",
              "       '2016-02-04T00:00:00.000000000', '2016-02-03T00:00:00.000000000',\n",
              "       '2016-02-02T00:00:00.000000000', '2016-02-01T00:00:00.000000000',\n",
              "       '2016-01-31T00:00:00.000000000', '2016-01-30T00:00:00.000000000',\n",
              "       '2016-01-29T00:00:00.000000000', '2016-01-28T00:00:00.000000000',\n",
              "       '2016-01-27T00:00:00.000000000', '2016-01-26T00:00:00.000000000',\n",
              "       '2016-01-25T00:00:00.000000000', '2016-01-24T00:00:00.000000000',\n",
              "       '2016-01-23T00:00:00.000000000', '2016-01-22T00:00:00.000000000',\n",
              "       '2016-01-21T00:00:00.000000000', '2016-01-20T00:00:00.000000000',\n",
              "       '2016-01-19T00:00:00.000000000', '2016-01-18T00:00:00.000000000',\n",
              "       '2016-01-17T00:00:00.000000000', '2016-01-16T00:00:00.000000000',\n",
              "       '2016-01-15T00:00:00.000000000', '2016-01-14T00:00:00.000000000',\n",
              "       '2016-01-13T00:00:00.000000000', '2016-01-12T00:00:00.000000000',\n",
              "       '2016-01-11T00:00:00.000000000', '2016-01-10T00:00:00.000000000',\n",
              "       '2016-01-09T00:00:00.000000000', '2016-01-08T00:00:00.000000000',\n",
              "       '2016-01-07T00:00:00.000000000', '2016-01-06T00:00:00.000000000',\n",
              "       '2016-01-05T00:00:00.000000000', '2016-01-04T00:00:00.000000000',\n",
              "       '2016-01-03T00:00:00.000000000', '2016-01-02T00:00:00.000000000',\n",
              "       '2016-01-01T00:00:00.000000000',                           'NaT',\n",
              "       '2015-05-31T00:00:00.000000000', '2015-05-30T00:00:00.000000000',\n",
              "       '2015-05-29T00:00:00.000000000', '2015-05-28T00:00:00.000000000',\n",
              "       '2015-05-27T00:00:00.000000000', '2015-05-26T00:00:00.000000000',\n",
              "       '2015-05-25T00:00:00.000000000', '2015-05-24T00:00:00.000000000',\n",
              "       '2015-05-23T00:00:00.000000000', '2015-05-22T00:00:00.000000000',\n",
              "       '2015-05-21T00:00:00.000000000', '2015-05-20T00:00:00.000000000',\n",
              "       '2015-05-19T00:00:00.000000000', '2015-05-18T00:00:00.000000000',\n",
              "       '2015-05-17T00:00:00.000000000', '2015-05-16T00:00:00.000000000',\n",
              "       '2015-05-15T00:00:00.000000000', '2015-05-14T00:00:00.000000000',\n",
              "       '2015-05-13T00:00:00.000000000', '2015-05-12T00:00:00.000000000',\n",
              "       '2015-05-11T00:00:00.000000000', '2015-05-10T00:00:00.000000000',\n",
              "       '2015-05-09T00:00:00.000000000', '2015-05-08T00:00:00.000000000',\n",
              "       '2015-05-07T00:00:00.000000000', '2015-05-06T00:00:00.000000000',\n",
              "       '2015-05-05T00:00:00.000000000', '2015-05-04T00:00:00.000000000',\n",
              "       '2015-05-01T00:00:00.000000000', '2015-05-02T00:00:00.000000000',\n",
              "       '2017-12-28T00:00:00.000000000', '2017-12-18T00:00:00.000000000',\n",
              "       '2017-12-14T00:00:00.000000000', '2017-12-08T00:00:00.000000000'],\n",
              "      dtype='datetime64[ns]')"
            ]
          },
          "metadata": {},
          "execution_count": 35
        }
      ]
    },
    {
      "cell_type": "code",
      "source": [
        "# Cálculo de la extensión del título (title) y contenido (text) de las noticias reales\n",
        "news_false['len_title'] = (news_false['title'].str.strip()).str.len()\n",
        "news_false['len_text'] = (news_false['text'].str.strip()).str.len()"
      ],
      "metadata": {
        "id": "d_YGI0me2ZVR"
      },
      "execution_count": 36,
      "outputs": []
    },
    {
      "cell_type": "code",
      "source": [
        "# Análisis de la extensión del título (title) y contenido (text) de las noticias reales\n",
        "min_title_false = min(news_false['len_title'])\n",
        "max_title_false = max(news_false['len_title'])\n",
        "ave_title_false = mean(news_false['len_title'])\n",
        "min_text_false = min(news_false['len_text'])\n",
        "max_text_false = max(news_false['len_text'])\n",
        "ave_text_false = mean(news_false['len_text'])"
      ],
      "metadata": {
        "id": "ocRjp7Ya2gv3"
      },
      "execution_count": 46,
      "outputs": []
    },
    {
      "cell_type": "code",
      "source": [
        "print(f\"Tamaño Máximo del título: {max_title_false} caracteres. Tamaño Mínimo del título: {min_title_false} caracteres, Tamaño promedio del título: { round(ave_title_false)} caracteres\")\n",
        "print(f\"Tamaño Máximo del contenido: {max_text_false} caracteres. Tamaño Mínimo del contenido: {min_text_false} caracteres, Tamaño promedio del contenido: { round(ave_text_false)} caracteres\")"
      ],
      "metadata": {
        "colab": {
          "base_uri": "https://localhost:8080/"
        },
        "id": "-00rUXZM2nsb",
        "outputId": "e40e7e00-3e0b-44a0-ccf8-2322505fa4b3"
      },
      "execution_count": 47,
      "outputs": [
        {
          "output_type": "stream",
          "name": "stdout",
          "text": [
            "Tamaño Máximo del título: 279 caracteres. Tamaño Mínimo del título: 8 caracteres, Tamaño promedio del título: 94 caracteres\n",
            "Tamaño Máximo del contenido: 51793 caracteres. Tamaño Mínimo del contenido: 0 caracteres, Tamaño promedio del contenido: 2547 caracteres\n"
          ]
        }
      ]
    },
    {
      "cell_type": "code",
      "source": [
        "# Registros sin información en el campo texto\n",
        "reg_sininfo = news_false[news_false['len_text'] == 0 ]\n",
        "reg_sininfo.count()"
      ],
      "metadata": {
        "colab": {
          "base_uri": "https://localhost:8080/"
        },
        "id": "YxL8Y1Kj4Hpe",
        "outputId": "d1ac7ab1-b1cd-444d-8b4d-29f2016e4e72"
      },
      "execution_count": 59,
      "outputs": [
        {
          "output_type": "execute_result",
          "data": {
            "text/plain": [
              "title        630\n",
              "text         630\n",
              "subject      630\n",
              "date         630\n",
              "date_new      39\n",
              "len_title    630\n",
              "len_text     630\n",
              "dtype: int64"
            ]
          },
          "metadata": {},
          "execution_count": 59
        }
      ]
    },
    {
      "cell_type": "code",
      "source": [
        "# Se crea un nuevo dataframe eliminando el registro sin información en el campo text\n",
        "news_false_mod = news_false[news_false['len_text'] > 0]"
      ],
      "metadata": {
        "id": "rMETDRmN3N50"
      },
      "execution_count": 52,
      "outputs": []
    },
    {
      "cell_type": "code",
      "source": [
        "# Número de reistro en el dataframa de noticias falsa modificados\n",
        "news_false_mod.count()"
      ],
      "metadata": {
        "colab": {
          "base_uri": "https://localhost:8080/"
        },
        "id": "6_Cr6o1Z4rWe",
        "outputId": "f48e7a11-fada-43dc-98cb-7962fb93b5ef"
      },
      "execution_count": 60,
      "outputs": [
        {
          "output_type": "execute_result",
          "data": {
            "text/plain": [
              "title        22851\n",
              "text         22851\n",
              "subject      22851\n",
              "date         22851\n",
              "date_new     11829\n",
              "len_title    22851\n",
              "len_text     22851\n",
              "dtype: int64"
            ]
          },
          "metadata": {},
          "execution_count": 60
        }
      ]
    },
    {
      "cell_type": "code",
      "source": [
        "# Se calcula de nuevo los valores min, max y promedio en longitud \n",
        "min_text_false = min(news_false_mod['len_text'])\n",
        "max_text_false = max(news_false_mod['len_text'])\n",
        "ave_text_false = mean(news_false_mod['len_text'])"
      ],
      "metadata": {
        "id": "vq3XPJrY3Zb-"
      },
      "execution_count": 53,
      "outputs": []
    },
    {
      "cell_type": "code",
      "source": [
        "print(f\"Tamaño Máximo del contenido: {max_text_false} caracteres. Tamaño mínimo del contenido: {min_text_false} caracteres, Tamaño promedio del contenido: { round(ave_text_false)} caracteres\")"
      ],
      "metadata": {
        "colab": {
          "base_uri": "https://localhost:8080/"
        },
        "id": "cJaxc8VN3h5G",
        "outputId": "ed860ed5-11a3-4216-ac1a-5d8d4b134b40"
      },
      "execution_count": 54,
      "outputs": [
        {
          "output_type": "stream",
          "name": "stdout",
          "text": [
            "Tamaño Máximo del contenido: 51793 caracteres. Tamaño mínimo del contenido: 5 caracteres, Tamaño promedio del contenido: 2617 caracteres\n"
          ]
        }
      ]
    }
  ]
}